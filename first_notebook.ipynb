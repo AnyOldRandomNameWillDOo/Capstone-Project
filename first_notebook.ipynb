{
 "cells": [
  {
   "cell_type": "markdown",
   "metadata": {},
   "source": [
    "## Capstone Project Submission"
   ]
  },
  {
   "cell_type": "markdown",
   "metadata": {},
   "source": [
    "- Name: Vivienne DiFrancesco\n",
    "- Instructor: James Irving\n",
    "- Pace: Full Time\n"
   ]
  },
  {
   "cell_type": "markdown",
   "metadata": {},
   "source": [
    "# Abstract"
   ]
  },
  {
   "cell_type": "markdown",
   "metadata": {},
   "source": [
    "Millions of people globally suffer from depression and it is a debilitating condition. At best it can be difficult for people to live their lives normally and happily, and at worst it leads to death by suicide. Primary care doctors are overwhelmingly finding that they are faced with the need to treat mental health conditions such as depression without any particular training of how to handle such cases. \n",
    "\n",
    "There is evidence that an integrated approach where physicians regularly screen patients for mental health disorders and work together with psychologists and other mental health professionals to treat patients leads to reduced costs and better patient outcomes. However, this approach can require a lot of buy-in from many individuals, require extra training, and is often not logistically feasible. \n",
    "\n",
    "Using data from the CDC National Health and Examination Survey, machine learning was applied to predict patients who may have depression based on information that could typically be found in a medical file. These predictions could be used to put patients in touch with experienced mental health professionals sooner and easier.\n",
    "\n",
    "The results show that 68% of those who have depression and 81% of those who don't have depression can be correctly identified. Though more work needs to be done to create a more accurate model, this shows proof of concept that this is a realistic prediction task. Better results could be yielded by adding more patient information to the data or testing more types of models. "
   ]
  },
  {
   "cell_type": "markdown",
   "metadata": {},
   "source": [
    "# Introducion\n"
   ]
  },
  {
   "cell_type": "markdown",
   "metadata": {},
   "source": [
    "<b>Background:</b> According to the World Health Organization, more that 264 million people globally have depression. Many suicides each year are caused by depression with suicide being among the leading causes of death for young people especially.[1](https://www.who.int/news-room/fact-sheets/detail/depression) The National Institute of Mental Health found that the prevalence of a major depressive episode among U.S. adults in 2017 was 7.1% of people with young adults being the most affected.[2](https://www.nimh.nih.gov/health/statistics/major-depression.shtml) \n",
    "\n",
    "The American Psychological Association identified that primary care physicians are often being asked to diagnose mental disorders such as depression without adequate training on how to handle such treatments. According to their numbers, 70% of primary care visits are because of patients’ psychological problems,  more than 80% of patients who have symptoms with no diagnosis receive psychological treatment by a physician, and only 10% follow up to a mental health professional. Patients are not getting the care they desperately need as 70% of individuals with depression go undiagnosed. Among people who commit suicide, 90% of people had a mental disorder and 40% of people had visited their doctor within the last month.[3](https://www.apa.org/health/briefs/primary-care.pdf)\n",
    "\n",
    "In a study published in JAMA, doctors looked at patient outcomes, cost of care, and other factors between patients that were provided more overt diagnosing and treatment for mental health at standard doctor appointments versus patients that were not. They found that for patients that receive mental health intervention, costs went down, health care services were better utilized, patient outcomes improved, primary care doctor visits declined, treatment interventions were started earlier, and hospital and emergency care visits declined.[4](https://jamanetwork.com/journals/jama/fullarticle/2545685)\n",
    "\n",
    "<b>Goal:</b> The goal of this project is to gather data about people that would typically be in a patient’s medical record to predict depression. \n",
    "\n",
    "Many clinics or doctors may find it impossible to have such integrated mental health services as cited in the previously mentioned study. Having standard services where patients are constantly screened for mental health disorders and treatment is tightly integrated with teams of physicians and psychological professionals can be expensive, requires a lot of training, requires participation from many individual doctors that may feel too overwhelmed, and may also not be possible in certain areas due to various logistical factors. Using machine learning and data that may otherwise be in a patient’s medical file, the goal is to predict who may have depression in a way that requires very little human participation from doctors and has lower time and money costs associated. The patients who are predicted to have depression could potentially be referred straight to mental health professionals in their area or who accept their health care coverage. The patient’s file could also be flagged to alert the medical staff the next time they have any kind of physician appointment to prompt doctors to start the conversation with patients. At the very least information and resources could be sent to patients directly to encourage them to take action on their own behalf.\n",
    "\n",
    "<b>Data:</b> The data for this project is from the Centers for Disease Control and Prevention National health and Nutrition Examination Survey. This data includes a vast array of health data done on a sample of the American population each year and is released every two years. The data can be found at this website: https://wwwn.cdc.gov/nchs/nhanes/default.aspx. \n",
    "\n",
    "For this project, data was taken from the years between 2005 and 2018 and comprised of 36259 entries total of U.S. adults. Only data that was consistent across years was used and there was effort to only include data that would be reasonably found in a patient's medical file. Using as little data as possible while still being able to have accurate predictions is desirable as it would catch more people who may not have a very deep medical history and also puts less burden on providers to have to capture so much information.\n",
    "\n",
    "<b>Approach:</b> The target was calculated using the PHQ-9 depression screening tool that was asked of all participants in the NHANES data. A study showed that this screening tool has a specificity and sensitivity of 88% for major depression at a threshold score of 10 or more.[5](https://pubmed.ncbi.nlm.nih.gov/11556941/) People were divided into “depressed” and “not depressed” categories based on the score for their answers in the screening tool with a score of 10 or more being “depressed”.\n",
    "\n",
    "The approach for this project was to create many different model types to see what performs the best and to compare and contrast the different types of models. The modeling effort was done starting with simpler models and moving to more complex models. The OSEMiN process is the overarching structure of this project. \n",
    "\n",
    "<b>Methods:</b> The way the data was preprocessed with feature engineering, filling missing values, and scaling was done with the goal of increasing accuracy of the models. Undersampling and oversampling techniques were used in conjunction with each other to create a dataset with balanced classes to test against the unbalanced and non-resampled dataset. For each type of model, a model was first trained and fitted with default parameters as a base. Then, key parameters were chosen to tune using sklearn GridSearchCV and the best parameters were used to run the model. Finally, the tuned parameters were used to fit the same model using the resampled data for comparison. Performance was compared to the base model of each type, as well as between different model types. \n"
   ]
  },
  {
   "cell_type": "markdown",
   "metadata": {
    "toc": true
   },
   "source": [
    "<h1>Table of Contents<span class=\"tocSkip\"></span></h1>\n",
    "<div class=\"toc\"><ul class=\"toc-item\"><li><ul class=\"toc-item\"><li><span><a href=\"#Capstone-Project-Submission\" data-toc-modified-id=\"Capstone-Project-Submission-0.1\"><span class=\"toc-item-num\">0.1&nbsp;&nbsp;</span>Capstone Project Submission</a></span></li></ul></li><li><span><a href=\"#Abstract\" data-toc-modified-id=\"Abstract-1\"><span class=\"toc-item-num\">1&nbsp;&nbsp;</span>Abstract</a></span></li><li><span><a href=\"#Introducion\" data-toc-modified-id=\"Introducion-2\"><span class=\"toc-item-num\">2&nbsp;&nbsp;</span>Introducion</a></span></li><li><span><a href=\"#Imports\" data-toc-modified-id=\"Imports-3\"><span class=\"toc-item-num\">3&nbsp;&nbsp;</span>Imports</a></span></li><li><span><a href=\"#Target\" data-toc-modified-id=\"Target-4\"><span class=\"toc-item-num\">4&nbsp;&nbsp;</span>Target</a></span></li><li><span><a href=\"#Demographic-Data\" data-toc-modified-id=\"Demographic-Data-5\"><span class=\"toc-item-num\">5&nbsp;&nbsp;</span>Demographic Data</a></span><ul class=\"toc-item\"><li><span><a href=\"#Birth-Place\" data-toc-modified-id=\"Birth-Place-5.1\"><span class=\"toc-item-num\">5.1&nbsp;&nbsp;</span>Birth Place</a></span></li><li><span><a href=\"#Veteran\" data-toc-modified-id=\"Veteran-5.2\"><span class=\"toc-item-num\">5.2&nbsp;&nbsp;</span>Veteran</a></span></li><li><span><a href=\"#Household-Income\" data-toc-modified-id=\"Household-Income-5.3\"><span class=\"toc-item-num\">5.3&nbsp;&nbsp;</span>Household Income</a></span></li><li><span><a href=\"#Renaming-Columns\" data-toc-modified-id=\"Renaming-Columns-5.4\"><span class=\"toc-item-num\">5.4&nbsp;&nbsp;</span>Renaming Columns</a></span></li><li><span><a href=\"#Clean-Column-Values\" data-toc-modified-id=\"Clean-Column-Values-5.5\"><span class=\"toc-item-num\">5.5&nbsp;&nbsp;</span>Clean Column Values</a></span></li></ul></li><li><span><a href=\"#Medical-Conditions\" data-toc-modified-id=\"Medical-Conditions-6\"><span class=\"toc-item-num\">6&nbsp;&nbsp;</span>Medical Conditions</a></span><ul class=\"toc-item\"><li><span><a href=\"#Onset-Age-Columns\" data-toc-modified-id=\"Onset-Age-Columns-6.1\"><span class=\"toc-item-num\">6.1&nbsp;&nbsp;</span>Onset Age Columns</a></span></li><li><span><a href=\"#Arthritis-Type-Columns\" data-toc-modified-id=\"Arthritis-Type-Columns-6.2\"><span class=\"toc-item-num\">6.2&nbsp;&nbsp;</span>Arthritis Type Columns</a></span></li><li><span><a href=\"#Renaming-Columns\" data-toc-modified-id=\"Renaming-Columns-6.3\"><span class=\"toc-item-num\">6.3&nbsp;&nbsp;</span>Renaming Columns</a></span></li><li><span><a href=\"#Clean-Column-Values\" data-toc-modified-id=\"Clean-Column-Values-6.4\"><span class=\"toc-item-num\">6.4&nbsp;&nbsp;</span>Clean Column Values</a></span></li><li><span><a href=\"#Cancer-Types\" data-toc-modified-id=\"Cancer-Types-6.5\"><span class=\"toc-item-num\">6.5&nbsp;&nbsp;</span>Cancer Types</a></span></li></ul></li><li><span><a href=\"#Body-Measures\" data-toc-modified-id=\"Body-Measures-7\"><span class=\"toc-item-num\">7&nbsp;&nbsp;</span>Body Measures</a></span><ul class=\"toc-item\"><li><span><a href=\"#Renaming-Columns\" data-toc-modified-id=\"Renaming-Columns-7.1\"><span class=\"toc-item-num\">7.1&nbsp;&nbsp;</span>Renaming Columns</a></span></li><li><span><a href=\"#Clean-Column-Values\" data-toc-modified-id=\"Clean-Column-Values-7.2\"><span class=\"toc-item-num\">7.2&nbsp;&nbsp;</span>Clean Column Values</a></span></li></ul></li><li><span><a href=\"#Blood-Pressure\" data-toc-modified-id=\"Blood-Pressure-8\"><span class=\"toc-item-num\">8&nbsp;&nbsp;</span>Blood Pressure</a></span><ul class=\"toc-item\"><li><span><a href=\"#Renaming-Columns\" data-toc-modified-id=\"Renaming-Columns-8.1\"><span class=\"toc-item-num\">8.1&nbsp;&nbsp;</span>Renaming Columns</a></span></li><li><span><a href=\"#Clean-Column-Values\" data-toc-modified-id=\"Clean-Column-Values-8.2\"><span class=\"toc-item-num\">8.2&nbsp;&nbsp;</span>Clean Column Values</a></span></li></ul></li><li><span><a href=\"#Cholesterol\" data-toc-modified-id=\"Cholesterol-9\"><span class=\"toc-item-num\">9&nbsp;&nbsp;</span>Cholesterol</a></span><ul class=\"toc-item\"><li><span><a href=\"#Renaming-Columns\" data-toc-modified-id=\"Renaming-Columns-9.1\"><span class=\"toc-item-num\">9.1&nbsp;&nbsp;</span>Renaming Columns</a></span></li><li><span><a href=\"#Clean-Column-Values\" data-toc-modified-id=\"Clean-Column-Values-9.2\"><span class=\"toc-item-num\">9.2&nbsp;&nbsp;</span>Clean Column Values</a></span></li></ul></li><li><span><a href=\"#Standard-Biochemistry-Profile\" data-toc-modified-id=\"Standard-Biochemistry-Profile-10\"><span class=\"toc-item-num\">10&nbsp;&nbsp;</span>Standard Biochemistry Profile</a></span><ul class=\"toc-item\"><li><span><a href=\"#Renaming-Columns\" data-toc-modified-id=\"Renaming-Columns-10.1\"><span class=\"toc-item-num\">10.1&nbsp;&nbsp;</span>Renaming Columns</a></span></li><li><span><a href=\"#Clean-Column-Values\" data-toc-modified-id=\"Clean-Column-Values-10.2\"><span class=\"toc-item-num\">10.2&nbsp;&nbsp;</span>Clean Column Values</a></span></li></ul></li><li><span><a href=\"#Blood-Count\" data-toc-modified-id=\"Blood-Count-11\"><span class=\"toc-item-num\">11&nbsp;&nbsp;</span>Blood Count</a></span><ul class=\"toc-item\"><li><span><a href=\"#Renaming-Columns\" data-toc-modified-id=\"Renaming-Columns-11.1\"><span class=\"toc-item-num\">11.1&nbsp;&nbsp;</span>Renaming Columns</a></span></li><li><span><a href=\"#Clean-Column-Values\" data-toc-modified-id=\"Clean-Column-Values-11.2\"><span class=\"toc-item-num\">11.2&nbsp;&nbsp;</span>Clean Column Values</a></span></li></ul></li><li><span><a href=\"#Occupation\" data-toc-modified-id=\"Occupation-12\"><span class=\"toc-item-num\">12&nbsp;&nbsp;</span>Occupation</a></span><ul class=\"toc-item\"><li><span><a href=\"#Renaming-Columns\" data-toc-modified-id=\"Renaming-Columns-12.1\"><span class=\"toc-item-num\">12.1&nbsp;&nbsp;</span>Renaming Columns</a></span></li><li><span><a href=\"#Clean-Column-Values\" data-toc-modified-id=\"Clean-Column-Values-12.2\"><span class=\"toc-item-num\">12.2&nbsp;&nbsp;</span>Clean Column Values</a></span></li></ul></li><li><span><a href=\"#Sleep-Disorders\" data-toc-modified-id=\"Sleep-Disorders-13\"><span class=\"toc-item-num\">13&nbsp;&nbsp;</span>Sleep Disorders</a></span><ul class=\"toc-item\"><li><span><a href=\"#Sleep-Hours\" data-toc-modified-id=\"Sleep-Hours-13.1\"><span class=\"toc-item-num\">13.1&nbsp;&nbsp;</span>Sleep Hours</a></span></li><li><span><a href=\"#Trouble-Sleeping\" data-toc-modified-id=\"Trouble-Sleeping-13.2\"><span class=\"toc-item-num\">13.2&nbsp;&nbsp;</span>Trouble Sleeping</a></span></li></ul></li><li><span><a href=\"#Physical-Activity\" data-toc-modified-id=\"Physical-Activity-14\"><span class=\"toc-item-num\">14&nbsp;&nbsp;</span>Physical Activity</a></span><ul class=\"toc-item\"><li><span><a href=\"#Vigorous-Recreation\" data-toc-modified-id=\"Vigorous-Recreation-14.1\"><span class=\"toc-item-num\">14.1&nbsp;&nbsp;</span>Vigorous Recreation</a></span></li><li><span><a href=\"#Moderate-Recreation\" data-toc-modified-id=\"Moderate-Recreation-14.2\"><span class=\"toc-item-num\">14.2&nbsp;&nbsp;</span>Moderate Recreation</a></span></li><li><span><a href=\"#Sedentary-Activity\" data-toc-modified-id=\"Sedentary-Activity-14.3\"><span class=\"toc-item-num\">14.3&nbsp;&nbsp;</span>Sedentary Activity</a></span></li><li><span><a href=\"#Work-Activity\" data-toc-modified-id=\"Work-Activity-14.4\"><span class=\"toc-item-num\">14.4&nbsp;&nbsp;</span>Work Activity</a></span></li></ul></li><li><span><a href=\"#Alcohol-Use\" data-toc-modified-id=\"Alcohol-Use-15\"><span class=\"toc-item-num\">15&nbsp;&nbsp;</span>Alcohol Use</a></span><ul class=\"toc-item\"><li><span><a href=\"#Lifetime-Alcohol-Consumption\" data-toc-modified-id=\"Lifetime-Alcohol-Consumption-15.1\"><span class=\"toc-item-num\">15.1&nbsp;&nbsp;</span>Lifetime Alcohol Consumption</a></span></li><li><span><a href=\"#Drinking-Frequency\" data-toc-modified-id=\"Drinking-Frequency-15.2\"><span class=\"toc-item-num\">15.2&nbsp;&nbsp;</span>Drinking Frequency</a></span></li><li><span><a href=\"#Drinks-Per-Occasion\" data-toc-modified-id=\"Drinks-Per-Occasion-15.3\"><span class=\"toc-item-num\">15.3&nbsp;&nbsp;</span>Drinks Per Occasion</a></span></li></ul></li><li><span><a href=\"#Physical-Functioning\" data-toc-modified-id=\"Physical-Functioning-16\"><span class=\"toc-item-num\">16&nbsp;&nbsp;</span>Physical Functioning</a></span><ul class=\"toc-item\"><li><span><a href=\"#Renaming-Columns\" data-toc-modified-id=\"Renaming-Columns-16.1\"><span class=\"toc-item-num\">16.1&nbsp;&nbsp;</span>Renaming Columns</a></span></li><li><span><a href=\"#Clean-Column-Values\" data-toc-modified-id=\"Clean-Column-Values-16.2\"><span class=\"toc-item-num\">16.2&nbsp;&nbsp;</span>Clean Column Values</a></span></li><li><span><a href=\"#Health-Problems\" data-toc-modified-id=\"Health-Problems-16.3\"><span class=\"toc-item-num\">16.3&nbsp;&nbsp;</span>Health Problems</a></span></li></ul></li><li><span><a href=\"#Recreational-Drug-Use\" data-toc-modified-id=\"Recreational-Drug-Use-17\"><span class=\"toc-item-num\">17&nbsp;&nbsp;</span>Recreational Drug Use</a></span><ul class=\"toc-item\"><li><span><a href=\"#Renaming-Columns\" data-toc-modified-id=\"Renaming-Columns-17.1\"><span class=\"toc-item-num\">17.1&nbsp;&nbsp;</span>Renaming Columns</a></span></li><li><span><a href=\"#Clean-Column-Values\" data-toc-modified-id=\"Clean-Column-Values-17.2\"><span class=\"toc-item-num\">17.2&nbsp;&nbsp;</span>Clean Column Values</a></span></li></ul></li><li><span><a href=\"#Smoking\" data-toc-modified-id=\"Smoking-18\"><span class=\"toc-item-num\">18&nbsp;&nbsp;</span>Smoking</a></span><ul class=\"toc-item\"><li><span><a href=\"#Days-Since-Quitting\" data-toc-modified-id=\"Days-Since-Quitting-18.1\"><span class=\"toc-item-num\">18.1&nbsp;&nbsp;</span>Days Since Quitting</a></span></li><li><span><a href=\"#Household-Smokers\" data-toc-modified-id=\"Household-Smokers-18.2\"><span class=\"toc-item-num\">18.2&nbsp;&nbsp;</span>Household Smokers</a></span></li><li><span><a href=\"#Renaming-Columns\" data-toc-modified-id=\"Renaming-Columns-18.3\"><span class=\"toc-item-num\">18.3&nbsp;&nbsp;</span>Renaming Columns</a></span></li><li><span><a href=\"#Clean-Column-Values\" data-toc-modified-id=\"Clean-Column-Values-18.4\"><span class=\"toc-item-num\">18.4&nbsp;&nbsp;</span>Clean Column Values</a></span></li></ul></li><li><span><a href=\"#Combine-Data\" data-toc-modified-id=\"Combine-Data-19\"><span class=\"toc-item-num\">19&nbsp;&nbsp;</span>Combine Data</a></span></li><li><span><a href=\"#References\" data-toc-modified-id=\"References-20\"><span class=\"toc-item-num\">20&nbsp;&nbsp;</span>References</a></span></li></ul></div>"
   ]
  },
  {
   "cell_type": "markdown",
   "metadata": {},
   "source": [
    "# Imports"
   ]
  },
  {
   "cell_type": "code",
   "execution_count": 1,
   "metadata": {
    "ExecuteTime": {
     "end_time": "2021-01-31T06:53:27.211328Z",
     "start_time": "2021-01-31T06:53:26.948316Z"
    }
   },
   "outputs": [
    {
     "name": "stderr",
     "output_type": "stream",
     "text": [
      "C:\\Users\\drudi\\Anaconda3\\envs\\learn-env\\lib\\site-packages\\numpy\\_distributor_init.py:32: UserWarning: loaded more than 1 DLL from .libs:\n",
      "C:\\Users\\drudi\\Anaconda3\\envs\\learn-env\\lib\\site-packages\\numpy\\.libs\\libopenblas.NOIJJG62EMASZI6NYURL6JBKM4EVBGM7.gfortran-win_amd64.dll\n",
      "C:\\Users\\drudi\\Anaconda3\\envs\\learn-env\\lib\\site-packages\\numpy\\.libs\\libopenblas.PYQHXLVVQ7VESDPUVUADXEVJOBGHJPAY.gfortran-win_amd64.dll\n",
      "  stacklevel=1)\n"
     ]
    }
   ],
   "source": [
    "# Importing numpy and setting a random seed\n",
    "import numpy as np\n",
    "np.random.seed(123)"
   ]
  },
  {
   "cell_type": "code",
   "execution_count": 2,
   "metadata": {
    "ExecuteTime": {
     "end_time": "2021-01-31T06:53:28.685659Z",
     "start_time": "2021-01-31T06:53:27.214232Z"
    }
   },
   "outputs": [],
   "source": [
    "# Importing packages and setting a couple of style options\n",
    "import pandas as pd\n",
    "import glob, os\n",
    "import matplotlib.pyplot as plt\n",
    "%matplotlib inline\n",
    "import seaborn as sns\n",
    "sns.set(style='whitegrid')\n",
    "import warnings\n",
    "warnings.filterwarnings('ignore')"
   ]
  },
  {
   "cell_type": "code",
   "execution_count": 3,
   "metadata": {
    "ExecuteTime": {
     "end_time": "2021-01-31T06:53:28.693610Z",
     "start_time": "2021-01-31T06:53:28.688574Z"
    }
   },
   "outputs": [],
   "source": [
    "# Setting pandas to display max columns and rows\n",
    "pd.set_option('display.max_columns', 0)\n",
    "pd.set_option('display.max_rows', None)\n",
    "\n",
    "# Setting pandas inf values to be nan\n",
    "pd.set_option('mode.use_inf_as_na', True)\n",
    "\n",
    "# Turning off scientific notation in pandas\n",
    "pd.set_option('display.float_format', lambda x: '%.3f' % x)"
   ]
  },
  {
   "cell_type": "code",
   "execution_count": 4,
   "metadata": {
    "ExecuteTime": {
     "end_time": "2021-01-31T06:53:28.779919Z",
     "start_time": "2021-01-31T06:53:28.699584Z"
    }
   },
   "outputs": [],
   "source": [
    "# This will cause the project functions py file to keep refreshed\n",
    "%load_ext autoreload\n",
    "%autoreload 2"
   ]
  },
  {
   "cell_type": "code",
   "execution_count": 5,
   "metadata": {
    "ExecuteTime": {
     "end_time": "2021-01-31T06:53:29.481938Z",
     "start_time": "2021-01-31T06:53:28.781923Z"
    }
   },
   "outputs": [],
   "source": [
    "# Loading in the custom project functions and some tools to look at them\n",
    "import project_functions as pf\n",
    "import inspect\n",
    "from IPython.display import Markdown, display"
   ]
  },
  {
   "cell_type": "markdown",
   "metadata": {},
   "source": [
    "# Target"
   ]
  },
  {
   "cell_type": "markdown",
   "metadata": {},
   "source": [
    "The files for calculating the target variable of depression can be found on the NHANES website: https://wwwn.cdc.gov/nchs/nhanes/default.aspx. The exact files can be downloaded for each year group by selecting the year, choosing \"Questionnaire Data\", and clicking the link for the XPT file next to \"Mental Health - Depression Screener\". \n",
    "\n",
    "The file is answers to a depression screening questionnaire. It includes nine questions that are used to diagnose depression and a 10th question about how much difficulty the previous nine items have caused. The questionnaire is scored using the first nine items and a score of 10 or higher is considered depression. \n",
    "\n",
    "The questionnaire incorporates DSM diagnostic criteria and a study found that there was 88% specificity and sensitivity for major depression at the 10 or greater threshold. The study is linked in the references section of this project and can be found here: https://pubmed.ncbi.nlm.nih.gov/11556941/.\n",
    "\n",
    "The cleaning process will include adding up the scores for the 9 questions and then marking entries as depressed or not depressed based on the greater or equal to 10 threshold. The 10th question of the survey will be dropped since it isn't involved in the adding of the score."
   ]
  },
  {
   "cell_type": "code",
   "execution_count": 6,
   "metadata": {
    "ExecuteTime": {
     "end_time": "2021-01-31T06:53:29.581852Z",
     "start_time": "2021-01-31T06:53:29.483843Z"
    }
   },
   "outputs": [
    {
     "data": {
      "text/markdown": [
       "```python\n",
       "def glob_concat(path, file_str):\n",
       "    '''\n",
       "    Looks for files in folder path and combines them into a DataFrame.\n",
       "    Also sets the index to be the SEQN column.\n",
       "    \n",
       "    Args:\n",
       "        path (str): Location on computer where files are located.\n",
       "        file_str (str): Specific search query of which files to find.\n",
       "        \n",
       "    Returns:\n",
       "        Displays the files that were found for verification and returns the \n",
       "        DataFrame of all files after pd.concat is performed and the index is set.\n",
       "    \n",
       "    Example:\n",
       "        combined_df = glob_concat(r'File/File', '*.XPT')\n",
       "    '''\n",
       "    \n",
       "    # Find the files in the folders\n",
       "    files = glob.glob(os.path.join(path, file_str))\n",
       "\n",
       "    # Print the files for verification when running the function\n",
       "    display(files)\n",
       "\n",
       "    # Combining all the files into a DataFrame\n",
       "    df_files = [pd.read_sas(file) for file in files]\n",
       "    combined_df = pd.concat(df_files)\n",
       "\n",
       "    # Setting the index of the new DataFrame\n",
       "    combined_df.SEQN = combined_df.SEQN.astype('int64')\n",
       "    combined_df.set_index('SEQN', verify_integrity=True, inplace=True)\n",
       "    return combined_df\n",
       "\n",
       "```"
      ],
      "text/plain": [
       "<IPython.core.display.Markdown object>"
      ]
     },
     "metadata": {},
     "output_type": "display_data"
    }
   ],
   "source": [
    "# Looking at function\n",
    "func = inspect.getsource(pf.glob_concat)\n",
    "display(Markdown(\"```python\\n\"+func+\"\\n```\"))"
   ]
  },
  {
   "cell_type": "code",
   "execution_count": 7,
   "metadata": {
    "ExecuteTime": {
     "end_time": "2021-01-31T06:53:29.826922Z",
     "start_time": "2021-01-31T06:53:29.582835Z"
    }
   },
   "outputs": [
    {
     "data": {
      "text/plain": [
       "['Data/Target\\\\DPQ_D.XPT',\n",
       " 'Data/Target\\\\DPQ_E.XPT',\n",
       " 'Data/Target\\\\DPQ_F.XPT',\n",
       " 'Data/Target\\\\DPQ_G.XPT',\n",
       " 'Data/Target\\\\DPQ_H.XPT',\n",
       " 'Data/Target\\\\DPQ_I.XPT',\n",
       " 'Data/Target\\\\DPQ_J.XPT']"
      ]
     },
     "metadata": {},
     "output_type": "display_data"
    }
   ],
   "source": [
    "# Combining all the files for the target\n",
    "path = r'Data/Target'\n",
    "df_target = pf.glob_concat(path, '*.XPT')"
   ]
  },
  {
   "cell_type": "code",
   "execution_count": 8,
   "metadata": {
    "ExecuteTime": {
     "end_time": "2021-01-31T06:53:29.896921Z",
     "start_time": "2021-01-31T06:53:29.828840Z"
    }
   },
   "outputs": [],
   "source": [
    "# Dropping the final column\n",
    "df_target.drop(columns=['DPQ100'], inplace=True)"
   ]
  },
  {
   "cell_type": "code",
   "execution_count": 9,
   "metadata": {
    "ExecuteTime": {
     "end_time": "2021-01-31T06:53:29.987844Z",
     "start_time": "2021-01-31T06:53:29.900839Z"
    }
   },
   "outputs": [
    {
     "data": {
      "text/html": [
       "<div>\n",
       "<style scoped>\n",
       "    .dataframe tbody tr th:only-of-type {\n",
       "        vertical-align: middle;\n",
       "    }\n",
       "\n",
       "    .dataframe tbody tr th {\n",
       "        vertical-align: top;\n",
       "    }\n",
       "\n",
       "    .dataframe thead th {\n",
       "        text-align: right;\n",
       "    }\n",
       "</style>\n",
       "<table border=\"1\" class=\"dataframe\">\n",
       "  <thead>\n",
       "    <tr style=\"text-align: right;\">\n",
       "      <th></th>\n",
       "      <th>DPQ010</th>\n",
       "      <th>DPQ020</th>\n",
       "      <th>DPQ030</th>\n",
       "      <th>DPQ040</th>\n",
       "      <th>DPQ050</th>\n",
       "      <th>DPQ060</th>\n",
       "      <th>DPQ070</th>\n",
       "      <th>DPQ080</th>\n",
       "      <th>DPQ090</th>\n",
       "    </tr>\n",
       "    <tr>\n",
       "      <th>SEQN</th>\n",
       "      <th></th>\n",
       "      <th></th>\n",
       "      <th></th>\n",
       "      <th></th>\n",
       "      <th></th>\n",
       "      <th></th>\n",
       "      <th></th>\n",
       "      <th></th>\n",
       "      <th></th>\n",
       "    </tr>\n",
       "  </thead>\n",
       "  <tbody>\n",
       "    <tr>\n",
       "      <th>31130</th>\n",
       "      <td>nan</td>\n",
       "      <td>nan</td>\n",
       "      <td>nan</td>\n",
       "      <td>nan</td>\n",
       "      <td>nan</td>\n",
       "      <td>nan</td>\n",
       "      <td>nan</td>\n",
       "      <td>nan</td>\n",
       "      <td>nan</td>\n",
       "    </tr>\n",
       "    <tr>\n",
       "      <th>31131</th>\n",
       "      <td>0.000</td>\n",
       "      <td>0.000</td>\n",
       "      <td>0.000</td>\n",
       "      <td>0.000</td>\n",
       "      <td>0.000</td>\n",
       "      <td>0.000</td>\n",
       "      <td>0.000</td>\n",
       "      <td>0.000</td>\n",
       "      <td>0.000</td>\n",
       "    </tr>\n",
       "    <tr>\n",
       "      <th>31132</th>\n",
       "      <td>0.000</td>\n",
       "      <td>0.000</td>\n",
       "      <td>0.000</td>\n",
       "      <td>0.000</td>\n",
       "      <td>0.000</td>\n",
       "      <td>0.000</td>\n",
       "      <td>0.000</td>\n",
       "      <td>0.000</td>\n",
       "      <td>0.000</td>\n",
       "    </tr>\n",
       "    <tr>\n",
       "      <th>31134</th>\n",
       "      <td>0.000</td>\n",
       "      <td>0.000</td>\n",
       "      <td>0.000</td>\n",
       "      <td>0.000</td>\n",
       "      <td>0.000</td>\n",
       "      <td>0.000</td>\n",
       "      <td>0.000</td>\n",
       "      <td>0.000</td>\n",
       "      <td>0.000</td>\n",
       "    </tr>\n",
       "    <tr>\n",
       "      <th>31139</th>\n",
       "      <td>0.000</td>\n",
       "      <td>0.000</td>\n",
       "      <td>0.000</td>\n",
       "      <td>0.000</td>\n",
       "      <td>3.000</td>\n",
       "      <td>1.000</td>\n",
       "      <td>0.000</td>\n",
       "      <td>0.000</td>\n",
       "      <td>0.000</td>\n",
       "    </tr>\n",
       "  </tbody>\n",
       "</table>\n",
       "</div>"
      ],
      "text/plain": [
       "       DPQ010  DPQ020  DPQ030  DPQ040  DPQ050  DPQ060  DPQ070  DPQ080  DPQ090\n",
       "SEQN                                                                         \n",
       "31130     nan     nan     nan     nan     nan     nan     nan     nan     nan\n",
       "31131   0.000   0.000   0.000   0.000   0.000   0.000   0.000   0.000   0.000\n",
       "31132   0.000   0.000   0.000   0.000   0.000   0.000   0.000   0.000   0.000\n",
       "31134   0.000   0.000   0.000   0.000   0.000   0.000   0.000   0.000   0.000\n",
       "31139   0.000   0.000   0.000   0.000   3.000   1.000   0.000   0.000   0.000"
      ]
     },
     "execution_count": 9,
     "metadata": {},
     "output_type": "execute_result"
    }
   ],
   "source": [
    "df_target.head()"
   ]
  },
  {
   "cell_type": "code",
   "execution_count": 10,
   "metadata": {
    "ExecuteTime": {
     "end_time": "2021-01-31T06:53:30.061365Z",
     "start_time": "2021-01-31T06:53:29.990843Z"
    }
   },
   "outputs": [
    {
     "name": "stdout",
     "output_type": "stream",
     "text": [
      "<class 'pandas.core.frame.DataFrame'>\n",
      "Int64Index: 40496 entries, 31130 to 102956\n",
      "Data columns (total 9 columns):\n",
      " #   Column  Non-Null Count  Dtype  \n",
      "---  ------  --------------  -----  \n",
      " 0   DPQ010  36471 non-null  float64\n",
      " 1   DPQ020  36465 non-null  float64\n",
      " 2   DPQ030  36463 non-null  float64\n",
      " 3   DPQ040  36458 non-null  float64\n",
      " 4   DPQ050  36458 non-null  float64\n",
      " 5   DPQ060  36455 non-null  float64\n",
      " 6   DPQ070  36453 non-null  float64\n",
      " 7   DPQ080  36452 non-null  float64\n",
      " 8   DPQ090  36447 non-null  float64\n",
      "dtypes: float64(9)\n",
      "memory usage: 3.1 MB\n"
     ]
    }
   ],
   "source": [
    "df_target.info()"
   ]
  },
  {
   "cell_type": "code",
   "execution_count": 11,
   "metadata": {
    "ExecuteTime": {
     "end_time": "2021-01-31T06:53:30.137277Z",
     "start_time": "2021-01-31T06:53:30.063272Z"
    }
   },
   "outputs": [
    {
     "data": {
      "text/plain": [
       "DPQ010    4025\n",
       "DPQ020    4031\n",
       "DPQ030    4033\n",
       "DPQ040    4038\n",
       "DPQ050    4038\n",
       "DPQ060    4041\n",
       "DPQ070    4043\n",
       "DPQ080    4044\n",
       "DPQ090    4049\n",
       "dtype: int64"
      ]
     },
     "execution_count": 11,
     "metadata": {},
     "output_type": "execute_result"
    }
   ],
   "source": [
    "# Checking the null values\n",
    "df_target.isna().sum()"
   ]
  },
  {
   "cell_type": "code",
   "execution_count": 12,
   "metadata": {
    "ExecuteTime": {
     "end_time": "2021-01-31T06:53:30.729561Z",
     "start_time": "2021-01-31T06:53:30.139581Z"
    }
   },
   "outputs": [
    {
     "data": {
      "image/png": "[encoded data removed]",
      "text/plain": [
       "<Figure size 1800x720 with 2 Axes>"
      ]
     },
     "metadata": {},
     "output_type": "display_data"
    }
   ],
   "source": [
    "# Looking at the pattern of null values\n",
    "import missingno as ms\n",
    "ms.matrix(df_target);"
   ]
  },
  {
   "cell_type": "code",
   "execution_count": 13,
   "metadata": {
    "ExecuteTime": {
     "end_time": "2021-01-31T06:53:30.812260Z",
     "start_time": "2021-01-31T06:53:30.731460Z"
    }
   },
   "outputs": [],
   "source": [
    "# Removing all null entries\n",
    "df_target.dropna(inplace=True)"
   ]
  },
  {
   "cell_type": "code",
   "execution_count": 14,
   "metadata": {
    "ExecuteTime": {
     "end_time": "2021-01-31T06:53:30.887179Z",
     "start_time": "2021-01-31T06:53:30.815170Z"
    }
   },
   "outputs": [
    {
     "name": "stdout",
     "output_type": "stream",
     "text": [
      "<class 'pandas.core.frame.DataFrame'>\n",
      "Int64Index: 36447 entries, 31131 to 102956\n",
      "Data columns (total 9 columns):\n",
      " #   Column  Non-Null Count  Dtype  \n",
      "---  ------  --------------  -----  \n",
      " 0   DPQ010  36447 non-null  float64\n",
      " 1   DPQ020  36447 non-null  float64\n",
      " 2   DPQ030  36447 non-null  float64\n",
      " 3   DPQ040  36447 non-null  float64\n",
      " 4   DPQ050  36447 non-null  float64\n",
      " 5   DPQ060  36447 non-null  float64\n",
      " 6   DPQ070  36447 non-null  float64\n",
      " 7   DPQ080  36447 non-null  float64\n",
      " 8   DPQ090  36447 non-null  float64\n",
      "dtypes: float64(9)\n",
      "memory usage: 2.8 MB\n"
     ]
    }
   ],
   "source": [
    "# Checking for null values and how many entries are left\n",
    "df_target.info()"
   ]
  },
  {
   "cell_type": "code",
   "execution_count": 15,
   "metadata": {
    "ExecuteTime": {
     "end_time": "2021-01-31T06:53:30.970756Z",
     "start_time": "2021-01-31T06:53:30.890264Z"
    }
   },
   "outputs": [
    {
     "data": {
      "text/html": [
       "<div>\n",
       "<style scoped>\n",
       "    .dataframe tbody tr th:only-of-type {\n",
       "        vertical-align: middle;\n",
       "    }\n",
       "\n",
       "    .dataframe tbody tr th {\n",
       "        vertical-align: top;\n",
       "    }\n",
       "\n",
       "    .dataframe thead th {\n",
       "        text-align: right;\n",
       "    }\n",
       "</style>\n",
       "<table border=\"1\" class=\"dataframe\">\n",
       "  <thead>\n",
       "    <tr style=\"text-align: right;\">\n",
       "      <th></th>\n",
       "      <th>DPQ010</th>\n",
       "      <th>DPQ020</th>\n",
       "      <th>DPQ030</th>\n",
       "      <th>DPQ040</th>\n",
       "      <th>DPQ050</th>\n",
       "      <th>DPQ060</th>\n",
       "      <th>DPQ070</th>\n",
       "      <th>DPQ080</th>\n",
       "      <th>DPQ090</th>\n",
       "    </tr>\n",
       "    <tr>\n",
       "      <th>SEQN</th>\n",
       "      <th></th>\n",
       "      <th></th>\n",
       "      <th></th>\n",
       "      <th></th>\n",
       "      <th></th>\n",
       "      <th></th>\n",
       "      <th></th>\n",
       "      <th></th>\n",
       "      <th></th>\n",
       "    </tr>\n",
       "  </thead>\n",
       "  <tbody>\n",
       "    <tr>\n",
       "      <th>31131</th>\n",
       "      <td>0.000</td>\n",
       "      <td>0.000</td>\n",
       "      <td>0.000</td>\n",
       "      <td>0.000</td>\n",
       "      <td>0.000</td>\n",
       "      <td>0.000</td>\n",
       "      <td>0.000</td>\n",
       "      <td>0.000</td>\n",
       "      <td>0.000</td>\n",
       "    </tr>\n",
       "    <tr>\n",
       "      <th>31132</th>\n",
       "      <td>0.000</td>\n",
       "      <td>0.000</td>\n",
       "      <td>0.000</td>\n",
       "      <td>0.000</td>\n",
       "      <td>0.000</td>\n",
       "      <td>0.000</td>\n",
       "      <td>0.000</td>\n",
       "      <td>0.000</td>\n",
       "      <td>0.000</td>\n",
       "    </tr>\n",
       "    <tr>\n",
       "      <th>31134</th>\n",
       "      <td>0.000</td>\n",
       "      <td>0.000</td>\n",
       "      <td>0.000</td>\n",
       "      <td>0.000</td>\n",
       "      <td>0.000</td>\n",
       "      <td>0.000</td>\n",
       "      <td>0.000</td>\n",
       "      <td>0.000</td>\n",
       "      <td>0.000</td>\n",
       "    </tr>\n",
       "    <tr>\n",
       "      <th>31139</th>\n",
       "      <td>0.000</td>\n",
       "      <td>0.000</td>\n",
       "      <td>0.000</td>\n",
       "      <td>0.000</td>\n",
       "      <td>3.000</td>\n",
       "      <td>1.000</td>\n",
       "      <td>0.000</td>\n",
       "      <td>0.000</td>\n",
       "      <td>0.000</td>\n",
       "    </tr>\n",
       "    <tr>\n",
       "      <th>31143</th>\n",
       "      <td>0.000</td>\n",
       "      <td>1.000</td>\n",
       "      <td>1.000</td>\n",
       "      <td>1.000</td>\n",
       "      <td>1.000</td>\n",
       "      <td>1.000</td>\n",
       "      <td>1.000</td>\n",
       "      <td>0.000</td>\n",
       "      <td>0.000</td>\n",
       "    </tr>\n",
       "  </tbody>\n",
       "</table>\n",
       "</div>"
      ],
      "text/plain": [
       "       DPQ010  DPQ020  DPQ030  DPQ040  DPQ050  DPQ060  DPQ070  DPQ080  DPQ090\n",
       "SEQN                                                                         \n",
       "31131   0.000   0.000   0.000   0.000   0.000   0.000   0.000   0.000   0.000\n",
       "31132   0.000   0.000   0.000   0.000   0.000   0.000   0.000   0.000   0.000\n",
       "31134   0.000   0.000   0.000   0.000   0.000   0.000   0.000   0.000   0.000\n",
       "31139   0.000   0.000   0.000   0.000   3.000   1.000   0.000   0.000   0.000\n",
       "31143   0.000   1.000   1.000   1.000   1.000   1.000   1.000   0.000   0.000"
      ]
     },
     "execution_count": 15,
     "metadata": {},
     "output_type": "execute_result"
    }
   ],
   "source": [
    "df_target.head()"
   ]
  },
  {
   "cell_type": "code",
   "execution_count": 16,
   "metadata": {
    "ExecuteTime": {
     "end_time": "2021-01-31T06:53:31.041829Z",
     "start_time": "2021-01-31T06:53:30.973710Z"
    }
   },
   "outputs": [
    {
     "data": {
      "text/markdown": [
       "```python\n",
       "def val_counts(df):\n",
       "    '''\n",
       "    Display value counts for all the columns in a DataFrame.\n",
       "\n",
       "    Args:\n",
       "        df (DataFrame): DataFrame to perform .value_counts() on each column. \n",
       "\n",
       "    Returns:\n",
       "        Value counts for each column with some visual cues between columns.\n",
       "    '''\n",
       "\n",
       "    for col in df.columns:\n",
       "        print(f'{col} value counts', '\\n')\n",
       "        display(df[col].value_counts(dropna=False))\n",
       "        print('--------------------------------------')\n",
       "\n",
       "```"
      ],
      "text/plain": [
       "<IPython.core.display.Markdown object>"
      ]
     },
     "metadata": {},
     "output_type": "display_data"
    }
   ],
   "source": [
    "# Looking at function that performs .value_counts()\n",
    "func = inspect.getsource(pf.val_counts)\n",
    "display(Markdown(\"```python\\n\"+func+\"\\n```\"))"
   ]
  },
  {
   "cell_type": "code",
   "execution_count": 17,
   "metadata": {
    "ExecuteTime": {
     "end_time": "2021-01-31T06:53:31.166368Z",
     "start_time": "2021-01-31T06:53:31.043719Z"
    },
    "scrolled": true
   },
   "outputs": [
    {
     "name": "stdout",
     "output_type": "stream",
     "text": [
      "DPQ010 value counts \n",
      "\n"
     ]
    },
    {
     "data": {
      "text/plain": [
       "0.000    27333\n",
       "1.000     5946\n",
       "2.000     1716\n",
       "3.000     1385\n",
       "9.000       54\n",
       "7.000       13\n",
       "Name: DPQ010, dtype: int64"
      ]
     },
     "metadata": {},
     "output_type": "display_data"
    },
    {
     "name": "stdout",
     "output_type": "stream",
     "text": [
      "--------------------------------------\n",
      "DPQ020 value counts \n",
      "\n"
     ]
    },
    {
     "data": {
      "text/plain": [
       "0.000    27582\n",
       "1.000     6117\n",
       "2.000     1471\n",
       "3.000     1243\n",
       "9.000       26\n",
       "7.000        8\n",
       "Name: DPQ020, dtype: int64"
      ]
     },
     "metadata": {},
     "output_type": "display_data"
    },
    {
     "name": "stdout",
     "output_type": "stream",
     "text": [
      "--------------------------------------\n",
      "DPQ030 value counts \n",
      "\n"
     ]
    },
    {
     "data": {
      "text/plain": [
       "0.000    22611\n",
       "1.000     8120\n",
       "3.000     3180\n",
       "2.000     2506\n",
       "9.000       24\n",
       "7.000        6\n",
       "Name: DPQ030, dtype: int64"
      ]
     },
     "metadata": {},
     "output_type": "display_data"
    },
    {
     "name": "stdout",
     "output_type": "stream",
     "text": [
      "--------------------------------------\n",
      "DPQ040 value counts \n",
      "\n"
     ]
    },
    {
     "data": {
      "text/plain": [
       "0.000    18316\n",
       "1.000    12057\n",
       "3.000     3108\n",
       "2.000     2937\n",
       "9.000       23\n",
       "7.000        6\n",
       "Name: DPQ040, dtype: int64"
      ]
     },
     "metadata": {},
     "output_type": "display_data"
    },
    {
     "name": "stdout",
     "output_type": "stream",
     "text": [
      "--------------------------------------\n",
      "DPQ050 value counts \n",
      "\n"
     ]
    },
    {
     "data": {
      "text/plain": [
       "0.000    27482\n",
       "1.000     5614\n",
       "2.000     1696\n",
       "3.000     1628\n",
       "9.000       24\n",
       "7.000        3\n",
       "Name: DPQ050, dtype: int64"
      ]
     },
     "metadata": {},
     "output_type": "display_data"
    },
    {
     "name": "stdout",
     "output_type": "stream",
     "text": [
      "--------------------------------------\n",
      "DPQ060 value counts \n",
      "\n"
     ]
    },
    {
     "data": {
      "text/plain": [
       "0.000    30214\n",
       "1.000     4161\n",
       "2.000     1032\n",
       "3.000      989\n",
       "9.000       45\n",
       "7.000        6\n",
       "Name: DPQ060, dtype: int64"
      ]
     },
     "metadata": {},
     "output_type": "display_data"
    },
    {
     "name": "stdout",
     "output_type": "stream",
     "text": [
      "--------------------------------------\n",
      "DPQ070 value counts \n",
      "\n"
     ]
    },
    {
     "data": {
      "text/plain": [
       "0.000    30248\n",
       "1.000     3967\n",
       "3.000     1126\n",
       "2.000     1075\n",
       "9.000       27\n",
       "7.000        4\n",
       "Name: DPQ070, dtype: int64"
      ]
     },
     "metadata": {},
     "output_type": "display_data"
    },
    {
     "name": "stdout",
     "output_type": "stream",
     "text": [
      "--------------------------------------\n",
      "DPQ080 value counts \n",
      "\n"
     ]
    },
    {
     "data": {
      "text/plain": [
       "0.000    32397\n",
       "1.000     2574\n",
       "2.000      770\n",
       "3.000      661\n",
       "9.000       41\n",
       "7.000        4\n",
       "Name: DPQ080, dtype: int64"
      ]
     },
     "metadata": {},
     "output_type": "display_data"
    },
    {
     "name": "stdout",
     "output_type": "stream",
     "text": [
      "--------------------------------------\n",
      "DPQ090 value counts \n",
      "\n"
     ]
    },
    {
     "data": {
      "text/plain": [
       "0.000    35027\n",
       "1.000      950\n",
       "2.000      224\n",
       "3.000      208\n",
       "9.000       30\n",
       "7.000        8\n",
       "Name: DPQ090, dtype: int64"
      ]
     },
     "metadata": {},
     "output_type": "display_data"
    },
    {
     "name": "stdout",
     "output_type": "stream",
     "text": [
      "--------------------------------------\n"
     ]
    }
   ],
   "source": [
    "# Looking at the values for the columns\n",
    "pf.val_counts(df_target)"
   ]
  },
  {
   "cell_type": "code",
   "execution_count": 18,
   "metadata": {
    "ExecuteTime": {
     "end_time": "2021-01-31T06:53:31.244458Z",
     "start_time": "2021-01-31T06:53:31.168371Z"
    }
   },
   "outputs": [],
   "source": [
    "# Removing the entries that contain ambiguous answers(7 and 9)\n",
    "df_target = df_target[(df_target != 7) & (df_target != 9)]"
   ]
  },
  {
   "cell_type": "code",
   "execution_count": 19,
   "metadata": {
    "ExecuteTime": {
     "end_time": "2021-01-31T06:53:31.343703Z",
     "start_time": "2021-01-31T06:53:31.246472Z"
    }
   },
   "outputs": [
    {
     "data": {
      "text/html": [
       "<div>\n",
       "<style scoped>\n",
       "    .dataframe tbody tr th:only-of-type {\n",
       "        vertical-align: middle;\n",
       "    }\n",
       "\n",
       "    .dataframe tbody tr th {\n",
       "        vertical-align: top;\n",
       "    }\n",
       "\n",
       "    .dataframe thead th {\n",
       "        text-align: right;\n",
       "    }\n",
       "</style>\n",
       "<table border=\"1\" class=\"dataframe\">\n",
       "  <thead>\n",
       "    <tr style=\"text-align: right;\">\n",
       "      <th></th>\n",
       "      <th>DPQ010</th>\n",
       "      <th>DPQ020</th>\n",
       "      <th>DPQ030</th>\n",
       "      <th>DPQ040</th>\n",
       "      <th>DPQ050</th>\n",
       "      <th>DPQ060</th>\n",
       "      <th>DPQ070</th>\n",
       "      <th>DPQ080</th>\n",
       "      <th>DPQ090</th>\n",
       "    </tr>\n",
       "    <tr>\n",
       "      <th>SEQN</th>\n",
       "      <th></th>\n",
       "      <th></th>\n",
       "      <th></th>\n",
       "      <th></th>\n",
       "      <th></th>\n",
       "      <th></th>\n",
       "      <th></th>\n",
       "      <th></th>\n",
       "      <th></th>\n",
       "    </tr>\n",
       "  </thead>\n",
       "  <tbody>\n",
       "    <tr>\n",
       "      <th>31131</th>\n",
       "      <td>0.000</td>\n",
       "      <td>0.000</td>\n",
       "      <td>0.000</td>\n",
       "      <td>0.000</td>\n",
       "      <td>0.000</td>\n",
       "      <td>0.000</td>\n",
       "      <td>0.000</td>\n",
       "      <td>0.000</td>\n",
       "      <td>0.000</td>\n",
       "    </tr>\n",
       "    <tr>\n",
       "      <th>31132</th>\n",
       "      <td>0.000</td>\n",
       "      <td>0.000</td>\n",
       "      <td>0.000</td>\n",
       "      <td>0.000</td>\n",
       "      <td>0.000</td>\n",
       "      <td>0.000</td>\n",
       "      <td>0.000</td>\n",
       "      <td>0.000</td>\n",
       "      <td>0.000</td>\n",
       "    </tr>\n",
       "    <tr>\n",
       "      <th>31134</th>\n",
       "      <td>0.000</td>\n",
       "      <td>0.000</td>\n",
       "      <td>0.000</td>\n",
       "      <td>0.000</td>\n",
       "      <td>0.000</td>\n",
       "      <td>0.000</td>\n",
       "      <td>0.000</td>\n",
       "      <td>0.000</td>\n",
       "      <td>0.000</td>\n",
       "    </tr>\n",
       "    <tr>\n",
       "      <th>31139</th>\n",
       "      <td>0.000</td>\n",
       "      <td>0.000</td>\n",
       "      <td>0.000</td>\n",
       "      <td>0.000</td>\n",
       "      <td>3.000</td>\n",
       "      <td>1.000</td>\n",
       "      <td>0.000</td>\n",
       "      <td>0.000</td>\n",
       "      <td>0.000</td>\n",
       "    </tr>\n",
       "    <tr>\n",
       "      <th>31143</th>\n",
       "      <td>0.000</td>\n",
       "      <td>1.000</td>\n",
       "      <td>1.000</td>\n",
       "      <td>1.000</td>\n",
       "      <td>1.000</td>\n",
       "      <td>1.000</td>\n",
       "      <td>1.000</td>\n",
       "      <td>0.000</td>\n",
       "      <td>0.000</td>\n",
       "    </tr>\n",
       "  </tbody>\n",
       "</table>\n",
       "</div>"
      ],
      "text/plain": [
       "       DPQ010  DPQ020  DPQ030  DPQ040  DPQ050  DPQ060  DPQ070  DPQ080  DPQ090\n",
       "SEQN                                                                         \n",
       "31131   0.000   0.000   0.000   0.000   0.000   0.000   0.000   0.000   0.000\n",
       "31132   0.000   0.000   0.000   0.000   0.000   0.000   0.000   0.000   0.000\n",
       "31134   0.000   0.000   0.000   0.000   0.000   0.000   0.000   0.000   0.000\n",
       "31139   0.000   0.000   0.000   0.000   3.000   1.000   0.000   0.000   0.000\n",
       "31143   0.000   1.000   1.000   1.000   1.000   1.000   1.000   0.000   0.000"
      ]
     },
     "execution_count": 19,
     "metadata": {},
     "output_type": "execute_result"
    }
   ],
   "source": [
    "df_target.head()"
   ]
  },
  {
   "cell_type": "code",
   "execution_count": 20,
   "metadata": {
    "ExecuteTime": {
     "end_time": "2021-01-31T06:53:31.476971Z",
     "start_time": "2021-01-31T06:53:31.347677Z"
    },
    "scrolled": true
   },
   "outputs": [
    {
     "name": "stdout",
     "output_type": "stream",
     "text": [
      "DPQ010 value counts \n",
      "\n"
     ]
    },
    {
     "data": {
      "text/plain": [
       "0.000    27333\n",
       "1.000     5946\n",
       "2.000     1716\n",
       "3.000     1385\n",
       "nan         67\n",
       "Name: DPQ010, dtype: int64"
      ]
     },
     "metadata": {},
     "output_type": "display_data"
    },
    {
     "name": "stdout",
     "output_type": "stream",
     "text": [
      "--------------------------------------\n",
      "DPQ020 value counts \n",
      "\n"
     ]
    },
    {
     "data": {
      "text/plain": [
       "0.000    27582\n",
       "1.000     6117\n",
       "2.000     1471\n",
       "3.000     1243\n",
       "nan         34\n",
       "Name: DPQ020, dtype: int64"
      ]
     },
     "metadata": {},
     "output_type": "display_data"
    },
    {
     "name": "stdout",
     "output_type": "stream",
     "text": [
      "--------------------------------------\n",
      "DPQ030 value counts \n",
      "\n"
     ]
    },
    {
     "data": {
      "text/plain": [
       "0.000    22611\n",
       "1.000     8120\n",
       "3.000     3180\n",
       "2.000     2506\n",
       "nan         30\n",
       "Name: DPQ030, dtype: int64"
      ]
     },
     "metadata": {},
     "output_type": "display_data"
    },
    {
     "name": "stdout",
     "output_type": "stream",
     "text": [
      "--------------------------------------\n",
      "DPQ040 value counts \n",
      "\n"
     ]
    },
    {
     "data": {
      "text/plain": [
       "0.000    18316\n",
       "1.000    12057\n",
       "3.000     3108\n",
       "2.000     2937\n",
       "nan         29\n",
       "Name: DPQ040, dtype: int64"
      ]
     },
     "metadata": {},
     "output_type": "display_data"
    },
    {
     "name": "stdout",
     "output_type": "stream",
     "text": [
      "--------------------------------------\n",
      "DPQ050 value counts \n",
      "\n"
     ]
    },
    {
     "data": {
      "text/plain": [
       "0.000    27482\n",
       "1.000     5614\n",
       "2.000     1696\n",
       "3.000     1628\n",
       "nan         27\n",
       "Name: DPQ050, dtype: int64"
      ]
     },
     "metadata": {},
     "output_type": "display_data"
    },
    {
     "name": "stdout",
     "output_type": "stream",
     "text": [
      "--------------------------------------\n",
      "DPQ060 value counts \n",
      "\n"
     ]
    },
    {
     "data": {
      "text/plain": [
       "0.000    30214\n",
       "1.000     4161\n",
       "2.000     1032\n",
       "3.000      989\n",
       "nan         51\n",
       "Name: DPQ060, dtype: int64"
      ]
     },
     "metadata": {},
     "output_type": "display_data"
    },
    {
     "name": "stdout",
     "output_type": "stream",
     "text": [
      "--------------------------------------\n",
      "DPQ070 value counts \n",
      "\n"
     ]
    },
    {
     "data": {
      "text/plain": [
       "0.000    30248\n",
       "1.000     3967\n",
       "3.000     1126\n",
       "2.000     1075\n",
       "nan         31\n",
       "Name: DPQ070, dtype: int64"
      ]
     },
     "metadata": {},
     "output_type": "display_data"
    },
    {
     "name": "stdout",
     "output_type": "stream",
     "text": [
      "--------------------------------------\n",
      "DPQ080 value counts \n",
      "\n"
     ]
    },
    {
     "data": {
      "text/plain": [
       "0.000    32397\n",
       "1.000     2574\n",
       "2.000      770\n",
       "3.000      661\n",
       "nan         45\n",
       "Name: DPQ080, dtype: int64"
      ]
     },
     "metadata": {},
     "output_type": "display_data"
    },
    {
     "name": "stdout",
     "output_type": "stream",
     "text": [
      "--------------------------------------\n",
      "DPQ090 value counts \n",
      "\n"
     ]
    },
    {
     "data": {
      "text/plain": [
       "0.000    35027\n",
       "1.000      950\n",
       "2.000      224\n",
       "3.000      208\n",
       "nan         38\n",
       "Name: DPQ090, dtype: int64"
      ]
     },
     "metadata": {},
     "output_type": "display_data"
    },
    {
     "name": "stdout",
     "output_type": "stream",
     "text": [
      "--------------------------------------\n"
     ]
    }
   ],
   "source": [
    "# Checking that the 7s and 9s are removed\n",
    "pf.val_counts(df_target)"
   ]
  },
  {
   "cell_type": "code",
   "execution_count": 21,
   "metadata": {
    "ExecuteTime": {
     "end_time": "2021-01-31T06:53:31.576052Z",
     "start_time": "2021-01-31T06:53:31.479990Z"
    }
   },
   "outputs": [
    {
     "name": "stdout",
     "output_type": "stream",
     "text": [
      "<class 'pandas.core.frame.DataFrame'>\n",
      "Int64Index: 36447 entries, 31131 to 102956\n",
      "Data columns (total 9 columns):\n",
      " #   Column  Non-Null Count  Dtype  \n",
      "---  ------  --------------  -----  \n",
      " 0   DPQ010  36380 non-null  float64\n",
      " 1   DPQ020  36413 non-null  float64\n",
      " 2   DPQ030  36417 non-null  float64\n",
      " 3   DPQ040  36418 non-null  float64\n",
      " 4   DPQ050  36420 non-null  float64\n",
      " 5   DPQ060  36396 non-null  float64\n",
      " 6   DPQ070  36416 non-null  float64\n",
      " 7   DPQ080  36402 non-null  float64\n",
      " 8   DPQ090  36409 non-null  float64\n",
      "dtypes: float64(9)\n",
      "memory usage: 2.8 MB\n"
     ]
    }
   ],
   "source": [
    "# Checking the entries\n",
    "df_target.info()"
   ]
  },
  {
   "cell_type": "code",
   "execution_count": 22,
   "metadata": {
    "ExecuteTime": {
     "end_time": "2021-01-31T06:53:31.676360Z",
     "start_time": "2021-01-31T06:53:31.578974Z"
    }
   },
   "outputs": [
    {
     "data": {
      "text/plain": [
       "DPQ010    67\n",
       "DPQ020    34\n",
       "DPQ030    30\n",
       "DPQ040    29\n",
       "DPQ050    27\n",
       "DPQ060    51\n",
       "DPQ070    31\n",
       "DPQ080    45\n",
       "DPQ090    38\n",
       "dtype: int64"
      ]
     },
     "execution_count": 22,
     "metadata": {},
     "output_type": "execute_result"
    }
   ],
   "source": [
    "# Looking at null values\n",
    "df_target.isna().sum()"
   ]
  },
  {
   "cell_type": "code",
   "execution_count": 23,
   "metadata": {
    "ExecuteTime": {
     "end_time": "2021-01-31T06:53:32.377687Z",
     "start_time": "2021-01-31T06:53:31.679359Z"
    }
   },
   "outputs": [
    {
     "data": {
      "image/png": "[encoded data removed]",
      "text/plain": [
       "<Figure size 1800x720 with 2 Axes>"
      ]
     },
     "metadata": {},
     "output_type": "display_data"
    }
   ],
   "source": [
    "# Visualizing null values\n",
    "ms.matrix(df_target);"
   ]
  },
  {
   "cell_type": "code",
   "execution_count": 24,
   "metadata": {
    "ExecuteTime": {
     "end_time": "2021-01-31T06:53:32.520318Z",
     "start_time": "2021-01-31T06:53:32.382687Z"
    }
   },
   "outputs": [],
   "source": [
    "# Dropping null values\n",
    "df_target.dropna(inplace=True)"
   ]
  },
  {
   "cell_type": "code",
   "execution_count": 25,
   "metadata": {
    "ExecuteTime": {
     "end_time": "2021-01-31T06:53:32.663263Z",
     "start_time": "2021-01-31T06:53:32.525234Z"
    }
   },
   "outputs": [
    {
     "name": "stdout",
     "output_type": "stream",
     "text": [
      "<class 'pandas.core.frame.DataFrame'>\n",
      "Int64Index: 36259 entries, 31131 to 102956\n",
      "Data columns (total 9 columns):\n",
      " #   Column  Non-Null Count  Dtype  \n",
      "---  ------  --------------  -----  \n",
      " 0   DPQ010  36259 non-null  float64\n",
      " 1   DPQ020  36259 non-null  float64\n",
      " 2   DPQ030  36259 non-null  float64\n",
      " 3   DPQ040  36259 non-null  float64\n",
      " 4   DPQ050  36259 non-null  float64\n",
      " 5   DPQ060  36259 non-null  float64\n",
      " 6   DPQ070  36259 non-null  float64\n",
      " 7   DPQ080  36259 non-null  float64\n",
      " 8   DPQ090  36259 non-null  float64\n",
      "dtypes: float64(9)\n",
      "memory usage: 2.8 MB\n"
     ]
    }
   ],
   "source": [
    "# Checking entries and columns\n",
    "df_target.info()"
   ]
  },
  {
   "cell_type": "code",
   "execution_count": 26,
   "metadata": {
    "ExecuteTime": {
     "end_time": "2021-01-31T06:53:32.807727Z",
     "start_time": "2021-01-31T06:53:32.668236Z"
    }
   },
   "outputs": [],
   "source": [
    "# Castin all the columns to be int type\n",
    "df_target = df_target.astype('int64')"
   ]
  },
  {
   "cell_type": "code",
   "execution_count": 27,
   "metadata": {
    "ExecuteTime": {
     "end_time": "2021-01-31T06:53:32.988769Z",
     "start_time": "2021-01-31T06:53:32.824825Z"
    }
   },
   "outputs": [
    {
     "data": {
      "text/html": [
       "<div>\n",
       "<style scoped>\n",
       "    .dataframe tbody tr th:only-of-type {\n",
       "        vertical-align: middle;\n",
       "    }\n",
       "\n",
       "    .dataframe tbody tr th {\n",
       "        vertical-align: top;\n",
       "    }\n",
       "\n",
       "    .dataframe thead th {\n",
       "        text-align: right;\n",
       "    }\n",
       "</style>\n",
       "<table border=\"1\" class=\"dataframe\">\n",
       "  <thead>\n",
       "    <tr style=\"text-align: right;\">\n",
       "      <th></th>\n",
       "      <th>DPQ010</th>\n",
       "      <th>DPQ020</th>\n",
       "      <th>DPQ030</th>\n",
       "      <th>DPQ040</th>\n",
       "      <th>DPQ050</th>\n",
       "      <th>DPQ060</th>\n",
       "      <th>DPQ070</th>\n",
       "      <th>DPQ080</th>\n",
       "      <th>DPQ090</th>\n",
       "    </tr>\n",
       "    <tr>\n",
       "      <th>SEQN</th>\n",
       "      <th></th>\n",
       "      <th></th>\n",
       "      <th></th>\n",
       "      <th></th>\n",
       "      <th></th>\n",
       "      <th></th>\n",
       "      <th></th>\n",
       "      <th></th>\n",
       "      <th></th>\n",
       "    </tr>\n",
       "  </thead>\n",
       "  <tbody>\n",
       "    <tr>\n",
       "      <th>31131</th>\n",
       "      <td>0</td>\n",
       "      <td>0</td>\n",
       "      <td>0</td>\n",
       "      <td>0</td>\n",
       "      <td>0</td>\n",
       "      <td>0</td>\n",
       "      <td>0</td>\n",
       "      <td>0</td>\n",
       "      <td>0</td>\n",
       "    </tr>\n",
       "    <tr>\n",
       "      <th>31132</th>\n",
       "      <td>0</td>\n",
       "      <td>0</td>\n",
       "      <td>0</td>\n",
       "      <td>0</td>\n",
       "      <td>0</td>\n",
       "      <td>0</td>\n",
       "      <td>0</td>\n",
       "      <td>0</td>\n",
       "      <td>0</td>\n",
       "    </tr>\n",
       "    <tr>\n",
       "      <th>31134</th>\n",
       "      <td>0</td>\n",
       "      <td>0</td>\n",
       "      <td>0</td>\n",
       "      <td>0</td>\n",
       "      <td>0</td>\n",
       "      <td>0</td>\n",
       "      <td>0</td>\n",
       "      <td>0</td>\n",
       "      <td>0</td>\n",
       "    </tr>\n",
       "    <tr>\n",
       "      <th>31139</th>\n",
       "      <td>0</td>\n",
       "      <td>0</td>\n",
       "      <td>0</td>\n",
       "      <td>0</td>\n",
       "      <td>3</td>\n",
       "      <td>1</td>\n",
       "      <td>0</td>\n",
       "      <td>0</td>\n",
       "      <td>0</td>\n",
       "    </tr>\n",
       "    <tr>\n",
       "      <th>31143</th>\n",
       "      <td>0</td>\n",
       "      <td>1</td>\n",
       "      <td>1</td>\n",
       "      <td>1</td>\n",
       "      <td>1</td>\n",
       "      <td>1</td>\n",
       "      <td>1</td>\n",
       "      <td>0</td>\n",
       "      <td>0</td>\n",
       "    </tr>\n",
       "  </tbody>\n",
       "</table>\n",
       "</div>"
      ],
      "text/plain": [
       "       DPQ010  DPQ020  DPQ030  DPQ040  DPQ050  DPQ060  DPQ070  DPQ080  DPQ090\n",
       "SEQN                                                                         \n",
       "31131       0       0       0       0       0       0       0       0       0\n",
       "31132       0       0       0       0       0       0       0       0       0\n",
       "31134       0       0       0       0       0       0       0       0       0\n",
       "31139       0       0       0       0       3       1       0       0       0\n",
       "31143       0       1       1       1       1       1       1       0       0"
      ]
     },
     "execution_count": 27,
     "metadata": {},
     "output_type": "execute_result"
    }
   ],
   "source": [
    "df_target.head()"
   ]
  },
  {
   "cell_type": "code",
   "execution_count": 28,
   "metadata": {
    "ExecuteTime": {
     "end_time": "2021-01-31T06:53:33.114804Z",
     "start_time": "2021-01-31T06:53:32.995709Z"
    }
   },
   "outputs": [],
   "source": [
    "# Summing all the entries across each row\n",
    "df_target['Total'] = df_target.sum(axis=1)"
   ]
  },
  {
   "cell_type": "code",
   "execution_count": 29,
   "metadata": {
    "ExecuteTime": {
     "end_time": "2021-01-31T06:53:33.304730Z",
     "start_time": "2021-01-31T06:53:33.118728Z"
    }
   },
   "outputs": [
    {
     "data": {
      "text/html": [
       "<div>\n",
       "<style scoped>\n",
       "    .dataframe tbody tr th:only-of-type {\n",
       "        vertical-align: middle;\n",
       "    }\n",
       "\n",
       "    .dataframe tbody tr th {\n",
       "        vertical-align: top;\n",
       "    }\n",
       "\n",
       "    .dataframe thead th {\n",
       "        text-align: right;\n",
       "    }\n",
       "</style>\n",
       "<table border=\"1\" class=\"dataframe\">\n",
       "  <thead>\n",
       "    <tr style=\"text-align: right;\">\n",
       "      <th></th>\n",
       "      <th>DPQ010</th>\n",
       "      <th>DPQ020</th>\n",
       "      <th>DPQ030</th>\n",
       "      <th>DPQ040</th>\n",
       "      <th>DPQ050</th>\n",
       "      <th>DPQ060</th>\n",
       "      <th>DPQ070</th>\n",
       "      <th>DPQ080</th>\n",
       "      <th>DPQ090</th>\n",
       "      <th>Total</th>\n",
       "    </tr>\n",
       "    <tr>\n",
       "      <th>SEQN</th>\n",
       "      <th></th>\n",
       "      <th></th>\n",
       "      <th></th>\n",
       "      <th></th>\n",
       "      <th></th>\n",
       "      <th></th>\n",
       "      <th></th>\n",
       "      <th></th>\n",
       "      <th></th>\n",
       "      <th></th>\n",
       "    </tr>\n",
       "  </thead>\n",
       "  <tbody>\n",
       "    <tr>\n",
       "      <th>31131</th>\n",
       "      <td>0</td>\n",
       "      <td>0</td>\n",
       "      <td>0</td>\n",
       "      <td>0</td>\n",
       "      <td>0</td>\n",
       "      <td>0</td>\n",
       "      <td>0</td>\n",
       "      <td>0</td>\n",
       "      <td>0</td>\n",
       "      <td>0</td>\n",
       "    </tr>\n",
       "    <tr>\n",
       "      <th>31132</th>\n",
       "      <td>0</td>\n",
       "      <td>0</td>\n",
       "      <td>0</td>\n",
       "      <td>0</td>\n",
       "      <td>0</td>\n",
       "      <td>0</td>\n",
       "      <td>0</td>\n",
       "      <td>0</td>\n",
       "      <td>0</td>\n",
       "      <td>0</td>\n",
       "    </tr>\n",
       "    <tr>\n",
       "      <th>31134</th>\n",
       "      <td>0</td>\n",
       "      <td>0</td>\n",
       "      <td>0</td>\n",
       "      <td>0</td>\n",
       "      <td>0</td>\n",
       "      <td>0</td>\n",
       "      <td>0</td>\n",
       "      <td>0</td>\n",
       "      <td>0</td>\n",
       "      <td>0</td>\n",
       "    </tr>\n",
       "    <tr>\n",
       "      <th>31139</th>\n",
       "      <td>0</td>\n",
       "      <td>0</td>\n",
       "      <td>0</td>\n",
       "      <td>0</td>\n",
       "      <td>3</td>\n",
       "      <td>1</td>\n",
       "      <td>0</td>\n",
       "      <td>0</td>\n",
       "      <td>0</td>\n",
       "      <td>4</td>\n",
       "    </tr>\n",
       "    <tr>\n",
       "      <th>31143</th>\n",
       "      <td>0</td>\n",
       "      <td>1</td>\n",
       "      <td>1</td>\n",
       "      <td>1</td>\n",
       "      <td>1</td>\n",
       "      <td>1</td>\n",
       "      <td>1</td>\n",
       "      <td>0</td>\n",
       "      <td>0</td>\n",
       "      <td>6</td>\n",
       "    </tr>\n",
       "  </tbody>\n",
       "</table>\n",
       "</div>"
      ],
      "text/plain": [
       "       DPQ010  DPQ020  DPQ030  DPQ040  ...  DPQ070  DPQ080  DPQ090  Total\n",
       "SEQN                                   ...                               \n",
       "31131       0       0       0       0  ...       0       0       0      0\n",
       "31132       0       0       0       0  ...       0       0       0      0\n",
       "31134       0       0       0       0  ...       0       0       0      0\n",
       "31139       0       0       0       0  ...       0       0       0      4\n",
       "31143       0       1       1       1  ...       1       0       0      6\n",
       "\n",
       "[5 rows x 10 columns]"
      ]
     },
     "execution_count": 29,
     "metadata": {},
     "output_type": "execute_result"
    }
   ],
   "source": [
    "df_target.head()"
   ]
  },
  {
   "cell_type": "code",
   "execution_count": 30,
   "metadata": {
    "ExecuteTime": {
     "end_time": "2021-01-31T06:53:33.453626Z",
     "start_time": "2021-01-31T06:53:33.309730Z"
    }
   },
   "outputs": [
    {
     "data": {
      "text/plain": [
       "0    0.329\n",
       "1    0.149\n",
       "2    0.119\n",
       "3    0.091\n",
       "4    0.065\n",
       "5    0.047\n",
       "6    0.039\n",
       "7    0.030\n",
       "8    0.024\n",
       "9    0.019\n",
       "10   0.016\n",
       "11   0.012\n",
       "12   0.010\n",
       "13   0.009\n",
       "14   0.008\n",
       "15   0.006\n",
       "16   0.005\n",
       "17   0.004\n",
       "18   0.004\n",
       "19   0.003\n",
       "21   0.002\n",
       "20   0.002\n",
       "22   0.001\n",
       "24   0.001\n",
       "23   0.001\n",
       "25   0.001\n",
       "27   0.000\n",
       "26   0.000\n",
       "Name: Total, dtype: float64"
      ]
     },
     "execution_count": 30,
     "metadata": {},
     "output_type": "execute_result"
    }
   ],
   "source": [
    "# Looking at the totals\n",
    "df_target.Total.value_counts(1)"
   ]
  },
  {
   "cell_type": "code",
   "execution_count": 31,
   "metadata": {
    "ExecuteTime": {
     "end_time": "2021-01-31T06:53:33.609728Z",
     "start_time": "2021-01-31T06:53:33.458624Z"
    }
   },
   "outputs": [],
   "source": [
    "# Creating the target column based on the value in the total column\n",
    "df_target['depression'] = df_target.Total.apply(\n",
    "    lambda x: 'Not Depressed' if x<10 else 'Depressed')"
   ]
  },
  {
   "cell_type": "code",
   "execution_count": 32,
   "metadata": {
    "ExecuteTime": {
     "end_time": "2021-01-31T06:53:33.766286Z",
     "start_time": "2021-01-31T06:53:33.614683Z"
    }
   },
   "outputs": [
    {
     "data": {
      "text/plain": [
       "Not Depressed   0.913\n",
       "Depressed       0.087\n",
       "Name: depression, dtype: float64"
      ]
     },
     "execution_count": 32,
     "metadata": {},
     "output_type": "execute_result"
    }
   ],
   "source": [
    "# Looking at the target value counts\n",
    "df_target.depression.value_counts(1)"
   ]
  },
  {
   "cell_type": "code",
   "execution_count": 33,
   "metadata": {
    "ExecuteTime": {
     "end_time": "2021-01-31T06:53:33.942220Z",
     "start_time": "2021-01-31T06:53:33.771269Z"
    }
   },
   "outputs": [
    {
     "data": {
      "text/html": [
       "<div>\n",
       "<style scoped>\n",
       "    .dataframe tbody tr th:only-of-type {\n",
       "        vertical-align: middle;\n",
       "    }\n",
       "\n",
       "    .dataframe tbody tr th {\n",
       "        vertical-align: top;\n",
       "    }\n",
       "\n",
       "    .dataframe thead th {\n",
       "        text-align: right;\n",
       "    }\n",
       "</style>\n",
       "<table border=\"1\" class=\"dataframe\">\n",
       "  <thead>\n",
       "    <tr style=\"text-align: right;\">\n",
       "      <th></th>\n",
       "      <th>depression</th>\n",
       "    </tr>\n",
       "    <tr>\n",
       "      <th>SEQN</th>\n",
       "      <th></th>\n",
       "    </tr>\n",
       "  </thead>\n",
       "  <tbody>\n",
       "    <tr>\n",
       "      <th>31131</th>\n",
       "      <td>Not Depressed</td>\n",
       "    </tr>\n",
       "    <tr>\n",
       "      <th>31132</th>\n",
       "      <td>Not Depressed</td>\n",
       "    </tr>\n",
       "    <tr>\n",
       "      <th>31134</th>\n",
       "      <td>Not Depressed</td>\n",
       "    </tr>\n",
       "    <tr>\n",
       "      <th>31139</th>\n",
       "      <td>Not Depressed</td>\n",
       "    </tr>\n",
       "    <tr>\n",
       "      <th>31143</th>\n",
       "      <td>Not Depressed</td>\n",
       "    </tr>\n",
       "  </tbody>\n",
       "</table>\n",
       "</div>"
      ],
      "text/plain": [
       "          depression\n",
       "SEQN                \n",
       "31131  Not Depressed\n",
       "31132  Not Depressed\n",
       "31134  Not Depressed\n",
       "31139  Not Depressed\n",
       "31143  Not Depressed"
      ]
     },
     "execution_count": 33,
     "metadata": {},
     "output_type": "execute_result"
    }
   ],
   "source": [
    "# Slicing out only the target column into its own DataFrame\n",
    "target_clean = pd.DataFrame(df_target['depression'])\n",
    "target_clean.head()"
   ]
  },
  {
   "cell_type": "code",
   "execution_count": 34,
   "metadata": {
    "ExecuteTime": {
     "end_time": "2021-01-31T06:53:34.109214Z",
     "start_time": "2021-01-31T06:53:33.947293Z"
    }
   },
   "outputs": [
    {
     "name": "stdout",
     "output_type": "stream",
     "text": [
      "<class 'pandas.core.frame.DataFrame'>\n",
      "Int64Index: 36259 entries, 31131 to 102956\n",
      "Data columns (total 1 columns):\n",
      " #   Column      Non-Null Count  Dtype \n",
      "---  ------      --------------  ----- \n",
      " 0   depression  36259 non-null  object\n",
      "dtypes: object(1)\n",
      "memory usage: 566.5+ KB\n"
     ]
    }
   ],
   "source": [
    "# Checking that the DataFrame has the expected number of entries\n",
    "target_clean.info()"
   ]
  },
  {
   "cell_type": "code",
   "execution_count": 35,
   "metadata": {
    "ExecuteTime": {
     "end_time": "2021-01-31T06:53:34.285199Z",
     "start_time": "2021-01-31T06:53:34.114240Z"
    }
   },
   "outputs": [
    {
     "data": {
      "text/plain": [
       "Not Depressed   0.913\n",
       "Depressed       0.087\n",
       "Name: depression, dtype: float64"
      ]
     },
     "execution_count": 35,
     "metadata": {},
     "output_type": "execute_result"
    }
   ],
   "source": [
    "# Checking the values\n",
    "target_clean.depression.value_counts(1)"
   ]
  },
  {
   "cell_type": "markdown",
   "metadata": {},
   "source": [
    "# Demographic Data"
   ]
  },
  {
   "cell_type": "markdown",
   "metadata": {},
   "source": [
    "The files gathered for this demographic data can be found on the NHANES website: https://wwwn.cdc.gov/nchs/nhanes/default.aspx. The exact files can be downloaded for each year group by selecting the year, choosing \"Demographics Data\", and clicking the link for the XPT file next to \"Demographic Variables and Sample Weights\". Each column name can be looked up using the \"Search Variables\" tool on the NHANES website to see what the data represents.\n",
    "\n",
    "Data that was not consistent across years could not be used but there were some cases where questions changed but still were getting at the same information so such questions could be combined. Columns were renamed for readability and many values were renamed as well. In an effort to emulate the way all information may not be available for every patient, missing values were filled as \"missing\" or 0. There are many instances in the fields where people were allowed to refuse to answer or answer with \"I don't know\". Such answers were treated as null values and filled with \"missing\" or 0. Because all the null values were filled the same way with no bearing on data leakage, this was done before the train-test split so it would only need to be handled on one set of data."
   ]
  },
  {
   "cell_type": "code",
   "execution_count": 36,
   "metadata": {
    "ExecuteTime": {
     "end_time": "2021-01-31T06:53:35.960574Z",
     "start_time": "2021-01-31T06:53:34.292217Z"
    }
   },
   "outputs": [
    {
     "data": {
      "text/plain": [
       "['Data/Demographics\\\\DEMO_D.XPT',\n",
       " 'Data/Demographics\\\\DEMO_E.XPT',\n",
       " 'Data/Demographics\\\\DEMO_F.XPT',\n",
       " 'Data/Demographics\\\\DEMO_G.XPT',\n",
       " 'Data/Demographics\\\\DEMO_H.XPT',\n",
       " 'Data/Demographics\\\\DEMO_I.XPT',\n",
       " 'Data/Demographics\\\\DEMO_J.XPT']"
      ]
     },
     "metadata": {},
     "output_type": "display_data"
    }
   ],
   "source": [
    "# Combining all the files for the demographic information\n",
    "path = r'Data/Demographics'\n",
    "df_demo = pf.glob_concat(path, '*.XPT')"
   ]
  },
  {
   "cell_type": "code",
   "execution_count": 37,
   "metadata": {
    "ExecuteTime": {
     "end_time": "2021-01-31T06:53:36.285906Z",
     "start_time": "2021-01-31T06:53:35.965502Z"
    }
   },
   "outputs": [
    {
     "data": {
      "text/html": [
       "<div>\n",
       "<style scoped>\n",
       "    .dataframe tbody tr th:only-of-type {\n",
       "        vertical-align: middle;\n",
       "    }\n",
       "\n",
       "    .dataframe tbody tr th {\n",
       "        vertical-align: top;\n",
       "    }\n",
       "\n",
       "    .dataframe thead th {\n",
       "        text-align: right;\n",
       "    }\n",
       "</style>\n",
       "<table border=\"1\" class=\"dataframe\">\n",
       "  <thead>\n",
       "    <tr style=\"text-align: right;\">\n",
       "      <th></th>\n",
       "      <th>SDDSRVYR</th>\n",
       "      <th>RIDSTATR</th>\n",
       "      <th>RIDEXMON</th>\n",
       "      <th>RIAGENDR</th>\n",
       "      <th>RIDAGEYR</th>\n",
       "      <th>RIDAGEMN</th>\n",
       "      <th>RIDAGEEX</th>\n",
       "      <th>RIDRETH1</th>\n",
       "      <th>DMQMILIT</th>\n",
       "      <th>DMDBORN</th>\n",
       "      <th>DMDCITZN</th>\n",
       "      <th>DMDYRSUS</th>\n",
       "      <th>DMDEDUC3</th>\n",
       "      <th>DMDEDUC2</th>\n",
       "      <th>DMDSCHOL</th>\n",
       "      <th>DMDMARTL</th>\n",
       "      <th>DMDHHSIZ</th>\n",
       "      <th>DMDFMSIZ</th>\n",
       "      <th>INDHHINC</th>\n",
       "      <th>INDFMINC</th>\n",
       "      <th>INDFMPIR</th>\n",
       "      <th>RIDEXPRG</th>\n",
       "      <th>DMDHRGND</th>\n",
       "      <th>DMDHRAGE</th>\n",
       "      <th>DMDHRBRN</th>\n",
       "      <th>DMDHREDU</th>\n",
       "      <th>DMDHRMAR</th>\n",
       "      <th>DMDHSEDU</th>\n",
       "      <th>SIALANG</th>\n",
       "      <th>SIAPROXY</th>\n",
       "      <th>SIAINTRP</th>\n",
       "      <th>FIALANG</th>\n",
       "      <th>FIAPROXY</th>\n",
       "      <th>FIAINTRP</th>\n",
       "      <th>MIALANG</th>\n",
       "      <th>MIAPROXY</th>\n",
       "      <th>MIAINTRP</th>\n",
       "      <th>AIALANG</th>\n",
       "      <th>WTINT2YR</th>\n",
       "      <th>WTMEC2YR</th>\n",
       "      <th>SDMVPSU</th>\n",
       "      <th>SDMVSTRA</th>\n",
       "      <th>DMDBORN2</th>\n",
       "      <th>INDHHIN2</th>\n",
       "      <th>INDFMIN2</th>\n",
       "      <th>DMDHRBR2</th>\n",
       "      <th>RIDRETH3</th>\n",
       "      <th>RIDEXAGY</th>\n",
       "      <th>RIDEXAGM</th>\n",
       "      <th>DMQMILIZ</th>\n",
       "      <th>DMQADFC</th>\n",
       "      <th>DMDBORN4</th>\n",
       "      <th>AIALANGA</th>\n",
       "      <th>DMDHHSZA</th>\n",
       "      <th>DMDHHSZB</th>\n",
       "      <th>DMDHHSZE</th>\n",
       "      <th>DMDHRBR4</th>\n",
       "      <th>DMDHRAGZ</th>\n",
       "      <th>DMDHREDZ</th>\n",
       "      <th>DMDHRMAZ</th>\n",
       "      <th>DMDHSEDZ</th>\n",
       "    </tr>\n",
       "    <tr>\n",
       "      <th>SEQN</th>\n",
       "      <th></th>\n",
       "      <th></th>\n",
       "      <th></th>\n",
       "      <th></th>\n",
       "      <th></th>\n",
       "      <th></th>\n",
       "      <th></th>\n",
       "      <th></th>\n",
       "      <th></th>\n",
       "      <th></th>\n",
       "      <th></th>\n",
       "      <th></th>\n",
       "      <th></th>\n",
       "      <th></th>\n",
       "      <th></th>\n",
       "      <th></th>\n",
       "      <th></th>\n",
       "      <th></th>\n",
       "      <th></th>\n",
       "      <th></th>\n",
       "      <th></th>\n",
       "      <th></th>\n",
       "      <th></th>\n",
       "      <th></th>\n",
       "      <th></th>\n",
       "      <th></th>\n",
       "      <th></th>\n",
       "      <th></th>\n",
       "      <th></th>\n",
       "      <th></th>\n",
       "      <th></th>\n",
       "      <th></th>\n",
       "      <th></th>\n",
       "      <th></th>\n",
       "      <th></th>\n",
       "      <th></th>\n",
       "      <th></th>\n",
       "      <th></th>\n",
       "      <th></th>\n",
       "      <th></th>\n",
       "      <th></th>\n",
       "      <th></th>\n",
       "      <th></th>\n",
       "      <th></th>\n",
       "      <th></th>\n",
       "      <th></th>\n",
       "      <th></th>\n",
       "      <th></th>\n",
       "      <th></th>\n",
       "      <th></th>\n",
       "      <th></th>\n",
       "      <th></th>\n",
       "      <th></th>\n",
       "      <th></th>\n",
       "      <th></th>\n",
       "      <th></th>\n",
       "      <th></th>\n",
       "      <th></th>\n",
       "      <th></th>\n",
       "      <th></th>\n",
       "      <th></th>\n",
       "    </tr>\n",
       "  </thead>\n",
       "  <tbody>\n",
       "    <tr>\n",
       "      <th>31127</th>\n",
       "      <td>4.000</td>\n",
       "      <td>2.000</td>\n",
       "      <td>2.000</td>\n",
       "      <td>1.000</td>\n",
       "      <td>0.000</td>\n",
       "      <td>11.000</td>\n",
       "      <td>12.000</td>\n",
       "      <td>3.000</td>\n",
       "      <td>nan</td>\n",
       "      <td>1.000</td>\n",
       "      <td>1.000</td>\n",
       "      <td>nan</td>\n",
       "      <td>nan</td>\n",
       "      <td>nan</td>\n",
       "      <td>nan</td>\n",
       "      <td>nan</td>\n",
       "      <td>4.000</td>\n",
       "      <td>4.000</td>\n",
       "      <td>4.000</td>\n",
       "      <td>4.000</td>\n",
       "      <td>0.750</td>\n",
       "      <td>nan</td>\n",
       "      <td>2.000</td>\n",
       "      <td>21.000</td>\n",
       "      <td>1.000</td>\n",
       "      <td>3.000</td>\n",
       "      <td>1.000</td>\n",
       "      <td>2.000</td>\n",
       "      <td>1.000</td>\n",
       "      <td>1.000</td>\n",
       "      <td>2.000</td>\n",
       "      <td>1.000</td>\n",
       "      <td>2.000</td>\n",
       "      <td>2.000</td>\n",
       "      <td>nan</td>\n",
       "      <td>nan</td>\n",
       "      <td>nan</td>\n",
       "      <td>nan</td>\n",
       "      <td>6434.950</td>\n",
       "      <td>6571.396</td>\n",
       "      <td>2.000</td>\n",
       "      <td>44.000</td>\n",
       "      <td>nan</td>\n",
       "      <td>nan</td>\n",
       "      <td>nan</td>\n",
       "      <td>nan</td>\n",
       "      <td>nan</td>\n",
       "      <td>nan</td>\n",
       "      <td>nan</td>\n",
       "      <td>nan</td>\n",
       "      <td>nan</td>\n",
       "      <td>nan</td>\n",
       "      <td>nan</td>\n",
       "      <td>nan</td>\n",
       "      <td>nan</td>\n",
       "      <td>nan</td>\n",
       "      <td>nan</td>\n",
       "      <td>nan</td>\n",
       "      <td>nan</td>\n",
       "      <td>nan</td>\n",
       "      <td>nan</td>\n",
       "    </tr>\n",
       "    <tr>\n",
       "      <th>31128</th>\n",
       "      <td>4.000</td>\n",
       "      <td>2.000</td>\n",
       "      <td>1.000</td>\n",
       "      <td>2.000</td>\n",
       "      <td>11.000</td>\n",
       "      <td>132.000</td>\n",
       "      <td>132.000</td>\n",
       "      <td>4.000</td>\n",
       "      <td>nan</td>\n",
       "      <td>1.000</td>\n",
       "      <td>1.000</td>\n",
       "      <td>nan</td>\n",
       "      <td>4.000</td>\n",
       "      <td>nan</td>\n",
       "      <td>1.000</td>\n",
       "      <td>nan</td>\n",
       "      <td>7.000</td>\n",
       "      <td>6.000</td>\n",
       "      <td>8.000</td>\n",
       "      <td>5.000</td>\n",
       "      <td>0.770</td>\n",
       "      <td>2.000</td>\n",
       "      <td>1.000</td>\n",
       "      <td>47.000</td>\n",
       "      <td>1.000</td>\n",
       "      <td>2.000</td>\n",
       "      <td>nan</td>\n",
       "      <td>nan</td>\n",
       "      <td>1.000</td>\n",
       "      <td>1.000</td>\n",
       "      <td>2.000</td>\n",
       "      <td>1.000</td>\n",
       "      <td>2.000</td>\n",
       "      <td>2.000</td>\n",
       "      <td>1.000</td>\n",
       "      <td>2.000</td>\n",
       "      <td>2.000</td>\n",
       "      <td>1.000</td>\n",
       "      <td>9081.701</td>\n",
       "      <td>8987.042</td>\n",
       "      <td>1.000</td>\n",
       "      <td>52.000</td>\n",
       "      <td>nan</td>\n",
       "      <td>nan</td>\n",
       "      <td>nan</td>\n",
       "      <td>nan</td>\n",
       "      <td>nan</td>\n",
       "      <td>nan</td>\n",
       "      <td>nan</td>\n",
       "      <td>nan</td>\n",
       "      <td>nan</td>\n",
       "      <td>nan</td>\n",
       "      <td>nan</td>\n",
       "      <td>nan</td>\n",
       "      <td>nan</td>\n",
       "      <td>nan</td>\n",
       "      <td>nan</td>\n",
       "      <td>nan</td>\n",
       "      <td>nan</td>\n",
       "      <td>nan</td>\n",
       "      <td>nan</td>\n",
       "    </tr>\n",
       "    <tr>\n",
       "      <th>31129</th>\n",
       "      <td>4.000</td>\n",
       "      <td>2.000</td>\n",
       "      <td>2.000</td>\n",
       "      <td>1.000</td>\n",
       "      <td>15.000</td>\n",
       "      <td>189.000</td>\n",
       "      <td>190.000</td>\n",
       "      <td>4.000</td>\n",
       "      <td>nan</td>\n",
       "      <td>1.000</td>\n",
       "      <td>1.000</td>\n",
       "      <td>nan</td>\n",
       "      <td>10.000</td>\n",
       "      <td>nan</td>\n",
       "      <td>1.000</td>\n",
       "      <td>5.000</td>\n",
       "      <td>6.000</td>\n",
       "      <td>6.000</td>\n",
       "      <td>10.000</td>\n",
       "      <td>10.000</td>\n",
       "      <td>2.710</td>\n",
       "      <td>nan</td>\n",
       "      <td>1.000</td>\n",
       "      <td>41.000</td>\n",
       "      <td>1.000</td>\n",
       "      <td>4.000</td>\n",
       "      <td>1.000</td>\n",
       "      <td>4.000</td>\n",
       "      <td>1.000</td>\n",
       "      <td>1.000</td>\n",
       "      <td>2.000</td>\n",
       "      <td>1.000</td>\n",
       "      <td>2.000</td>\n",
       "      <td>2.000</td>\n",
       "      <td>1.000</td>\n",
       "      <td>2.000</td>\n",
       "      <td>2.000</td>\n",
       "      <td>1.000</td>\n",
       "      <td>5316.895</td>\n",
       "      <td>5586.719</td>\n",
       "      <td>1.000</td>\n",
       "      <td>51.000</td>\n",
       "      <td>nan</td>\n",
       "      <td>nan</td>\n",
       "      <td>nan</td>\n",
       "      <td>nan</td>\n",
       "      <td>nan</td>\n",
       "      <td>nan</td>\n",
       "      <td>nan</td>\n",
       "      <td>nan</td>\n",
       "      <td>nan</td>\n",
       "      <td>nan</td>\n",
       "      <td>nan</td>\n",
       "      <td>nan</td>\n",
       "      <td>nan</td>\n",
       "      <td>nan</td>\n",
       "      <td>nan</td>\n",
       "      <td>nan</td>\n",
       "      <td>nan</td>\n",
       "      <td>nan</td>\n",
       "      <td>nan</td>\n",
       "    </tr>\n",
       "    <tr>\n",
       "      <th>31130</th>\n",
       "      <td>4.000</td>\n",
       "      <td>2.000</td>\n",
       "      <td>2.000</td>\n",
       "      <td>2.000</td>\n",
       "      <td>85.000</td>\n",
       "      <td>nan</td>\n",
       "      <td>nan</td>\n",
       "      <td>3.000</td>\n",
       "      <td>2.000</td>\n",
       "      <td>1.000</td>\n",
       "      <td>1.000</td>\n",
       "      <td>nan</td>\n",
       "      <td>nan</td>\n",
       "      <td>4.000</td>\n",
       "      <td>nan</td>\n",
       "      <td>2.000</td>\n",
       "      <td>1.000</td>\n",
       "      <td>1.000</td>\n",
       "      <td>4.000</td>\n",
       "      <td>4.000</td>\n",
       "      <td>1.990</td>\n",
       "      <td>nan</td>\n",
       "      <td>2.000</td>\n",
       "      <td>85.000</td>\n",
       "      <td>1.000</td>\n",
       "      <td>4.000</td>\n",
       "      <td>2.000</td>\n",
       "      <td>nan</td>\n",
       "      <td>1.000</td>\n",
       "      <td>2.000</td>\n",
       "      <td>2.000</td>\n",
       "      <td>1.000</td>\n",
       "      <td>2.000</td>\n",
       "      <td>2.000</td>\n",
       "      <td>nan</td>\n",
       "      <td>nan</td>\n",
       "      <td>nan</td>\n",
       "      <td>nan</td>\n",
       "      <td>29960.840</td>\n",
       "      <td>34030.995</td>\n",
       "      <td>2.000</td>\n",
       "      <td>46.000</td>\n",
       "      <td>nan</td>\n",
       "      <td>nan</td>\n",
       "      <td>nan</td>\n",
       "      <td>nan</td>\n",
       "      <td>nan</td>\n",
       "      <td>nan</td>\n",
       "      <td>nan</td>\n",
       "      <td>nan</td>\n",
       "      <td>nan</td>\n",
       "      <td>nan</td>\n",
       "      <td>nan</td>\n",
       "      <td>nan</td>\n",
       "      <td>nan</td>\n",
       "      <td>nan</td>\n",
       "      <td>nan</td>\n",
       "      <td>nan</td>\n",
       "      <td>nan</td>\n",
       "      <td>nan</td>\n",
       "      <td>nan</td>\n",
       "    </tr>\n",
       "    <tr>\n",
       "      <th>31131</th>\n",
       "      <td>4.000</td>\n",
       "      <td>2.000</td>\n",
       "      <td>2.000</td>\n",
       "      <td>2.000</td>\n",
       "      <td>44.000</td>\n",
       "      <td>535.000</td>\n",
       "      <td>536.000</td>\n",
       "      <td>4.000</td>\n",
       "      <td>2.000</td>\n",
       "      <td>1.000</td>\n",
       "      <td>1.000</td>\n",
       "      <td>nan</td>\n",
       "      <td>nan</td>\n",
       "      <td>4.000</td>\n",
       "      <td>nan</td>\n",
       "      <td>1.000</td>\n",
       "      <td>4.000</td>\n",
       "      <td>4.000</td>\n",
       "      <td>11.000</td>\n",
       "      <td>11.000</td>\n",
       "      <td>4.650</td>\n",
       "      <td>2.000</td>\n",
       "      <td>1.000</td>\n",
       "      <td>36.000</td>\n",
       "      <td>1.000</td>\n",
       "      <td>5.000</td>\n",
       "      <td>1.000</td>\n",
       "      <td>4.000</td>\n",
       "      <td>1.000</td>\n",
       "      <td>2.000</td>\n",
       "      <td>2.000</td>\n",
       "      <td>1.000</td>\n",
       "      <td>2.000</td>\n",
       "      <td>2.000</td>\n",
       "      <td>1.000</td>\n",
       "      <td>2.000</td>\n",
       "      <td>2.000</td>\n",
       "      <td>1.000</td>\n",
       "      <td>26457.708</td>\n",
       "      <td>26770.585</td>\n",
       "      <td>1.000</td>\n",
       "      <td>48.000</td>\n",
       "      <td>nan</td>\n",
       "      <td>nan</td>\n",
       "      <td>nan</td>\n",
       "      <td>nan</td>\n",
       "      <td>nan</td>\n",
       "      <td>nan</td>\n",
       "      <td>nan</td>\n",
       "      <td>nan</td>\n",
       "      <td>nan</td>\n",
       "      <td>nan</td>\n",
       "      <td>nan</td>\n",
       "      <td>nan</td>\n",
       "      <td>nan</td>\n",
       "      <td>nan</td>\n",
       "      <td>nan</td>\n",
       "      <td>nan</td>\n",
       "      <td>nan</td>\n",
       "      <td>nan</td>\n",
       "      <td>nan</td>\n",
       "    </tr>\n",
       "  </tbody>\n",
       "</table>\n",
       "</div>"
      ],
      "text/plain": [
       "       SDDSRVYR  RIDSTATR  RIDEXMON  ...  DMDHREDZ  DMDHRMAZ  DMDHSEDZ\n",
       "SEQN                                 ...                              \n",
       "31127     4.000     2.000     2.000  ...       nan       nan       nan\n",
       "31128     4.000     2.000     1.000  ...       nan       nan       nan\n",
       "31129     4.000     2.000     2.000  ...       nan       nan       nan\n",
       "31130     4.000     2.000     2.000  ...       nan       nan       nan\n",
       "31131     4.000     2.000     2.000  ...       nan       nan       nan\n",
       "\n",
       "[5 rows x 61 columns]"
      ]
     },
     "execution_count": 37,
     "metadata": {},
     "output_type": "execute_result"
    }
   ],
   "source": [
    "# Checking the DataFrame\n",
    "df_demo.head()"
   ]
  },
  {
   "cell_type": "code",
   "execution_count": 38,
   "metadata": {
    "ExecuteTime": {
     "end_time": "2021-01-31T06:53:36.555002Z",
     "start_time": "2021-01-31T06:53:36.291999Z"
    },
    "scrolled": true
   },
   "outputs": [
    {
     "name": "stdout",
     "output_type": "stream",
     "text": [
      "<class 'pandas.core.frame.DataFrame'>\n",
      "Int64Index: 70190 entries, 31127 to 102956\n",
      "Data columns (total 61 columns):\n",
      " #   Column    Non-Null Count  Dtype  \n",
      "---  ------    --------------  -----  \n",
      " 0   SDDSRVYR  70190 non-null  float64\n",
      " 1   RIDSTATR  70190 non-null  float64\n",
      " 2   RIDEXMON  67364 non-null  float64\n",
      " 3   RIAGENDR  70190 non-null  float64\n",
      " 4   RIDAGEYR  70190 non-null  float64\n",
      " 5   RIDAGEMN  32591 non-null  float64\n",
      " 6   RIDAGEEX  28999 non-null  float64\n",
      " 7   RIDRETH1  70190 non-null  float64\n",
      " 8   DMQMILIT  18934 non-null  float64\n",
      " 9   DMDBORN   10348 non-null  float64\n",
      " 10  DMDCITZN  70163 non-null  float64\n",
      " 11  DMDYRSUS  13405 non-null  float64\n",
      " 12  DMDEDUC3  18882 non-null  float64\n",
      " 13  DMDEDUC2  39749 non-null  float64\n",
      " 14  DMDSCHOL  7807 non-null   float64\n",
      " 15  DMDMARTL  41468 non-null  float64\n",
      " 16  DMDHHSIZ  70190 non-null  float64\n",
      " 17  DMDFMSIZ  70190 non-null  float64\n",
      " 18  INDHHINC  10216 non-null  float64\n",
      " 19  INDFMINC  10238 non-null  float64\n",
      " 20  INDFMPIR  63858 non-null  float64\n",
      " 21  RIDEXPRG  10901 non-null  float64\n",
      " 22  DMDHRGND  70190 non-null  float64\n",
      " 23  DMDHRAGE  60936 non-null  float64\n",
      " 24  DMDHRBRN  10025 non-null  float64\n",
      " 25  DMDHREDU  59019 non-null  float64\n",
      " 26  DMDHRMAR  59816 non-null  float64\n",
      " 27  DMDHSEDU  31881 non-null  float64\n",
      " 28  SIALANG   70187 non-null  float64\n",
      " 29  SIAPROXY  70176 non-null  float64\n",
      " 30  SIAINTRP  70187 non-null  float64\n",
      " 31  FIALANG   68852 non-null  float64\n",
      " 32  FIAPROXY  68852 non-null  float64\n",
      " 33  FIAINTRP  68852 non-null  float64\n",
      " 34  MIALANG   49326 non-null  float64\n",
      " 35  MIAPROXY  49328 non-null  float64\n",
      " 36  MIAINTRP  49328 non-null  float64\n",
      " 37  AIALANG   20547 non-null  float64\n",
      " 38  WTINT2YR  70190 non-null  float64\n",
      " 39  WTMEC2YR  70190 non-null  float64\n",
      " 40  SDMVPSU   70190 non-null  float64\n",
      " 41  SDMVSTRA  70190 non-null  float64\n",
      " 42  DMDBORN2  20686 non-null  float64\n",
      " 43  INDHHIN2  58628 non-null  float64\n",
      " 44  INDFMIN2  58699 non-null  float64\n",
      " 45  DMDHRBR2  20141 non-null  float64\n",
      " 46  RIDRETH3  39156 non-null  float64\n",
      " 47  RIDEXAGY  3418 non-null   float64\n",
      " 48  RIDEXAGM  15715 non-null  float64\n",
      " 49  DMQMILIZ  24421 non-null  float64\n",
      " 50  DMQADFC   2182 non-null   float64\n",
      " 51  DMDBORN4  39156 non-null  float64\n",
      " 52  AIALANGA  23010 non-null  float64\n",
      " 53  DMDHHSZA  39156 non-null  float64\n",
      " 54  DMDHHSZB  39156 non-null  float64\n",
      " 55  DMDHHSZE  39156 non-null  float64\n",
      " 56  DMDHRBR4  28844 non-null  float64\n",
      " 57  DMDHRAGZ  9254 non-null   float64\n",
      " 58  DMDHREDZ  8764 non-null   float64\n",
      " 59  DMDHRMAZ  9063 non-null   float64\n",
      " 60  DMDHSEDZ  4751 non-null   float64\n",
      "dtypes: float64(61)\n",
      "memory usage: 33.2 MB\n"
     ]
    }
   ],
   "source": [
    "# Checking the columns and entries\n",
    "df_demo.info()"
   ]
  },
  {
   "cell_type": "code",
   "execution_count": 39,
   "metadata": {
    "ExecuteTime": {
     "end_time": "2021-01-31T06:53:36.706292Z",
     "start_time": "2021-01-31T06:53:36.559908Z"
    }
   },
   "outputs": [
    {
     "data": {
      "text/plain": [
       "Index(['AIALANG', 'AIALANGA', 'DMDBORN', 'DMDBORN2', 'DMDBORN4', 'DMDCITZN',\n",
       "       'DMDEDUC2', 'DMDEDUC3', 'DMDFMSIZ', 'DMDHHSIZ', 'DMDHHSZA', 'DMDHHSZB',\n",
       "       'DMDHHSZE', 'DMDHRAGE', 'DMDHRAGZ', 'DMDHRBR2', 'DMDHRBR4', 'DMDHRBRN',\n",
       "       'DMDHREDU', 'DMDHREDZ', 'DMDHRGND', 'DMDHRMAR', 'DMDHRMAZ', 'DMDHSEDU',\n",
       "       'DMDHSEDZ', 'DMDMARTL', 'DMDSCHOL', 'DMDYRSUS', 'DMQADFC', 'DMQMILIT',\n",
       "       'DMQMILIZ', 'FIAINTRP', 'FIALANG', 'FIAPROXY', 'INDFMIN2', 'INDFMINC',\n",
       "       'INDFMPIR', 'INDHHIN2', 'INDHHINC', 'MIAINTRP', 'MIALANG', 'MIAPROXY',\n",
       "       'RIAGENDR', 'RIDAGEEX', 'RIDAGEMN', 'RIDAGEYR', 'RIDEXAGM', 'RIDEXAGY',\n",
       "       'RIDEXMON', 'RIDEXPRG', 'RIDRETH1', 'RIDRETH3', 'RIDSTATR', 'SDDSRVYR',\n",
       "       'SDMVPSU', 'SDMVSTRA', 'SIAINTRP', 'SIALANG', 'SIAPROXY', 'WTINT2YR',\n",
       "       'WTMEC2YR'],\n",
       "      dtype='object')"
      ]
     },
     "execution_count": 39,
     "metadata": {},
     "output_type": "execute_result"
    }
   ],
   "source": [
    "# Creating a list of columns to check each one\n",
    "df_demo.columns.sort_values()"
   ]
  },
  {
   "cell_type": "code",
   "execution_count": 40,
   "metadata": {
    "ExecuteTime": {
     "end_time": "2021-01-31T06:53:36.880229Z",
     "start_time": "2021-01-31T06:53:36.711217Z"
    }
   },
   "outputs": [],
   "source": [
    "# Listing the columns to keep\n",
    "demo_tokeep = ['DMDBORN', 'DMDBORN2', 'DMDBORN4', 'DMDCITZN', 'DMDEDUC2', \n",
    "               'DMDHHSIZ', 'DMDMARTL', 'DMQMILIT', 'DMQMILIZ', 'INDHHIN2', \n",
    "               'INDHHINC', 'RIAGENDR', 'RIDAGEYR', 'RIDEXPRG', 'RIDRETH1']"
   ]
  },
  {
   "cell_type": "code",
   "execution_count": 41,
   "metadata": {
    "ExecuteTime": {
     "end_time": "2021-01-31T06:53:37.069632Z",
     "start_time": "2021-01-31T06:53:36.886308Z"
    }
   },
   "outputs": [
    {
     "data": {
      "text/markdown": [
       "```python\n",
       "def cols_tokeep(df, col_list):\n",
       "    '''\n",
       "    Makes a copy of the passed in DataFrame and drops all columns except those\n",
       "    specified in a list.\n",
       "    \n",
       "    Args:\n",
       "        df(DataFrame): DataFrame to take specific columns from.\n",
       "        col_list(list): List of columns in the DataFrame to be kept.\n",
       "    \n",
       "    Returns:\n",
       "        New DataFrame that has only the columns specified from the col_list.\n",
       "    \n",
       "    Example:\n",
       "        new_df = cols_tokeep(old_df, columns_list)\n",
       "    '''\n",
       "    df_copy = df.copy()\n",
       "    for col in df_copy.columns:\n",
       "        if col not in col_list:\n",
       "            df_copy.drop(columns=[col], inplace=True)\n",
       "        else:\n",
       "            pass\n",
       "    return df_copy\n",
       "\n",
       "```"
      ],
      "text/plain": [
       "<IPython.core.display.Markdown object>"
      ]
     },
     "metadata": {},
     "output_type": "display_data"
    }
   ],
   "source": [
    "# Looking at the function that creates a new DataFrame with the wanted columns\n",
    "func = inspect.getsource(pf.cols_tokeep)\n",
    "display(Markdown(\"```python\\n\"+func+\"\\n```\"))"
   ]
  },
  {
   "cell_type": "code",
   "execution_count": 42,
   "metadata": {
    "ExecuteTime": {
     "end_time": "2021-01-31T06:53:38.424275Z",
     "start_time": "2021-01-31T06:53:37.076725Z"
    }
   },
   "outputs": [],
   "source": [
    "# Creating the new DataFrame with only the wanted columns\n",
    "demo_clean = pf.cols_tokeep(df_demo, demo_tokeep)"
   ]
  },
  {
   "cell_type": "code",
   "execution_count": 43,
   "metadata": {
    "ExecuteTime": {
     "end_time": "2021-01-31T06:53:38.607321Z",
     "start_time": "2021-01-31T06:53:38.428244Z"
    }
   },
   "outputs": [
    {
     "data": {
      "text/html": [
       "<div>\n",
       "<style scoped>\n",
       "    .dataframe tbody tr th:only-of-type {\n",
       "        vertical-align: middle;\n",
       "    }\n",
       "\n",
       "    .dataframe tbody tr th {\n",
       "        vertical-align: top;\n",
       "    }\n",
       "\n",
       "    .dataframe thead th {\n",
       "        text-align: right;\n",
       "    }\n",
       "</style>\n",
       "<table border=\"1\" class=\"dataframe\">\n",
       "  <thead>\n",
       "    <tr style=\"text-align: right;\">\n",
       "      <th></th>\n",
       "      <th>RIAGENDR</th>\n",
       "      <th>RIDAGEYR</th>\n",
       "      <th>RIDRETH1</th>\n",
       "      <th>DMQMILIT</th>\n",
       "      <th>DMDBORN</th>\n",
       "      <th>DMDCITZN</th>\n",
       "      <th>DMDEDUC2</th>\n",
       "      <th>DMDMARTL</th>\n",
       "      <th>DMDHHSIZ</th>\n",
       "      <th>INDHHINC</th>\n",
       "      <th>RIDEXPRG</th>\n",
       "      <th>DMDBORN2</th>\n",
       "      <th>INDHHIN2</th>\n",
       "      <th>DMQMILIZ</th>\n",
       "      <th>DMDBORN4</th>\n",
       "    </tr>\n",
       "    <tr>\n",
       "      <th>SEQN</th>\n",
       "      <th></th>\n",
       "      <th></th>\n",
       "      <th></th>\n",
       "      <th></th>\n",
       "      <th></th>\n",
       "      <th></th>\n",
       "      <th></th>\n",
       "      <th></th>\n",
       "      <th></th>\n",
       "      <th></th>\n",
       "      <th></th>\n",
       "      <th></th>\n",
       "      <th></th>\n",
       "      <th></th>\n",
       "      <th></th>\n",
       "    </tr>\n",
       "  </thead>\n",
       "  <tbody>\n",
       "    <tr>\n",
       "      <th>31127</th>\n",
       "      <td>1.000</td>\n",
       "      <td>0.000</td>\n",
       "      <td>3.000</td>\n",
       "      <td>nan</td>\n",
       "      <td>1.000</td>\n",
       "      <td>1.000</td>\n",
       "      <td>nan</td>\n",
       "      <td>nan</td>\n",
       "      <td>4.000</td>\n",
       "      <td>4.000</td>\n",
       "      <td>nan</td>\n",
       "      <td>nan</td>\n",
       "      <td>nan</td>\n",
       "      <td>nan</td>\n",
       "      <td>nan</td>\n",
       "    </tr>\n",
       "    <tr>\n",
       "      <th>31128</th>\n",
       "      <td>2.000</td>\n",
       "      <td>11.000</td>\n",
       "      <td>4.000</td>\n",
       "      <td>nan</td>\n",
       "      <td>1.000</td>\n",
       "      <td>1.000</td>\n",
       "      <td>nan</td>\n",
       "      <td>nan</td>\n",
       "      <td>7.000</td>\n",
       "      <td>8.000</td>\n",
       "      <td>2.000</td>\n",
       "      <td>nan</td>\n",
       "      <td>nan</td>\n",
       "      <td>nan</td>\n",
       "      <td>nan</td>\n",
       "    </tr>\n",
       "    <tr>\n",
       "      <th>31129</th>\n",
       "      <td>1.000</td>\n",
       "      <td>15.000</td>\n",
       "      <td>4.000</td>\n",
       "      <td>nan</td>\n",
       "      <td>1.000</td>\n",
       "      <td>1.000</td>\n",
       "      <td>nan</td>\n",
       "      <td>5.000</td>\n",
       "      <td>6.000</td>\n",
       "      <td>10.000</td>\n",
       "      <td>nan</td>\n",
       "      <td>nan</td>\n",
       "      <td>nan</td>\n",
       "      <td>nan</td>\n",
       "      <td>nan</td>\n",
       "    </tr>\n",
       "    <tr>\n",
       "      <th>31130</th>\n",
       "      <td>2.000</td>\n",
       "      <td>85.000</td>\n",
       "      <td>3.000</td>\n",
       "      <td>2.000</td>\n",
       "      <td>1.000</td>\n",
       "      <td>1.000</td>\n",
       "      <td>4.000</td>\n",
       "      <td>2.000</td>\n",
       "      <td>1.000</td>\n",
       "      <td>4.000</td>\n",
       "      <td>nan</td>\n",
       "      <td>nan</td>\n",
       "      <td>nan</td>\n",
       "      <td>nan</td>\n",
       "      <td>nan</td>\n",
       "    </tr>\n",
       "    <tr>\n",
       "      <th>31131</th>\n",
       "      <td>2.000</td>\n",
       "      <td>44.000</td>\n",
       "      <td>4.000</td>\n",
       "      <td>2.000</td>\n",
       "      <td>1.000</td>\n",
       "      <td>1.000</td>\n",
       "      <td>4.000</td>\n",
       "      <td>1.000</td>\n",
       "      <td>4.000</td>\n",
       "      <td>11.000</td>\n",
       "      <td>2.000</td>\n",
       "      <td>nan</td>\n",
       "      <td>nan</td>\n",
       "      <td>nan</td>\n",
       "      <td>nan</td>\n",
       "    </tr>\n",
       "  </tbody>\n",
       "</table>\n",
       "</div>"
      ],
      "text/plain": [
       "       RIAGENDR  RIDAGEYR  RIDRETH1  ...  INDHHIN2  DMQMILIZ  DMDBORN4\n",
       "SEQN                                 ...                              \n",
       "31127     1.000     0.000     3.000  ...       nan       nan       nan\n",
       "31128     2.000    11.000     4.000  ...       nan       nan       nan\n",
       "31129     1.000    15.000     4.000  ...       nan       nan       nan\n",
       "31130     2.000    85.000     3.000  ...       nan       nan       nan\n",
       "31131     2.000    44.000     4.000  ...       nan       nan       nan\n",
       "\n",
       "[5 rows x 15 columns]"
      ]
     },
     "execution_count": 43,
     "metadata": {},
     "output_type": "execute_result"
    }
   ],
   "source": [
    "# Checking the new DataFrame\n",
    "demo_clean.head()"
   ]
  },
  {
   "cell_type": "code",
   "execution_count": 44,
   "metadata": {
    "ExecuteTime": {
     "end_time": "2021-01-31T06:53:38.764691Z",
     "start_time": "2021-01-31T06:53:38.611318Z"
    }
   },
   "outputs": [
    {
     "name": "stdout",
     "output_type": "stream",
     "text": [
      "<class 'pandas.core.frame.DataFrame'>\n",
      "Int64Index: 70190 entries, 31127 to 102956\n",
      "Data columns (total 15 columns):\n",
      " #   Column    Non-Null Count  Dtype  \n",
      "---  ------    --------------  -----  \n",
      " 0   RIAGENDR  70190 non-null  float64\n",
      " 1   RIDAGEYR  70190 non-null  float64\n",
      " 2   RIDRETH1  70190 non-null  float64\n",
      " 3   DMQMILIT  18934 non-null  float64\n",
      " 4   DMDBORN   10348 non-null  float64\n",
      " 5   DMDCITZN  70163 non-null  float64\n",
      " 6   DMDEDUC2  39749 non-null  float64\n",
      " 7   DMDMARTL  41468 non-null  float64\n",
      " 8   DMDHHSIZ  70190 non-null  float64\n",
      " 9   INDHHINC  10216 non-null  float64\n",
      " 10  RIDEXPRG  10901 non-null  float64\n",
      " 11  DMDBORN2  20686 non-null  float64\n",
      " 12  INDHHIN2  58628 non-null  float64\n",
      " 13  DMQMILIZ  24421 non-null  float64\n",
      " 14  DMDBORN4  39156 non-null  float64\n",
      "dtypes: float64(15)\n",
      "memory usage: 8.6 MB\n"
     ]
    }
   ],
   "source": [
    "# Checking the entries and columns\n",
    "demo_clean.info()"
   ]
  },
  {
   "cell_type": "code",
   "execution_count": 45,
   "metadata": {
    "ExecuteTime": {
     "end_time": "2021-01-31T06:53:38.900789Z",
     "start_time": "2021-01-31T06:53:38.768692Z"
    }
   },
   "outputs": [
    {
     "data": {
      "text/plain": [
       "Index(['DMDBORN', 'DMDBORN2', 'DMDBORN4', 'DMDCITZN', 'DMDEDUC2', 'DMDHHSIZ',\n",
       "       'DMDMARTL', 'DMQMILIT', 'DMQMILIZ', 'INDHHIN2', 'INDHHINC', 'RIAGENDR',\n",
       "       'RIDAGEYR', 'RIDEXPRG', 'RIDRETH1'],\n",
       "      dtype='object')"
      ]
     },
     "execution_count": 45,
     "metadata": {},
     "output_type": "execute_result"
    }
   ],
   "source": [
    "# Listing the columns to reference for cleaning\n",
    "demo_clean.columns.sort_values()"
   ]
  },
  {
   "cell_type": "markdown",
   "metadata": {},
   "source": [
    "## Birth Place"
   ]
  },
  {
   "cell_type": "markdown",
   "metadata": {},
   "source": [
    "The birth place question changed slightly over time but was still very similar. For these columns, the null values are filled with zeros then everything is added across the rows to a single column to combine all the values into one."
   ]
  },
  {
   "cell_type": "code",
   "execution_count": 46,
   "metadata": {
    "ExecuteTime": {
     "end_time": "2021-01-31T06:53:39.040788Z",
     "start_time": "2021-01-31T06:53:38.904797Z"
    }
   },
   "outputs": [
    {
     "data": {
      "text/plain": [
       "nan      59842\n",
       "1.000     8794\n",
       "2.000      961\n",
       "3.000      588\n",
       "7.000        5\n",
       "Name: DMDBORN, dtype: int64"
      ]
     },
     "execution_count": 46,
     "metadata": {},
     "output_type": "execute_result"
    }
   ],
   "source": [
    "# Checking column values\n",
    "demo_clean.DMDBORN.value_counts(dropna=False)"
   ]
  },
  {
   "cell_type": "code",
   "execution_count": 47,
   "metadata": {
    "ExecuteTime": {
     "end_time": "2021-01-31T06:53:39.194761Z",
     "start_time": "2021-01-31T06:53:39.045791Z"
    }
   },
   "outputs": [
    {
     "data": {
      "text/plain": [
       "nan      49504\n",
       "1.000    16938\n",
       "2.000     1550\n",
       "4.000     1120\n",
       "5.000     1065\n",
       "7.000       11\n",
       "9.000        2\n",
       "Name: DMDBORN2, dtype: int64"
      ]
     },
     "execution_count": 47,
     "metadata": {},
     "output_type": "execute_result"
    }
   ],
   "source": [
    "# Checking column values\n",
    "demo_clean.DMDBORN2.value_counts(dropna=False)"
   ]
  },
  {
   "cell_type": "code",
   "execution_count": 48,
   "metadata": {
    "ExecuteTime": {
     "end_time": "2021-01-31T06:53:39.338688Z",
     "start_time": "2021-01-31T06:53:39.200702Z"
    }
   },
   "outputs": [
    {
     "data": {
      "text/plain": [
       "nan       31034\n",
       "1.000     30966\n",
       "2.000      8175\n",
       "77.000        8\n",
       "99.000        7\n",
       "Name: DMDBORN4, dtype: int64"
      ]
     },
     "execution_count": 48,
     "metadata": {},
     "output_type": "execute_result"
    }
   ],
   "source": [
    "# Checking column values\n",
    "demo_clean.DMDBORN4.value_counts(dropna=False)"
   ]
  },
  {
   "cell_type": "code",
   "execution_count": 49,
   "metadata": {
    "ExecuteTime": {
     "end_time": "2021-01-31T06:53:39.476689Z",
     "start_time": "2021-01-31T06:53:39.343710Z"
    }
   },
   "outputs": [],
   "source": [
    "# Fill all null values with zero\n",
    "demo_clean.DMDBORN.fillna(0, inplace=True)\n",
    "demo_clean.DMDBORN2.fillna(0, inplace=True)\n",
    "demo_clean.DMDBORN4.fillna(0, inplace=True)"
   ]
  },
  {
   "cell_type": "code",
   "execution_count": 50,
   "metadata": {
    "ExecuteTime": {
     "end_time": "2021-01-31T06:53:39.613687Z",
     "start_time": "2021-01-31T06:53:39.481687Z"
    }
   },
   "outputs": [],
   "source": [
    "# Add all the columns together to get the values in one column\n",
    "demo_clean['birth_place'] = demo_clean['DMDBORN'] + demo_clean['DMDBORN2'] + demo_clean['DMDBORN4']"
   ]
  },
  {
   "cell_type": "code",
   "execution_count": 51,
   "metadata": {
    "ExecuteTime": {
     "end_time": "2021-01-31T06:53:39.805788Z",
     "start_time": "2021-01-31T06:53:39.618690Z"
    }
   },
   "outputs": [
    {
     "data": {
      "text/html": [
       "<div>\n",
       "<style scoped>\n",
       "    .dataframe tbody tr th:only-of-type {\n",
       "        vertical-align: middle;\n",
       "    }\n",
       "\n",
       "    .dataframe tbody tr th {\n",
       "        vertical-align: top;\n",
       "    }\n",
       "\n",
       "    .dataframe thead th {\n",
       "        text-align: right;\n",
       "    }\n",
       "</style>\n",
       "<table border=\"1\" class=\"dataframe\">\n",
       "  <thead>\n",
       "    <tr style=\"text-align: right;\">\n",
       "      <th></th>\n",
       "      <th>RIAGENDR</th>\n",
       "      <th>RIDAGEYR</th>\n",
       "      <th>RIDRETH1</th>\n",
       "      <th>DMQMILIT</th>\n",
       "      <th>DMDBORN</th>\n",
       "      <th>DMDCITZN</th>\n",
       "      <th>DMDEDUC2</th>\n",
       "      <th>DMDMARTL</th>\n",
       "      <th>DMDHHSIZ</th>\n",
       "      <th>INDHHINC</th>\n",
       "      <th>RIDEXPRG</th>\n",
       "      <th>DMDBORN2</th>\n",
       "      <th>INDHHIN2</th>\n",
       "      <th>DMQMILIZ</th>\n",
       "      <th>DMDBORN4</th>\n",
       "      <th>birth_place</th>\n",
       "    </tr>\n",
       "    <tr>\n",
       "      <th>SEQN</th>\n",
       "      <th></th>\n",
       "      <th></th>\n",
       "      <th></th>\n",
       "      <th></th>\n",
       "      <th></th>\n",
       "      <th></th>\n",
       "      <th></th>\n",
       "      <th></th>\n",
       "      <th></th>\n",
       "      <th></th>\n",
       "      <th></th>\n",
       "      <th></th>\n",
       "      <th></th>\n",
       "      <th></th>\n",
       "      <th></th>\n",
       "      <th></th>\n",
       "    </tr>\n",
       "  </thead>\n",
       "  <tbody>\n",
       "    <tr>\n",
       "      <th>31127</th>\n",
       "      <td>1.000</td>\n",
       "      <td>0.000</td>\n",
       "      <td>3.000</td>\n",
       "      <td>nan</td>\n",
       "      <td>1.000</td>\n",
       "      <td>1.000</td>\n",
       "      <td>nan</td>\n",
       "      <td>nan</td>\n",
       "      <td>4.000</td>\n",
       "      <td>4.000</td>\n",
       "      <td>nan</td>\n",
       "      <td>0.000</td>\n",
       "      <td>nan</td>\n",
       "      <td>nan</td>\n",
       "      <td>0.000</td>\n",
       "      <td>1.000</td>\n",
       "    </tr>\n",
       "    <tr>\n",
       "      <th>31128</th>\n",
       "      <td>2.000</td>\n",
       "      <td>11.000</td>\n",
       "      <td>4.000</td>\n",
       "      <td>nan</td>\n",
       "      <td>1.000</td>\n",
       "      <td>1.000</td>\n",
       "      <td>nan</td>\n",
       "      <td>nan</td>\n",
       "      <td>7.000</td>\n",
       "      <td>8.000</td>\n",
       "      <td>2.000</td>\n",
       "      <td>0.000</td>\n",
       "      <td>nan</td>\n",
       "      <td>nan</td>\n",
       "      <td>0.000</td>\n",
       "      <td>1.000</td>\n",
       "    </tr>\n",
       "    <tr>\n",
       "      <th>31129</th>\n",
       "      <td>1.000</td>\n",
       "      <td>15.000</td>\n",
       "      <td>4.000</td>\n",
       "      <td>nan</td>\n",
       "      <td>1.000</td>\n",
       "      <td>1.000</td>\n",
       "      <td>nan</td>\n",
       "      <td>5.000</td>\n",
       "      <td>6.000</td>\n",
       "      <td>10.000</td>\n",
       "      <td>nan</td>\n",
       "      <td>0.000</td>\n",
       "      <td>nan</td>\n",
       "      <td>nan</td>\n",
       "      <td>0.000</td>\n",
       "      <td>1.000</td>\n",
       "    </tr>\n",
       "    <tr>\n",
       "      <th>31130</th>\n",
       "      <td>2.000</td>\n",
       "      <td>85.000</td>\n",
       "      <td>3.000</td>\n",
       "      <td>2.000</td>\n",
       "      <td>1.000</td>\n",
       "      <td>1.000</td>\n",
       "      <td>4.000</td>\n",
       "      <td>2.000</td>\n",
       "      <td>1.000</td>\n",
       "      <td>4.000</td>\n",
       "      <td>nan</td>\n",
       "      <td>0.000</td>\n",
       "      <td>nan</td>\n",
       "      <td>nan</td>\n",
       "      <td>0.000</td>\n",
       "      <td>1.000</td>\n",
       "    </tr>\n",
       "    <tr>\n",
       "      <th>31131</th>\n",
       "      <td>2.000</td>\n",
       "      <td>44.000</td>\n",
       "      <td>4.000</td>\n",
       "      <td>2.000</td>\n",
       "      <td>1.000</td>\n",
       "      <td>1.000</td>\n",
       "      <td>4.000</td>\n",
       "      <td>1.000</td>\n",
       "      <td>4.000</td>\n",
       "      <td>11.000</td>\n",
       "      <td>2.000</td>\n",
       "      <td>0.000</td>\n",
       "      <td>nan</td>\n",
       "      <td>nan</td>\n",
       "      <td>0.000</td>\n",
       "      <td>1.000</td>\n",
       "    </tr>\n",
       "  </tbody>\n",
       "</table>\n",
       "</div>"
      ],
      "text/plain": [
       "       RIAGENDR  RIDAGEYR  RIDRETH1  ...  DMQMILIZ  DMDBORN4  birth_place\n",
       "SEQN                                 ...                                 \n",
       "31127     1.000     0.000     3.000  ...       nan     0.000        1.000\n",
       "31128     2.000    11.000     4.000  ...       nan     0.000        1.000\n",
       "31129     1.000    15.000     4.000  ...       nan     0.000        1.000\n",
       "31130     2.000    85.000     3.000  ...       nan     0.000        1.000\n",
       "31131     2.000    44.000     4.000  ...       nan     0.000        1.000\n",
       "\n",
       "[5 rows x 16 columns]"
      ]
     },
     "execution_count": 51,
     "metadata": {},
     "output_type": "execute_result"
    }
   ],
   "source": [
    "# Verify new column exists\n",
    "demo_clean.head()"
   ]
  },
  {
   "cell_type": "code",
   "execution_count": 52,
   "metadata": {
    "ExecuteTime": {
     "end_time": "2021-01-31T06:53:39.964687Z",
     "start_time": "2021-01-31T06:53:39.810710Z"
    }
   },
   "outputs": [
    {
     "data": {
      "text/plain": [
       "1.000     56698\n",
       "2.000     10686\n",
       "4.000      1120\n",
       "5.000      1065\n",
       "3.000       588\n",
       "7.000        16\n",
       "77.000        8\n",
       "99.000        7\n",
       "9.000         2\n",
       "Name: birth_place, dtype: int64"
      ]
     },
     "execution_count": 52,
     "metadata": {},
     "output_type": "execute_result"
    }
   ],
   "source": [
    "# Check values of new column to make sure everything is as expected\n",
    "demo_clean.birth_place.value_counts(dropna=False)"
   ]
  },
  {
   "cell_type": "code",
   "execution_count": 53,
   "metadata": {
    "ExecuteTime": {
     "end_time": "2021-01-31T06:53:40.124686Z",
     "start_time": "2021-01-31T06:53:39.968755Z"
    }
   },
   "outputs": [],
   "source": [
    "# Drop the old columns that are no longer needed\n",
    "demo_clean.drop(columns=['DMDBORN', 'DMDBORN2', 'DMDBORN4'], inplace=True)"
   ]
  },
  {
   "cell_type": "code",
   "execution_count": 54,
   "metadata": {
    "ExecuteTime": {
     "end_time": "2021-01-31T06:53:40.273790Z",
     "start_time": "2021-01-31T06:53:40.128686Z"
    }
   },
   "outputs": [
    {
     "name": "stdout",
     "output_type": "stream",
     "text": [
      "<class 'pandas.core.frame.DataFrame'>\n",
      "Int64Index: 70190 entries, 31127 to 102956\n",
      "Data columns (total 13 columns):\n",
      " #   Column       Non-Null Count  Dtype  \n",
      "---  ------       --------------  -----  \n",
      " 0   RIAGENDR     70190 non-null  float64\n",
      " 1   RIDAGEYR     70190 non-null  float64\n",
      " 2   RIDRETH1     70190 non-null  float64\n",
      " 3   DMQMILIT     18934 non-null  float64\n",
      " 4   DMDCITZN     70163 non-null  float64\n",
      " 5   DMDEDUC2     39749 non-null  float64\n",
      " 6   DMDMARTL     41468 non-null  float64\n",
      " 7   DMDHHSIZ     70190 non-null  float64\n",
      " 8   INDHHINC     10216 non-null  float64\n",
      " 9   RIDEXPRG     10901 non-null  float64\n",
      " 10  INDHHIN2     58628 non-null  float64\n",
      " 11  DMQMILIZ     24421 non-null  float64\n",
      " 12  birth_place  70190 non-null  float64\n",
      "dtypes: float64(13)\n",
      "memory usage: 7.5 MB\n"
     ]
    }
   ],
   "source": [
    "# Verifying the columns were dropped\n",
    "demo_clean.info()"
   ]
  },
  {
   "cell_type": "markdown",
   "metadata": {},
   "source": [
    "## Veteran"
   ]
  },
  {
   "cell_type": "markdown",
   "metadata": {},
   "source": [
    "The question about being a veteran changed slightly between years but was still similar enough to directly combine these columns. The null values are filled with zeros then everything is added across the rows to a single column to combine all the values into one."
   ]
  },
  {
   "cell_type": "code",
   "execution_count": 55,
   "metadata": {
    "ExecuteTime": {
     "end_time": "2021-01-31T06:53:40.421782Z",
     "start_time": "2021-01-31T06:53:40.277696Z"
    }
   },
   "outputs": [
    {
     "data": {
      "text/plain": [
       "nan      51256\n",
       "2.000    16685\n",
       "1.000     2242\n",
       "7.000        6\n",
       "9.000        1\n",
       "Name: DMQMILIT, dtype: int64"
      ]
     },
     "execution_count": 55,
     "metadata": {},
     "output_type": "execute_result"
    }
   ],
   "source": [
    "# Check column values\n",
    "demo_clean.DMQMILIT.value_counts(dropna=False)"
   ]
  },
  {
   "cell_type": "code",
   "execution_count": 56,
   "metadata": {
    "ExecuteTime": {
     "end_time": "2021-01-31T06:53:40.560709Z",
     "start_time": "2021-01-31T06:53:40.425709Z"
    }
   },
   "outputs": [
    {
     "data": {
      "text/plain": [
       "nan      45769\n",
       "2.000    22235\n",
       "1.000     2182\n",
       "7.000        3\n",
       "9.000        1\n",
       "Name: DMQMILIZ, dtype: int64"
      ]
     },
     "execution_count": 56,
     "metadata": {},
     "output_type": "execute_result"
    }
   ],
   "source": [
    "# Check column values\n",
    "demo_clean.DMQMILIZ.value_counts(dropna=False)"
   ]
  },
  {
   "cell_type": "code",
   "execution_count": 57,
   "metadata": {
    "ExecuteTime": {
     "end_time": "2021-01-31T06:53:40.700707Z",
     "start_time": "2021-01-31T06:53:40.564745Z"
    }
   },
   "outputs": [],
   "source": [
    "# Fill null values with zero\n",
    "demo_clean.DMQMILIT.fillna(0, inplace=True)\n",
    "demo_clean.DMQMILIZ.fillna(0, inplace=True)"
   ]
  },
  {
   "cell_type": "code",
   "execution_count": 58,
   "metadata": {
    "ExecuteTime": {
     "end_time": "2021-01-31T06:53:40.842199Z",
     "start_time": "2021-01-31T06:53:40.705706Z"
    }
   },
   "outputs": [],
   "source": [
    "# Add columns straight across into a new column\n",
    "demo_clean['veteran'] = demo_clean['DMQMILIT'] + demo_clean['DMQMILIZ']"
   ]
  },
  {
   "cell_type": "code",
   "execution_count": 59,
   "metadata": {
    "ExecuteTime": {
     "end_time": "2021-01-31T06:53:40.982673Z",
     "start_time": "2021-01-31T06:53:40.847197Z"
    }
   },
   "outputs": [
    {
     "data": {
      "text/plain": [
       "2.000    38920\n",
       "0.000    26835\n",
       "1.000     4424\n",
       "7.000        9\n",
       "9.000        2\n",
       "Name: veteran, dtype: int64"
      ]
     },
     "execution_count": 59,
     "metadata": {},
     "output_type": "execute_result"
    }
   ],
   "source": [
    "# Checking the values are as expected of the new column\n",
    "demo_clean.veteran.value_counts(dropna=False)"
   ]
  },
  {
   "cell_type": "code",
   "execution_count": 60,
   "metadata": {
    "ExecuteTime": {
     "end_time": "2021-01-31T06:53:41.143376Z",
     "start_time": "2021-01-31T06:53:40.986598Z"
    }
   },
   "outputs": [],
   "source": [
    "# Drop the old columns that are no longer needed\n",
    "demo_clean.drop(columns=['DMQMILIT', 'DMQMILIZ'], inplace=True)"
   ]
  },
  {
   "cell_type": "code",
   "execution_count": 61,
   "metadata": {
    "ExecuteTime": {
     "end_time": "2021-01-31T06:53:41.295376Z",
     "start_time": "2021-01-31T06:53:41.147327Z"
    }
   },
   "outputs": [
    {
     "name": "stdout",
     "output_type": "stream",
     "text": [
      "<class 'pandas.core.frame.DataFrame'>\n",
      "Int64Index: 70190 entries, 31127 to 102956\n",
      "Data columns (total 12 columns):\n",
      " #   Column       Non-Null Count  Dtype  \n",
      "---  ------       --------------  -----  \n",
      " 0   RIAGENDR     70190 non-null  float64\n",
      " 1   RIDAGEYR     70190 non-null  float64\n",
      " 2   RIDRETH1     70190 non-null  float64\n",
      " 3   DMDCITZN     70163 non-null  float64\n",
      " 4   DMDEDUC2     39749 non-null  float64\n",
      " 5   DMDMARTL     41468 non-null  float64\n",
      " 6   DMDHHSIZ     70190 non-null  float64\n",
      " 7   INDHHINC     10216 non-null  float64\n",
      " 8   RIDEXPRG     10901 non-null  float64\n",
      " 9   INDHHIN2     58628 non-null  float64\n",
      " 10  birth_place  70190 non-null  float64\n",
      " 11  veteran      70190 non-null  float64\n",
      "dtypes: float64(12)\n",
      "memory usage: 7.0 MB\n"
     ]
    }
   ],
   "source": [
    "# Checking the columns\n",
    "demo_clean.info()"
   ]
  },
  {
   "cell_type": "markdown",
   "metadata": {},
   "source": [
    "## Household Income"
   ]
  },
  {
   "cell_type": "markdown",
   "metadata": {},
   "source": [
    "The household income question had a change over time where more values were added in more recent year groups. While it is unfortunate that the greater granularity doesn't exist for all the years, these columns can still be added across the rows into one and the greater specificity will be kept for those entries that have it. The number values here represent income ranges and it will be left in this bucketed form for modeling."
   ]
  },
  {
   "cell_type": "code",
   "execution_count": 62,
   "metadata": {
    "ExecuteTime": {
     "end_time": "2021-01-31T06:53:41.448820Z",
     "start_time": "2021-01-31T06:53:41.300291Z"
    }
   },
   "outputs": [
    {
     "data": {
      "text/plain": [
       "nan       59974\n",
       "11.000     2195\n",
       "6.000      1331\n",
       "7.000       995\n",
       "8.000       922\n",
       "5.000       818\n",
       "3.000       803\n",
       "4.000       801\n",
       "9.000       619\n",
       "10.000      557\n",
       "2.000       428\n",
       "1.000       255\n",
       "12.000      186\n",
       "99.000      161\n",
       "13.000       74\n",
       "77.000       71\n",
       "Name: INDHHINC, dtype: int64"
      ]
     },
     "execution_count": 62,
     "metadata": {},
     "output_type": "execute_result"
    }
   ],
   "source": [
    "# Checking column values\n",
    "demo_clean.INDHHINC.value_counts(dropna=False)"
   ]
  },
  {
   "cell_type": "code",
   "execution_count": 63,
   "metadata": {
    "ExecuteTime": {
     "end_time": "2021-01-31T06:53:41.590526Z",
     "start_time": "2021-01-31T06:53:41.453823Z"
    }
   },
   "outputs": [
    {
     "data": {
      "text/plain": [
       "nan       11562\n",
       "15.000     9126\n",
       "6.000      6919\n",
       "7.000      5498\n",
       "14.000     5171\n",
       "5.000      4596\n",
       "8.000      4310\n",
       "4.000      4056\n",
       "3.000      3857\n",
       "9.000      3337\n",
       "10.000     2683\n",
       "2.000      2430\n",
       "12.000     2094\n",
       "1.000      1563\n",
       "77.000     1244\n",
       "99.000      987\n",
       "13.000      757\n",
       "Name: INDHHIN2, dtype: int64"
      ]
     },
     "execution_count": 63,
     "metadata": {},
     "output_type": "execute_result"
    }
   ],
   "source": [
    "# Checking column values\n",
    "demo_clean.INDHHIN2.value_counts(dropna=False)"
   ]
  },
  {
   "cell_type": "code",
   "execution_count": 64,
   "metadata": {
    "ExecuteTime": {
     "end_time": "2021-01-31T06:53:41.730589Z",
     "start_time": "2021-01-31T06:53:41.595625Z"
    }
   },
   "outputs": [],
   "source": [
    "# Fill all null values with zero\n",
    "demo_clean.INDHHINC.fillna(0, inplace=True)\n",
    "demo_clean.INDHHIN2.fillna(0, inplace=True)"
   ]
  },
  {
   "cell_type": "code",
   "execution_count": 65,
   "metadata": {
    "ExecuteTime": {
     "end_time": "2021-01-31T06:53:41.873596Z",
     "start_time": "2021-01-31T06:53:41.735590Z"
    }
   },
   "outputs": [],
   "source": [
    "# Add columns straight across into a new column\n",
    "demo_clean['household_income'] = demo_clean['INDHHINC'] + demo_clean['INDHHIN2']"
   ]
  },
  {
   "cell_type": "code",
   "execution_count": 66,
   "metadata": {
    "ExecuteTime": {
     "end_time": "2021-01-31T06:53:42.017156Z",
     "start_time": "2021-01-31T06:53:41.878603Z"
    }
   },
   "outputs": [
    {
     "data": {
      "text/plain": [
       "15.000    9126\n",
       "6.000     8250\n",
       "7.000     6493\n",
       "5.000     5414\n",
       "8.000     5232\n",
       "14.000    5171\n",
       "4.000     4857\n",
       "3.000     4660\n",
       "9.000     3956\n",
       "10.000    3240\n",
       "2.000     2858\n",
       "12.000    2280\n",
       "11.000    2195\n",
       "1.000     1818\n",
       "0.000     1346\n",
       "77.000    1315\n",
       "99.000    1148\n",
       "13.000     831\n",
       "Name: household_income, dtype: int64"
      ]
     },
     "execution_count": 66,
     "metadata": {},
     "output_type": "execute_result"
    }
   ],
   "source": [
    "# Checking that the values of the new column are as expected\n",
    "demo_clean.household_income.value_counts(dropna=False)"
   ]
  },
  {
   "cell_type": "code",
   "execution_count": 67,
   "metadata": {
    "ExecuteTime": {
     "end_time": "2021-01-31T06:53:42.175188Z",
     "start_time": "2021-01-31T06:53:42.021157Z"
    }
   },
   "outputs": [],
   "source": [
    "# Dropping the old columns that are no longer needed\n",
    "demo_clean.drop(columns=['INDHHINC', 'INDHHIN2'], inplace=True)"
   ]
  },
  {
   "cell_type": "code",
   "execution_count": 68,
   "metadata": {
    "ExecuteTime": {
     "end_time": "2021-01-31T06:53:42.340531Z",
     "start_time": "2021-01-31T06:53:42.179146Z"
    }
   },
   "outputs": [
    {
     "name": "stdout",
     "output_type": "stream",
     "text": [
      "<class 'pandas.core.frame.DataFrame'>\n",
      "Int64Index: 70190 entries, 31127 to 102956\n",
      "Data columns (total 11 columns):\n",
      " #   Column            Non-Null Count  Dtype  \n",
      "---  ------            --------------  -----  \n",
      " 0   RIAGENDR          70190 non-null  float64\n",
      " 1   RIDAGEYR          70190 non-null  float64\n",
      " 2   RIDRETH1          70190 non-null  float64\n",
      " 3   DMDCITZN          70163 non-null  float64\n",
      " 4   DMDEDUC2          39749 non-null  float64\n",
      " 5   DMDMARTL          41468 non-null  float64\n",
      " 6   DMDHHSIZ          70190 non-null  float64\n",
      " 7   RIDEXPRG          10901 non-null  float64\n",
      " 8   birth_place       70190 non-null  float64\n",
      " 9   veteran           70190 non-null  float64\n",
      " 10  household_income  70190 non-null  float64\n",
      "dtypes: float64(11)\n",
      "memory usage: 6.4 MB\n"
     ]
    }
   ],
   "source": [
    "# Verifying the columns\n",
    "demo_clean.info()"
   ]
  },
  {
   "cell_type": "markdown",
   "metadata": {},
   "source": [
    "## Renaming Columns"
   ]
  },
  {
   "cell_type": "markdown",
   "metadata": {},
   "source": [
    "The information of the columns can be looked up on the NHANES website, https://wwwn.cdc.gov/nchs/nhanes/default.aspx, using the \"Search Variables\" tool. Each column is renamed for readability."
   ]
  },
  {
   "cell_type": "code",
   "execution_count": 69,
   "metadata": {
    "ExecuteTime": {
     "end_time": "2021-01-31T06:53:42.515631Z",
     "start_time": "2021-01-31T06:53:42.345537Z"
    }
   },
   "outputs": [],
   "source": [
    "# Renaming columns\n",
    "demo_clean.rename(columns={'DMDCITZN': 'citizenship', \n",
    "                           'DMDEDUC2': 'education_level', \n",
    "                           'DMDHHSIZ': 'household_size', \n",
    "                           'DMDMARTL': 'marital_status', \n",
    "                           'RIAGENDR': 'gender', \n",
    "                           'RIDAGEYR': 'age', \n",
    "                           'RIDEXPRG': 'pregnant',\n",
    "                           'RIDRETH1': 'race'}, inplace=True)"
   ]
  },
  {
   "cell_type": "code",
   "execution_count": 70,
   "metadata": {
    "ExecuteTime": {
     "end_time": "2021-01-31T06:53:42.725129Z",
     "start_time": "2021-01-31T06:53:42.522629Z"
    }
   },
   "outputs": [
    {
     "name": "stdout",
     "output_type": "stream",
     "text": [
      "<class 'pandas.core.frame.DataFrame'>\n",
      "Int64Index: 70190 entries, 31127 to 102956\n",
      "Data columns (total 11 columns):\n",
      " #   Column            Non-Null Count  Dtype  \n",
      "---  ------            --------------  -----  \n",
      " 0   gender            70190 non-null  float64\n",
      " 1   age               70190 non-null  float64\n",
      " 2   race              70190 non-null  float64\n",
      " 3   citizenship       70163 non-null  float64\n",
      " 4   education_level   39749 non-null  float64\n",
      " 5   marital_status    41468 non-null  float64\n",
      " 6   household_size    70190 non-null  float64\n",
      " 7   pregnant          10901 non-null  float64\n",
      " 8   birth_place       70190 non-null  float64\n",
      " 9   veteran           70190 non-null  float64\n",
      " 10  household_income  70190 non-null  float64\n",
      "dtypes: float64(11)\n",
      "memory usage: 6.4 MB\n"
     ]
    }
   ],
   "source": [
    "# Checking new column names\n",
    "demo_clean.info()"
   ]
  },
  {
   "cell_type": "markdown",
   "metadata": {},
   "source": [
    "## Clean Column Values"
   ]
  },
  {
   "cell_type": "markdown",
   "metadata": {},
   "source": [
    " In an effort to emulate the way all information may not be available for every patient, missing values were filled as \"missing\" or 0. There are many instances in the fields where people were allowed to refuse to answer or answer with \"I don't know\". Such answers were treated as null values and filled with \"missing\" or 0. Because all the null values were filled the same way with no bearing on data leakage, this was done before the train-test split so it would only need to be handled on one set of data."
   ]
  },
  {
   "cell_type": "code",
   "execution_count": null,
   "metadata": {
    "ExecuteTime": {
     "start_time": "2021-01-31T06:53:27.777Z"
    }
   },
   "outputs": [
    {
     "data": {
      "image/png": "[encoded data removed]",
      "text/plain": [
       "<Figure size 1800x720 with 2 Axes>"
      ]
     },
     "metadata": {},
     "output_type": "display_data"
    }
   ],
   "source": [
    "# Visualizing null values\n",
    "ms.matrix(demo_clean);"
   ]
  },
  {
   "cell_type": "code",
   "execution_count": null,
   "metadata": {
    "ExecuteTime": {
     "start_time": "2021-01-31T06:53:27.788Z"
    }
   },
   "outputs": [],
   "source": [
    "# Checking all the value counts to see what needs to be fixed\n",
    "pf.val_counts(demo_clean)"
   ]
  },
  {
   "cell_type": "code",
   "execution_count": null,
   "metadata": {
    "ExecuteTime": {
     "start_time": "2021-01-31T06:53:27.799Z"
    }
   },
   "outputs": [],
   "source": [
    "# Changing the values of the gender column and casting as int type\n",
    "demo_clean['gender'].replace({2.000:1, 1.000:0}, inplace=True)\n",
    "demo_clean['gender'] = demo_clean['gender'].astype('int64')"
   ]
  },
  {
   "cell_type": "code",
   "execution_count": null,
   "metadata": {
    "ExecuteTime": {
     "start_time": "2021-01-31T06:53:27.810Z"
    }
   },
   "outputs": [],
   "source": [
    "# Checking column values\n",
    "demo_clean.gender.value_counts()"
   ]
  },
  {
   "cell_type": "code",
   "execution_count": null,
   "metadata": {
    "ExecuteTime": {
     "start_time": "2021-01-31T06:53:27.820Z"
    }
   },
   "outputs": [],
   "source": [
    "# Casting age column as int type\n",
    "demo_clean['age'] = demo_clean['age'].astype('int64')"
   ]
  },
  {
   "cell_type": "code",
   "execution_count": null,
   "metadata": {
    "ExecuteTime": {
     "start_time": "2021-01-31T06:53:27.831Z"
    }
   },
   "outputs": [],
   "source": [
    "# Filling in the names of the values for the race column\n",
    "demo_clean['race'].replace({1.000:'Mexican', \n",
    "                            2.000:'Other Hispanic', \n",
    "                            3.000:'White', \n",
    "                            4.000:'Black', \n",
    "                            5.000:'Other and Multiracial'}, \n",
    "                           inplace=True)"
   ]
  },
  {
   "cell_type": "code",
   "execution_count": null,
   "metadata": {
    "ExecuteTime": {
     "start_time": "2021-01-31T06:53:27.842Z"
    }
   },
   "outputs": [],
   "source": [
    "# Checking column values\n",
    "demo_clean.race.value_counts()"
   ]
  },
  {
   "cell_type": "code",
   "execution_count": null,
   "metadata": {
    "ExecuteTime": {
     "start_time": "2021-01-31T06:53:27.852Z"
    }
   },
   "outputs": [],
   "source": [
    "# Filling in the names of the values for the citizenship column\n",
    "demo_clean['citizenship'].replace({1.000:'Citizen', \n",
    "                                   2.000:'Not Citizen', \n",
    "                                   7.000:'Missing', \n",
    "                                   9.000:'Missing'}, \n",
    "                                  inplace=True)\n",
    "# Filling null values as missing\n",
    "demo_clean['citizenship'].fillna('Missing', inplace=True)"
   ]
  },
  {
   "cell_type": "code",
   "execution_count": null,
   "metadata": {
    "ExecuteTime": {
     "start_time": "2021-01-31T06:53:27.863Z"
    }
   },
   "outputs": [],
   "source": [
    "# Checking column values\n",
    "demo_clean.citizenship.value_counts(dropna=False)"
   ]
  },
  {
   "cell_type": "code",
   "execution_count": null,
   "metadata": {
    "ExecuteTime": {
     "start_time": "2021-01-31T06:53:27.874Z"
    }
   },
   "outputs": [],
   "source": [
    "# Filling in the names of the values for the education level column\n",
    "demo_clean['education_level'].replace({1.000:'Below 9th', \n",
    "                                       2.000:'9th to 11th', \n",
    "                                       3.000:'High School', \n",
    "                                       4.000:'Some College', \n",
    "                                       5.000:'College Graduate', \n",
    "                                       7.000:'Missing', \n",
    "                                       9.000:'Missing'}, \n",
    "                                      inplace=True)\n",
    "# Filling null values as missing\n",
    "demo_clean['education_level'].fillna('Missing', inplace=True)"
   ]
  },
  {
   "cell_type": "code",
   "execution_count": null,
   "metadata": {
    "ExecuteTime": {
     "start_time": "2021-01-31T06:53:27.885Z"
    }
   },
   "outputs": [],
   "source": [
    "# Checking column values\n",
    "demo_clean.education_level.value_counts(dropna=False)"
   ]
  },
  {
   "cell_type": "code",
   "execution_count": null,
   "metadata": {
    "ExecuteTime": {
     "start_time": "2021-01-31T06:53:27.897Z"
    }
   },
   "outputs": [],
   "source": [
    "# Filling in the names of the values for the marital status column\n",
    "demo_clean['marital_status'].replace({1.000:'Married', \n",
    "                                      2.000:'Widowed', \n",
    "                                      3.000:'Divorced', \n",
    "                                      4.000:'Separated', \n",
    "                                      5.000:'Never Married',\n",
    "                                      6.000:'Partner',\n",
    "                                      77.000:'Missing', \n",
    "                                      99.000:'Missing'}, \n",
    "                                      inplace=True)\n",
    "# Filling null values as missing\n",
    "demo_clean['marital_status'].fillna('Missing', inplace=True)"
   ]
  },
  {
   "cell_type": "code",
   "execution_count": null,
   "metadata": {
    "ExecuteTime": {
     "start_time": "2021-01-31T06:53:27.907Z"
    }
   },
   "outputs": [],
   "source": [
    "# Checking column values\n",
    "demo_clean.marital_status.value_counts(dropna=False)"
   ]
  },
  {
   "cell_type": "code",
   "execution_count": null,
   "metadata": {
    "ExecuteTime": {
     "start_time": "2021-01-31T06:53:27.917Z"
    }
   },
   "outputs": [],
   "source": [
    "# Casting household size column as int type\n",
    "demo_clean['household_size'] = demo_clean['household_size'].astype('int64')"
   ]
  },
  {
   "cell_type": "code",
   "execution_count": null,
   "metadata": {
    "ExecuteTime": {
     "start_time": "2021-01-31T06:53:27.927Z"
    }
   },
   "outputs": [],
   "source": [
    "# Filling in the names of the values for the pregnant column\n",
    "demo_clean['pregnant'].replace({1.000:'Yes', \n",
    "                                2.000:'No', \n",
    "                                3.000:'Missing'}, \n",
    "                                  inplace=True)\n",
    "# Filling null values as missing\n",
    "demo_clean['pregnant'].fillna('Missing', inplace=True)"
   ]
  },
  {
   "cell_type": "code",
   "execution_count": null,
   "metadata": {
    "ExecuteTime": {
     "start_time": "2021-01-31T06:53:27.938Z"
    }
   },
   "outputs": [],
   "source": [
    "# Checking column values\n",
    "demo_clean.pregnant.value_counts(dropna=False)"
   ]
  },
  {
   "cell_type": "code",
   "execution_count": null,
   "metadata": {
    "ExecuteTime": {
     "start_time": "2021-01-31T06:53:27.950Z"
    }
   },
   "outputs": [],
   "source": [
    "# Filling in the names of the values for the birth place column\n",
    "demo_clean['birth_place'].replace({1.000:'USA', \n",
    "                                   2.000:'Mexico', \n",
    "                                   3.000:'Elsewhere', \n",
    "                                   4.000:'Other Spanish Country', \n",
    "                                   5.000:'Other Non Spanish Country',\n",
    "                                   7.000:'Missing', \n",
    "                                   9.000:'Missing',\n",
    "                                   77.000:'Missing', \n",
    "                                   99.000:'Missing'}, \n",
    "                                    inplace=True)\n",
    "# Filling null values as missing\n",
    "demo_clean['birth_place'].fillna('Missing', inplace=True)"
   ]
  },
  {
   "cell_type": "code",
   "execution_count": null,
   "metadata": {
    "ExecuteTime": {
     "start_time": "2021-01-31T06:53:27.960Z"
    }
   },
   "outputs": [],
   "source": [
    "# Checking column values\n",
    "demo_clean.birth_place.value_counts(dropna=False)"
   ]
  },
  {
   "cell_type": "code",
   "execution_count": null,
   "metadata": {
    "ExecuteTime": {
     "start_time": "2021-01-31T06:53:27.971Z"
    }
   },
   "outputs": [],
   "source": [
    "# Filling in the names of the values for the veteran column\n",
    "demo_clean['veteran'].replace({1.000:'Yes', \n",
    "                               2.000:'No', \n",
    "                               7.000:'Missing', \n",
    "                               9.000:'Missing',\n",
    "                               0.000:'Missing'}, \n",
    "                                inplace=True)"
   ]
  },
  {
   "cell_type": "code",
   "execution_count": null,
   "metadata": {
    "ExecuteTime": {
     "start_time": "2021-01-31T06:53:27.983Z"
    }
   },
   "outputs": [],
   "source": [
    "# Checking column values\n",
    "demo_clean.veteran.value_counts(dropna=False)"
   ]
  },
  {
   "cell_type": "code",
   "execution_count": null,
   "metadata": {
    "ExecuteTime": {
     "start_time": "2021-01-31T06:53:27.994Z"
    }
   },
   "outputs": [],
   "source": [
    "# Fixing the values of the household income column\n",
    "demo_clean['household_income'].replace({12.000: 5, \n",
    "                                        13.000: 4,\n",
    "                                        14.000: 11,\n",
    "                                        15.000: 12,\n",
    "                                        77.000: 0, \n",
    "                                        99.000: 0}, \n",
    "                                        inplace=True)\n",
    "# Casting the household income column as int type\n",
    "demo_clean['household_income'] = demo_clean['household_income'].astype('int64')"
   ]
  },
  {
   "cell_type": "code",
   "execution_count": null,
   "metadata": {
    "ExecuteTime": {
     "start_time": "2021-01-31T06:53:28.006Z"
    }
   },
   "outputs": [],
   "source": [
    "# Checking column values\n",
    "demo_clean.household_income.value_counts(dropna=False)"
   ]
  },
  {
   "cell_type": "code",
   "execution_count": null,
   "metadata": {
    "ExecuteTime": {
     "start_time": "2021-01-31T06:53:28.016Z"
    }
   },
   "outputs": [],
   "source": [
    "# Checking that all null values were filled\n",
    "demo_clean.isna().sum()"
   ]
  },
  {
   "cell_type": "code",
   "execution_count": null,
   "metadata": {
    "ExecuteTime": {
     "start_time": "2021-01-31T06:53:28.026Z"
    }
   },
   "outputs": [],
   "source": [
    "# Checking columns\n",
    "demo_clean.info()"
   ]
  },
  {
   "cell_type": "markdown",
   "metadata": {},
   "source": [
    "# Medical Conditions"
   ]
  },
  {
   "cell_type": "markdown",
   "metadata": {},
   "source": [
    "The files gathered for this medical conditions data can be found on the NHANES website: https://wwwn.cdc.gov/nchs/nhanes/default.aspx. The exact files can be downloaded for each year group by selecting the year, choosing \"Questionnaire Data\", and clicking the link for the XPT file next to \"Medical Conditions\". Each column name can be looked up using the \"Search Variables\" tool on the NHANES website to see what the data represents."
   ]
  },
  {
   "cell_type": "code",
   "execution_count": null,
   "metadata": {
    "ExecuteTime": {
     "start_time": "2021-01-31T06:53:28.042Z"
    }
   },
   "outputs": [],
   "source": [
    "# Combining all the files for the medical conditions information\n",
    "path = r'Data/Conditions'\n",
    "df_medcond = pf.glob_concat(path, '*.XPT')"
   ]
  },
  {
   "cell_type": "code",
   "execution_count": null,
   "metadata": {
    "ExecuteTime": {
     "start_time": "2021-01-31T06:53:28.056Z"
    }
   },
   "outputs": [],
   "source": [
    "# Checking the dataframe\n",
    "df_medcond.head()"
   ]
  },
  {
   "cell_type": "code",
   "execution_count": null,
   "metadata": {
    "ExecuteTime": {
     "start_time": "2021-01-31T06:53:28.067Z"
    }
   },
   "outputs": [],
   "source": [
    "# Listing all the columns to look them up and see what to keep\n",
    "list(df_medcond.columns.sort_values())"
   ]
  },
  {
   "cell_type": "code",
   "execution_count": null,
   "metadata": {
    "ExecuteTime": {
     "start_time": "2021-01-31T06:53:28.079Z"
    }
   },
   "outputs": [],
   "source": [
    "# Listing the columns to keep\n",
    "medcond_tokeep = ['AGQ030', 'MCQ010', 'MCQ025', 'MCQ035', 'MCQ050', \n",
    "                  'MCQ053', 'MCQ080', 'MCQ092', 'MCQ160A', 'MCQ160B', \n",
    "                  'MCQ160C', 'MCQ160D', 'MCQ160E', 'MCQ160F', 'MCQ160G', \n",
    "                  'MCQ160K', 'MCQ160L', 'MCQ160M', 'MCQ170K', 'MCQ170L', \n",
    "                  'MCQ170M', 'MCQ180A', 'MCD180A', 'MCQ180B', 'MCD180B', \n",
    "                  'MCQ180C', 'MCD180C', 'MCQ180D', 'MCD180D', 'MCQ180E', \n",
    "                  'MCD180E', 'MCQ180F', 'MCD180F', 'MCQ180G', 'MCD180G', \n",
    "                  'MCQ180K', 'MCD180K', 'MCQ180L', 'MCD180L', 'MCQ180M', \n",
    "                  'MCD180M', 'MCQ190', 'MCQ191', 'MCQ195', 'MCQ220', 'MCQ230A', \n",
    "                  'MCQ230B', 'MCQ230C', 'MCQ230D', 'MCQ240DK', 'MCD240A', \n",
    "                  'MCQ300A', 'MCQ300B', 'MCQ300C']\n",
    "\n",
    "len(medcond_tokeep)"
   ]
  },
  {
   "cell_type": "code",
   "execution_count": null,
   "metadata": {
    "ExecuteTime": {
     "start_time": "2021-01-31T06:53:28.093Z"
    }
   },
   "outputs": [],
   "source": [
    "# Creating new dataframe with only the desired columns\n",
    "medcond_clean = pf.cols_tokeep(df_medcond, medcond_tokeep)"
   ]
  },
  {
   "cell_type": "code",
   "execution_count": null,
   "metadata": {
    "ExecuteTime": {
     "start_time": "2021-01-31T06:53:28.106Z"
    }
   },
   "outputs": [],
   "source": [
    "# Checking info of new dataframe\n",
    "medcond_clean.info()"
   ]
  },
  {
   "cell_type": "markdown",
   "metadata": {},
   "source": [
    "## Onset Age Columns"
   ]
  },
  {
   "cell_type": "markdown",
   "metadata": {},
   "source": [
    "There are several questions about the age of onset for various conditions. The questions for these items changed slightly through the years so they need to be combined into one. By first creating a dictionary of the paired columns and conditions that they represent, all of these columns can be cleaned at once. \n",
    "\n",
    "The information of the columns can be looked up on the NHANES website, https://wwwn.cdc.gov/nchs/nhanes/default.aspx, using the \"Search Variables\" tool. \n"
   ]
  },
  {
   "cell_type": "code",
   "execution_count": null,
   "metadata": {
    "ExecuteTime": {
     "start_time": "2021-01-31T06:53:28.121Z"
    },
    "code_folding": []
   },
   "outputs": [],
   "source": [
    "# Pairing up the columns that ask the onset of the same conditions\n",
    "col_pairs = [('MCD180A', 'MCQ180A'), \n",
    "             ('MCD180B', 'MCQ180B'), \n",
    "             ('MCD180C', 'MCQ180C'), \n",
    "             ('MCD180D', 'MCQ180D'), \n",
    "             ('MCD180E', 'MCQ180E'), \n",
    "             ('MCD180F', 'MCQ180F'), \n",
    "             ('MCD180G', 'MCQ180G'), \n",
    "             ('MCD180K', 'MCQ180K'), \n",
    "             ('MCD180L', 'MCQ180L'), \n",
    "             ('MCD180M', 'MCQ180M'), \n",
    "             ('MCD240A', 'MCQ240DK')]"
   ]
  },
  {
   "cell_type": "code",
   "execution_count": null,
   "metadata": {
    "ExecuteTime": {
     "start_time": "2021-01-31T06:53:28.133Z"
    }
   },
   "outputs": [],
   "source": [
    "# Listing the conditions to zip together with the column names\n",
    "col_disease = ['arthritis', 'heart_failure', 'heart_disease', 'angina', \n",
    "              'heart_attack', 'stroke', 'emphysema', 'bronchitis', \n",
    "              'liver_condition', 'thyroid_problem', 'cancer']"
   ]
  },
  {
   "cell_type": "code",
   "execution_count": null,
   "metadata": {
    "ExecuteTime": {
     "start_time": "2021-01-31T06:53:28.145Z"
    },
    "scrolled": true
   },
   "outputs": [],
   "source": [
    "# Creating the dictionary\n",
    "disease_dict = dict(zip(col_disease, col_pairs))\n",
    "disease_dict"
   ]
  },
  {
   "cell_type": "code",
   "execution_count": null,
   "metadata": {
    "ExecuteTime": {
     "start_time": "2021-01-31T06:53:28.157Z"
    },
    "scrolled": false
   },
   "outputs": [],
   "source": [
    "# Loop through each item in the dictionary\n",
    "for key in disease_dict:\n",
    "#    Loop through both of the paired column names\n",
    "\n",
    "    for item in disease_dict[key]:\n",
    "#        Fill null and replace the \"missing\" and \"I don't know\" answers with zero\n",
    "        medcond_clean[item].fillna(0, inplace=True)\n",
    "        medcond_clean[item] = medcond_clean[item].replace(99999, 0)\n",
    "        medcond_clean[item] = medcond_clean[item].replace(77777, 0)\n",
    "        \n",
    "#    Combining the two columns for each of the conditions into a new column\n",
    "    medcond_clean[f'{key}_onset'] = medcond_clean[disease_dict[key][0]] + medcond_clean[disease_dict[key][1]]\n",
    "#    Casting to int type\n",
    "    medcond_clean[f'{key}_onset'] = medcond_clean[f'{key}_onset'].astype('int64')\n",
    "#    Dropping the old columns from the dataframe\n",
    "    medcond_clean.drop(columns=[disease_dict[key][0], disease_dict[key][1]], \n",
    "                       inplace=True)   "
   ]
  },
  {
   "cell_type": "code",
   "execution_count": null,
   "metadata": {
    "ExecuteTime": {
     "start_time": "2021-01-31T06:53:28.168Z"
    }
   },
   "outputs": [],
   "source": [
    "# Checking columns\n",
    "medcond_clean.info()"
   ]
  },
  {
   "cell_type": "code",
   "execution_count": null,
   "metadata": {
    "ExecuteTime": {
     "start_time": "2021-01-31T06:53:28.184Z"
    }
   },
   "outputs": [],
   "source": [
    "medcond_clean.head()"
   ]
  },
  {
   "cell_type": "markdown",
   "metadata": {},
   "source": [
    "## Arthritis Type Columns"
   ]
  },
  {
   "cell_type": "markdown",
   "metadata": {},
   "source": [
    "The arthritis type question changed slightly over time but was still very similar. For these columns, the null values are filled with empty strings so that everything can then be added across the rows to a single column to combine all the values into one.\n",
    "\n",
    "The information of the columns can be looked up on the NHANES website, https://wwwn.cdc.gov/nchs/nhanes/default.aspx, using the \"Search Variables\" tool. "
   ]
  },
  {
   "cell_type": "code",
   "execution_count": null,
   "metadata": {
    "ExecuteTime": {
     "start_time": "2021-01-31T06:53:28.201Z"
    }
   },
   "outputs": [],
   "source": [
    "# Checking column values\n",
    "medcond_clean['MCQ190'].value_counts(dropna=False)"
   ]
  },
  {
   "cell_type": "code",
   "execution_count": null,
   "metadata": {
    "ExecuteTime": {
     "start_time": "2021-01-31T06:53:28.212Z"
    }
   },
   "outputs": [],
   "source": [
    "# Renaming values\n",
    "medcond_clean['MCQ190'].replace({1.000:'Rheumatoid', \n",
    "                                2.000:'Osteoarthritis', \n",
    "                                3.000:'Other', \n",
    "                                7.000:'Missing', \n",
    "                                9.000:'Missing'}, \n",
    "                               inplace=True)"
   ]
  },
  {
   "cell_type": "code",
   "execution_count": null,
   "metadata": {
    "ExecuteTime": {
     "start_time": "2021-01-31T06:53:28.224Z"
    }
   },
   "outputs": [],
   "source": [
    "# Filling null values with empty strings\n",
    "medcond_clean['MCQ190'].fillna('', inplace=True)"
   ]
  },
  {
   "cell_type": "code",
   "execution_count": null,
   "metadata": {
    "ExecuteTime": {
     "start_time": "2021-01-31T06:53:28.235Z"
    }
   },
   "outputs": [],
   "source": [
    "# Checking column values\n",
    "medcond_clean['MCQ190'].value_counts(dropna=False)"
   ]
  },
  {
   "cell_type": "code",
   "execution_count": null,
   "metadata": {
    "ExecuteTime": {
     "start_time": "2021-01-31T06:53:28.247Z"
    }
   },
   "outputs": [],
   "source": [
    "# Checking column values\n",
    "medcond_clean['MCQ191'].value_counts(dropna=False)"
   ]
  },
  {
   "cell_type": "code",
   "execution_count": null,
   "metadata": {
    "ExecuteTime": {
     "start_time": "2021-01-31T06:53:28.257Z"
    }
   },
   "outputs": [],
   "source": [
    "# Renaming values\n",
    "medcond_clean['MCQ191'].replace({1.000:'Rheumatoid', \n",
    "                                2.000:'Osteoarthritis', \n",
    "                                3.000:'Psoriatic',\n",
    "                                4.000:'Other',\n",
    "                                7.000:'Missing', \n",
    "                                9.000:'Missing'}, \n",
    "                               inplace=True)"
   ]
  },
  {
   "cell_type": "code",
   "execution_count": null,
   "metadata": {
    "ExecuteTime": {
     "start_time": "2021-01-31T06:53:28.269Z"
    }
   },
   "outputs": [],
   "source": [
    "# Filling null values with empty strings\n",
    "medcond_clean['MCQ191'].fillna('', inplace=True)"
   ]
  },
  {
   "cell_type": "code",
   "execution_count": null,
   "metadata": {
    "ExecuteTime": {
     "start_time": "2021-01-31T06:53:28.280Z"
    }
   },
   "outputs": [],
   "source": [
    "# Checking column values\n",
    "medcond_clean['MCQ191'].value_counts(dropna=False)"
   ]
  },
  {
   "cell_type": "code",
   "execution_count": null,
   "metadata": {
    "ExecuteTime": {
     "start_time": "2021-01-31T06:53:28.295Z"
    }
   },
   "outputs": [],
   "source": [
    "# Checking column values\n",
    "medcond_clean['MCQ195'].value_counts(dropna=False)"
   ]
  },
  {
   "cell_type": "code",
   "execution_count": null,
   "metadata": {
    "ExecuteTime": {
     "start_time": "2021-01-31T06:53:28.306Z"
    }
   },
   "outputs": [],
   "source": [
    "# Renaming values\n",
    "medcond_clean['MCQ195'].replace({1.000:'Osteoarthritis', \n",
    "                                2.000:'Rheumatoid', \n",
    "                                3.000:'Psoriatic',\n",
    "                                4.000:'Other',\n",
    "                                7.000:'Missing', \n",
    "                                9.000:'Missing'}, \n",
    "                               inplace=True)"
   ]
  },
  {
   "cell_type": "code",
   "execution_count": null,
   "metadata": {
    "ExecuteTime": {
     "start_time": "2021-01-31T06:53:28.317Z"
    }
   },
   "outputs": [],
   "source": [
    "# Filling null values with empty strings\n",
    "medcond_clean['MCQ195'].fillna('', inplace=True)"
   ]
  },
  {
   "cell_type": "code",
   "execution_count": null,
   "metadata": {
    "ExecuteTime": {
     "start_time": "2021-01-31T06:53:28.330Z"
    }
   },
   "outputs": [],
   "source": [
    "# Checking column values\n",
    "medcond_clean['MCQ195'].value_counts(dropna=False)"
   ]
  },
  {
   "cell_type": "code",
   "execution_count": null,
   "metadata": {
    "ExecuteTime": {
     "start_time": "2021-01-31T06:53:28.341Z"
    }
   },
   "outputs": [],
   "source": [
    "# Creating new column by adding the others together\n",
    "medcond_clean['arthritis_type'] = medcond_clean['MCQ190'] + medcond_clean['MCQ191'] + medcond_clean['MCQ195']"
   ]
  },
  {
   "cell_type": "code",
   "execution_count": null,
   "metadata": {
    "ExecuteTime": {
     "start_time": "2021-01-31T06:53:28.351Z"
    }
   },
   "outputs": [],
   "source": [
    "# Checking column values are as expected\n",
    "medcond_clean['arthritis_type'].value_counts(dropna=False)"
   ]
  },
  {
   "cell_type": "code",
   "execution_count": null,
   "metadata": {
    "ExecuteTime": {
     "start_time": "2021-01-31T06:53:28.362Z"
    }
   },
   "outputs": [],
   "source": [
    "# Replace empty strings with Missing\n",
    "medcond_clean['arthritis_type'] = medcond_clean['arthritis_type'].replace('', 'Missing')"
   ]
  },
  {
   "cell_type": "code",
   "execution_count": null,
   "metadata": {
    "ExecuteTime": {
     "start_time": "2021-01-31T06:53:28.373Z"
    }
   },
   "outputs": [],
   "source": [
    "# Checking column values\n",
    "medcond_clean['arthritis_type'].value_counts(dropna=False)"
   ]
  },
  {
   "cell_type": "code",
   "execution_count": null,
   "metadata": {
    "ExecuteTime": {
     "start_time": "2021-01-31T06:53:28.386Z"
    }
   },
   "outputs": [],
   "source": [
    "# Drop old columns that are no longer needed\n",
    "medcond_clean.drop(columns=['MCQ190', 'MCQ191', 'MCQ195'], inplace=True)  "
   ]
  },
  {
   "cell_type": "markdown",
   "metadata": {},
   "source": [
    "## Renaming Columns"
   ]
  },
  {
   "cell_type": "markdown",
   "metadata": {},
   "source": [
    "The information of the columns can be looked up on the NHANES website, https://wwwn.cdc.gov/nchs/nhanes/default.aspx, using the \"Search Variables\" tool. Each column is renamed for readability."
   ]
  },
  {
   "cell_type": "code",
   "execution_count": null,
   "metadata": {
    "ExecuteTime": {
     "start_time": "2021-01-31T06:53:28.402Z"
    },
    "scrolled": true
   },
   "outputs": [],
   "source": [
    "# Listing columns to see what needs to be renamed\n",
    "medcond_clean.columns"
   ]
  },
  {
   "cell_type": "code",
   "execution_count": null,
   "metadata": {
    "ExecuteTime": {
     "start_time": "2021-01-31T06:53:28.414Z"
    }
   },
   "outputs": [],
   "source": [
    "# Renaming columns\n",
    "medcond_clean.rename(columns={'MCQ010': 'asthma', \n",
    "                              'MCQ025': 'asthma_onset', \n",
    "                              'MCQ035': 'asthma_currently', \n",
    "                              'MCQ050': 'asthma_emergency', \n",
    "                              'MCQ053': 'anemia', \n",
    "                              'MCQ080': 'ever_overweight', \n",
    "                              'MCQ092': 'blood_transfusion',\n",
    "                              'MCQ160A': 'arthritis', \n",
    "                              'MCQ160B': 'heart_failure', \n",
    "                              'MCQ160C': 'heart_disease', \n",
    "                              'MCQ160D': 'angina', \n",
    "                              'MCQ160E': 'heart_attack', \n",
    "                              'MCQ160F': 'stroke', \n",
    "                              'MCQ160G': 'emphysema', \n",
    "                              'MCQ160K': 'bronchitis', \n",
    "                              'MCQ160L': 'liver_condition', \n",
    "                              'MCQ160M': 'thyroid_problem', \n",
    "                              'MCQ170K': 'bronchitis_currently', \n",
    "                              'MCQ170L': 'liver_condition_currently',\n",
    "                              'MCQ170M': 'thyroid_problem_currently',  \n",
    "                              'MCQ220': 'cancer', \n",
    "                              'MCQ230A': 'first_cancer_type', \n",
    "                              'MCQ230B': 'second_cancer_type', \n",
    "                              'MCQ230C': 'third_cancer_type',\n",
    "                              'MCQ230D': 'fourth_cancer_count', \n",
    "                              'MCQ300A': 'heart_attack_relative', \n",
    "                              'MCQ300B': 'asthma_relative', \n",
    "                              'MCQ300C': 'diabetes_relative', \n",
    "                              'AGQ030': 'hay_fever'\n",
    "                              }, inplace=True)"
   ]
  },
  {
   "cell_type": "code",
   "execution_count": null,
   "metadata": {
    "ExecuteTime": {
     "start_time": "2021-01-31T06:53:28.426Z"
    }
   },
   "outputs": [],
   "source": [
    "# Checking columns\n",
    "medcond_clean.info()"
   ]
  },
  {
   "cell_type": "markdown",
   "metadata": {},
   "source": [
    "## Clean Column Values"
   ]
  },
  {
   "cell_type": "markdown",
   "metadata": {},
   "source": [
    " In an effort to emulate the way all information may not be available for every patient, missing values were filled as \"missing\" or 0. There are many instances in the fields where people were allowed to refuse to answer or answer with \"I don't know\". Such answers were treated as null values and filled with \"missing\" or 0. Because all the null values were filled the same way with no bearing on data leakage, this was done before the train-test split so it would only need to be handled on one set of data."
   ]
  },
  {
   "cell_type": "code",
   "execution_count": null,
   "metadata": {
    "ExecuteTime": {
     "start_time": "2021-01-31T06:53:28.446Z"
    },
    "scrolled": true
   },
   "outputs": [],
   "source": [
    "# Checking column values\n",
    "pf.val_counts(medcond_clean)"
   ]
  },
  {
   "cell_type": "code",
   "execution_count": null,
   "metadata": {
    "ExecuteTime": {
     "start_time": "2021-01-31T06:53:28.458Z"
    }
   },
   "outputs": [],
   "source": [
    "# Listing columns that should have 0 or 1 values\n",
    "yes_no_cols = ['arthritis', 'heart_failure', 'heart_disease', 'angina', \n",
    "              'heart_attack', 'stroke', 'emphysema', 'bronchitis', \n",
    "              'liver_condition', 'thyroid_problem', 'cancer', 'asthma', \n",
    "              'anemia', 'blood_transfusion', 'heart_attack_relative', \n",
    "              'asthma_relative', 'diabetes_relative', 'hay_fever', \n",
    "              'ever_overweight', 'asthma_currently', 'asthma_emergency', \n",
    "              'bronchitis_currently', 'liver_condition_currently', \n",
    "              'thyroid_problem_currently']"
   ]
  },
  {
   "cell_type": "code",
   "execution_count": null,
   "metadata": {
    "ExecuteTime": {
     "start_time": "2021-01-31T06:53:28.468Z"
    }
   },
   "outputs": [],
   "source": [
    "# Looping through the list of columns\n",
    "for col in yes_no_cols:\n",
    "#     Replacing negative values with zeros\n",
    "    medcond_clean[col].replace({2.000: 0, \n",
    "                                 7.000: 0, \n",
    "                                 9.000: 0}, \n",
    "                                inplace=True)\n",
    "#     Filling null values\n",
    "    medcond_clean[col].fillna(0, inplace=True)\n",
    "#     Casting to int type\n",
    "    medcond_clean[col] = medcond_clean[col].astype('int64')"
   ]
  },
  {
   "cell_type": "code",
   "execution_count": null,
   "metadata": {
    "ExecuteTime": {
     "start_time": "2021-01-31T06:53:28.479Z"
    }
   },
   "outputs": [],
   "source": [
    "# Replacing values, filling nulls, and casting as int type\n",
    "medcond_clean['asthma_onset'].replace(99999, 0, inplace=True)\n",
    "medcond_clean['asthma_onset'].fillna(0, inplace=True)\n",
    "medcond_clean['asthma_onset'] = medcond_clean['asthma_onset'].astype('int64')"
   ]
  },
  {
   "cell_type": "code",
   "execution_count": null,
   "metadata": {
    "ExecuteTime": {
     "start_time": "2021-01-31T06:53:28.491Z"
    }
   },
   "outputs": [],
   "source": [
    "# Replacing values, filling nulls, and casting as int type\n",
    "medcond_clean['fourth_cancer_count'].replace(66.000, 1, inplace=True)\n",
    "medcond_clean['fourth_cancer_count'].fillna(0, inplace=True)\n",
    "medcond_clean['fourth_cancer_count'] = medcond_clean['fourth_cancer_count'].astype('int64')"
   ]
  },
  {
   "cell_type": "code",
   "execution_count": null,
   "metadata": {
    "ExecuteTime": {
     "start_time": "2021-01-31T06:53:28.508Z"
    }
   },
   "outputs": [],
   "source": [
    "# Checking that values are all fixed\n",
    "pf.val_counts(medcond_clean)"
   ]
  },
  {
   "cell_type": "markdown",
   "metadata": {},
   "source": [
    "## Cancer Types"
   ]
  },
  {
   "cell_type": "markdown",
   "metadata": {},
   "source": [
    "The cancer type columns recorded what kind of cancer people had. These columns were manipulated to create columns that were a count of whether people had had a first, second, or third cancer no matter what the type. That way, after one hot encoding the cancer type columns before modeling, the count information of a first, second, or third cancer would not be lost."
   ]
  },
  {
   "cell_type": "code",
   "execution_count": null,
   "metadata": {
    "ExecuteTime": {
     "start_time": "2021-01-31T06:53:28.524Z"
    }
   },
   "outputs": [],
   "source": [
    "# Filling the null values for all of the columns by looping through a list\n",
    "cancer_cols= ['first_cancer_type', 'second_cancer_type', 'third_cancer_type']\n",
    "for col in cancer_cols:\n",
    "    medcond_clean[col].fillna('None', inplace=True)"
   ]
  },
  {
   "cell_type": "code",
   "execution_count": null,
   "metadata": {
    "ExecuteTime": {
     "start_time": "2021-01-31T06:53:28.534Z"
    }
   },
   "outputs": [],
   "source": [
    "# Checking null values in the whole dataframe\n",
    "medcond_clean.isna().sum()"
   ]
  },
  {
   "cell_type": "code",
   "execution_count": null,
   "metadata": {
    "ExecuteTime": {
     "start_time": "2021-01-31T06:53:28.544Z"
    }
   },
   "outputs": [],
   "source": [
    "# Renaming the values for each cancer type they represent\n",
    "for col in cancer_cols:\n",
    "    medcond_clean[col].replace({10.000: 'Bladder', \n",
    "                                11.000: 'Blood', \n",
    "                                12.000: 'Bone', \n",
    "                                13.000: 'Brain', \n",
    "                                14.000: 'Breast', \n",
    "                                15.000: 'Cervical', \n",
    "                                16.000: 'Colon', \n",
    "                                17.000: 'Esophageal', \n",
    "                                18.000: 'Gallbladder',\n",
    "                                19.000: 'Kidney', \n",
    "                                20.000: 'Larynx', \n",
    "                                21.000: 'Leukemia', \n",
    "                                22.000: 'Liver', \n",
    "                                23.000: 'Lung', \n",
    "                                24.000: 'Lymphoma', \n",
    "                                25.000: 'Melanoma', \n",
    "                                26.000: 'Mouth',\n",
    "                                27.000: 'Nervous System', \n",
    "                                28.000: 'Ovarian', \n",
    "                                29.000: 'Pancreatic', \n",
    "                                30.000: 'Prostate',\n",
    "                                31.000: 'Rectal', \n",
    "                                32.000: 'Skin Non Melanoma', \n",
    "                                33.000: 'Skin Other', \n",
    "                                34.000: 'Soft Tissue', \n",
    "                                35.000: 'Stomach', \n",
    "                                36.000: 'Testicular', \n",
    "                                37.000: 'Thyroid', \n",
    "                                38.000: 'Uterine',\n",
    "                                39.000: 'Other', \n",
    "                                66.000: 'None', \n",
    "                                77.000: 'None', \n",
    "                                99.000: 'None',\n",
    "                                9.000: 'None'\n",
    "                               },\n",
    "                               inplace=True)"
   ]
  },
  {
   "cell_type": "code",
   "execution_count": null,
   "metadata": {
    "ExecuteTime": {
     "start_time": "2021-01-31T06:53:28.555Z"
    }
   },
   "outputs": [],
   "source": [
    "# Displaying the value counts for each of the columns\n",
    "for col in cancer_cols:\n",
    "    display(medcond_clean[col].value_counts(dropna=False))"
   ]
  },
  {
   "cell_type": "code",
   "execution_count": null,
   "metadata": {
    "ExecuteTime": {
     "start_time": "2021-01-31T06:53:28.565Z"
    }
   },
   "outputs": [],
   "source": [
    "# Displaying what the functions look like for capturing the count information\n",
    "func = inspect.getsource(pf.first_cancer_count)\n",
    "display(Markdown(\"```python\\n\"+func+\"\\n```\"))"
   ]
  },
  {
   "cell_type": "code",
   "execution_count": null,
   "metadata": {
    "ExecuteTime": {
     "start_time": "2021-01-31T06:53:28.575Z"
    }
   },
   "outputs": [],
   "source": [
    "# Applying the respective function on each of the columns\n",
    "medcond_clean['first_cancer_count'] = medcond_clean.apply(pf.first_cancer_count, axis=1)\n",
    "medcond_clean['second_cancer_count'] = medcond_clean.apply(pf.second_cancer_count, axis=1)\n",
    "medcond_clean['third_cancer_count'] = medcond_clean.apply(pf.third_cancer_count, axis=1)"
   ]
  },
  {
   "cell_type": "code",
   "execution_count": null,
   "metadata": {
    "ExecuteTime": {
     "start_time": "2021-01-31T06:53:28.586Z"
    }
   },
   "outputs": [],
   "source": [
    "# Checking for the new columns\n",
    "medcond_clean.info()"
   ]
  },
  {
   "cell_type": "code",
   "execution_count": null,
   "metadata": {
    "ExecuteTime": {
     "start_time": "2021-01-31T06:53:28.597Z"
    }
   },
   "outputs": [],
   "source": [
    "# Checking the values are as expected\n",
    "medcond_clean.first_cancer_count.value_counts(dropna=False)"
   ]
  },
  {
   "cell_type": "code",
   "execution_count": null,
   "metadata": {
    "ExecuteTime": {
     "start_time": "2021-01-31T06:53:28.608Z"
    }
   },
   "outputs": [],
   "source": [
    "# Checking the values are as expected\n",
    "medcond_clean.second_cancer_count.value_counts(dropna=False)"
   ]
  },
  {
   "cell_type": "code",
   "execution_count": null,
   "metadata": {
    "ExecuteTime": {
     "start_time": "2021-01-31T06:53:28.618Z"
    }
   },
   "outputs": [],
   "source": [
    "# Checking the values are as expected\n",
    "medcond_clean.third_cancer_count.value_counts(dropna=False)"
   ]
  },
  {
   "cell_type": "code",
   "execution_count": null,
   "metadata": {
    "ExecuteTime": {
     "start_time": "2021-01-31T06:53:28.631Z"
    }
   },
   "outputs": [],
   "source": [
    "# Checking new dataframe\n",
    "medcond_clean.head()"
   ]
  },
  {
   "cell_type": "markdown",
   "metadata": {},
   "source": [
    "# Body Measures"
   ]
  },
  {
   "cell_type": "markdown",
   "metadata": {},
   "source": [
    "The files gathered for this body measures data can be found on the NHANES website: https://wwwn.cdc.gov/nchs/nhanes/default.aspx. The exact files can be downloaded for each year group by selecting the year, choosing \"Examination Data\", and clicking the link for the XPT file next to \"Body Measures\". Each column name can be looked up using the \"Search Variables\" tool on the NHANES website to see what the data represents.\n",
    "\n",
    "Data that was not consistent across years could not be used but there were some cases where questions changed but still were getting at the same information so such questions could be combined. Columns were renamed for readability and many values were renamed as well. In an effort to emulate the way all information may not be available for every patient, missing values were filled as \"missing\" or 0. There are many instances in the fields where people were allowed to refuse to answer or answer with \"I don't know\". Such answers were treated as null values and filled with \"missing\" or 0. Because all the null values were filled the same way with no bearing on data leakage, this was done before the train-test split so it would only need to be handled on one set of data.\n"
   ]
  },
  {
   "cell_type": "code",
   "execution_count": null,
   "metadata": {
    "ExecuteTime": {
     "start_time": "2021-01-31T06:53:28.647Z"
    }
   },
   "outputs": [],
   "source": [
    "# Combining all the files for the body measures information\n",
    "path = r'Data/BodyMeasures'\n",
    "df_body = pf.glob_concat(path, '*.XPT')"
   ]
  },
  {
   "cell_type": "code",
   "execution_count": null,
   "metadata": {
    "ExecuteTime": {
     "start_time": "2021-01-31T06:53:28.659Z"
    }
   },
   "outputs": [],
   "source": [
    "# Looking at the dataframe\n",
    "df_body.head()"
   ]
  },
  {
   "cell_type": "code",
   "execution_count": null,
   "metadata": {
    "ExecuteTime": {
     "start_time": "2021-01-31T06:53:28.670Z"
    }
   },
   "outputs": [],
   "source": [
    "# Listing all columns to look up each one and see what to keep\n",
    "list(df_body.columns.sort_values())"
   ]
  },
  {
   "cell_type": "code",
   "execution_count": null,
   "metadata": {
    "ExecuteTime": {
     "start_time": "2021-01-31T06:53:28.681Z"
    }
   },
   "outputs": [],
   "source": [
    "# Listing the columns to keep and creating a new dataframe with those columns\n",
    "body_tokeep = ['BMXBMI', 'BMXHT', 'BMXWT']\n",
    "body_clean = pf.cols_tokeep(df_body, body_tokeep)"
   ]
  },
  {
   "cell_type": "code",
   "execution_count": null,
   "metadata": {
    "ExecuteTime": {
     "start_time": "2021-01-31T06:53:28.693Z"
    }
   },
   "outputs": [],
   "source": [
    "body_clean.head()"
   ]
  },
  {
   "cell_type": "code",
   "execution_count": null,
   "metadata": {
    "ExecuteTime": {
     "start_time": "2021-01-31T06:53:28.706Z"
    }
   },
   "outputs": [],
   "source": [
    "body_clean.info()"
   ]
  },
  {
   "cell_type": "markdown",
   "metadata": {},
   "source": [
    "## Renaming Columns"
   ]
  },
  {
   "cell_type": "markdown",
   "metadata": {},
   "source": [
    "The information of the columns can be looked up on the NHANES website, https://wwwn.cdc.gov/nchs/nhanes/default.aspx, using the \"Search Variables\" tool. Each column is renamed for readability."
   ]
  },
  {
   "cell_type": "code",
   "execution_count": null,
   "metadata": {
    "ExecuteTime": {
     "start_time": "2021-01-31T06:53:28.722Z"
    }
   },
   "outputs": [],
   "source": [
    "# Renaming columns\n",
    "body_clean.rename(columns={'BMXWT': 'weight', \n",
    "                           'BMXHT': 'height', \n",
    "                           'BMXBMI': 'BMI', \n",
    "                          }, inplace=True)"
   ]
  },
  {
   "cell_type": "code",
   "execution_count": null,
   "metadata": {
    "ExecuteTime": {
     "start_time": "2021-01-31T06:53:28.732Z"
    }
   },
   "outputs": [],
   "source": [
    "# Checking columns\n",
    "body_clean.info()"
   ]
  },
  {
   "cell_type": "markdown",
   "metadata": {},
   "source": [
    "## Clean Column Values"
   ]
  },
  {
   "cell_type": "markdown",
   "metadata": {},
   "source": [
    "In an effort to emulate the way all information may not be available for every patient, missing values were filled as \"missing\" or 0. There are many instances in the fields where people were allowed to refuse to answer or answer with \"I don't know\". Such answers were treated as null values and filled with \"missing\" or 0. Because all the null values were filled the same way with no bearing on data leakage, this was done before the train-test split so it would only need to be handled on one set of data."
   ]
  },
  {
   "cell_type": "code",
   "execution_count": null,
   "metadata": {
    "ExecuteTime": {
     "start_time": "2021-01-31T06:53:28.766Z"
    }
   },
   "outputs": [],
   "source": [
    "# Looking at all column values\n",
    "pf.val_counts(body_clean)"
   ]
  },
  {
   "cell_type": "code",
   "execution_count": null,
   "metadata": {
    "ExecuteTime": {
     "start_time": "2021-01-31T06:53:28.779Z"
    }
   },
   "outputs": [],
   "source": [
    "# Filling null values with 0\n",
    "for col in body_clean.columns:\n",
    "    body_clean.fillna(0, inplace=True)"
   ]
  },
  {
   "cell_type": "code",
   "execution_count": null,
   "metadata": {
    "ExecuteTime": {
     "start_time": "2021-01-31T06:53:28.791Z"
    }
   },
   "outputs": [],
   "source": [
    "# Checking null values\n",
    "body_clean.info()"
   ]
  },
  {
   "cell_type": "code",
   "execution_count": null,
   "metadata": {
    "ExecuteTime": {
     "start_time": "2021-01-31T06:53:28.801Z"
    }
   },
   "outputs": [],
   "source": [
    "body_clean.head()"
   ]
  },
  {
   "cell_type": "markdown",
   "metadata": {},
   "source": [
    "# Blood Pressure"
   ]
  },
  {
   "cell_type": "markdown",
   "metadata": {},
   "source": [
    "The files gathered for this blood pressure data can be found on the NHANES website: https://wwwn.cdc.gov/nchs/nhanes/default.aspx. The exact files can be downloaded for each year group by selecting the year, choosing \"Examination Data\", and clicking the link for the XPT file next to \"Blood Pressure\". Each column name can be looked up using the \"Search Variables\" tool on the NHANES website to see what the data represents.\n",
    "\n",
    "Data that was not consistent across years could not be used but there were some cases where questions changed but still were getting at the same information so such questions could be combined. Columns were renamed for readability and many values were renamed as well. In an effort to emulate the way all information may not be available for every patient, missing values were filled as \"missing\" or 0. There are many instances in the fields where people were allowed to refuse to answer or answer with \"I don't know\". Such answers were treated as null values and filled with \"missing\" or 0. Because all the null values were filled the same way with no bearing on data leakage, this was done before the train-test split so it would only need to be handled on one set of data.\n"
   ]
  },
  {
   "cell_type": "code",
   "execution_count": null,
   "metadata": {
    "ExecuteTime": {
     "start_time": "2021-01-31T06:53:28.817Z"
    }
   },
   "outputs": [],
   "source": [
    "# Combining all the files for the blood pressure information\n",
    "path = r'Data/BloodPressure'\n",
    "df_blood = pf.glob_concat(path, '*.XPT')"
   ]
  },
  {
   "cell_type": "code",
   "execution_count": null,
   "metadata": {
    "ExecuteTime": {
     "start_time": "2021-01-31T06:53:28.828Z"
    }
   },
   "outputs": [],
   "source": [
    "# Checking the new dataframe\n",
    "df_blood.head()"
   ]
  },
  {
   "cell_type": "code",
   "execution_count": null,
   "metadata": {
    "ExecuteTime": {
     "start_time": "2021-01-31T06:53:28.838Z"
    }
   },
   "outputs": [],
   "source": [
    "# Listing all columns to look up each one and see what to keep\n",
    "list(df_blood.columns.sort_values())"
   ]
  },
  {
   "cell_type": "code",
   "execution_count": null,
   "metadata": {
    "ExecuteTime": {
     "start_time": "2021-01-31T06:53:28.850Z"
    }
   },
   "outputs": [],
   "source": [
    "# Listing the columns to keep and creating a new dataframe with those columns\n",
    "blood_tokeep = ['BPXPLS', 'BPXPULS', 'BPXDI1', 'BPXSY1']\n",
    "blood_clean = pf.cols_tokeep(df_blood, blood_tokeep)"
   ]
  },
  {
   "cell_type": "code",
   "execution_count": null,
   "metadata": {
    "ExecuteTime": {
     "start_time": "2021-01-31T06:53:28.862Z"
    }
   },
   "outputs": [],
   "source": [
    "# Checking the new dataframe\n",
    "blood_clean.head()"
   ]
  },
  {
   "cell_type": "code",
   "execution_count": null,
   "metadata": {
    "ExecuteTime": {
     "start_time": "2021-01-31T06:53:28.872Z"
    }
   },
   "outputs": [],
   "source": [
    "# Checking columns and null values\n",
    "blood_clean.info()"
   ]
  },
  {
   "cell_type": "markdown",
   "metadata": {},
   "source": [
    "## Renaming Columns"
   ]
  },
  {
   "cell_type": "markdown",
   "metadata": {},
   "source": [
    "The information of the columns can be looked up on the NHANES website, https://wwwn.cdc.gov/nchs/nhanes/default.aspx, using the \"Search Variables\" tool. Each column is renamed for readability."
   ]
  },
  {
   "cell_type": "code",
   "execution_count": null,
   "metadata": {
    "ExecuteTime": {
     "start_time": "2021-01-31T06:53:28.888Z"
    }
   },
   "outputs": [],
   "source": [
    "# Renaming the columns\n",
    "blood_clean.rename(columns={'BPXPLS': 'pulse', \n",
    "                           'BPXPULS': 'irregular_pulse', \n",
    "                           'BPXSY1': 'systolic', \n",
    "                           'BPXDI1': 'diastolic'\n",
    "                            }, inplace=True)"
   ]
  },
  {
   "cell_type": "code",
   "execution_count": null,
   "metadata": {
    "ExecuteTime": {
     "start_time": "2021-01-31T06:53:28.899Z"
    }
   },
   "outputs": [],
   "source": [
    "# Checking the columns\n",
    "blood_clean.info()"
   ]
  },
  {
   "cell_type": "markdown",
   "metadata": {},
   "source": [
    "## Clean Column Values"
   ]
  },
  {
   "cell_type": "markdown",
   "metadata": {},
   "source": [
    "In an effort to emulate the way all information may not be available for every patient, missing values were filled as \"missing\" or 0. There are many instances in the fields where people were allowed to refuse to answer or answer with \"I don't know\". Such answers were treated as null values and filled with \"missing\" or 0. Because all the null values were filled the same way with no bearing on data leakage, this was done before the train-test split so it would only need to be handled on one set of data."
   ]
  },
  {
   "cell_type": "code",
   "execution_count": null,
   "metadata": {
    "ExecuteTime": {
     "start_time": "2021-01-31T06:53:28.915Z"
    }
   },
   "outputs": [],
   "source": [
    "# Checking all the values of all the columns\n",
    "pf.val_counts(blood_clean)"
   ]
  },
  {
   "cell_type": "code",
   "execution_count": null,
   "metadata": {
    "ExecuteTime": {
     "start_time": "2021-01-31T06:53:28.926Z"
    }
   },
   "outputs": [],
   "source": [
    "# Remapping the values, filling null values, and casting as int type\n",
    "blood_clean['irregular_pulse'].replace({2.000: 1, 1.000: 0,}, inplace=True)\n",
    "blood_clean['irregular_pulse'].fillna(0, inplace=True)\n",
    "blood_clean['irregular_pulse'] = blood_clean['irregular_pulse'].astype('int64')"
   ]
  },
  {
   "cell_type": "code",
   "execution_count": null,
   "metadata": {
    "ExecuteTime": {
     "start_time": "2021-01-31T06:53:28.937Z"
    }
   },
   "outputs": [],
   "source": [
    "# Filling null values and casting as int type\n",
    "blood_clean['pulse'].fillna(0, inplace=True)\n",
    "blood_clean['pulse'] = blood_clean['pulse'].astype('int64')"
   ]
  },
  {
   "cell_type": "code",
   "execution_count": null,
   "metadata": {
    "ExecuteTime": {
     "start_time": "2021-01-31T06:53:28.947Z"
    }
   },
   "outputs": [],
   "source": [
    "# Filling null values and casting as int type\n",
    "blood_clean['systolic'].fillna(0, inplace=True)\n",
    "blood_clean['systolic'] = blood_clean['systolic'].astype('int64')"
   ]
  },
  {
   "cell_type": "code",
   "execution_count": null,
   "metadata": {
    "ExecuteTime": {
     "start_time": "2021-01-31T06:53:28.958Z"
    }
   },
   "outputs": [],
   "source": [
    "# Filling null values and casting as int type\n",
    "blood_clean['diastolic'].fillna(0, inplace=True)\n",
    "blood_clean['diastolic'] = blood_clean['diastolic'].astype('int64')"
   ]
  },
  {
   "cell_type": "code",
   "execution_count": null,
   "metadata": {
    "ExecuteTime": {
     "start_time": "2021-01-31T06:53:28.971Z"
    }
   },
   "outputs": [],
   "source": [
    "# Checking all values again\n",
    "pf.val_counts(blood_clean)"
   ]
  },
  {
   "cell_type": "code",
   "execution_count": null,
   "metadata": {
    "ExecuteTime": {
     "start_time": "2021-01-31T06:53:28.988Z"
    }
   },
   "outputs": [],
   "source": [
    "# Checking columns and null values\n",
    "blood_clean.info()"
   ]
  },
  {
   "cell_type": "code",
   "execution_count": null,
   "metadata": {
    "ExecuteTime": {
     "start_time": "2021-01-31T06:53:29.002Z"
    }
   },
   "outputs": [],
   "source": [
    "blood_clean.head()"
   ]
  },
  {
   "cell_type": "markdown",
   "metadata": {},
   "source": [
    "# Cholesterol"
   ]
  },
  {
   "cell_type": "markdown",
   "metadata": {},
   "source": [
    "The files gathered for this cholesterol data can be found on the NHANES website: https://wwwn.cdc.gov/nchs/nhanes/default.aspx. The exact files can be downloaded for each year group by selecting the year, choosing \"Laboratory Data\", and clicking the link for the XPT files next to \"Cholesterol - High - Density Lipoprotien(HDL)\", \"Cholesterol - Low-Density Lipoproteins(LDL) & Triglycerides\", and \"Cholesterol - Total\". Each column name can be looked up using the \"Search Variables\" tool on the NHANES website to see what the data represents.\n",
    "\n",
    "Data that was not consistent across years could not be used but there were some cases where questions changed but still were getting at the same information so such questions could be combined. Columns were renamed for readability and many values were renamed as well. In an effort to emulate the way all information may not be available for every patient, missing values were filled as \"missing\" or 0. There are many instances in the fields where people were allowed to refuse to answer or answer with \"I don't know\". Such answers were treated as null values and filled with \"missing\" or 0. Because all the null values were filled the same way with no bearing on data leakage, this was done before the train-test split so it would only need to be handled on one set of data.\n"
   ]
  },
  {
   "cell_type": "code",
   "execution_count": null,
   "metadata": {
    "ExecuteTime": {
     "start_time": "2021-01-31T06:53:29.019Z"
    }
   },
   "outputs": [],
   "source": [
    "# Combining all the files for the total cholesterol information\n",
    "path = r'Data/Cholesterol/Total'\n",
    "df_totchol = pf.glob_concat(path, '*.XPT')"
   ]
  },
  {
   "cell_type": "code",
   "execution_count": null,
   "metadata": {
    "ExecuteTime": {
     "start_time": "2021-01-31T06:53:29.029Z"
    }
   },
   "outputs": [],
   "source": [
    "# Checking the dataframe\n",
    "df_totchol.info()"
   ]
  },
  {
   "cell_type": "code",
   "execution_count": null,
   "metadata": {
    "ExecuteTime": {
     "start_time": "2021-01-31T06:53:29.040Z"
    }
   },
   "outputs": [],
   "source": [
    "df_totchol.head()"
   ]
  },
  {
   "cell_type": "code",
   "execution_count": null,
   "metadata": {
    "ExecuteTime": {
     "start_time": "2021-01-31T06:53:29.050Z"
    }
   },
   "outputs": [],
   "source": [
    "# Combining all the files for the HDL cholesterol information\n",
    "path = r'Data/Cholesterol/HDL'\n",
    "df_hdlchol = pf.glob_concat(path, '*.XPT')"
   ]
  },
  {
   "cell_type": "code",
   "execution_count": null,
   "metadata": {
    "ExecuteTime": {
     "start_time": "2021-01-31T06:53:29.060Z"
    }
   },
   "outputs": [],
   "source": [
    "# Checking the dataframe\n",
    "df_hdlchol.info()"
   ]
  },
  {
   "cell_type": "code",
   "execution_count": null,
   "metadata": {
    "ExecuteTime": {
     "start_time": "2021-01-31T06:53:29.070Z"
    }
   },
   "outputs": [],
   "source": [
    "df_hdlchol.head()"
   ]
  },
  {
   "cell_type": "code",
   "execution_count": null,
   "metadata": {
    "ExecuteTime": {
     "start_time": "2021-01-31T06:53:29.081Z"
    }
   },
   "outputs": [],
   "source": [
    "# Combining all the files for the LDL cholesterol information\n",
    "path = r'Data/Cholesterol/LDL'\n",
    "df_ldlchol = pf.glob_concat(path, '*.XPT')"
   ]
  },
  {
   "cell_type": "code",
   "execution_count": null,
   "metadata": {
    "ExecuteTime": {
     "start_time": "2021-01-31T06:53:29.091Z"
    }
   },
   "outputs": [],
   "source": [
    "# Checking the dataframe\n",
    "df_ldlchol.info()"
   ]
  },
  {
   "cell_type": "code",
   "execution_count": null,
   "metadata": {
    "ExecuteTime": {
     "start_time": "2021-01-31T06:53:29.102Z"
    }
   },
   "outputs": [],
   "source": [
    "df_ldlchol.head()"
   ]
  },
  {
   "cell_type": "code",
   "execution_count": null,
   "metadata": {
    "ExecuteTime": {
     "start_time": "2021-01-31T06:53:29.114Z"
    }
   },
   "outputs": [],
   "source": [
    "# Combining all three cholesterol related dataframes\n",
    "df_chol = pd.concat([df_totchol, df_hdlchol, df_ldlchol], axis=1)"
   ]
  },
  {
   "cell_type": "code",
   "execution_count": null,
   "metadata": {
    "ExecuteTime": {
     "start_time": "2021-01-31T06:53:29.125Z"
    }
   },
   "outputs": [],
   "source": [
    "df_chol.head()"
   ]
  },
  {
   "cell_type": "code",
   "execution_count": null,
   "metadata": {
    "ExecuteTime": {
     "start_time": "2021-01-31T06:53:29.135Z"
    }
   },
   "outputs": [],
   "source": [
    "# Checking the columns\n",
    "df_chol.info()"
   ]
  },
  {
   "cell_type": "code",
   "execution_count": null,
   "metadata": {
    "ExecuteTime": {
     "start_time": "2021-01-31T06:53:29.145Z"
    }
   },
   "outputs": [],
   "source": [
    "# Listing the columns to look each one up\n",
    "df_chol.columns"
   ]
  },
  {
   "cell_type": "code",
   "execution_count": null,
   "metadata": {
    "ExecuteTime": {
     "start_time": "2021-01-31T06:53:29.155Z"
    }
   },
   "outputs": [],
   "source": [
    "# Listing the columns to keep and creating a new dataframe\n",
    "chol_tokeep = ['LBXTC', 'LBDHDD', 'LBXTR', 'LBDLDL']\n",
    "chol_clean = pf.cols_tokeep(df_chol, chol_tokeep)"
   ]
  },
  {
   "cell_type": "code",
   "execution_count": null,
   "metadata": {
    "ExecuteTime": {
     "start_time": "2021-01-31T06:53:29.165Z"
    }
   },
   "outputs": [],
   "source": [
    "# Checking the new dataframe\n",
    "chol_clean.info()"
   ]
  },
  {
   "cell_type": "markdown",
   "metadata": {},
   "source": [
    "## Renaming Columns"
   ]
  },
  {
   "cell_type": "markdown",
   "metadata": {},
   "source": [
    "The information of the columns can be looked up on the NHANES website, https://wwwn.cdc.gov/nchs/nhanes/default.aspx, using the \"Search Variables\" tool. Each column is renamed for readability."
   ]
  },
  {
   "cell_type": "code",
   "execution_count": null,
   "metadata": {
    "ExecuteTime": {
     "start_time": "2021-01-31T06:53:29.179Z"
    }
   },
   "outputs": [],
   "source": [
    "# renaming the columns\n",
    "chol_clean.rename(columns={'LBXTC': 'total_cholesterol', \n",
    "                           'LBDHDD': 'HDL', \n",
    "                           'LBXTR': 'triglyceride', \n",
    "                           'LBDLDL': 'LDL'\n",
    "                            }, inplace=True)"
   ]
  },
  {
   "cell_type": "code",
   "execution_count": null,
   "metadata": {
    "ExecuteTime": {
     "start_time": "2021-01-31T06:53:29.189Z"
    }
   },
   "outputs": [],
   "source": [
    "# Checking the column names\n",
    "chol_clean.info()"
   ]
  },
  {
   "cell_type": "markdown",
   "metadata": {},
   "source": [
    "## Clean Column Values"
   ]
  },
  {
   "cell_type": "markdown",
   "metadata": {},
   "source": [
    "In an effort to emulate the way all information may not be available for every patient, missing values were filled as \"missing\" or 0. There are many instances in the fields where people were allowed to refuse to answer or answer with \"I don't know\". Such answers were treated as null values and filled with \"missing\" or 0. Because all the null values were filled the same way with no bearing on data leakage, this was done before the train-test split so it would only need to be handled on one set of data."
   ]
  },
  {
   "cell_type": "code",
   "execution_count": null,
   "metadata": {
    "ExecuteTime": {
     "start_time": "2021-01-31T06:53:29.205Z"
    }
   },
   "outputs": [],
   "source": [
    "# Checking the values of all the columns\n",
    "pf.val_counts(chol_clean)"
   ]
  },
  {
   "cell_type": "code",
   "execution_count": null,
   "metadata": {
    "ExecuteTime": {
     "start_time": "2021-01-31T06:53:29.215Z"
    }
   },
   "outputs": [],
   "source": [
    "# Filling all null values and casting as int type\n",
    "for col in chol_clean.columns:\n",
    "    chol_clean[col].fillna(0, inplace=True)\n",
    "    chol_clean[col] = chol_clean[col].astype('int64')"
   ]
  },
  {
   "cell_type": "code",
   "execution_count": null,
   "metadata": {
    "ExecuteTime": {
     "start_time": "2021-01-31T06:53:29.226Z"
    }
   },
   "outputs": [],
   "source": [
    "# Checking null values and data types\n",
    "chol_clean.info()"
   ]
  },
  {
   "cell_type": "code",
   "execution_count": null,
   "metadata": {
    "ExecuteTime": {
     "start_time": "2021-01-31T06:53:29.236Z"
    }
   },
   "outputs": [],
   "source": [
    "chol_clean.head()"
   ]
  },
  {
   "cell_type": "markdown",
   "metadata": {},
   "source": [
    "# Standard Biochemistry Profile"
   ]
  },
  {
   "cell_type": "markdown",
   "metadata": {},
   "source": [
    "The files gathered for this standard biochemistry profile data can be found on the NHANES website: https://wwwn.cdc.gov/nchs/nhanes/default.aspx. The exact files can be downloaded for each year group by selecting the year, choosing \"Laboratory Data\", and clicking the link for the XPT file next to \"Standard Biochemistry Profile\". Each column name can be looked up using the \"Search Variables\" tool on the NHANES website to see what the data represents.\n",
    "\n",
    "Data that was not consistent across years could not be used but there were some cases where questions changed but still were getting at the same information so such questions could be combined. Columns were renamed for readability and many values were renamed as well. In an effort to emulate the way all information may not be available for every patient, missing values were filled as \"missing\" or 0. There are many instances in the fields where people were allowed to refuse to answer or answer with \"I don't know\". Such answers were treated as null values and filled with \"missing\" or 0. Because all the null values were filled the same way with no bearing on data leakage, this was done before the train-test split so it would only need to be handled on one set of data.\n"
   ]
  },
  {
   "cell_type": "code",
   "execution_count": null,
   "metadata": {
    "ExecuteTime": {
     "start_time": "2021-01-31T06:53:29.250Z"
    }
   },
   "outputs": [],
   "source": [
    "# Combining all the files for the biochemistry information\n",
    "path = r'Data/BiochemistryProfile'\n",
    "df_biochem = pf.glob_concat(path, '*.XPT')"
   ]
  },
  {
   "cell_type": "code",
   "execution_count": null,
   "metadata": {
    "ExecuteTime": {
     "start_time": "2021-01-31T06:53:29.262Z"
    }
   },
   "outputs": [],
   "source": [
    "# Checking the dataframe\n",
    "df_biochem.head()"
   ]
  },
  {
   "cell_type": "code",
   "execution_count": null,
   "metadata": {
    "ExecuteTime": {
     "start_time": "2021-01-31T06:53:29.273Z"
    }
   },
   "outputs": [],
   "source": [
    "# Checking the info\n",
    "df_biochem.info()"
   ]
  },
  {
   "cell_type": "code",
   "execution_count": null,
   "metadata": {
    "ExecuteTime": {
     "start_time": "2021-01-31T06:53:29.284Z"
    }
   },
   "outputs": [],
   "source": [
    "# Listing the columns to look each one up\n",
    "df_biochem.columns"
   ]
  },
  {
   "cell_type": "code",
   "execution_count": null,
   "metadata": {
    "ExecuteTime": {
     "start_time": "2021-01-31T06:53:29.297Z"
    }
   },
   "outputs": [],
   "source": [
    "# Listing the columns to keep and creating a new dataframe\n",
    "biochem_tokeep = ['LBXSAL', 'LBXSATSI', 'LBXSASSI', 'LBXSAPSI', 'LBXSBU', \n",
    "                  'LBXSCA', 'LBXSC3SI', 'LBXSCR', 'LBXSGTSI', 'LBXSGL', \n",
    "                  'LBXSIR', 'LBXSLDSI', 'LBXSPH', 'LBXSTB', 'LBXSTP', 'LBXSUA', \n",
    "                  'LBXSNASI', 'LBXSKSI', 'LBXSCLSI', 'LBXSOSSI', 'LBXSGB']\n",
    "biochem_clean = pf.cols_tokeep(df_biochem, biochem_tokeep)"
   ]
  },
  {
   "cell_type": "code",
   "execution_count": null,
   "metadata": {
    "ExecuteTime": {
     "start_time": "2021-01-31T06:53:29.307Z"
    }
   },
   "outputs": [],
   "source": [
    "# Checking the new dataframe\n",
    "biochem_clean.info()"
   ]
  },
  {
   "cell_type": "markdown",
   "metadata": {},
   "source": [
    "## Renaming Columns"
   ]
  },
  {
   "cell_type": "markdown",
   "metadata": {},
   "source": [
    "The information of the columns can be looked up on the NHANES website, https://wwwn.cdc.gov/nchs/nhanes/default.aspx, using the \"Search Variables\" tool. Each column is renamed for readability."
   ]
  },
  {
   "cell_type": "code",
   "execution_count": null,
   "metadata": {
    "ExecuteTime": {
     "start_time": "2021-01-31T06:53:29.322Z"
    }
   },
   "outputs": [],
   "source": [
    "# Listing columns to look them up\n",
    "biochem_clean.columns"
   ]
  },
  {
   "cell_type": "code",
   "execution_count": null,
   "metadata": {
    "ExecuteTime": {
     "start_time": "2021-01-31T06:53:29.332Z"
    }
   },
   "outputs": [],
   "source": [
    "# Renaming columns\n",
    "biochem_clean.rename(columns={'LBXSAL': 'albumin', \n",
    "                           'LBXSATSI': 'ALT', \n",
    "                           'LBXSASSI': 'AST', \n",
    "                           'LBXSAPSI': 'ALP', \n",
    "                           'LBXSBU': 'BUN', \n",
    "                           'LBXSCA': 'calcium',\n",
    "                           'LBXSC3SI': 'CO2', \n",
    "                           'LBXSCR': 'creatinine', \n",
    "                           'LBXSGTSI': 'GGT', \n",
    "                           'LBXSGL': 'glucose', \n",
    "                           'LBXSIR': 'iron', \n",
    "                           'LBXSLDSI': 'LHD',\n",
    "                           'LBXSPH': 'phosphorus', \n",
    "                           'LBXSTB': 'bilirubin', \n",
    "                           'LBXSTP': 'total_protein', \n",
    "                           'LBXSUA': 'uric_acid', \n",
    "                           'LBXSNASI': 'sodium', \n",
    "                           'LBXSKSI': 'potassium',\n",
    "                           'LBXSCLSI': 'chloride', \n",
    "                           'LBXSOSSI': 'osmolality', \n",
    "                           'LBXSGB': 'globulin'\n",
    "                            }, inplace=True)"
   ]
  },
  {
   "cell_type": "code",
   "execution_count": null,
   "metadata": {
    "ExecuteTime": {
     "start_time": "2021-01-31T06:53:29.343Z"
    }
   },
   "outputs": [],
   "source": [
    "# Checking the dataframe\n",
    "biochem_clean.info()"
   ]
  },
  {
   "cell_type": "markdown",
   "metadata": {},
   "source": [
    "## Clean Column Values"
   ]
  },
  {
   "cell_type": "markdown",
   "metadata": {},
   "source": [
    "In an effort to emulate the way all information may not be available for every patient, missing values were filled as \"missing\" or 0. There are many instances in the fields where people were allowed to refuse to answer or answer with \"I don't know\". Such answers were treated as null values and filled with \"missing\" or 0. Because all the null values were filled the same way with no bearing on data leakage, this was done before the train-test split so it would only need to be handled on one set of data."
   ]
  },
  {
   "cell_type": "code",
   "execution_count": null,
   "metadata": {
    "ExecuteTime": {
     "start_time": "2021-01-31T06:53:29.363Z"
    }
   },
   "outputs": [],
   "source": [
    "# Checking all the values in the dataframe\n",
    "pf.val_counts(biochem_clean)"
   ]
  },
  {
   "cell_type": "code",
   "execution_count": null,
   "metadata": {
    "ExecuteTime": {
     "start_time": "2021-01-31T06:53:29.373Z"
    }
   },
   "outputs": [],
   "source": [
    "# Filling null values\n",
    "biochem_clean.fillna(0, inplace=True)"
   ]
  },
  {
   "cell_type": "code",
   "execution_count": null,
   "metadata": {
    "ExecuteTime": {
     "start_time": "2021-01-31T06:53:29.389Z"
    }
   },
   "outputs": [],
   "source": [
    "# Listing columns to be integer type and changing them\n",
    "int_cols = ['ALT', 'AST', 'ALP', 'BUN', 'CO2', 'GGT', 'glucose', 'iron', 'LHD', \n",
    "            'sodium', 'chloride', 'osmolality']\n",
    "for col in int_cols:\n",
    "    biochem_clean[col] = biochem_clean[col].astype('int64')"
   ]
  },
  {
   "cell_type": "code",
   "execution_count": null,
   "metadata": {
    "ExecuteTime": {
     "start_time": "2021-01-31T06:53:29.399Z"
    }
   },
   "outputs": [],
   "source": [
    "# Checking null values\n",
    "biochem_clean.isna().sum()"
   ]
  },
  {
   "cell_type": "code",
   "execution_count": null,
   "metadata": {
    "ExecuteTime": {
     "start_time": "2021-01-31T06:53:29.409Z"
    }
   },
   "outputs": [],
   "source": [
    "# Checking dataframe information\n",
    "biochem_clean.info()"
   ]
  },
  {
   "cell_type": "code",
   "execution_count": null,
   "metadata": {
    "ExecuteTime": {
     "start_time": "2021-01-31T06:53:29.420Z"
    }
   },
   "outputs": [],
   "source": [
    "biochem_clean.head()"
   ]
  },
  {
   "cell_type": "markdown",
   "metadata": {},
   "source": [
    "# Blood Count"
   ]
  },
  {
   "cell_type": "markdown",
   "metadata": {},
   "source": [
    "The files gathered for this blood count data can be found on the NHANES website: https://wwwn.cdc.gov/nchs/nhanes/default.aspx. The exact files can be downloaded for each year group by selecting the year, choosing \"Laboratory Data\", and clicking the link for the XPT file next to \"Complete Blood Count with 5-Part Differential\". Each column name can be looked up using the \"Search Variables\" tool on the NHANES website to see what the data represents.\n",
    "\n",
    "Data that was not consistent across years could not be used but there were some cases where questions changed but still were getting at the same information so such questions could be combined. Columns were renamed for readability and many values were renamed as well. In an effort to emulate the way all information may not be available for every patient, missing values were filled as \"missing\" or 0. There are many instances in the fields where people were allowed to refuse to answer or answer with \"I don't know\". Such answers were treated as null values and filled with \"missing\" or 0. Because all the null values were filled the same way with no bearing on data leakage, this was done before the train-test split so it would only need to be handled on one set of data.\n"
   ]
  },
  {
   "cell_type": "code",
   "execution_count": null,
   "metadata": {
    "ExecuteTime": {
     "start_time": "2021-01-31T06:53:29.436Z"
    }
   },
   "outputs": [],
   "source": [
    "# Combining all the files for the blood count information\n",
    "path = r'Data/BloodCount'\n",
    "df_count = pf.glob_concat(path, '*.XPT')"
   ]
  },
  {
   "cell_type": "code",
   "execution_count": null,
   "metadata": {
    "ExecuteTime": {
     "start_time": "2021-01-31T06:53:29.448Z"
    }
   },
   "outputs": [],
   "source": [
    "# Checking the dataframe\n",
    "df_count.head()"
   ]
  },
  {
   "cell_type": "code",
   "execution_count": null,
   "metadata": {
    "ExecuteTime": {
     "start_time": "2021-01-31T06:53:29.459Z"
    }
   },
   "outputs": [],
   "source": [
    "# Checking the columns\n",
    "df_count.info()"
   ]
  },
  {
   "cell_type": "code",
   "execution_count": null,
   "metadata": {
    "ExecuteTime": {
     "start_time": "2021-01-31T06:53:29.470Z"
    }
   },
   "outputs": [],
   "source": [
    "# Dropping the only unwanted column\n",
    "count_clean = df_count.drop(columns=['LBXNRBC'])"
   ]
  },
  {
   "cell_type": "markdown",
   "metadata": {
    "ExecuteTime": {
     "end_time": "2021-01-07T22:27:53.512085Z",
     "start_time": "2021-01-07T22:27:53.502079Z"
    }
   },
   "source": [
    "## Renaming Columns"
   ]
  },
  {
   "cell_type": "markdown",
   "metadata": {},
   "source": [
    "The information of the columns can be looked up on the NHANES website, https://wwwn.cdc.gov/nchs/nhanes/default.aspx, using the \"Search Variables\" tool. Each column is renamed for readability."
   ]
  },
  {
   "cell_type": "code",
   "execution_count": null,
   "metadata": {
    "ExecuteTime": {
     "start_time": "2021-01-31T06:53:29.485Z"
    }
   },
   "outputs": [],
   "source": [
    "# Listing columns to look up each one\n",
    "count_clean.columns"
   ]
  },
  {
   "cell_type": "code",
   "execution_count": null,
   "metadata": {
    "ExecuteTime": {
     "start_time": "2021-01-31T06:53:29.496Z"
    }
   },
   "outputs": [],
   "source": [
    "# Renaming columns\n",
    "count_clean.rename(columns={'LBXWBCSI': 'white_BCC', \n",
    "                            'LBXLYPCT': 'lymphocyte_percent', \n",
    "                            'LBXMOPCT': 'monocyte_percent', \n",
    "                            'LBXNEPCT': 'neutrophils_percent', \n",
    "                            'LBXEOPCT': 'eosinophils_percent', \n",
    "                            'LBXBAPCT': 'basophils_percent',\n",
    "                            'LBDLYMNO': 'lymphocyte_count', \n",
    "                            'LBDMONO': 'monocyte_count', \n",
    "                            'LBDNENO': 'neutrophils_count', \n",
    "                            'LBDEONO': 'eosinophils_count', \n",
    "                            'LBDBANO': 'basophils_count', \n",
    "                            'LBXRBCSI': 'RBC_count',\n",
    "                            'LBXHGB': 'hemoglobin', \n",
    "                            'LBXHCT': 'hematocrit', \n",
    "                            'LBXMCVSI': 'MCV', \n",
    "                            'LBXMCHSI': 'MCH', \n",
    "                            'LBXMC': 'MCHC', \n",
    "                            'LBXRDW': 'RDW',\n",
    "                            'LBXPLTSI': 'platelet_count', \n",
    "                            'LBXMPSI': 'MPV'\n",
    "                            }, inplace=True)"
   ]
  },
  {
   "cell_type": "code",
   "execution_count": null,
   "metadata": {
    "ExecuteTime": {
     "start_time": "2021-01-31T06:53:29.508Z"
    }
   },
   "outputs": [],
   "source": [
    "# Checking column names\n",
    "count_clean.info()"
   ]
  },
  {
   "cell_type": "markdown",
   "metadata": {},
   "source": [
    "## Clean Column Values"
   ]
  },
  {
   "cell_type": "markdown",
   "metadata": {},
   "source": [
    "In an effort to emulate the way all information may not be available for every patient, missing values were filled as \"missing\" or 0. There are many instances in the fields where people were allowed to refuse to answer or answer with \"I don't know\". Such answers were treated as null values and filled with \"missing\" or 0. Because all the null values were filled the same way with no bearing on data leakage, this was done before the train-test split so it would only need to be handled on one set of data."
   ]
  },
  {
   "cell_type": "code",
   "execution_count": null,
   "metadata": {
    "ExecuteTime": {
     "start_time": "2021-01-31T06:53:29.535Z"
    }
   },
   "outputs": [],
   "source": [
    "# Checking all values of the dataframe\n",
    "pf.val_counts(count_clean)"
   ]
  },
  {
   "cell_type": "code",
   "execution_count": null,
   "metadata": {
    "ExecuteTime": {
     "start_time": "2021-01-31T06:53:29.547Z"
    }
   },
   "outputs": [],
   "source": [
    "# Filling all null values\n",
    "count_clean.fillna(0, inplace=True)"
   ]
  },
  {
   "cell_type": "code",
   "execution_count": null,
   "metadata": {
    "ExecuteTime": {
     "start_time": "2021-01-31T06:53:29.561Z"
    }
   },
   "outputs": [],
   "source": [
    "# Casting the appropriate column to int type\n",
    "count_clean['platelet_count'] = count_clean['platelet_count'].astype('int64')"
   ]
  },
  {
   "cell_type": "code",
   "execution_count": null,
   "metadata": {
    "ExecuteTime": {
     "start_time": "2021-01-31T06:53:29.573Z"
    }
   },
   "outputs": [],
   "source": [
    "# Checking null values\n",
    "count_clean.isna().sum()"
   ]
  },
  {
   "cell_type": "code",
   "execution_count": null,
   "metadata": {
    "ExecuteTime": {
     "start_time": "2021-01-31T06:53:29.587Z"
    }
   },
   "outputs": [],
   "source": [
    "count_clean.head()"
   ]
  },
  {
   "cell_type": "code",
   "execution_count": null,
   "metadata": {
    "ExecuteTime": {
     "start_time": "2021-01-31T06:53:29.602Z"
    }
   },
   "outputs": [],
   "source": [
    "# Checking dataframe\n",
    "count_clean.info()"
   ]
  },
  {
   "cell_type": "markdown",
   "metadata": {},
   "source": [
    "# Occupation"
   ]
  },
  {
   "cell_type": "markdown",
   "metadata": {},
   "source": [
    "The files gathered for this demographic data can be found on the NHANES website: https://wwwn.cdc.gov/nchs/nhanes/default.aspx. The exact files can be downloaded for each year group by selecting the year, choosing \"Questionnaire Data\", and clicking the link for the XPT file next to \"Occupation\". Each column name can be looked up using the \"Search Variables\" tool on the NHANES website to see what the data represents.\n",
    "\n",
    "Data that was not consistent across years could not be used but there were some cases where questions changed but still were getting at the same information so such questions could be combined. Columns were renamed for readability and many values were renamed as well. In an effort to emulate the way all information may not be available for every patient, missing values were filled as \"missing\" or 0. There are many instances in the fields where people were allowed to refuse to answer or answer with \"I don't know\". Such answers were treated as null values and filled with \"missing\" or 0. Because all the null values were filled the same way with no bearing on data leakage, this was done before the train-test split so it would only need to be handled on one set of data.\n"
   ]
  },
  {
   "cell_type": "code",
   "execution_count": null,
   "metadata": {
    "ExecuteTime": {
     "start_time": "2021-01-31T06:53:29.619Z"
    }
   },
   "outputs": [],
   "source": [
    "# Combining all the files for the occupation information\n",
    "path = r'Data/Occupation'\n",
    "df_occupation = pf.glob_concat(path, '*.XPT')"
   ]
  },
  {
   "cell_type": "code",
   "execution_count": null,
   "metadata": {
    "ExecuteTime": {
     "start_time": "2021-01-31T06:53:29.630Z"
    }
   },
   "outputs": [],
   "source": [
    "# Checking the dataframe\n",
    "df_occupation.head()"
   ]
  },
  {
   "cell_type": "code",
   "execution_count": null,
   "metadata": {
    "ExecuteTime": {
     "start_time": "2021-01-31T06:53:29.641Z"
    }
   },
   "outputs": [],
   "source": [
    "df_occupation.info()"
   ]
  },
  {
   "cell_type": "code",
   "execution_count": null,
   "metadata": {
    "ExecuteTime": {
     "start_time": "2021-01-31T06:53:29.652Z"
    }
   },
   "outputs": [],
   "source": [
    "# Listing the columns to look each one up\n",
    "df_occupation.columns"
   ]
  },
  {
   "cell_type": "code",
   "execution_count": null,
   "metadata": {
    "ExecuteTime": {
     "start_time": "2021-01-31T06:53:29.663Z"
    }
   },
   "outputs": [],
   "source": [
    "# Listing the columns to keep and creating a new dataframe\n",
    "occupation_tokeep = ['OCQ210', 'OCQ260', 'OCD270', 'OCQ380',]\n",
    "occupation_clean = pf.cols_tokeep(df_occupation, occupation_tokeep)"
   ]
  },
  {
   "cell_type": "code",
   "execution_count": null,
   "metadata": {
    "ExecuteTime": {
     "start_time": "2021-01-31T06:53:29.674Z"
    }
   },
   "outputs": [],
   "source": [
    "# Checking the new dataframe\n",
    "occupation_clean.head()"
   ]
  },
  {
   "cell_type": "markdown",
   "metadata": {},
   "source": [
    "## Renaming Columns"
   ]
  },
  {
   "cell_type": "markdown",
   "metadata": {},
   "source": [
    "The information of the columns can be looked up on the NHANES website, https://wwwn.cdc.gov/nchs/nhanes/default.aspx, using the \"Search Variables\" tool. Each column is renamed for readability."
   ]
  },
  {
   "cell_type": "code",
   "execution_count": null,
   "metadata": {
    "ExecuteTime": {
     "start_time": "2021-01-31T06:53:29.689Z"
    }
   },
   "outputs": [],
   "source": [
    "# Listing the columns to look each one up\n",
    "occupation_clean.columns"
   ]
  },
  {
   "cell_type": "code",
   "execution_count": null,
   "metadata": {
    "ExecuteTime": {
     "start_time": "2021-01-31T06:53:29.699Z"
    }
   },
   "outputs": [],
   "source": [
    "# Renaming the columns\n",
    "occupation_clean.rename(columns={'OCQ210': 'full_time_work', \n",
    "                            'OCQ260': 'work_type', \n",
    "                            'OCD270': 'time_in_current_job',\n",
    "                            'OCQ380': 'out_of_work'\n",
    "                            }, inplace=True)"
   ]
  },
  {
   "cell_type": "code",
   "execution_count": null,
   "metadata": {
    "ExecuteTime": {
     "start_time": "2021-01-31T06:53:29.709Z"
    }
   },
   "outputs": [],
   "source": [
    "# Checking the columns\n",
    "occupation_clean.info()"
   ]
  },
  {
   "cell_type": "markdown",
   "metadata": {},
   "source": [
    "## Clean Column Values"
   ]
  },
  {
   "cell_type": "markdown",
   "metadata": {},
   "source": [
    "In an effort to emulate the way all information may not be available for every patient, missing values were filled as \"missing\" or 0. There are many instances in the fields where people were allowed to refuse to answer or answer with \"I don't know\". Such answers were treated as null values and filled with \"missing\" or 0. Because all the null values were filled the same way with no bearing on data leakage, this was done before the train-test split so it would only need to be handled on one set of data."
   ]
  },
  {
   "cell_type": "code",
   "execution_count": null,
   "metadata": {
    "ExecuteTime": {
     "start_time": "2021-01-31T06:53:29.725Z"
    }
   },
   "outputs": [],
   "source": [
    "# Checking all values in the dataframe\n",
    "pf.val_counts(occupation_clean)"
   ]
  },
  {
   "cell_type": "code",
   "execution_count": null,
   "metadata": {
    "ExecuteTime": {
     "start_time": "2021-01-31T06:53:29.735Z"
    }
   },
   "outputs": [],
   "source": [
    "# Replacing values\n",
    "occupation_clean['full_time_work'].replace({1.000:'Yes', \n",
    "                            2.000:'No', \n",
    "                            7.000:'Missing', \n",
    "                            9.000:'Missing'}, \n",
    "                           inplace=True)"
   ]
  },
  {
   "cell_type": "code",
   "execution_count": null,
   "metadata": {
    "ExecuteTime": {
     "start_time": "2021-01-31T06:53:29.747Z"
    }
   },
   "outputs": [],
   "source": [
    "# Replacing values\n",
    "occupation_clean['work_type'].replace({1.000:'Private Wage Worker', \n",
    "                            2.000:'Government', \n",
    "                            3.000:'Government', \n",
    "                            4.000:'Government', \n",
    "                            5.000:'Self Employed',\n",
    "                            6.000:'Family Business',\n",
    "                            77.000:'Missing',\n",
    "                            99.000:'Missing'}, \n",
    "                           inplace=True)"
   ]
  },
  {
   "cell_type": "code",
   "execution_count": null,
   "metadata": {
    "ExecuteTime": {
     "start_time": "2021-01-31T06:53:29.759Z"
    }
   },
   "outputs": [],
   "source": [
    "# Replacing values\n",
    "occupation_clean['time_in_current_job'].replace({77777.000: 0, \n",
    "                            99999.000: 0}, \n",
    "                           inplace=True)"
   ]
  },
  {
   "cell_type": "code",
   "execution_count": null,
   "metadata": {
    "ExecuteTime": {
     "start_time": "2021-01-31T06:53:29.769Z"
    }
   },
   "outputs": [],
   "source": [
    "# Replacing values\n",
    "occupation_clean['out_of_work'].replace({1.000:'Home Caretaker', \n",
    "                            2.000:'School', \n",
    "                            3.000:'Retired', \n",
    "                            4.000:'Health', \n",
    "                            5.000:'Layoff',\n",
    "                            6.000:'Disabled',\n",
    "                            7.000:'Other',\n",
    "                            77.000:'Missing',\n",
    "                            99.000:'Missing'}, \n",
    "                           inplace=True)"
   ]
  },
  {
   "cell_type": "code",
   "execution_count": null,
   "metadata": {
    "ExecuteTime": {
     "start_time": "2021-01-31T06:53:29.779Z"
    }
   },
   "outputs": [],
   "source": [
    "# Filling null values\n",
    "occupation_clean['time_in_current_job'].fillna(0, inplace=True)"
   ]
  },
  {
   "cell_type": "code",
   "execution_count": null,
   "metadata": {
    "ExecuteTime": {
     "start_time": "2021-01-31T06:53:29.791Z"
    }
   },
   "outputs": [],
   "source": [
    "# Casting column as int type\n",
    "occupation_clean['time_in_current_job'] = occupation_clean['time_in_current_job'].astype('int64')"
   ]
  },
  {
   "cell_type": "code",
   "execution_count": null,
   "metadata": {
    "ExecuteTime": {
     "start_time": "2021-01-31T06:53:29.802Z"
    }
   },
   "outputs": [],
   "source": [
    "# Checking null values\n",
    "occupation_clean.isna().sum()"
   ]
  },
  {
   "cell_type": "code",
   "execution_count": null,
   "metadata": {
    "ExecuteTime": {
     "start_time": "2021-01-31T06:53:29.812Z"
    }
   },
   "outputs": [],
   "source": [
    "# Filling null values\n",
    "occupation_clean.fillna('Missing', inplace=True)"
   ]
  },
  {
   "cell_type": "code",
   "execution_count": null,
   "metadata": {
    "ExecuteTime": {
     "start_time": "2021-01-31T06:53:29.824Z"
    }
   },
   "outputs": [],
   "source": [
    "# Checking all value counts again\n",
    "pf.val_counts(occupation_clean)"
   ]
  },
  {
   "cell_type": "code",
   "execution_count": null,
   "metadata": {
    "ExecuteTime": {
     "start_time": "2021-01-31T06:53:29.836Z"
    }
   },
   "outputs": [],
   "source": [
    "# Checking the new dataframe\n",
    "occupation_clean.head()"
   ]
  },
  {
   "cell_type": "code",
   "execution_count": null,
   "metadata": {
    "ExecuteTime": {
     "start_time": "2021-01-31T06:53:29.846Z"
    }
   },
   "outputs": [],
   "source": [
    "occupation_clean.info()"
   ]
  },
  {
   "cell_type": "markdown",
   "metadata": {},
   "source": [
    "# Sleep Disorders"
   ]
  },
  {
   "cell_type": "markdown",
   "metadata": {},
   "source": [
    "The files gathered for this sleep disorders data can be found on the NHANES website: https://wwwn.cdc.gov/nchs/nhanes/default.aspx. The exact files can be downloaded for each year group by selecting the year, choosing \"Questionnaire Data\", and clicking the link for the XPT file next to \"Sleep Disorders\". Each column name can be looked up using the \"Search Variables\" tool on the NHANES website to see what the data represents.\n",
    "\n",
    "Data that was not consistent across years could not be used but there were some cases where questions changed but still were getting at the same information so such questions could be combined. Columns were renamed for readability and many values were renamed as well. In an effort to emulate the way all information may not be available for every patient, missing values were filled as \"missing\" or 0. There are many instances in the fields where people were allowed to refuse to answer or answer with \"I don't know\". Such answers were treated as null values and filled with \"missing\" or 0. Because all the null values were filled the same way with no bearing on data leakage, this was done before the train-test split so it would only need to be handled on one set of data.\n"
   ]
  },
  {
   "cell_type": "code",
   "execution_count": null,
   "metadata": {
    "ExecuteTime": {
     "start_time": "2021-01-31T06:53:29.860Z"
    }
   },
   "outputs": [],
   "source": [
    "# Combining all the files for the total sleep information\n",
    "path = r'Data/SleepDisorders'\n",
    "df_sleep = pf.glob_concat(path, '*.XPT')"
   ]
  },
  {
   "cell_type": "code",
   "execution_count": null,
   "metadata": {
    "ExecuteTime": {
     "start_time": "2021-01-31T06:53:29.872Z"
    }
   },
   "outputs": [],
   "source": [
    "# Checking the dataframe\n",
    "df_sleep.head()"
   ]
  },
  {
   "cell_type": "code",
   "execution_count": null,
   "metadata": {
    "ExecuteTime": {
     "start_time": "2021-01-31T06:53:29.885Z"
    }
   },
   "outputs": [],
   "source": [
    "df_sleep.info()"
   ]
  },
  {
   "cell_type": "code",
   "execution_count": null,
   "metadata": {
    "ExecuteTime": {
     "start_time": "2021-01-31T06:53:29.899Z"
    }
   },
   "outputs": [],
   "source": [
    "# Listing the columns to look each one up\n",
    "df_sleep.columns"
   ]
  },
  {
   "cell_type": "code",
   "execution_count": null,
   "metadata": {
    "ExecuteTime": {
     "start_time": "2021-01-31T06:53:29.911Z"
    }
   },
   "outputs": [],
   "source": [
    "# Listing the columns to keep and creating a new dataframe\n",
    "sleep_tokeep = ['SLQ050', 'SLD010H', 'SLD012']\n",
    "sleep_clean = pf.cols_tokeep(df_sleep, sleep_tokeep)"
   ]
  },
  {
   "cell_type": "code",
   "execution_count": null,
   "metadata": {
    "ExecuteTime": {
     "start_time": "2021-01-31T06:53:29.921Z"
    }
   },
   "outputs": [],
   "source": [
    "# Checking the new dataframe\n",
    "sleep_clean.info()"
   ]
  },
  {
   "cell_type": "markdown",
   "metadata": {},
   "source": [
    "## Sleep Hours"
   ]
  },
  {
   "cell_type": "markdown",
   "metadata": {},
   "source": [
    "The sleep hours question changed slightly over time but was still similar enough to combine. For these columns, the null values are filled with zeros then everything is added across the rows to a single column to combine all the values into one.\n"
   ]
  },
  {
   "cell_type": "code",
   "execution_count": null,
   "metadata": {
    "ExecuteTime": {
     "start_time": "2021-01-31T06:53:29.934Z"
    }
   },
   "outputs": [],
   "source": [
    "# Checking column values\n",
    "sleep_clean.SLD010H.value_counts(dropna=False)"
   ]
  },
  {
   "cell_type": "code",
   "execution_count": null,
   "metadata": {
    "ExecuteTime": {
     "start_time": "2021-01-31T06:53:29.944Z"
    }
   },
   "outputs": [],
   "source": [
    "# Checking column values\n",
    "sleep_clean.SLD012.value_counts(dropna=False)"
   ]
  },
  {
   "cell_type": "code",
   "execution_count": null,
   "metadata": {
    "ExecuteTime": {
     "start_time": "2021-01-31T06:53:29.955Z"
    }
   },
   "outputs": [],
   "source": [
    "# Filling null values\n",
    "sleep_clean.SLD010H.fillna(0, inplace=True)\n",
    "sleep_clean.SLD012.fillna(0, inplace=True)"
   ]
  },
  {
   "cell_type": "code",
   "execution_count": null,
   "metadata": {
    "ExecuteTime": {
     "start_time": "2021-01-31T06:53:29.966Z"
    }
   },
   "outputs": [],
   "source": [
    "# Adding the columns together into a new column\n",
    "sleep_clean['sleep_hours'] = sleep_clean['SLD010H'] + sleep_clean['SLD012']"
   ]
  },
  {
   "cell_type": "code",
   "execution_count": null,
   "metadata": {
    "ExecuteTime": {
     "start_time": "2021-01-31T06:53:29.978Z"
    }
   },
   "outputs": [],
   "source": [
    "# Checking value counts of new column\n",
    "sleep_clean.sleep_hours.value_counts(dropna=False)"
   ]
  },
  {
   "cell_type": "code",
   "execution_count": null,
   "metadata": {
    "ExecuteTime": {
     "start_time": "2021-01-31T06:53:29.988Z"
    }
   },
   "outputs": [],
   "source": [
    "# Replacing ambiguous values with 0\n",
    "sleep_clean.sleep_hours.replace({77.000: 0, \n",
    "                            99.000: 0}, \n",
    "                           inplace=True)"
   ]
  },
  {
   "cell_type": "code",
   "execution_count": null,
   "metadata": {
    "ExecuteTime": {
     "start_time": "2021-01-31T06:53:30.000Z"
    }
   },
   "outputs": [],
   "source": [
    "# Dropping the old columns\n",
    "sleep_clean.drop(columns=['SLD010H', 'SLD012'], inplace=True)"
   ]
  },
  {
   "cell_type": "code",
   "execution_count": null,
   "metadata": {
    "ExecuteTime": {
     "start_time": "2021-01-31T06:53:30.009Z"
    }
   },
   "outputs": [],
   "source": [
    "# Checking the dataframe\n",
    "sleep_clean.info()"
   ]
  },
  {
   "cell_type": "markdown",
   "metadata": {},
   "source": [
    "## Trouble Sleeping"
   ]
  },
  {
   "cell_type": "code",
   "execution_count": null,
   "metadata": {
    "ExecuteTime": {
     "start_time": "2021-01-31T06:53:30.021Z"
    }
   },
   "outputs": [],
   "source": [
    "# Renaming the remaining column for readability\n",
    "sleep_clean.rename(columns={'SLQ050': 'trouble_sleeping_history'}, \n",
    "                   inplace=True)"
   ]
  },
  {
   "cell_type": "code",
   "execution_count": null,
   "metadata": {
    "ExecuteTime": {
     "start_time": "2021-01-31T06:53:30.031Z"
    }
   },
   "outputs": [],
   "source": [
    "# Checking column values\n",
    "sleep_clean.trouble_sleeping_history.value_counts(dropna=False)"
   ]
  },
  {
   "cell_type": "code",
   "execution_count": null,
   "metadata": {
    "ExecuteTime": {
     "start_time": "2021-01-31T06:53:30.042Z"
    }
   },
   "outputs": [],
   "source": [
    "# Replacing values\n",
    "sleep_clean['trouble_sleeping_history'].replace({2.000: 0, \n",
    "                            9.000: 0, \n",
    "                            7.000: 0}, \n",
    "                           inplace=True)"
   ]
  },
  {
   "cell_type": "code",
   "execution_count": null,
   "metadata": {
    "ExecuteTime": {
     "start_time": "2021-01-31T06:53:30.051Z"
    }
   },
   "outputs": [],
   "source": [
    "# Filling null values\n",
    "sleep_clean.trouble_sleeping_history.fillna(0, inplace=True)"
   ]
  },
  {
   "cell_type": "code",
   "execution_count": null,
   "metadata": {
    "ExecuteTime": {
     "start_time": "2021-01-31T06:53:30.063Z"
    }
   },
   "outputs": [],
   "source": [
    "# Casting as int type\n",
    "sleep_clean['trouble_sleeping_history'] = sleep_clean['trouble_sleeping_history'].astype('int64')"
   ]
  },
  {
   "cell_type": "code",
   "execution_count": null,
   "metadata": {
    "ExecuteTime": {
     "start_time": "2021-01-31T06:53:30.074Z"
    }
   },
   "outputs": [],
   "source": [
    "# Final check of all values in the dataframe\n",
    "pf.val_counts(sleep_clean)"
   ]
  },
  {
   "cell_type": "code",
   "execution_count": null,
   "metadata": {
    "ExecuteTime": {
     "start_time": "2021-01-31T06:53:30.084Z"
    }
   },
   "outputs": [],
   "source": [
    "# Checking null values\n",
    "sleep_clean.isna().sum()"
   ]
  },
  {
   "cell_type": "code",
   "execution_count": null,
   "metadata": {
    "ExecuteTime": {
     "start_time": "2021-01-31T06:53:30.096Z"
    }
   },
   "outputs": [],
   "source": [
    "# Checking the dataframe\n",
    "sleep_clean.head()"
   ]
  },
  {
   "cell_type": "code",
   "execution_count": null,
   "metadata": {
    "ExecuteTime": {
     "start_time": "2021-01-31T06:53:30.107Z"
    }
   },
   "outputs": [],
   "source": [
    "sleep_clean.info()"
   ]
  },
  {
   "cell_type": "markdown",
   "metadata": {},
   "source": [
    "# Physical Activity"
   ]
  },
  {
   "cell_type": "markdown",
   "metadata": {},
   "source": [
    "The files gathered for this physical activity data can be found on the NHANES website: https://wwwn.cdc.gov/nchs/nhanes/default.aspx. The exact files can be downloaded for each year group by selecting the year, choosing \"Questionnaire Data\", and clicking the link for the XPT file next to \"Physical Activity\". Each column name can be looked up using the \"Search Variables\" tool on the NHANES website to see what the data represents.\n",
    "\n",
    "Data that was not consistent across years could not be used but there were some cases where questions changed but still were getting at the same information so such questions could be combined. Columns were renamed for readability and many values were renamed as well. In an effort to emulate the way all information may not be available for every patient, missing values were filled as \"missing\" or 0. There are many instances in the fields where people were allowed to refuse to answer or answer with \"I don't know\". Such answers were treated as null values and filled with \"missing\" or 0. Because all the null values were filled the same way with no bearing on data leakage, this was done before the train-test split so it would only need to be handled on one set of data.\n"
   ]
  },
  {
   "cell_type": "code",
   "execution_count": null,
   "metadata": {
    "ExecuteTime": {
     "start_time": "2021-01-31T06:53:30.125Z"
    }
   },
   "outputs": [],
   "source": [
    "# Combining all the files for the total cholesterol information\n",
    "path = r'Data/PhysicalActivity'\n",
    "df_activity = pf.glob_concat(path, '*.XPT')"
   ]
  },
  {
   "cell_type": "code",
   "execution_count": null,
   "metadata": {
    "ExecuteTime": {
     "start_time": "2021-01-31T06:53:30.143Z"
    }
   },
   "outputs": [],
   "source": [
    "# Checking the dataframe\n",
    "df_activity.head()"
   ]
  },
  {
   "cell_type": "code",
   "execution_count": null,
   "metadata": {
    "ExecuteTime": {
     "start_time": "2021-01-31T06:53:30.154Z"
    }
   },
   "outputs": [],
   "source": [
    "df_activity.info()"
   ]
  },
  {
   "cell_type": "code",
   "execution_count": null,
   "metadata": {
    "ExecuteTime": {
     "start_time": "2021-01-31T06:53:30.164Z"
    }
   },
   "outputs": [],
   "source": [
    "# Listing the columns to look each one up\n",
    "list(df_activity.columns)"
   ]
  },
  {
   "cell_type": "code",
   "execution_count": null,
   "metadata": {
    "ExecuteTime": {
     "start_time": "2021-01-31T06:53:30.174Z"
    }
   },
   "outputs": [],
   "source": [
    "# Listing the columns to keep and creating a new dataframe\n",
    "activity_tokeep = ['PAD680', 'PAD600', 'PAD590', 'PAQ180', 'PAQ605', 'PAQ620', \n",
    "                   'PAQ650', 'PAD200', 'PAQ665', 'PAD320']\n",
    "activity_clean = pf.cols_tokeep(df_activity, activity_tokeep)"
   ]
  },
  {
   "cell_type": "code",
   "execution_count": null,
   "metadata": {
    "ExecuteTime": {
     "start_time": "2021-01-31T06:53:30.185Z"
    }
   },
   "outputs": [],
   "source": [
    "# Checking the new dataframe\n",
    "activity_clean.info()"
   ]
  },
  {
   "cell_type": "markdown",
   "metadata": {},
   "source": [
    "## Vigorous Recreation"
   ]
  },
  {
   "cell_type": "markdown",
   "metadata": {},
   "source": [
    "The vigorous recreation question changed slightly over time but was still very similar. For these columns, the null values are filled with zeros then everything is added across the rows to a single column to combine all the values into one. The values are then replaced as yes, no, or missing as there is information gain from an overt no answer that would be lost in a single 0/1 column."
   ]
  },
  {
   "cell_type": "code",
   "execution_count": null,
   "metadata": {
    "ExecuteTime": {
     "start_time": "2021-01-31T06:53:30.205Z"
    }
   },
   "outputs": [],
   "source": [
    "# Checking column values\n",
    "activity_clean.PAQ650.value_counts(dropna=False)"
   ]
  },
  {
   "cell_type": "code",
   "execution_count": null,
   "metadata": {
    "ExecuteTime": {
     "start_time": "2021-01-31T06:53:30.217Z"
    }
   },
   "outputs": [],
   "source": [
    "# Checking column values\n",
    "activity_clean.PAD200.value_counts(dropna=False)"
   ]
  },
  {
   "cell_type": "code",
   "execution_count": null,
   "metadata": {
    "ExecuteTime": {
     "start_time": "2021-01-31T06:53:30.229Z"
    }
   },
   "outputs": [],
   "source": [
    "# Filling null values\n",
    "activity_clean.PAQ650.fillna(0, inplace=True)\n",
    "activity_clean.PAD200.fillna(0, inplace=True)"
   ]
  },
  {
   "cell_type": "code",
   "execution_count": null,
   "metadata": {
    "ExecuteTime": {
     "start_time": "2021-01-31T06:53:30.240Z"
    }
   },
   "outputs": [],
   "source": [
    "# Adding the two columns into one new column\n",
    "activity_clean['vigorous_recreation'] = activity_clean['PAQ650'] + activity_clean['PAD200']"
   ]
  },
  {
   "cell_type": "code",
   "execution_count": null,
   "metadata": {
    "ExecuteTime": {
     "start_time": "2021-01-31T06:53:30.251Z"
    }
   },
   "outputs": [],
   "source": [
    "# Checking column values\n",
    "activity_clean.vigorous_recreation.value_counts(dropna=False)"
   ]
  },
  {
   "cell_type": "code",
   "execution_count": null,
   "metadata": {
    "ExecuteTime": {
     "start_time": "2021-01-31T06:53:30.262Z"
    }
   },
   "outputs": [],
   "source": [
    "# Replacing the values in the column\n",
    "activity_clean.vigorous_recreation.replace({1.000: 'Yes',\n",
    "                                            2.000: 'No', \n",
    "                                            3.000: 'No', \n",
    "                                            7.000: 'Missing', \n",
    "                                            9.000: 'Missing', \n",
    "                                            0.000: 'Missing'}, \n",
    "                                           inplace=True)"
   ]
  },
  {
   "cell_type": "code",
   "execution_count": null,
   "metadata": {
    "ExecuteTime": {
     "start_time": "2021-01-31T06:53:30.274Z"
    }
   },
   "outputs": [],
   "source": [
    "# Checking column values\n",
    "activity_clean.vigorous_recreation.value_counts(dropna=False)"
   ]
  },
  {
   "cell_type": "code",
   "execution_count": null,
   "metadata": {
    "ExecuteTime": {
     "start_time": "2021-01-31T06:53:30.287Z"
    }
   },
   "outputs": [],
   "source": [
    "# Dropping old columns that are no longer needed\n",
    "activity_clean.drop(columns=['PAQ650', 'PAD200'], inplace=True)"
   ]
  },
  {
   "cell_type": "code",
   "execution_count": null,
   "metadata": {
    "ExecuteTime": {
     "start_time": "2021-01-31T06:53:30.300Z"
    }
   },
   "outputs": [],
   "source": [
    "# Checking the dataframe\n",
    "activity_clean.info()"
   ]
  },
  {
   "cell_type": "markdown",
   "metadata": {},
   "source": [
    "## Moderate Recreation"
   ]
  },
  {
   "cell_type": "markdown",
   "metadata": {},
   "source": [
    "The moderate recreation question changed slightly over time but was still very similar. For these columns, the null values are filled with zeros then everything is added across the rows to a single column to combine all the values into one. The values are then replaced as yes, no, or missing as there is information gain from an overt no answer that would be lost in a single 0/1 column."
   ]
  },
  {
   "cell_type": "code",
   "execution_count": null,
   "metadata": {
    "ExecuteTime": {
     "start_time": "2021-01-31T06:53:30.318Z"
    }
   },
   "outputs": [],
   "source": [
    "# Checking column values\n",
    "activity_clean.PAQ665.value_counts(dropna=False)"
   ]
  },
  {
   "cell_type": "code",
   "execution_count": null,
   "metadata": {
    "ExecuteTime": {
     "start_time": "2021-01-31T06:53:30.330Z"
    }
   },
   "outputs": [],
   "source": [
    "# Checking column values\n",
    "activity_clean.PAD320.value_counts(dropna=False)"
   ]
  },
  {
   "cell_type": "code",
   "execution_count": null,
   "metadata": {
    "ExecuteTime": {
     "start_time": "2021-01-31T06:53:30.341Z"
    }
   },
   "outputs": [],
   "source": [
    "# Filling null values\n",
    "activity_clean.PAQ665.fillna(0, inplace=True)\n",
    "activity_clean.PAD320.fillna(0, inplace=True)"
   ]
  },
  {
   "cell_type": "code",
   "execution_count": null,
   "metadata": {
    "ExecuteTime": {
     "start_time": "2021-01-31T06:53:30.351Z"
    }
   },
   "outputs": [],
   "source": [
    "# Adding columns together into a new column\n",
    "activity_clean['moderate_recreation'] = activity_clean['PAQ665'] + activity_clean['PAD320']"
   ]
  },
  {
   "cell_type": "code",
   "execution_count": null,
   "metadata": {
    "ExecuteTime": {
     "start_time": "2021-01-31T06:53:30.362Z"
    }
   },
   "outputs": [],
   "source": [
    "# Checking column values\n",
    "activity_clean.moderate_recreation.value_counts(dropna=False)"
   ]
  },
  {
   "cell_type": "code",
   "execution_count": null,
   "metadata": {
    "ExecuteTime": {
     "start_time": "2021-01-31T06:53:30.373Z"
    }
   },
   "outputs": [],
   "source": [
    "# Replacing column values\n",
    "activity_clean.moderate_recreation.replace({1.000: 'Yes',\n",
    "                                            2.000: 'No', \n",
    "                                            3.000: 'No', \n",
    "                                            7.000: 'Missing', \n",
    "                                            9.000: 'Missing', \n",
    "                                            0.000: 'Missing'}, \n",
    "                                           inplace=True)"
   ]
  },
  {
   "cell_type": "code",
   "execution_count": null,
   "metadata": {
    "ExecuteTime": {
     "start_time": "2021-01-31T06:53:30.384Z"
    }
   },
   "outputs": [],
   "source": [
    "# Checking column values\n",
    "activity_clean.moderate_recreation.value_counts(dropna=False)"
   ]
  },
  {
   "cell_type": "code",
   "execution_count": null,
   "metadata": {
    "ExecuteTime": {
     "start_time": "2021-01-31T06:53:30.394Z"
    }
   },
   "outputs": [],
   "source": [
    "# Dropping old columns that are no longer needed\n",
    "activity_clean.drop(columns=['PAQ665', 'PAD320'], inplace=True)"
   ]
  },
  {
   "cell_type": "code",
   "execution_count": null,
   "metadata": {
    "ExecuteTime": {
     "start_time": "2021-01-31T06:53:30.404Z"
    }
   },
   "outputs": [],
   "source": [
    "# Checking columns\n",
    "activity_clean.info()"
   ]
  },
  {
   "cell_type": "markdown",
   "metadata": {},
   "source": [
    "## Sedentary Activity"
   ]
  },
  {
   "cell_type": "markdown",
   "metadata": {},
   "source": [
    "The sedentary activity questions changed slightly over time but were similar enough that they could be combined to not lose the information. A couple of these columns represent hours of time doing sedentary activities while another column represents minutes of sedentary activity. The hours columns were changed to minutes, added together, and then used to fill in gaps of the third column already in minutes. The column already in minutes asked people about sedentary time more directly so was considered more accurate. Only the null values of that column were filled with the addition of the other two columns that asked about sedentary activity while doing specific tasks. Even though some of the information isn't as accurate, it still provides valuable information that should be at least roughly accurate."
   ]
  },
  {
   "cell_type": "code",
   "execution_count": null,
   "metadata": {
    "ExecuteTime": {
     "start_time": "2021-01-31T06:53:30.420Z"
    }
   },
   "outputs": [],
   "source": [
    "# Checking column values\n",
    "activity_clean.PAD590.value_counts(dropna=False)"
   ]
  },
  {
   "cell_type": "code",
   "execution_count": null,
   "metadata": {
    "ExecuteTime": {
     "start_time": "2021-01-31T06:53:30.431Z"
    }
   },
   "outputs": [],
   "source": [
    "# Checking column values\n",
    "activity_clean.PAD600.value_counts(dropna=False)"
   ]
  },
  {
   "cell_type": "code",
   "execution_count": null,
   "metadata": {
    "ExecuteTime": {
     "start_time": "2021-01-31T06:53:30.445Z"
    }
   },
   "outputs": [],
   "source": [
    "# Rounding to solve issues when trying to replace values as the values were \n",
    "# actually slightly off from the way they are displayed\n",
    "activity_clean.PAD590 = activity_clean.PAD590.round(0)\n",
    "activity_clean.PAD600 = activity_clean.PAD600.round(0)\n",
    "activity_clean.PAD680 = activity_clean.PAD680.round(0)"
   ]
  },
  {
   "cell_type": "code",
   "execution_count": null,
   "metadata": {
    "ExecuteTime": {
     "start_time": "2021-01-31T06:53:30.458Z"
    }
   },
   "outputs": [],
   "source": [
    "# Change column values to minutes\n",
    "activity_clean.PAD590.replace({1.000: 60,\n",
    "                            2.000: 120, \n",
    "                            3.000: 180, \n",
    "                            4.000: 240, \n",
    "                            5.000: 300,\n",
    "                            6.000: 0, \n",
    "                            0.000: 30, \n",
    "                            77.000: 0, \n",
    "                            99.000: 0}, \n",
    "                            inplace=True)\n",
    "activity_clean.PAD600.replace({1.000: 60,\n",
    "                            2.000: 120, \n",
    "                            3.000: 180, \n",
    "                            4.000: 240, \n",
    "                            5.000: 300,\n",
    "                            6.000: 0, \n",
    "                            0.000: 30, \n",
    "                            77.000: 0, \n",
    "                            99.000: 0}, \n",
    "                            inplace=True)"
   ]
  },
  {
   "cell_type": "code",
   "execution_count": null,
   "metadata": {
    "ExecuteTime": {
     "start_time": "2021-01-31T06:53:30.473Z"
    }
   },
   "outputs": [],
   "source": [
    "# Checking column values\n",
    "activity_clean.PAD590.value_counts(dropna=False)"
   ]
  },
  {
   "cell_type": "code",
   "execution_count": null,
   "metadata": {
    "ExecuteTime": {
     "start_time": "2021-01-31T06:53:30.486Z"
    }
   },
   "outputs": [],
   "source": [
    "# Checking column values\n",
    "activity_clean.PAD600.value_counts(dropna=False)"
   ]
  },
  {
   "cell_type": "code",
   "execution_count": null,
   "metadata": {
    "ExecuteTime": {
     "start_time": "2021-01-31T06:53:30.497Z"
    }
   },
   "outputs": [],
   "source": [
    "# Filling null values with zero\n",
    "activity_clean.PAD590.fillna(0, inplace=True)\n",
    "activity_clean.PAD600.fillna(0, inplace=True)"
   ]
  },
  {
   "cell_type": "code",
   "execution_count": null,
   "metadata": {
    "ExecuteTime": {
     "start_time": "2021-01-31T06:53:30.509Z"
    }
   },
   "outputs": [],
   "source": [
    "# Checking column values\n",
    "activity_clean.PAD590.value_counts(dropna=False)"
   ]
  },
  {
   "cell_type": "code",
   "execution_count": null,
   "metadata": {
    "ExecuteTime": {
     "start_time": "2021-01-31T06:53:30.519Z"
    }
   },
   "outputs": [],
   "source": [
    "# Adding the columns together into a holding place column\n",
    "activity_clean['temp_sedentary'] = activity_clean['PAD590'] + activity_clean['PAD600'] "
   ]
  },
  {
   "cell_type": "code",
   "execution_count": null,
   "metadata": {
    "ExecuteTime": {
     "start_time": "2021-01-31T06:53:30.530Z"
    }
   },
   "outputs": [],
   "source": [
    "# Checking column values\n",
    "activity_clean.temp_sedentary.value_counts(dropna=False)"
   ]
  },
  {
   "cell_type": "code",
   "execution_count": null,
   "metadata": {
    "ExecuteTime": {
     "start_time": "2021-01-31T06:53:30.542Z"
    },
    "scrolled": true
   },
   "outputs": [],
   "source": [
    "# Checking column values\n",
    "activity_clean.PAD680.value_counts(dropna=False)"
   ]
  },
  {
   "cell_type": "code",
   "execution_count": null,
   "metadata": {
    "ExecuteTime": {
     "start_time": "2021-01-31T06:53:30.553Z"
    }
   },
   "outputs": [],
   "source": [
    "# Filling null values in the third column with the placeholder column values\n",
    "activity_clean.PAD680.fillna(activity_clean.temp_sedentary, inplace=True)"
   ]
  },
  {
   "cell_type": "code",
   "execution_count": null,
   "metadata": {
    "ExecuteTime": {
     "start_time": "2021-01-31T06:53:30.568Z"
    },
    "scrolled": true
   },
   "outputs": [],
   "source": [
    "# Checking column values\n",
    "activity_clean.PAD680.value_counts(dropna=False)"
   ]
  },
  {
   "cell_type": "code",
   "execution_count": null,
   "metadata": {
    "ExecuteTime": {
     "start_time": "2021-01-31T06:53:30.578Z"
    }
   },
   "outputs": [],
   "source": [
    "# Renaming column, replacing ambiguous values, and casting to int type\n",
    "activity_clean['sedentary_time'] = activity_clean['PAD680']\n",
    "activity_clean.sedentary_time.replace({7777: 0,\n",
    "                                9999: 0}, \n",
    "                                inplace=True)\n",
    "activity_clean['sedentary_time'] = activity_clean['sedentary_time'].astype('int64')"
   ]
  },
  {
   "cell_type": "code",
   "execution_count": null,
   "metadata": {
    "ExecuteTime": {
     "start_time": "2021-01-31T06:53:30.591Z"
    },
    "scrolled": true
   },
   "outputs": [],
   "source": [
    "# Checking value counts\n",
    "activity_clean.sedentary_time.value_counts(dropna=False)"
   ]
  },
  {
   "cell_type": "code",
   "execution_count": null,
   "metadata": {
    "ExecuteTime": {
     "start_time": "2021-01-31T06:53:30.602Z"
    }
   },
   "outputs": [],
   "source": [
    "# Dropping unnecessary columns\n",
    "activity_clean.drop(columns=['temp_sedentary', 'PAD680', 'PAD590', 'PAD600'], inplace=True)"
   ]
  },
  {
   "cell_type": "code",
   "execution_count": null,
   "metadata": {
    "ExecuteTime": {
     "start_time": "2021-01-31T06:53:30.613Z"
    }
   },
   "outputs": [],
   "source": [
    "# Checking columns\n",
    "activity_clean.info()"
   ]
  },
  {
   "cell_type": "markdown",
   "metadata": {},
   "source": [
    "## Work Activity"
   ]
  },
  {
   "cell_type": "markdown",
   "metadata": {},
   "source": [
    "The work activity questions changed slightly over time but were still similar. For some years the question of how active people are for their work activities was one question. Other years moderate work activity and vigorous work activity were asked separately. The moderate and vigorous entries were broken out and added to the respective column of moderate or vigorous from the other years to create two complete columns."
   ]
  },
  {
   "cell_type": "code",
   "execution_count": null,
   "metadata": {
    "ExecuteTime": {
     "start_time": "2021-01-31T06:53:30.632Z"
    }
   },
   "outputs": [],
   "source": [
    "# Checking value counts\n",
    "activity_clean.PAQ180.value_counts(dropna=False)"
   ]
  },
  {
   "cell_type": "code",
   "execution_count": null,
   "metadata": {
    "ExecuteTime": {
     "start_time": "2021-01-31T06:53:30.644Z"
    }
   },
   "outputs": [],
   "source": [
    "# Creating a new column that is a copy of the combined question\n",
    "activity_clean['vigorous_work'] = activity_clean['PAQ180']"
   ]
  },
  {
   "cell_type": "code",
   "execution_count": null,
   "metadata": {
    "ExecuteTime": {
     "start_time": "2021-01-31T06:53:30.656Z"
    }
   },
   "outputs": [],
   "source": [
    "# Breaking out the people who do vigorous work\n",
    "activity_clean.vigorous_work.replace({1.000: 0,\n",
    "                            2.000: 0, \n",
    "                            3.000: 0, \n",
    "                            4.000: 1, \n",
    "                            7.000: 0,\n",
    "                            9.000: 0}, \n",
    "                            inplace=True)\n",
    "activity_clean.vigorous_work.fillna(0, inplace=True)"
   ]
  },
  {
   "cell_type": "code",
   "execution_count": null,
   "metadata": {
    "ExecuteTime": {
     "start_time": "2021-01-31T06:53:30.671Z"
    }
   },
   "outputs": [],
   "source": [
    "# Checking value counts of the new column\n",
    "activity_clean.vigorous_work.value_counts(dropna=False)"
   ]
  },
  {
   "cell_type": "code",
   "execution_count": null,
   "metadata": {
    "ExecuteTime": {
     "start_time": "2021-01-31T06:53:30.681Z"
    }
   },
   "outputs": [],
   "source": [
    "# Creating a new column that is a copy of the combined question\n",
    "activity_clean['moderate_work'] = activity_clean['PAQ180']"
   ]
  },
  {
   "cell_type": "code",
   "execution_count": null,
   "metadata": {
    "ExecuteTime": {
     "start_time": "2021-01-31T06:53:30.692Z"
    }
   },
   "outputs": [],
   "source": [
    "# Breaking out the people who do moderate work activities\n",
    "activity_clean.moderate_work.replace({1.000: 0,\n",
    "                            2.000: 0, \n",
    "                            3.000: 1, \n",
    "                            4.000: 0, \n",
    "                            7.000: 0,\n",
    "                            9.000: 0}, \n",
    "                            inplace=True)\n",
    "activity_clean.moderate_work.fillna(0, inplace=True)"
   ]
  },
  {
   "cell_type": "code",
   "execution_count": null,
   "metadata": {
    "ExecuteTime": {
     "start_time": "2021-01-31T06:53:30.702Z"
    }
   },
   "outputs": [],
   "source": [
    "# Checking value counts\n",
    "activity_clean.moderate_work.value_counts(dropna=False)"
   ]
  },
  {
   "cell_type": "code",
   "execution_count": null,
   "metadata": {
    "ExecuteTime": {
     "start_time": "2021-01-31T06:53:30.713Z"
    }
   },
   "outputs": [],
   "source": [
    "# Checking value counts\n",
    "activity_clean.PAQ605.value_counts(dropna=False)"
   ]
  },
  {
   "cell_type": "code",
   "execution_count": null,
   "metadata": {
    "ExecuteTime": {
     "start_time": "2021-01-31T06:53:30.724Z"
    }
   },
   "outputs": [],
   "source": [
    "# Fixing column values and filling null values\n",
    "activity_clean.PAQ605.replace({2.000: 0, \n",
    "                            7.000: 0,\n",
    "                            9.000: 0}, \n",
    "                            inplace=True)\n",
    "activity_clean.PAQ605.fillna(0, inplace=True)"
   ]
  },
  {
   "cell_type": "code",
   "execution_count": null,
   "metadata": {
    "ExecuteTime": {
     "start_time": "2021-01-31T06:53:30.737Z"
    }
   },
   "outputs": [],
   "source": [
    "# Checking column values\n",
    "activity_clean.PAQ605.value_counts(dropna=False)"
   ]
  },
  {
   "cell_type": "code",
   "execution_count": null,
   "metadata": {
    "ExecuteTime": {
     "start_time": "2021-01-31T06:53:30.751Z"
    }
   },
   "outputs": [],
   "source": [
    "# Combining the vigorous work activities columns\n",
    "activity_clean['vigorous_work'] = activity_clean['vigorous_work'] + activity_clean['PAQ605']"
   ]
  },
  {
   "cell_type": "code",
   "execution_count": null,
   "metadata": {
    "ExecuteTime": {
     "start_time": "2021-01-31T06:53:30.761Z"
    }
   },
   "outputs": [],
   "source": [
    "# Checking column values\n",
    "activity_clean['vigorous_work'].value_counts(dropna=False)"
   ]
  },
  {
   "cell_type": "code",
   "execution_count": null,
   "metadata": {
    "ExecuteTime": {
     "start_time": "2021-01-31T06:53:30.772Z"
    }
   },
   "outputs": [],
   "source": [
    "# Checking column values\n",
    "activity_clean.PAQ620.value_counts(dropna=False)"
   ]
  },
  {
   "cell_type": "code",
   "execution_count": null,
   "metadata": {
    "ExecuteTime": {
     "start_time": "2021-01-31T06:53:30.783Z"
    }
   },
   "outputs": [],
   "source": [
    "# Fixing column values and filling null values\n",
    "activity_clean.PAQ620.replace({2.000: 0, \n",
    "                            7.000: 0,\n",
    "                            9.000: 0}, \n",
    "                            inplace=True)\n",
    "activity_clean.PAQ620.fillna(0, inplace=True)"
   ]
  },
  {
   "cell_type": "code",
   "execution_count": null,
   "metadata": {
    "ExecuteTime": {
     "start_time": "2021-01-31T06:53:30.794Z"
    }
   },
   "outputs": [],
   "source": [
    "# Checking column values\n",
    "activity_clean.PAQ620.value_counts(dropna=False)"
   ]
  },
  {
   "cell_type": "code",
   "execution_count": null,
   "metadata": {
    "ExecuteTime": {
     "start_time": "2021-01-31T06:53:30.807Z"
    }
   },
   "outputs": [],
   "source": [
    "# Combining the moderate work activities columns\n",
    "activity_clean['moderate_work'] = activity_clean['moderate_work'] + activity_clean['PAQ620']"
   ]
  },
  {
   "cell_type": "code",
   "execution_count": null,
   "metadata": {
    "ExecuteTime": {
     "start_time": "2021-01-31T06:53:30.822Z"
    }
   },
   "outputs": [],
   "source": [
    "# Checking column values\n",
    "activity_clean['moderate_work'].value_counts(dropna=False)"
   ]
  },
  {
   "cell_type": "code",
   "execution_count": null,
   "metadata": {
    "ExecuteTime": {
     "start_time": "2021-01-31T06:53:30.832Z"
    }
   },
   "outputs": [],
   "source": [
    "# Casting columns to be int type\n",
    "activity_clean['moderate_work'] = activity_clean['moderate_work'].astype('int64')\n",
    "activity_clean['vigorous_work'] = activity_clean['vigorous_work'].astype('int64')"
   ]
  },
  {
   "cell_type": "code",
   "execution_count": null,
   "metadata": {
    "ExecuteTime": {
     "start_time": "2021-01-31T06:53:30.842Z"
    }
   },
   "outputs": [],
   "source": [
    "# Dropping old columns that are no longer needed\n",
    "activity_clean.drop(columns=['PAQ180', 'PAQ605', 'PAQ620'], inplace=True)"
   ]
  },
  {
   "cell_type": "code",
   "execution_count": null,
   "metadata": {
    "ExecuteTime": {
     "start_time": "2021-01-31T06:53:30.852Z"
    }
   },
   "outputs": [],
   "source": [
    "# Checking null values\n",
    "activity_clean.isna().sum()"
   ]
  },
  {
   "cell_type": "code",
   "execution_count": null,
   "metadata": {
    "ExecuteTime": {
     "start_time": "2021-01-31T06:53:30.863Z"
    }
   },
   "outputs": [],
   "source": [
    "# Checking the dataframe\n",
    "activity_clean.head()"
   ]
  },
  {
   "cell_type": "code",
   "execution_count": null,
   "metadata": {
    "ExecuteTime": {
     "start_time": "2021-01-31T06:53:30.873Z"
    }
   },
   "outputs": [],
   "source": [
    "activity_clean.info()"
   ]
  },
  {
   "cell_type": "markdown",
   "metadata": {},
   "source": [
    "# Alcohol Use"
   ]
  },
  {
   "cell_type": "markdown",
   "metadata": {},
   "source": [
    "The files gathered for this alcohol use data can be found on the NHANES website: https://wwwn.cdc.gov/nchs/nhanes/default.aspx. The exact files can be downloaded for each year group by selecting the year, choosing \"Questionnaire Data\", and clicking the link for the XPT file next to \"Alcohol Use\". Each column name can be looked up using the \"Search Variables\" tool on the NHANES website to see what the data represents.\n",
    "\n",
    "Data that was not consistent across years could not be used but there were some cases where questions changed but still were getting at the same information so such questions could be combined. Columns were renamed for readability and many values were renamed as well. In an effort to emulate the way all information may not be available for every patient, missing values were filled as \"missing\" or 0. There are many instances in the fields where people were allowed to refuse to answer or answer with \"I don't know\". Such answers were treated as null values and filled with \"missing\" or 0. Because all the null values were filled the same way with no bearing on data leakage, this was done before the train-test split so it would only need to be handled on one set of data.\n"
   ]
  },
  {
   "cell_type": "code",
   "execution_count": null,
   "metadata": {
    "ExecuteTime": {
     "start_time": "2021-01-31T06:53:30.891Z"
    }
   },
   "outputs": [],
   "source": [
    "# Combining all the files for the alcohol use information\n",
    "path = r'Data/AlcoholUse'\n",
    "df_alcohol = pf.glob_concat(path, '*.XPT')"
   ]
  },
  {
   "cell_type": "code",
   "execution_count": null,
   "metadata": {
    "ExecuteTime": {
     "start_time": "2021-01-31T06:53:30.904Z"
    }
   },
   "outputs": [],
   "source": [
    "# Checking the dataframe\n",
    "df_alcohol.head()"
   ]
  },
  {
   "cell_type": "code",
   "execution_count": null,
   "metadata": {
    "ExecuteTime": {
     "start_time": "2021-01-31T06:53:30.914Z"
    }
   },
   "outputs": [],
   "source": [
    "df_alcohol.info()"
   ]
  },
  {
   "cell_type": "code",
   "execution_count": null,
   "metadata": {
    "ExecuteTime": {
     "start_time": "2021-01-31T06:53:30.925Z"
    }
   },
   "outputs": [],
   "source": [
    "# Listing the columns to look each one up\n",
    "df_alcohol.columns"
   ]
  },
  {
   "cell_type": "code",
   "execution_count": null,
   "metadata": {
    "ExecuteTime": {
     "start_time": "2021-01-31T06:53:30.935Z"
    }
   },
   "outputs": [],
   "source": [
    "# Listing the columns to keep and creating a new dataframe\n",
    "alcohol_tokeep = ['ALQ120Q', 'ALQ120U', 'ALQ121', 'ALQ111', 'ALQ110', 'ALQ130']\n",
    "alcohol_clean = pf.cols_tokeep(df_alcohol, alcohol_tokeep)"
   ]
  },
  {
   "cell_type": "code",
   "execution_count": null,
   "metadata": {
    "ExecuteTime": {
     "start_time": "2021-01-31T06:53:30.945Z"
    }
   },
   "outputs": [],
   "source": [
    "# Checking the new dataframe\n",
    "alcohol_clean.info()"
   ]
  },
  {
   "cell_type": "markdown",
   "metadata": {},
   "source": [
    "## Lifetime Alcohol Consumption"
   ]
  },
  {
   "cell_type": "markdown",
   "metadata": {},
   "source": [
    "The lifetime alcohol consumption question changed slightly over time but was still very similar. For these columns, the null values are filled with zeros then everything is added across the rows to a single column to combine all the values into one. The values are then replaced as yes, no, or missing as there is information gain from an overt no answer that would be lost in a single 0/1 column."
   ]
  },
  {
   "cell_type": "code",
   "execution_count": null,
   "metadata": {
    "ExecuteTime": {
     "start_time": "2021-01-31T06:53:30.960Z"
    }
   },
   "outputs": [],
   "source": [
    "# Checking column values\n",
    "alcohol_clean.ALQ110.value_counts(dropna=False)"
   ]
  },
  {
   "cell_type": "code",
   "execution_count": null,
   "metadata": {
    "ExecuteTime": {
     "start_time": "2021-01-31T06:53:30.972Z"
    }
   },
   "outputs": [],
   "source": [
    "# Checking column values\n",
    "alcohol_clean.ALQ111.value_counts(dropna=False)"
   ]
  },
  {
   "cell_type": "code",
   "execution_count": null,
   "metadata": {
    "ExecuteTime": {
     "start_time": "2021-01-31T06:53:30.985Z"
    }
   },
   "outputs": [],
   "source": [
    "# Filling null values\n",
    "alcohol_clean.ALQ110.fillna(0, inplace=True)\n",
    "alcohol_clean.ALQ111.fillna(0, inplace=True)"
   ]
  },
  {
   "cell_type": "code",
   "execution_count": null,
   "metadata": {
    "ExecuteTime": {
     "start_time": "2021-01-31T06:53:30.995Z"
    }
   },
   "outputs": [],
   "source": [
    "# Adding columns together into a new column\n",
    "alcohol_clean['lifetime_alcohol_consumption'] = alcohol_clean['ALQ110'] + alcohol_clean['ALQ111']"
   ]
  },
  {
   "cell_type": "code",
   "execution_count": null,
   "metadata": {
    "ExecuteTime": {
     "start_time": "2021-01-31T06:53:31.005Z"
    }
   },
   "outputs": [],
   "source": [
    "# Checking that the column values are as expected\n",
    "alcohol_clean.lifetime_alcohol_consumption.value_counts(dropna=True)"
   ]
  },
  {
   "cell_type": "code",
   "execution_count": null,
   "metadata": {
    "ExecuteTime": {
     "start_time": "2021-01-31T06:53:31.015Z"
    }
   },
   "outputs": [],
   "source": [
    "# Replacing column values\n",
    "alcohol_clean.lifetime_alcohol_consumption.replace({1.000: 'Yes',\n",
    "                                                2.000: 'No', \n",
    "                                                7.000: 'Missing', \n",
    "                                                9.000: 'Missing', \n",
    "                                                0.000: 'Missing'}, \n",
    "                                               inplace=True)"
   ]
  },
  {
   "cell_type": "code",
   "execution_count": null,
   "metadata": {
    "ExecuteTime": {
     "start_time": "2021-01-31T06:53:31.025Z"
    }
   },
   "outputs": [],
   "source": [
    "# Checking column values\n",
    "alcohol_clean.lifetime_alcohol_consumption.value_counts(dropna=True)"
   ]
  },
  {
   "cell_type": "code",
   "execution_count": null,
   "metadata": {
    "ExecuteTime": {
     "start_time": "2021-01-31T06:53:31.035Z"
    }
   },
   "outputs": [],
   "source": [
    "# Dropping old columns\n",
    "alcohol_clean.drop(columns=['ALQ110', 'ALQ111'], inplace=True)"
   ]
  },
  {
   "cell_type": "code",
   "execution_count": null,
   "metadata": {
    "ExecuteTime": {
     "start_time": "2021-01-31T06:53:31.051Z"
    }
   },
   "outputs": [],
   "source": [
    "# Checking the dataframe information\n",
    "alcohol_clean.info()"
   ]
  },
  {
   "cell_type": "markdown",
   "metadata": {},
   "source": [
    "## Drinking Frequency"
   ]
  },
  {
   "cell_type": "markdown",
   "metadata": {},
   "source": [
    "The drinking frequency questions had to be manipulated to be combined into one as the units were different over time. Some years asked for number of drinks in general buckets of frequency and some years had two fields where a person would select a number and then a unit for the next question (for example, \"5\" and \"month\"). The values for the two different ways of asking the question were calculated out as number of drinks in the past year, then combined."
   ]
  },
  {
   "cell_type": "code",
   "execution_count": null,
   "metadata": {
    "ExecuteTime": {
     "start_time": "2021-01-31T06:53:31.065Z"
    },
    "scrolled": true
   },
   "outputs": [],
   "source": [
    "# Checking column values\n",
    "alcohol_clean.ALQ120Q.value_counts(dropna=False)"
   ]
  },
  {
   "cell_type": "code",
   "execution_count": null,
   "metadata": {
    "ExecuteTime": {
     "start_time": "2021-01-31T06:53:31.081Z"
    }
   },
   "outputs": [],
   "source": [
    "# Checking column values\n",
    "alcohol_clean.ALQ120U.value_counts(dropna=False)"
   ]
  },
  {
   "cell_type": "code",
   "execution_count": null,
   "metadata": {
    "ExecuteTime": {
     "start_time": "2021-01-31T06:53:31.094Z"
    }
   },
   "outputs": [],
   "source": [
    "# Replacing column values to do some basic math\n",
    "alcohol_clean.ALQ120U.replace({1.000: 52,\n",
    "                            2.000: 12, \n",
    "                            3.000: 1}, \n",
    "                            inplace=True)\n",
    "\n",
    "# Fill null values with -1 so that numbers are not multiplied by zero.\n",
    "alcohol_clean.ALQ120U.fillna(-1, inplace=True)"
   ]
  },
  {
   "cell_type": "code",
   "execution_count": null,
   "metadata": {
    "ExecuteTime": {
     "start_time": "2021-01-31T06:53:31.104Z"
    }
   },
   "outputs": [],
   "source": [
    "# Checking column values\n",
    "alcohol_clean.ALQ120U.value_counts(dropna=False)"
   ]
  },
  {
   "cell_type": "code",
   "execution_count": null,
   "metadata": {
    "ExecuteTime": {
     "start_time": "2021-01-31T06:53:31.117Z"
    }
   },
   "outputs": [],
   "source": [
    "# Replacing ambiguous answers with zero and filling null values\n",
    "alcohol_clean.ALQ120Q.replace({999.000: 0,\n",
    "                            777.000: 0}, \n",
    "                            inplace=True)\n",
    "alcohol_clean.ALQ120Q.fillna(0, inplace=True)"
   ]
  },
  {
   "cell_type": "code",
   "execution_count": null,
   "metadata": {
    "ExecuteTime": {
     "start_time": "2021-01-31T06:53:31.131Z"
    }
   },
   "outputs": [],
   "source": [
    "# Multiplying the number of drinks with the unit of drinks\n",
    "alcohol_clean['drinks_past_year'] = alcohol_clean['ALQ120U'] * alcohol_clean['ALQ120Q']"
   ]
  },
  {
   "cell_type": "code",
   "execution_count": null,
   "metadata": {
    "ExecuteTime": {
     "start_time": "2021-01-31T06:53:31.146Z"
    },
    "scrolled": true
   },
   "outputs": [],
   "source": [
    "# Checking column values\n",
    "alcohol_clean['drinks_past_year'].value_counts(dropna=False)"
   ]
  },
  {
   "cell_type": "code",
   "execution_count": null,
   "metadata": {
    "ExecuteTime": {
     "start_time": "2021-01-31T06:53:31.160Z"
    }
   },
   "outputs": [],
   "source": [
    "# Checking column values\n",
    "alcohol_clean.ALQ121.value_counts(dropna=False)"
   ]
  },
  {
   "cell_type": "code",
   "execution_count": null,
   "metadata": {
    "ExecuteTime": {
     "start_time": "2021-01-31T06:53:31.173Z"
    }
   },
   "outputs": [],
   "source": [
    "# Replacing bucketed numbers with the number of drinks per year they represent\n",
    "alcohol_clean.ALQ121.replace({1.000: 365,\n",
    "                            2.000: 312, \n",
    "                            3.000: 182, \n",
    "                            4.000: 104,\n",
    "                            5.000: 52, \n",
    "                            6.000: 30, \n",
    "                            7.000: 12,\n",
    "                            8.000: 9, \n",
    "                            9.000: 5, \n",
    "                            10.000: 2,\n",
    "                            77.000: 0, \n",
    "                            99.000: 0}, \n",
    "                            inplace=True)\n",
    "# Fill null values\n",
    "alcohol_clean.ALQ121.fillna(0, inplace=True)"
   ]
  },
  {
   "cell_type": "code",
   "execution_count": null,
   "metadata": {
    "ExecuteTime": {
     "start_time": "2021-01-31T06:53:31.183Z"
    }
   },
   "outputs": [],
   "source": [
    "# Checking column values\n",
    "alcohol_clean.ALQ121.value_counts(dropna=False)"
   ]
  },
  {
   "cell_type": "code",
   "execution_count": null,
   "metadata": {
    "ExecuteTime": {
     "start_time": "2021-01-31T06:53:31.194Z"
    }
   },
   "outputs": [],
   "source": [
    "# Adding the two columns together\n",
    "alcohol_clean['drinks_past_year'] = alcohol_clean['drinks_past_year'] + alcohol_clean['ALQ121']"
   ]
  },
  {
   "cell_type": "code",
   "execution_count": null,
   "metadata": {
    "ExecuteTime": {
     "start_time": "2021-01-31T06:53:31.205Z"
    }
   },
   "outputs": [],
   "source": [
    "# Casting as int type\n",
    "alcohol_clean['drinks_past_year'] =alcohol_clean['drinks_past_year'].astype('int64')"
   ]
  },
  {
   "cell_type": "code",
   "execution_count": null,
   "metadata": {
    "ExecuteTime": {
     "start_time": "2021-01-31T06:53:31.215Z"
    },
    "scrolled": true
   },
   "outputs": [],
   "source": [
    "# Checking column values\n",
    "alcohol_clean['drinks_past_year'].value_counts(dropna=False)"
   ]
  },
  {
   "cell_type": "code",
   "execution_count": null,
   "metadata": {
    "ExecuteTime": {
     "start_time": "2021-01-31T06:53:31.226Z"
    }
   },
   "outputs": [],
   "source": [
    "# Dropping old columns\n",
    "alcohol_clean.drop(columns=['ALQ120U', 'ALQ120Q', 'ALQ121'], inplace=True)"
   ]
  },
  {
   "cell_type": "code",
   "execution_count": null,
   "metadata": {
    "ExecuteTime": {
     "start_time": "2021-01-31T06:53:31.237Z"
    }
   },
   "outputs": [],
   "source": [
    "# Checking column info\n",
    "alcohol_clean.info()"
   ]
  },
  {
   "cell_type": "markdown",
   "metadata": {},
   "source": [
    "## Drinks Per Occasion"
   ]
  },
  {
   "cell_type": "markdown",
   "metadata": {},
   "source": [
    "The drinks per occasion column only needed renaming and cleaning of column values as has been done previously."
   ]
  },
  {
   "cell_type": "code",
   "execution_count": null,
   "metadata": {
    "ExecuteTime": {
     "start_time": "2021-01-31T06:53:31.255Z"
    },
    "scrolled": true
   },
   "outputs": [],
   "source": [
    "# Checking column values\n",
    "alcohol_clean.ALQ130.value_counts(dropna=False)"
   ]
  },
  {
   "cell_type": "code",
   "execution_count": null,
   "metadata": {
    "ExecuteTime": {
     "start_time": "2021-01-31T06:53:31.265Z"
    }
   },
   "outputs": [],
   "source": [
    "# Replacing ambiguous values and filling null values\n",
    "alcohol_clean.ALQ130.replace({999.000: 0,\n",
    "                            777.000: 0}, \n",
    "                            inplace=True)\n",
    "alcohol_clean.ALQ130.fillna(0, inplace=True)"
   ]
  },
  {
   "cell_type": "code",
   "execution_count": null,
   "metadata": {
    "ExecuteTime": {
     "start_time": "2021-01-31T06:53:31.276Z"
    }
   },
   "outputs": [],
   "source": [
    "# Renaming column and casting to int type\n",
    "alcohol_clean.rename(columns={'ALQ130': 'drinks_per_occasion'}, inplace=True)\n",
    "alcohol_clean['drinks_per_occasion'] = alcohol_clean['drinks_per_occasion'].astype('int64')"
   ]
  },
  {
   "cell_type": "code",
   "execution_count": null,
   "metadata": {
    "ExecuteTime": {
     "start_time": "2021-01-31T06:53:31.290Z"
    },
    "scrolled": true
   },
   "outputs": [],
   "source": [
    "# Checking that column values are as expected\n",
    "alcohol_clean['drinks_per_occasion'].value_counts(dropna=False)"
   ]
  },
  {
   "cell_type": "code",
   "execution_count": null,
   "metadata": {
    "ExecuteTime": {
     "start_time": "2021-01-31T06:53:31.302Z"
    }
   },
   "outputs": [],
   "source": [
    "# Checking for null values\n",
    "alcohol_clean.isna().sum()"
   ]
  },
  {
   "cell_type": "code",
   "execution_count": null,
   "metadata": {
    "ExecuteTime": {
     "start_time": "2021-01-31T06:53:31.315Z"
    }
   },
   "outputs": [],
   "source": [
    "# Checking the dataframe\n",
    "alcohol_clean.head()"
   ]
  },
  {
   "cell_type": "code",
   "execution_count": null,
   "metadata": {
    "ExecuteTime": {
     "start_time": "2021-01-31T06:53:31.326Z"
    }
   },
   "outputs": [],
   "source": [
    "alcohol_clean.info()"
   ]
  },
  {
   "cell_type": "markdown",
   "metadata": {},
   "source": [
    "# Physical Functioning"
   ]
  },
  {
   "cell_type": "markdown",
   "metadata": {},
   "source": [
    "The files gathered for this physical functioning data can be found on the NHANES website: https://wwwn.cdc.gov/nchs/nhanes/default.aspx. The exact files can be downloaded for each year group by selecting the year, choosing \"Questionnaire Data\", and clicking the link for the XPT file next to \"Physical Functioning\". Each column name can be looked up using the \"Search Variables\" tool on the NHANES website to see what the data represents.\n",
    "\n",
    "Data that was not consistent across years could not be used but there were some cases where questions changed but still were getting at the same information so such questions could be combined. Columns were renamed for readability and many values were renamed as well. In an effort to emulate the way all information may not be available for every patient, missing values were filled as \"missing\" or 0. There are many instances in the fields where people were allowed to refuse to answer or answer with \"I don't know\". Such answers were treated as null values and filled with \"missing\" or 0. Because all the null values were filled the same way with no bearing on data leakage, this was done before the train-test split so it would only need to be handled on one set of data.\n"
   ]
  },
  {
   "cell_type": "code",
   "execution_count": null,
   "metadata": {
    "ExecuteTime": {
     "start_time": "2021-01-31T06:53:31.345Z"
    }
   },
   "outputs": [],
   "source": [
    "# Combining all the files for the physical functioning information\n",
    "path = r'Data/PhysicalFunctioning'\n",
    "df_function = pf.glob_concat(path, '*.XPT')"
   ]
  },
  {
   "cell_type": "code",
   "execution_count": null,
   "metadata": {
    "ExecuteTime": {
     "start_time": "2021-01-31T06:53:31.361Z"
    }
   },
   "outputs": [],
   "source": [
    "# checking the dataframe\n",
    "df_function.head()"
   ]
  },
  {
   "cell_type": "code",
   "execution_count": null,
   "metadata": {
    "ExecuteTime": {
     "start_time": "2021-01-31T06:53:31.374Z"
    },
    "scrolled": true
   },
   "outputs": [],
   "source": [
    "df_function.info()"
   ]
  },
  {
   "cell_type": "code",
   "execution_count": null,
   "metadata": {
    "ExecuteTime": {
     "start_time": "2021-01-31T06:53:31.386Z"
    }
   },
   "outputs": [],
   "source": [
    "# Listing the columns to look each one up\n",
    "df_function.columns"
   ]
  },
  {
   "cell_type": "code",
   "execution_count": null,
   "metadata": {
    "ExecuteTime": {
     "start_time": "2021-01-31T06:53:31.398Z"
    }
   },
   "outputs": [],
   "source": [
    "# Listing the columns to keep and creating a new dataframe\n",
    "function_tokeep = ['PFQ090', 'PFQ049', 'PFQ051', 'PFQ054', 'PFQ057', 'PFQ059', \n",
    "                   'PFQ063A', 'PFQ063B', 'PFQ063C', 'PFQ063D', 'PFQ063E']\n",
    "function_clean = pf.cols_tokeep(df_function, function_tokeep)"
   ]
  },
  {
   "cell_type": "code",
   "execution_count": null,
   "metadata": {
    "ExecuteTime": {
     "start_time": "2021-01-31T06:53:31.409Z"
    }
   },
   "outputs": [],
   "source": [
    "# Checking the new dataframe\n",
    "function_clean.info()"
   ]
  },
  {
   "cell_type": "markdown",
   "metadata": {},
   "source": [
    "## Renaming Columns"
   ]
  },
  {
   "cell_type": "markdown",
   "metadata": {},
   "source": [
    "The information of the columns can be looked up on the NHANES website, https://wwwn.cdc.gov/nchs/nhanes/default.aspx, using the \"Search Variables\" tool. Each column is renamed for readability."
   ]
  },
  {
   "cell_type": "code",
   "execution_count": null,
   "metadata": {
    "ExecuteTime": {
     "start_time": "2021-01-31T06:53:31.426Z"
    }
   },
   "outputs": [],
   "source": [
    "# Listing columns to look each one up for naming\n",
    "function_clean.columns"
   ]
  },
  {
   "cell_type": "code",
   "execution_count": null,
   "metadata": {
    "ExecuteTime": {
     "start_time": "2021-01-31T06:53:31.441Z"
    }
   },
   "outputs": [],
   "source": [
    "# Renaming columns for readability\n",
    "function_clean.rename(columns={'PFQ049': 'cant_work', \n",
    "                               'PFQ051': 'limited_work', \n",
    "                               'PFQ054': 'walking_equipment', \n",
    "                               'PFQ057': 'memory_problems', \n",
    "                               'PFQ059': 'limitations', \n",
    "                               'PFQ090': 'healthcare_equipment',\n",
    "                               'PFQ063A': 'health_problem1', \n",
    "                               'PFQ063B': 'health_problem2',\n",
    "                               'PFQ063C': 'health_problem3', \n",
    "                               'PFQ063D': 'health_problem4', \n",
    "                               'PFQ063E': 'health_problem5'}, \n",
    "                                  inplace=True)"
   ]
  },
  {
   "cell_type": "code",
   "execution_count": null,
   "metadata": {
    "ExecuteTime": {
     "start_time": "2021-01-31T06:53:31.457Z"
    }
   },
   "outputs": [],
   "source": [
    "# Checking the column names\n",
    "function_clean.info()"
   ]
  },
  {
   "cell_type": "markdown",
   "metadata": {},
   "source": [
    "## Clean Column Values"
   ]
  },
  {
   "cell_type": "markdown",
   "metadata": {},
   "source": [
    "In an effort to emulate the way all information may not be available for every patient, missing values were filled as \"missing\" or 0. There are many instances in the fields where people were allowed to refuse to answer or answer with \"I don't know\". Such answers were treated as null values and filled with \"missing\" or 0. Because all the null values were filled the same way with no bearing on data leakage, this was done before the train-test split so it would only need to be handled on one set of data."
   ]
  },
  {
   "cell_type": "code",
   "execution_count": null,
   "metadata": {
    "ExecuteTime": {
     "start_time": "2021-01-31T06:53:31.482Z"
    }
   },
   "outputs": [],
   "source": [
    "# Checking all the values of the dataframe\n",
    "pf.val_counts(function_clean)"
   ]
  },
  {
   "cell_type": "code",
   "execution_count": null,
   "metadata": {
    "ExecuteTime": {
     "start_time": "2021-01-31T06:53:31.497Z"
    }
   },
   "outputs": [],
   "source": [
    "# Listing columns that need the same processing\n",
    "function_similar_cols = ['cant_work', 'limited_work', 'walking_equipment', \n",
    "                         'memory_problems', 'limitations', 'healthcare_equipment']"
   ]
  },
  {
   "cell_type": "code",
   "execution_count": null,
   "metadata": {
    "ExecuteTime": {
     "start_time": "2021-01-31T06:53:31.509Z"
    }
   },
   "outputs": [],
   "source": [
    "# Looping through columns to replace values, fill nulls, and cast to int\n",
    "for col in function_similar_cols:\n",
    "    function_clean[col].replace({2.000: 0, \n",
    "                                 7.000: 0, \n",
    "                                 9.000: 0}, \n",
    "                                inplace=True)\n",
    "    function_clean[col].fillna(0, inplace=True)\n",
    "    function_clean[col] = function_clean[col].astype('int64')"
   ]
  },
  {
   "cell_type": "code",
   "execution_count": null,
   "metadata": {
    "ExecuteTime": {
     "start_time": "2021-01-31T06:53:31.523Z"
    }
   },
   "outputs": [],
   "source": [
    "# Rechecking column values\n",
    "pf.val_counts(function_clean)"
   ]
  },
  {
   "cell_type": "markdown",
   "metadata": {},
   "source": [
    "## Health Problems"
   ]
  },
  {
   "cell_type": "markdown",
   "metadata": {},
   "source": [
    "The health problem questions allowed people to list up to five health problems, one for each question. These columns had the values replaced for readability, were one hot encoded, and the columns referring to each health problem were added together to create column counts for people who had each health problem. "
   ]
  },
  {
   "cell_type": "code",
   "execution_count": null,
   "metadata": {
    "ExecuteTime": {
     "start_time": "2021-01-31T06:53:31.543Z"
    }
   },
   "outputs": [],
   "source": [
    "# Start with empty list\n",
    "health_problem_cols = []\n",
    "# Loop through each column and add only those with specific string in name to list\n",
    "for col in function_clean.columns:\n",
    "    if 'health_problem' in col:\n",
    "        health_problem_cols.append(col)\n",
    "health_problem_cols"
   ]
  },
  {
   "cell_type": "code",
   "execution_count": null,
   "metadata": {
    "ExecuteTime": {
     "start_time": "2021-01-31T06:53:31.555Z"
    }
   },
   "outputs": [],
   "source": [
    "# Loop through the list of columns to replace column values and full nulls\n",
    "for col in health_problem_cols:\n",
    "    function_clean[col].replace({10.000: 'Arthritis', \n",
    "                                11.000: 'Back or Neck', \n",
    "                                12.000: 'Birth Defect', \n",
    "                                13.000: 'Cancer', \n",
    "                                14.000: 'Emotional', \n",
    "                                15.000: 'Other Developmental', \n",
    "                                16.000: 'Diabetes', \n",
    "                                17.000: 'Bone or Joint', \n",
    "                                18.000: 'Hearing',\n",
    "                                19.000: 'Heart', \n",
    "                                20.000: 'Blood Pressure', \n",
    "                                21.000: 'Breathing', \n",
    "                                22.000: 'Mental Retardation', \n",
    "                                23.000: 'Other Injury', \n",
    "                                24.000: 'Senility', \n",
    "                                25.000: 'Stroke', \n",
    "                                26.000: 'Vision',\n",
    "                                27.000: 'Weight', \n",
    "                                28.000: 'Other Impairment', \n",
    "                                77.000: 'None', \n",
    "                                99.000: 'None'},\n",
    "                               inplace=True)\n",
    "    function_clean[col].fillna('None', inplace=True)"
   ]
  },
  {
   "cell_type": "code",
   "execution_count": null,
   "metadata": {
    "ExecuteTime": {
     "start_time": "2021-01-31T06:53:31.569Z"
    }
   },
   "outputs": [],
   "source": [
    "# Looking at the values for the columns\n",
    "for col in health_problem_cols:\n",
    "    display(function_clean[col].value_counts(dropna=False))"
   ]
  },
  {
   "cell_type": "code",
   "execution_count": null,
   "metadata": {
    "ExecuteTime": {
     "start_time": "2021-01-31T06:53:31.583Z"
    }
   },
   "outputs": [],
   "source": [
    "# Create an encoder object\n",
    "from sklearn.preprocessing import OneHotEncoder\n",
    "encoder = OneHotEncoder(handle_unknown='ignore', sparse=False)"
   ]
  },
  {
   "cell_type": "code",
   "execution_count": null,
   "metadata": {
    "ExecuteTime": {
     "start_time": "2021-01-31T06:53:31.596Z"
    }
   },
   "outputs": [],
   "source": [
    "# Fit the encoder and get the new column names\n",
    "ohe_health_problems = encoder.fit_transform(function_clean[health_problem_cols])\n",
    "problem_col_names = encoder.get_feature_names(health_problem_cols)"
   ]
  },
  {
   "cell_type": "code",
   "execution_count": null,
   "metadata": {
    "ExecuteTime": {
     "start_time": "2021-01-31T06:53:31.608Z"
    }
   },
   "outputs": [],
   "source": [
    "# Create a temporary dataframe\n",
    "ohe_problems_df = pd.DataFrame(ohe_health_problems, columns=problem_col_names, \n",
    "                               index=function_clean.index)"
   ]
  },
  {
   "cell_type": "code",
   "execution_count": null,
   "metadata": {
    "ExecuteTime": {
     "start_time": "2021-01-31T06:53:31.627Z"
    }
   },
   "outputs": [],
   "source": [
    "# Checking the new dataframe\n",
    "ohe_problems_df.head()"
   ]
  },
  {
   "cell_type": "code",
   "execution_count": null,
   "metadata": {
    "ExecuteTime": {
     "start_time": "2021-01-31T06:53:31.641Z"
    }
   },
   "outputs": [],
   "source": [
    "# Checking the columns of the dataframe\n",
    "ohe_problems_df.info()"
   ]
  },
  {
   "cell_type": "code",
   "execution_count": null,
   "metadata": {
    "ExecuteTime": {
     "start_time": "2021-01-31T06:53:31.665Z"
    }
   },
   "outputs": [],
   "source": [
    "# Checking the value counts of the dataframe\n",
    "pf.val_counts(ohe_problems_df)"
   ]
  },
  {
   "cell_type": "code",
   "execution_count": null,
   "metadata": {
    "ExecuteTime": {
     "start_time": "2021-01-31T06:53:31.680Z"
    }
   },
   "outputs": [],
   "source": [
    "# Creating a list of all the health problem possibilities \n",
    "problems_list = list(function_clean.health_problem1.unique())\n",
    "problems_list"
   ]
  },
  {
   "cell_type": "code",
   "execution_count": null,
   "metadata": {
    "ExecuteTime": {
     "start_time": "2021-01-31T06:53:31.696Z"
    }
   },
   "outputs": [],
   "source": [
    "# Looping thruogh each problem to add the similar columns together into the original dataframe\n",
    "for item in problems_list:\n",
    "    function_clean[f'health_problem_{item}'] = ohe_problems_df[f'health_problem1_{item}'] + ohe_problems_df[f'health_problem2_{item}'] + ohe_problems_df[f'health_problem3_{item}'] + ohe_problems_df[f'health_problem4_{item}'] + ohe_problems_df[f'health_problem5_{item}']"
   ]
  },
  {
   "cell_type": "code",
   "execution_count": null,
   "metadata": {
    "ExecuteTime": {
     "start_time": "2021-01-31T06:53:31.710Z"
    }
   },
   "outputs": [],
   "source": [
    "# Looking at the new columns\n",
    "function_clean.info()"
   ]
  },
  {
   "cell_type": "code",
   "execution_count": null,
   "metadata": {
    "ExecuteTime": {
     "start_time": "2021-01-31T06:53:31.724Z"
    }
   },
   "outputs": [],
   "source": [
    "# Dropping the none columns as that was only a way to fill ambiguous values\n",
    "# and not an overt choice\n",
    "function_clean.drop(columns=[*health_problem_cols, 'health_problem_None'], inplace=True)"
   ]
  },
  {
   "cell_type": "code",
   "execution_count": null,
   "metadata": {
    "ExecuteTime": {
     "start_time": "2021-01-31T06:53:31.739Z"
    }
   },
   "outputs": [],
   "source": [
    "# Creating a new list of the health problem columns\n",
    "health_problem_cols = []\n",
    "for col in function_clean.columns:\n",
    "    if 'health_problem' in col:\n",
    "        health_problem_cols.append(col)\n",
    "health_problem_cols"
   ]
  },
  {
   "cell_type": "code",
   "execution_count": null,
   "metadata": {
    "ExecuteTime": {
     "start_time": "2021-01-31T06:53:31.758Z"
    }
   },
   "outputs": [],
   "source": [
    "# Casting each column as an int type\n",
    "for col in health_problem_cols:\n",
    "    function_clean[col] = function_clean[col].astype('int64')"
   ]
  },
  {
   "cell_type": "code",
   "execution_count": null,
   "metadata": {
    "ExecuteTime": {
     "start_time": "2021-01-31T06:53:31.779Z"
    }
   },
   "outputs": [],
   "source": [
    "# Looking at the dataframe\n",
    "function_clean.head()"
   ]
  },
  {
   "cell_type": "code",
   "execution_count": null,
   "metadata": {
    "ExecuteTime": {
     "start_time": "2021-01-31T06:53:31.795Z"
    }
   },
   "outputs": [],
   "source": [
    "# Checking for null values\n",
    "function_clean.isna().sum()"
   ]
  },
  {
   "cell_type": "code",
   "execution_count": null,
   "metadata": {
    "ExecuteTime": {
     "start_time": "2021-01-31T06:53:31.809Z"
    }
   },
   "outputs": [],
   "source": [
    "# Checking the dataframe\n",
    "function_clean.info()"
   ]
  },
  {
   "cell_type": "markdown",
   "metadata": {},
   "source": [
    "# Recreational Drug Use"
   ]
  },
  {
   "cell_type": "markdown",
   "metadata": {},
   "source": [
    "The files gathered for this recreational drug data can be found on the NHANES website: https://wwwn.cdc.gov/nchs/nhanes/default.aspx. The exact files can be downloaded for each year group by selecting the year, choosing \"Questionnaire Data\", and clicking the link for the XPT file next to \"Drug Use\". Each column name can be looked up using the \"Search Variables\" tool on the NHANES website to see what the data represents.\n",
    "\n",
    "Data that was not consistent across years could not be used but there were some cases where questions changed but still were getting at the same information so such questions could be combined. Columns were renamed for readability and many values were renamed as well. In an effort to emulate the way all information may not be available for every patient, missing values were filled as \"missing\" or 0. There are many instances in the fields where people were allowed to refuse to answer or answer with \"I don't know\". Such answers were treated as null values and filled with \"missing\" or 0. Because all the null values were filled the same way with no bearing on data leakage, this was done before the train-test split so it would only need to be handled on one set of data.\n"
   ]
  },
  {
   "cell_type": "code",
   "execution_count": null,
   "metadata": {
    "ExecuteTime": {
     "start_time": "2021-01-31T06:53:31.831Z"
    }
   },
   "outputs": [],
   "source": [
    "# Combining all the files for the drug use information\n",
    "path = r'Data/DrugUse'\n",
    "df_drug = pf.glob_concat(path, '*.XPT')"
   ]
  },
  {
   "cell_type": "code",
   "execution_count": null,
   "metadata": {
    "ExecuteTime": {
     "start_time": "2021-01-31T06:53:31.848Z"
    }
   },
   "outputs": [],
   "source": [
    "# Checking the dataframe\n",
    "df_drug.head()"
   ]
  },
  {
   "cell_type": "code",
   "execution_count": null,
   "metadata": {
    "ExecuteTime": {
     "start_time": "2021-01-31T06:53:31.863Z"
    }
   },
   "outputs": [],
   "source": [
    "# Listing the columns to look each one up\n",
    "df_drug.columns"
   ]
  },
  {
   "cell_type": "code",
   "execution_count": null,
   "metadata": {
    "ExecuteTime": {
     "start_time": "2021-01-31T06:53:31.879Z"
    }
   },
   "outputs": [],
   "source": [
    "# Listing the columns to keep and creating a new dataframe\n",
    "drug_tokeep = ['DUQ200', 'DUQ230', 'DUQ250', 'DUQ272', 'DUQ280','DUQ290', \n",
    "               'DUQ320', 'DUQ330', 'DUQ352', 'DUQ360', 'DUQ370', 'DUQ430']\n",
    "drug_clean = pf.cols_tokeep(df_drug, drug_tokeep)"
   ]
  },
  {
   "cell_type": "code",
   "execution_count": null,
   "metadata": {
    "ExecuteTime": {
     "start_time": "2021-01-31T06:53:31.894Z"
    }
   },
   "outputs": [],
   "source": [
    "# Checking the new dataframe\n",
    "drug_clean.info()"
   ]
  },
  {
   "cell_type": "markdown",
   "metadata": {},
   "source": [
    "## Renaming Columns"
   ]
  },
  {
   "cell_type": "markdown",
   "metadata": {},
   "source": [
    "The information of the columns can be looked up on the NHANES website, https://wwwn.cdc.gov/nchs/nhanes/default.aspx, using the \"Search Variables\" tool. Each column is renamed for readability."
   ]
  },
  {
   "cell_type": "code",
   "execution_count": null,
   "metadata": {
    "ExecuteTime": {
     "start_time": "2021-01-31T06:53:31.916Z"
    }
   },
   "outputs": [],
   "source": [
    "# Listing the columns to look each one up for naming\n",
    "drug_clean.columns"
   ]
  },
  {
   "cell_type": "code",
   "execution_count": null,
   "metadata": {
    "ExecuteTime": {
     "start_time": "2021-01-31T06:53:31.931Z"
    }
   },
   "outputs": [],
   "source": [
    "# Renaming the columns\n",
    "drug_clean.rename(columns={'DUQ200': 'marijuana_use', \n",
    "                           'DUQ230': 'marijuana_per_month', \n",
    "                           'DUQ250': 'cocaine_use', \n",
    "                           'DUQ272': 'cocaine_number_uses', \n",
    "                           'DUQ280': 'cocaine_per_month',\n",
    "                           'DUQ290': 'heroine_use', \n",
    "                           'DUQ320': 'heronine_per_month', \n",
    "                           'DUQ330': 'meth_use',\n",
    "                           'DUQ352': 'meth_number_uses',\n",
    "                           'DUQ360': 'meth_per_month', \n",
    "                           'DUQ370': 'inject_drugs', \n",
    "                           'DUQ430': 'rehab_program'}, \n",
    "                            inplace=True)"
   ]
  },
  {
   "cell_type": "code",
   "execution_count": null,
   "metadata": {
    "ExecuteTime": {
     "start_time": "2021-01-31T06:53:31.946Z"
    }
   },
   "outputs": [],
   "source": [
    "# Checking the dataframe\n",
    "drug_clean.info()"
   ]
  },
  {
   "cell_type": "markdown",
   "metadata": {},
   "source": [
    "## Clean Column Values"
   ]
  },
  {
   "cell_type": "markdown",
   "metadata": {},
   "source": [
    "In an effort to emulate the way all information may not be available for every patient, missing values were filled as \"missing\" or 0. There are many instances in the fields where people were allowed to refuse to answer or answer with \"I don't know\". Such answers were treated as null values and filled with \"missing\" or 0. Because all the null values were filled the same way with no bearing on data leakage, this was done before the train-test split so it would only need to be handled on one set of data."
   ]
  },
  {
   "cell_type": "code",
   "execution_count": null,
   "metadata": {
    "ExecuteTime": {
     "start_time": "2021-01-31T06:53:31.970Z"
    }
   },
   "outputs": [],
   "source": [
    "# Checking all the values of the dataframe\n",
    "pf.val_counts(drug_clean)"
   ]
  },
  {
   "cell_type": "code",
   "execution_count": null,
   "metadata": {
    "ExecuteTime": {
     "start_time": "2021-01-31T06:53:31.985Z"
    }
   },
   "outputs": [],
   "source": [
    "# Spliting cols into lists based on how they will be processed\n",
    "drugs_use_cols = ['marijuana_use', 'cocaine_use', 'heroine_use', 'meth_use', \n",
    "                  'inject_drugs', 'rehab_program']\n",
    "cols_99 = ['cocaine_number_uses', 'heronine_per_month', 'meth_number_uses', 'meth_per_month']\n",
    "cols_999 = ['marijuana_per_month', 'cocaine_per_month',]"
   ]
  },
  {
   "cell_type": "code",
   "execution_count": null,
   "metadata": {
    "ExecuteTime": {
     "start_time": "2021-01-31T06:53:32.000Z"
    }
   },
   "outputs": [],
   "source": [
    "# Replacing values, filling nulls, and casting as int type\n",
    "for col in drugs_use_cols:\n",
    "    drug_clean[col].replace({2.000: 0, \n",
    "                            7.000: 0, \n",
    "                            9.000: 0}, \n",
    "                            inplace=True)\n",
    "    drug_clean[col].fillna(0, inplace=True)\n",
    "    drug_clean[col] = drug_clean[col].astype('int64')"
   ]
  },
  {
   "cell_type": "code",
   "execution_count": null,
   "metadata": {
    "ExecuteTime": {
     "start_time": "2021-01-31T06:53:32.014Z"
    }
   },
   "outputs": [],
   "source": [
    "# Replacing values, filling nulls, and casting as int type\n",
    "for col in cols_999:\n",
    "    drug_clean[col].replace({777.000: 0, \n",
    "                            999.000: 0}, \n",
    "                            inplace=True)\n",
    "    drug_clean[col].fillna(0, inplace=True)\n",
    "    drug_clean[col] = drug_clean[col].astype('int64')"
   ]
  },
  {
   "cell_type": "code",
   "execution_count": null,
   "metadata": {
    "ExecuteTime": {
     "start_time": "2021-01-31T06:53:32.030Z"
    }
   },
   "outputs": [],
   "source": [
    "# Replacing values, filling nulls, and casting as int type\n",
    "for col in cols_99:\n",
    "    drug_clean[col].replace({77.000: 0, \n",
    "                            99.000: 0}, \n",
    "                            inplace=True)\n",
    "    drug_clean[col].fillna(0, inplace=True)\n",
    "    drug_clean[col] = drug_clean[col].astype('int64')"
   ]
  },
  {
   "cell_type": "code",
   "execution_count": null,
   "metadata": {
    "ExecuteTime": {
     "start_time": "2021-01-31T06:53:32.050Z"
    }
   },
   "outputs": [],
   "source": [
    "# Checking column values\n",
    "pf.val_counts(drug_clean)"
   ]
  },
  {
   "cell_type": "code",
   "execution_count": null,
   "metadata": {
    "ExecuteTime": {
     "start_time": "2021-01-31T06:53:32.065Z"
    }
   },
   "outputs": [],
   "source": [
    "# Checking null values\n",
    "drug_clean.isna().sum()"
   ]
  },
  {
   "cell_type": "code",
   "execution_count": null,
   "metadata": {
    "ExecuteTime": {
     "start_time": "2021-01-31T06:53:32.083Z"
    }
   },
   "outputs": [],
   "source": [
    "# Checking the dataframe\n",
    "drug_clean.head()"
   ]
  },
  {
   "cell_type": "code",
   "execution_count": null,
   "metadata": {
    "ExecuteTime": {
     "start_time": "2021-01-31T06:53:32.098Z"
    }
   },
   "outputs": [],
   "source": [
    "drug_clean.info()"
   ]
  },
  {
   "cell_type": "markdown",
   "metadata": {},
   "source": [
    "# Smoking"
   ]
  },
  {
   "cell_type": "markdown",
   "metadata": {},
   "source": [
    "The files gathered for this demographic data can be found on the NHANES website: https://wwwn.cdc.gov/nchs/nhanes/default.aspx. The exact files can be downloaded for each year group by selecting the year, choosing \"Questionnaire Data\", and clicking the links for the XPT files next to \"Smoking - Cigarette Use\" and \"Smoking - Household Smokers\". Each column name can be looked up using the \"Search Variables\" tool on the NHANES website to see what the data represents.\n",
    "\n",
    "Data that was not consistent across years could not be used but there were some cases where questions changed but still were getting at the same information so such questions could be combined. Columns were renamed for readability and many values were renamed as well. In an effort to emulate the way all information may not be available for every patient, missing values were filled as \"missing\" or 0. There are many instances in the fields where people were allowed to refuse to answer or answer with \"I don't know\". Such answers were treated as null values and filled with \"missing\" or 0. Because all the null values were filled the same way with no bearing on data leakage, this was done before the train-test split so it would only need to be handled on one set of data.\n"
   ]
  },
  {
   "cell_type": "code",
   "execution_count": null,
   "metadata": {
    "ExecuteTime": {
     "start_time": "2021-01-31T06:53:32.120Z"
    }
   },
   "outputs": [],
   "source": [
    "# Combining all the files for the smoking information\n",
    "path = r'Data/Smoking'\n",
    "df_smoking = pf.glob_concat(path, '*.XPT')"
   ]
  },
  {
   "cell_type": "code",
   "execution_count": null,
   "metadata": {
    "ExecuteTime": {
     "start_time": "2021-01-31T06:53:32.141Z"
    }
   },
   "outputs": [],
   "source": [
    "# Checking the dataframe\n",
    "df_smoking.head()"
   ]
  },
  {
   "cell_type": "code",
   "execution_count": null,
   "metadata": {
    "ExecuteTime": {
     "start_time": "2021-01-31T06:53:32.158Z"
    },
    "scrolled": true
   },
   "outputs": [],
   "source": [
    "# Checking the columns\n",
    "df_smoking.info()"
   ]
  },
  {
   "cell_type": "code",
   "execution_count": null,
   "metadata": {
    "ExecuteTime": {
     "start_time": "2021-01-31T06:53:32.173Z"
    }
   },
   "outputs": [],
   "source": [
    "# Combining all the files for the household smokers information\n",
    "path = r'Data/HouseholdSmokers'\n",
    "df_hs = pf.glob_concat(path, '*.XPT')"
   ]
  },
  {
   "cell_type": "code",
   "execution_count": null,
   "metadata": {
    "ExecuteTime": {
     "start_time": "2021-01-31T06:53:32.190Z"
    }
   },
   "outputs": [],
   "source": [
    "# Checking the dataframe\n",
    "df_hs.info()"
   ]
  },
  {
   "cell_type": "code",
   "execution_count": null,
   "metadata": {
    "ExecuteTime": {
     "start_time": "2021-01-31T06:53:32.206Z"
    }
   },
   "outputs": [],
   "source": [
    "# Combining both of the dataframes\n",
    "df_smoking = pd.concat([df_smoking, df_hs], axis=1)"
   ]
  },
  {
   "cell_type": "code",
   "execution_count": null,
   "metadata": {
    "ExecuteTime": {
     "start_time": "2021-01-31T06:53:32.222Z"
    },
    "scrolled": true
   },
   "outputs": [],
   "source": [
    "# Checking the dataframe\n",
    "df_smoking.info()"
   ]
  },
  {
   "cell_type": "code",
   "execution_count": null,
   "metadata": {
    "ExecuteTime": {
     "start_time": "2021-01-31T06:53:32.238Z"
    }
   },
   "outputs": [],
   "source": [
    "# Listing the columns to keep and creating a new dataframe\n",
    "smoking_tokeep = ['SMD460', 'SMD415', 'SMQ040', 'SMD030', 'SMQ050Q','SMD650', \n",
    "                   'SMQ050U', 'SMD057']\n",
    "smoking_clean = pf.cols_tokeep(df_smoking, smoking_tokeep)"
   ]
  },
  {
   "cell_type": "code",
   "execution_count": null,
   "metadata": {
    "ExecuteTime": {
     "start_time": "2021-01-31T06:53:32.254Z"
    }
   },
   "outputs": [],
   "source": [
    "# Checking the new dataframe\n",
    "smoking_clean.info()"
   ]
  },
  {
   "cell_type": "markdown",
   "metadata": {},
   "source": [
    "## Days Since Quitting"
   ]
  },
  {
   "cell_type": "markdown",
   "metadata": {},
   "source": [
    "This information was split across two questions. The first one would ask the person a number and the second question asked for a unit. The units were converted to the number of days they represents so that the two columns could be multipied to represent the total number of days since quitting smoking. The value 66666 was an option that represented \"over 50 years\" so those entries were changed to reflect that time period."
   ]
  },
  {
   "cell_type": "code",
   "execution_count": null,
   "metadata": {
    "ExecuteTime": {
     "start_time": "2021-01-31T06:53:32.281Z"
    },
    "scrolled": true
   },
   "outputs": [],
   "source": [
    "# Checking column values\n",
    "smoking_clean.SMQ050Q.value_counts(dropna=False)"
   ]
  },
  {
   "cell_type": "code",
   "execution_count": null,
   "metadata": {
    "ExecuteTime": {
     "start_time": "2021-01-31T06:53:32.300Z"
    }
   },
   "outputs": [],
   "source": [
    "# Checking column values\n",
    "smoking_clean.SMQ050U.value_counts(dropna=False)"
   ]
  },
  {
   "cell_type": "code",
   "execution_count": null,
   "metadata": {
    "ExecuteTime": {
     "start_time": "2021-01-31T06:53:32.316Z"
    }
   },
   "outputs": [],
   "source": [
    "# Fill null values\n",
    "smoking_clean.SMQ050Q.fillna(0, inplace=True)"
   ]
  },
  {
   "cell_type": "code",
   "execution_count": null,
   "metadata": {
    "ExecuteTime": {
     "start_time": "2021-01-31T06:53:32.332Z"
    }
   },
   "outputs": [],
   "source": [
    "# Replace values and fill null values\n",
    "smoking_clean.SMQ050U.replace({2.000: 7,\n",
    "                            3.000: 30, \n",
    "                            4.000: 365}, \n",
    "                            inplace=True)\n",
    "smoking_clean.SMQ050U.fillna(0, inplace=True)"
   ]
  },
  {
   "cell_type": "code",
   "execution_count": null,
   "metadata": {
    "ExecuteTime": {
     "start_time": "2021-01-31T06:53:32.346Z"
    }
   },
   "outputs": [],
   "source": [
    "# Multiply two columns together into one column\n",
    "smoking_clean['days_quit_smoking'] = smoking_clean['SMQ050Q'] * smoking_clean['SMQ050U']"
   ]
  },
  {
   "cell_type": "code",
   "execution_count": null,
   "metadata": {
    "ExecuteTime": {
     "start_time": "2021-01-31T06:53:32.362Z"
    }
   },
   "outputs": [],
   "source": [
    "# Change entries of the 66666 option to appropriate number\n",
    "smoking_clean.loc[smoking_clean['SMQ050Q'] == 66666, 'days_quit_smoking'] = 18250"
   ]
  },
  {
   "cell_type": "code",
   "execution_count": null,
   "metadata": {
    "ExecuteTime": {
     "start_time": "2021-01-31T06:53:32.405Z"
    }
   },
   "outputs": [],
   "source": [
    "# Checking that the values were changed\n",
    "smoking_clean[smoking_clean['SMQ050Q'] == 66666]"
   ]
  },
  {
   "cell_type": "code",
   "execution_count": null,
   "metadata": {
    "ExecuteTime": {
     "start_time": "2021-01-31T06:53:32.423Z"
    }
   },
   "outputs": [],
   "source": [
    "# Checking values\n",
    "smoking_clean['days_quit_smoking'].value_counts(dropna=False)"
   ]
  },
  {
   "cell_type": "code",
   "execution_count": null,
   "metadata": {
    "ExecuteTime": {
     "start_time": "2021-01-31T06:53:32.440Z"
    }
   },
   "outputs": [],
   "source": [
    "# Dropping old columns and casting to int type\n",
    "smoking_clean.drop(columns=['SMQ050Q', 'SMQ050U'], inplace=True)\n",
    "smoking_clean['days_quit_smoking'] = smoking_clean['days_quit_smoking'].astype('int64')"
   ]
  },
  {
   "cell_type": "code",
   "execution_count": null,
   "metadata": {
    "ExecuteTime": {
     "start_time": "2021-01-31T06:53:32.457Z"
    }
   },
   "outputs": [],
   "source": [
    "# Checking the dataframe\n",
    "smoking_clean.info()"
   ]
  },
  {
   "cell_type": "markdown",
   "metadata": {},
   "source": [
    "## Household Smokers"
   ]
  },
  {
   "cell_type": "markdown",
   "metadata": {},
   "source": [
    "The household smokers question changed slightly over time but was still very similar. For one of the columns the zero was meaningful and represented an overt \"none\" answer. In order to not lose that information, the null values were filled with 4, the columns added together, and values changed appropriately. Null values were given the value of 4 in order to keep this column an ordinal one for modeling.\n"
   ]
  },
  {
   "cell_type": "code",
   "execution_count": null,
   "metadata": {
    "ExecuteTime": {
     "start_time": "2021-01-31T06:53:32.488Z"
    }
   },
   "outputs": [],
   "source": [
    "# Checking column values\n",
    "smoking_clean.SMD460.value_counts(dropna=False)"
   ]
  },
  {
   "cell_type": "code",
   "execution_count": null,
   "metadata": {
    "ExecuteTime": {
     "start_time": "2021-01-31T06:53:32.506Z"
    }
   },
   "outputs": [],
   "source": [
    "# Checking column values\n",
    "smoking_clean.SMD415.value_counts(dropna=False)"
   ]
  },
  {
   "cell_type": "code",
   "execution_count": null,
   "metadata": {
    "ExecuteTime": {
     "start_time": "2021-01-31T06:53:32.525Z"
    }
   },
   "outputs": [],
   "source": [
    "# Filling null values\n",
    "smoking_clean.SMD460.fillna(4,inplace=True)\n",
    "smoking_clean.SMD415.fillna(4,inplace=True)"
   ]
  },
  {
   "cell_type": "code",
   "execution_count": null,
   "metadata": {
    "ExecuteTime": {
     "start_time": "2021-01-31T06:53:32.545Z"
    }
   },
   "outputs": [],
   "source": [
    "# Adding columns together\n",
    "smoking_clean['household_smokers'] = smoking_clean['SMD460'] + smoking_clean['SMD415']"
   ]
  },
  {
   "cell_type": "code",
   "execution_count": null,
   "metadata": {
    "ExecuteTime": {
     "start_time": "2021-01-31T06:53:32.563Z"
    }
   },
   "outputs": [],
   "source": [
    "# Checking column values\n",
    "smoking_clean['household_smokers'].value_counts(dropna=False)"
   ]
  },
  {
   "cell_type": "code",
   "execution_count": null,
   "metadata": {
    "ExecuteTime": {
     "start_time": "2021-01-31T06:53:32.578Z"
    }
   },
   "outputs": [],
   "source": [
    "# Replacing column values and casting as int type\n",
    "smoking_clean['household_smokers'].replace({4.000: 0, \n",
    "                                            5.000: 1, \n",
    "                                            6.000: 2, \n",
    "                                            7.000:3, \n",
    "                                            8.000: 4,\n",
    "                                            1003.000: 4,\n",
    "                                            781.000: 4}, \n",
    "                                           inplace=True)\n",
    "smoking_clean['household_smokers'] = smoking_clean['household_smokers'].astype('int64')"
   ]
  },
  {
   "cell_type": "code",
   "execution_count": null,
   "metadata": {
    "ExecuteTime": {
     "start_time": "2021-01-31T06:53:32.595Z"
    }
   },
   "outputs": [],
   "source": [
    "# Verifying column values\n",
    "smoking_clean['household_smokers'].value_counts(dropna=False)"
   ]
  },
  {
   "cell_type": "code",
   "execution_count": null,
   "metadata": {
    "ExecuteTime": {
     "start_time": "2021-01-31T06:53:32.610Z"
    }
   },
   "outputs": [],
   "source": [
    "# Dropping old columns\n",
    "smoking_clean.drop(columns=['SMD460', 'SMD415'], inplace=True)"
   ]
  },
  {
   "cell_type": "code",
   "execution_count": null,
   "metadata": {
    "ExecuteTime": {
     "start_time": "2021-01-31T06:53:32.626Z"
    }
   },
   "outputs": [],
   "source": [
    "# Checking the dataframe\n",
    "smoking_clean.info()"
   ]
  },
  {
   "cell_type": "markdown",
   "metadata": {},
   "source": [
    "## Renaming Columns"
   ]
  },
  {
   "cell_type": "markdown",
   "metadata": {},
   "source": [
    "The information of the columns can be looked up on the NHANES website, https://wwwn.cdc.gov/nchs/nhanes/default.aspx, using the \"Search Variables\" tool. Each column is renamed for readability."
   ]
  },
  {
   "cell_type": "code",
   "execution_count": null,
   "metadata": {
    "ExecuteTime": {
     "start_time": "2021-01-31T06:53:32.652Z"
    }
   },
   "outputs": [],
   "source": [
    "# Listing columns to look up ones to rename\n",
    "smoking_clean.columns"
   ]
  },
  {
   "cell_type": "code",
   "execution_count": null,
   "metadata": {
    "ExecuteTime": {
     "start_time": "2021-01-31T06:53:32.670Z"
    }
   },
   "outputs": [],
   "source": [
    "# Renaming columns\n",
    "smoking_clean.rename(columns={'SMD030': 'start_smoking_age', \n",
    "                              'SMQ040': 'current_smoker', \n",
    "                              'SMD057': 'previous_cigarettes_per_day', \n",
    "                              'SMD650': 'current_cigarettes_per_day'}, \n",
    "                            inplace=True)"
   ]
  },
  {
   "cell_type": "code",
   "execution_count": null,
   "metadata": {
    "ExecuteTime": {
     "start_time": "2021-01-31T06:53:32.688Z"
    }
   },
   "outputs": [],
   "source": [
    "# Checking dataframe\n",
    "smoking_clean.info()"
   ]
  },
  {
   "cell_type": "markdown",
   "metadata": {},
   "source": [
    "## Clean Column Values"
   ]
  },
  {
   "cell_type": "markdown",
   "metadata": {},
   "source": [
    "In an effort to emulate the way all information may not be available for every patient, missing values were filled as \"missing\" or 0. There are many instances in the fields where people were allowed to refuse to answer or answer with \"I don't know\". Such answers were treated as null values and filled with \"missing\" or 0. Because all the null values were filled the same way with no bearing on data leakage, this was done before the train-test split so it would only need to be handled on one set of data."
   ]
  },
  {
   "cell_type": "code",
   "execution_count": null,
   "metadata": {
    "ExecuteTime": {
     "start_time": "2021-01-31T06:53:32.713Z"
    }
   },
   "outputs": [],
   "source": [
    "# Checking column values\n",
    "smoking_clean.current_smoker.value_counts(dropna=False)"
   ]
  },
  {
   "cell_type": "code",
   "execution_count": null,
   "metadata": {
    "ExecuteTime": {
     "start_time": "2021-01-31T06:53:32.730Z"
    }
   },
   "outputs": [],
   "source": [
    "# Replacing ambiguous values, filling nulls, and casting as int type\n",
    "smoking_clean.current_smoker.replace({7.000: 0}, inplace=True)\n",
    "smoking_clean.current_smoker.fillna(0, inplace=True)\n",
    "smoking_clean.current_smoker = smoking_clean.current_smoker.astype('int64')"
   ]
  },
  {
   "cell_type": "code",
   "execution_count": null,
   "metadata": {
    "ExecuteTime": {
     "start_time": "2021-01-31T06:53:32.750Z"
    }
   },
   "outputs": [],
   "source": [
    "# Checking column values\n",
    "smoking_clean.current_smoker.value_counts(dropna=False)"
   ]
  },
  {
   "cell_type": "code",
   "execution_count": null,
   "metadata": {
    "ExecuteTime": {
     "start_time": "2021-01-31T06:53:32.774Z"
    },
    "scrolled": true
   },
   "outputs": [],
   "source": [
    "# Listing remaining columns that need cleaning\n",
    "smoking_list = ['start_smoking_age', 'previous_cigarettes_per_day', \n",
    "                'current_cigarettes_per_day']"
   ]
  },
  {
   "cell_type": "code",
   "execution_count": null,
   "metadata": {
    "ExecuteTime": {
     "start_time": "2021-01-31T06:53:32.793Z"
    },
    "scrolled": true
   },
   "outputs": [],
   "source": [
    "# Listing column values\n",
    "for col in smoking_list:\n",
    "    display(smoking_clean[col].value_counts(dropna=False))"
   ]
  },
  {
   "cell_type": "code",
   "execution_count": null,
   "metadata": {
    "ExecuteTime": {
     "start_time": "2021-01-31T06:53:32.813Z"
    },
    "scrolled": true
   },
   "outputs": [],
   "source": [
    "# Replacing values, filling nulls, casting as int type, and verifying values\n",
    "for col in smoking_list:\n",
    "    smoking_clean[col].replace({777.000: 0,\n",
    "                               999.000: 0}, \n",
    "                               inplace=True)\n",
    "    smoking_clean[col].fillna(0, inplace=True)\n",
    "    smoking_clean[col] = smoking_clean[col].astype('int64')\n",
    "    display(smoking_clean[col].value_counts(dropna=False))"
   ]
  },
  {
   "cell_type": "code",
   "execution_count": null,
   "metadata": {
    "ExecuteTime": {
     "start_time": "2021-01-31T06:53:32.840Z"
    }
   },
   "outputs": [],
   "source": [
    "# Checking the dataframe\n",
    "smoking_clean.head()"
   ]
  },
  {
   "cell_type": "code",
   "execution_count": null,
   "metadata": {
    "ExecuteTime": {
     "start_time": "2021-01-31T06:53:32.860Z"
    }
   },
   "outputs": [],
   "source": [
    "smoking_clean.info()"
   ]
  },
  {
   "cell_type": "markdown",
   "metadata": {},
   "source": [
    "# Combine Data"
   ]
  },
  {
   "cell_type": "code",
   "execution_count": null,
   "metadata": {
    "ExecuteTime": {
     "start_time": "2021-01-31T06:53:32.882Z"
    }
   },
   "outputs": [],
   "source": [
    "# Checking the column lengths of all the dataframes\n",
    "dataframes = [target_clean, demo_clean, medcond_clean, body_clean, blood_clean, \n",
    "              chol_clean, biochem_clean, count_clean, occupation_clean, \n",
    "              sleep_clean, activity_clean, alcohol_clean, function_clean, \n",
    "              drug_clean, smoking_clean]\n",
    "for df in dataframes:\n",
    "    print(len(df.columns))"
   ]
  },
  {
   "cell_type": "code",
   "execution_count": null,
   "metadata": {
    "ExecuteTime": {
     "start_time": "2021-01-31T06:53:32.907Z"
    }
   },
   "outputs": [],
   "source": [
    "# Putting all the data together and looking at the dataframe\n",
    "full_df = pd.concat([target_clean, demo_clean, medcond_clean, body_clean, \n",
    "                     blood_clean, chol_clean, biochem_clean, count_clean, \n",
    "                     occupation_clean, sleep_clean, activity_clean, \n",
    "                     alcohol_clean, function_clean, drug_clean, smoking_clean], \n",
    "                     axis=1)\n",
    "full_df.head()"
   ]
  },
  {
   "cell_type": "code",
   "execution_count": null,
   "metadata": {
    "ExecuteTime": {
     "start_time": "2021-01-31T06:53:32.931Z"
    }
   },
   "outputs": [],
   "source": [
    "# Keeping only the entries that are not null for the target\n",
    "full_df = full_df[full_df['depression'].notnull()]\n",
    "full_df.head()"
   ]
  },
  {
   "cell_type": "code",
   "execution_count": null,
   "metadata": {
    "ExecuteTime": {
     "start_time": "2021-01-31T06:53:32.949Z"
    }
   },
   "outputs": [],
   "source": [
    "# Checking the info\n",
    "full_df.info()"
   ]
  },
  {
   "cell_type": "code",
   "execution_count": null,
   "metadata": {
    "ExecuteTime": {
     "start_time": "2021-01-31T06:53:32.967Z"
    },
    "scrolled": true
   },
   "outputs": [],
   "source": [
    "# Checking null values\n",
    "full_df.isna().sum()"
   ]
  },
  {
   "cell_type": "code",
   "execution_count": null,
   "metadata": {
    "ExecuteTime": {
     "start_time": "2021-01-31T06:53:32.983Z"
    }
   },
   "outputs": [],
   "source": [
    "# Filling in a specific column with missing as appropriate\n",
    "full_df['lifetime_alcohol_consumption'].fillna('Missing', inplace=True)"
   ]
  },
  {
   "cell_type": "code",
   "execution_count": null,
   "metadata": {
    "ExecuteTime": {
     "start_time": "2021-01-31T06:53:33.004Z"
    }
   },
   "outputs": [],
   "source": [
    "# Filling in the rest of the nulls with zero as appropriate\n",
    "full_df.fillna(0, inplace=True)\n",
    "full_df.isna().sum()"
   ]
  },
  {
   "cell_type": "code",
   "execution_count": null,
   "metadata": {
    "ExecuteTime": {
     "start_time": "2021-01-31T06:53:33.019Z"
    }
   },
   "outputs": [],
   "source": [
    "# Saving the file\n",
    "full_df.to_csv(r'FullData.csv')"
   ]
  },
  {
   "cell_type": "markdown",
   "metadata": {},
   "source": [
    "> -  The project continues in the file titled \"second_notebook\""
   ]
  },
  {
   "cell_type": "markdown",
   "metadata": {},
   "source": [
    "# References"
   ]
  },
  {
   "cell_type": "markdown",
   "metadata": {},
   "source": [
    "1. World health Organization Depression Overview: https://www.who.int/news-room/fact-sheets/detail/depression\n",
    "\n",
    "2. National Institute of Mental Health on Major Depression: https://www.nimh.nih.gov/health/statistics/major-depression.shtml\n",
    "\n",
    "3. American Psychological Association Briefing Series on the Role of Psychology in Health Care: https://www.apa.org/health/briefs/primary-care.pdf\n",
    "\n",
    "4. Association of Integrated Team-Based Care With Health Care Quality, Utilization, and Cost: https://jamanetwork.com/journals/jama/fullarticle/2545685\n",
    "\n",
    "5. The PHQ-9: validity of a brief depression severity measure https://pubmed.ncbi.nlm.nih.gov/11556941/\n",
    "\n",
    "6. Take the PHQ-9 depression screener online: https://www.mdcalc.com/phq-9-patient-health-questionnaire-9"
   ]
  }
 ],
 "metadata": {
  "kernelspec": {
   "display_name": "learn-env",
   "language": "python",
   "name": "learn-env"
  },
  "language_info": {
   "codemirror_mode": {
    "name": "ipython",
    "version": 3
   },
   "file_extension": ".py",
   "mimetype": "text/x-python",
   "name": "python",
   "nbconvert_exporter": "python",
   "pygments_lexer": "ipython3",
   "version": "3.6.11"
  },
  "toc": {
   "base_numbering": 1,
   "nav_menu": {},
   "number_sections": true,
   "sideBar": true,
   "skip_h1_title": false,
   "title_cell": "Table of Contents",
   "title_sidebar": "Contents",
   "toc_cell": true,
   "toc_position": {
    "height": "calc(100% - 180px)",
    "left": "10px",
    "top": "150px",
    "width": "349.091px"
   },
   "toc_section_display": true,
   "toc_window_display": true
  }
 },
 "nbformat": 4,
 "nbformat_minor": 4
}
