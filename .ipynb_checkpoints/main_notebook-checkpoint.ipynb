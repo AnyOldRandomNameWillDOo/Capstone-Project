{
 "cells": [
  {
   "cell_type": "markdown",
   "metadata": {},
   "source": [
    "## Capstone Project Submission"
   ]
  },
  {
   "cell_type": "markdown",
   "metadata": {},
   "source": [
    "- Name: Vivienne DiFrancesco\n",
    "- Instructor: James Irving\n",
    "- Pace: Full Time\n"
   ]
  },
  {
   "cell_type": "markdown",
   "metadata": {},
   "source": [
    "# Introducion\n"
   ]
  },
  {
   "cell_type": "markdown",
   "metadata": {},
   "source": [
    "# Obtain"
   ]
  },
  {
   "cell_type": "code",
   "execution_count": 432,
   "metadata": {
    "ExecuteTime": {
     "end_time": "2021-01-05T23:46:54.156199Z",
     "start_time": "2021-01-05T23:46:54.150200Z"
    }
   },
   "outputs": [],
   "source": [
    "import numpy as np\n",
    "np.random.seed(123)"
   ]
  },
  {
   "cell_type": "code",
   "execution_count": 433,
   "metadata": {
    "ExecuteTime": {
     "end_time": "2021-01-05T23:46:54.167195Z",
     "start_time": "2021-01-05T23:46:54.162196Z"
    }
   },
   "outputs": [],
   "source": [
    "import tensorflow as tf\n",
    "tf.random.set_seed(123)"
   ]
  },
  {
   "cell_type": "code",
   "execution_count": 434,
   "metadata": {
    "ExecuteTime": {
     "end_time": "2021-01-05T23:46:54.178200Z",
     "start_time": "2021-01-05T23:46:54.170200Z"
    }
   },
   "outputs": [],
   "source": [
    "import pandas as pd\n",
    "import scipy\n",
    "import glob, os\n",
    "import matplotlib.pyplot as plt\n",
    "%matplotlib inline\n",
    "import seaborn as sns\n",
    "sns.set(style='whitegrid')\n",
    "import warnings\n",
    "warnings.filterwarnings('ignore')"
   ]
  },
  {
   "cell_type": "code",
   "execution_count": 435,
   "metadata": {
    "ExecuteTime": {
     "end_time": "2021-01-05T23:46:54.186198Z",
     "start_time": "2021-01-05T23:46:54.182195Z"
    }
   },
   "outputs": [],
   "source": [
    "# Setting pandas to display max columns and rows\n",
    "pd.set_option('display.max_columns', 0)\n",
    "pd.set_option('display.max_rows', None)\n",
    "\n",
    "# Setting inf values to be nan\n",
    "pd.set_option('mode.use_inf_as_na', True)\n",
    "\n",
    "# Turning off scientific notation in pandas\n",
    "pd.set_option('display.float_format', lambda x: '%.3f' % x)"
   ]
  },
  {
   "cell_type": "markdown",
   "metadata": {},
   "source": [
    "# Target"
   ]
  },
  {
   "cell_type": "code",
   "execution_count": 436,
   "metadata": {
    "ExecuteTime": {
     "end_time": "2021-01-05T23:46:54.196195Z",
     "start_time": "2021-01-05T23:46:54.189199Z"
    }
   },
   "outputs": [],
   "source": [
    "def glob_concat(path, file_str):\n",
    "    '''\n",
    "    Looks for files in folder path and combines them into a DataFrame.\n",
    "    \n",
    "    Args:\n",
    "        path (str): Location on computer where files are located.\n",
    "        file_str (str): Specific search query of which files to find.\n",
    "        \n",
    "    Returns:\n",
    "        Displays the files that were found for verification and returns the \n",
    "        DataFrame of all files after pd.concat is performed.\n",
    "    \n",
    "    Example:\n",
    "        combined_df = glob_concat(r'File/File', '*.XPT')\n",
    "    '''\n",
    "    \n",
    "    files = glob.glob(os.path.join(path, file_str))\n",
    "    display(files)\n",
    "    df_files = [pd.read_sas(file) for file in files]\n",
    "    combined_df = pd.concat(df_files)\n",
    "    return combined_df"
   ]
  },
  {
   "cell_type": "code",
   "execution_count": 437,
   "metadata": {
    "ExecuteTime": {
     "end_time": "2021-01-05T23:46:54.296199Z",
     "start_time": "2021-01-05T23:46:54.198201Z"
    }
   },
   "outputs": [
    {
     "data": {
      "text/plain": [
       "['Data/Target\\\\DPQ_D.XPT',\n",
       " 'Data/Target\\\\DPQ_E.XPT',\n",
       " 'Data/Target\\\\DPQ_F.XPT',\n",
       " 'Data/Target\\\\DPQ_G.XPT',\n",
       " 'Data/Target\\\\DPQ_H.XPT',\n",
       " 'Data/Target\\\\DPQ_I.XPT',\n",
       " 'Data/Target\\\\DPQ_J.XPT']"
      ]
     },
     "metadata": {},
     "output_type": "display_data"
    }
   ],
   "source": [
    "path = r'Data/Target'\n",
    "df_target = glob_concat(path, '*.XPT')"
   ]
  },
  {
   "cell_type": "code",
   "execution_count": 438,
   "metadata": {
    "ExecuteTime": {
     "end_time": "2021-01-05T23:46:54.327196Z",
     "start_time": "2021-01-05T23:46:54.298196Z"
    }
   },
   "outputs": [
    {
     "data": {
      "text/html": [
       "<div>\n",
       "<style scoped>\n",
       "    .dataframe tbody tr th:only-of-type {\n",
       "        vertical-align: middle;\n",
       "    }\n",
       "\n",
       "    .dataframe tbody tr th {\n",
       "        vertical-align: top;\n",
       "    }\n",
       "\n",
       "    .dataframe thead th {\n",
       "        text-align: right;\n",
       "    }\n",
       "</style>\n",
       "<table border=\"1\" class=\"dataframe\">\n",
       "  <thead>\n",
       "    <tr style=\"text-align: right;\">\n",
       "      <th></th>\n",
       "      <th>SEQN</th>\n",
       "      <th>DPQ010</th>\n",
       "      <th>DPQ020</th>\n",
       "      <th>DPQ030</th>\n",
       "      <th>DPQ040</th>\n",
       "      <th>DPQ050</th>\n",
       "      <th>DPQ060</th>\n",
       "      <th>DPQ070</th>\n",
       "      <th>DPQ080</th>\n",
       "      <th>DPQ090</th>\n",
       "      <th>DPQ100</th>\n",
       "    </tr>\n",
       "  </thead>\n",
       "  <tbody>\n",
       "    <tr>\n",
       "      <th>0</th>\n",
       "      <td>31130.000</td>\n",
       "      <td>nan</td>\n",
       "      <td>nan</td>\n",
       "      <td>nan</td>\n",
       "      <td>nan</td>\n",
       "      <td>nan</td>\n",
       "      <td>nan</td>\n",
       "      <td>nan</td>\n",
       "      <td>nan</td>\n",
       "      <td>nan</td>\n",
       "      <td>nan</td>\n",
       "    </tr>\n",
       "    <tr>\n",
       "      <th>1</th>\n",
       "      <td>31131.000</td>\n",
       "      <td>0.000</td>\n",
       "      <td>0.000</td>\n",
       "      <td>0.000</td>\n",
       "      <td>0.000</td>\n",
       "      <td>0.000</td>\n",
       "      <td>0.000</td>\n",
       "      <td>0.000</td>\n",
       "      <td>0.000</td>\n",
       "      <td>0.000</td>\n",
       "      <td>nan</td>\n",
       "    </tr>\n",
       "    <tr>\n",
       "      <th>2</th>\n",
       "      <td>31132.000</td>\n",
       "      <td>0.000</td>\n",
       "      <td>0.000</td>\n",
       "      <td>0.000</td>\n",
       "      <td>0.000</td>\n",
       "      <td>0.000</td>\n",
       "      <td>0.000</td>\n",
       "      <td>0.000</td>\n",
       "      <td>0.000</td>\n",
       "      <td>0.000</td>\n",
       "      <td>nan</td>\n",
       "    </tr>\n",
       "    <tr>\n",
       "      <th>3</th>\n",
       "      <td>31134.000</td>\n",
       "      <td>0.000</td>\n",
       "      <td>0.000</td>\n",
       "      <td>0.000</td>\n",
       "      <td>0.000</td>\n",
       "      <td>0.000</td>\n",
       "      <td>0.000</td>\n",
       "      <td>0.000</td>\n",
       "      <td>0.000</td>\n",
       "      <td>0.000</td>\n",
       "      <td>nan</td>\n",
       "    </tr>\n",
       "    <tr>\n",
       "      <th>4</th>\n",
       "      <td>31139.000</td>\n",
       "      <td>0.000</td>\n",
       "      <td>0.000</td>\n",
       "      <td>0.000</td>\n",
       "      <td>0.000</td>\n",
       "      <td>3.000</td>\n",
       "      <td>1.000</td>\n",
       "      <td>0.000</td>\n",
       "      <td>0.000</td>\n",
       "      <td>0.000</td>\n",
       "      <td>0.000</td>\n",
       "    </tr>\n",
       "    <tr>\n",
       "      <th>5</th>\n",
       "      <td>31143.000</td>\n",
       "      <td>0.000</td>\n",
       "      <td>1.000</td>\n",
       "      <td>1.000</td>\n",
       "      <td>1.000</td>\n",
       "      <td>1.000</td>\n",
       "      <td>1.000</td>\n",
       "      <td>1.000</td>\n",
       "      <td>0.000</td>\n",
       "      <td>0.000</td>\n",
       "      <td>1.000</td>\n",
       "    </tr>\n",
       "    <tr>\n",
       "      <th>6</th>\n",
       "      <td>31144.000</td>\n",
       "      <td>0.000</td>\n",
       "      <td>0.000</td>\n",
       "      <td>0.000</td>\n",
       "      <td>0.000</td>\n",
       "      <td>0.000</td>\n",
       "      <td>0.000</td>\n",
       "      <td>0.000</td>\n",
       "      <td>0.000</td>\n",
       "      <td>0.000</td>\n",
       "      <td>nan</td>\n",
       "    </tr>\n",
       "    <tr>\n",
       "      <th>7</th>\n",
       "      <td>31149.000</td>\n",
       "      <td>0.000</td>\n",
       "      <td>0.000</td>\n",
       "      <td>0.000</td>\n",
       "      <td>0.000</td>\n",
       "      <td>0.000</td>\n",
       "      <td>0.000</td>\n",
       "      <td>0.000</td>\n",
       "      <td>0.000</td>\n",
       "      <td>0.000</td>\n",
       "      <td>nan</td>\n",
       "    </tr>\n",
       "    <tr>\n",
       "      <th>8</th>\n",
       "      <td>31150.000</td>\n",
       "      <td>1.000</td>\n",
       "      <td>0.000</td>\n",
       "      <td>0.000</td>\n",
       "      <td>0.000</td>\n",
       "      <td>0.000</td>\n",
       "      <td>0.000</td>\n",
       "      <td>0.000</td>\n",
       "      <td>0.000</td>\n",
       "      <td>0.000</td>\n",
       "      <td>0.000</td>\n",
       "    </tr>\n",
       "    <tr>\n",
       "      <th>9</th>\n",
       "      <td>31151.000</td>\n",
       "      <td>0.000</td>\n",
       "      <td>0.000</td>\n",
       "      <td>1.000</td>\n",
       "      <td>1.000</td>\n",
       "      <td>0.000</td>\n",
       "      <td>0.000</td>\n",
       "      <td>1.000</td>\n",
       "      <td>0.000</td>\n",
       "      <td>0.000</td>\n",
       "      <td>0.000</td>\n",
       "    </tr>\n",
       "  </tbody>\n",
       "</table>\n",
       "</div>"
      ],
      "text/plain": [
       "       SEQN  DPQ010  DPQ020  DPQ030  ...  DPQ070  DPQ080  DPQ090  DPQ100\n",
       "0 31130.000     nan     nan     nan  ...     nan     nan     nan     nan\n",
       "1 31131.000   0.000   0.000   0.000  ...   0.000   0.000   0.000     nan\n",
       "2 31132.000   0.000   0.000   0.000  ...   0.000   0.000   0.000     nan\n",
       "3 31134.000   0.000   0.000   0.000  ...   0.000   0.000   0.000     nan\n",
       "4 31139.000   0.000   0.000   0.000  ...   0.000   0.000   0.000   0.000\n",
       "5 31143.000   0.000   1.000   1.000  ...   1.000   0.000   0.000   1.000\n",
       "6 31144.000   0.000   0.000   0.000  ...   0.000   0.000   0.000     nan\n",
       "7 31149.000   0.000   0.000   0.000  ...   0.000   0.000   0.000     nan\n",
       "8 31150.000   1.000   0.000   0.000  ...   0.000   0.000   0.000   0.000\n",
       "9 31151.000   0.000   0.000   1.000  ...   1.000   0.000   0.000   0.000\n",
       "\n",
       "[10 rows x 11 columns]"
      ]
     },
     "execution_count": 438,
     "metadata": {},
     "output_type": "execute_result"
    }
   ],
   "source": [
    "df_target.head(10)"
   ]
  },
  {
   "cell_type": "code",
   "execution_count": 439,
   "metadata": {
    "ExecuteTime": {
     "end_time": "2021-01-05T23:46:54.339273Z",
     "start_time": "2021-01-05T23:46:54.330195Z"
    }
   },
   "outputs": [],
   "source": [
    "df_target.SEQN = df_target.SEQN.astype('int64')\n",
    "df_target.set_index('SEQN', verify_integrity=True, inplace=True)"
   ]
  },
  {
   "cell_type": "code",
   "execution_count": 440,
   "metadata": {
    "ExecuteTime": {
     "end_time": "2021-01-05T23:46:54.348198Z",
     "start_time": "2021-01-05T23:46:54.341196Z"
    }
   },
   "outputs": [],
   "source": [
    "df_target.drop(columns=['DPQ100'], inplace=True)"
   ]
  },
  {
   "cell_type": "code",
   "execution_count": 441,
   "metadata": {
    "ExecuteTime": {
     "end_time": "2021-01-05T23:46:54.363258Z",
     "start_time": "2021-01-05T23:46:54.350201Z"
    }
   },
   "outputs": [
    {
     "name": "stdout",
     "output_type": "stream",
     "text": [
      "<class 'pandas.core.frame.DataFrame'>\n",
      "Int64Index: 40496 entries, 31130 to 102956\n",
      "Data columns (total 9 columns):\n",
      " #   Column  Non-Null Count  Dtype  \n",
      "---  ------  --------------  -----  \n",
      " 0   DPQ010  36471 non-null  float64\n",
      " 1   DPQ020  36465 non-null  float64\n",
      " 2   DPQ030  36463 non-null  float64\n",
      " 3   DPQ040  36458 non-null  float64\n",
      " 4   DPQ050  36458 non-null  float64\n",
      " 5   DPQ060  36455 non-null  float64\n",
      " 6   DPQ070  36453 non-null  float64\n",
      " 7   DPQ080  36452 non-null  float64\n",
      " 8   DPQ090  36447 non-null  float64\n",
      "dtypes: float64(9)\n",
      "memory usage: 3.1 MB\n"
     ]
    }
   ],
   "source": [
    "df_target.info()"
   ]
  },
  {
   "cell_type": "code",
   "execution_count": 442,
   "metadata": {
    "ExecuteTime": {
     "end_time": "2021-01-05T23:46:54.385200Z",
     "start_time": "2021-01-05T23:46:54.365195Z"
    }
   },
   "outputs": [
    {
     "data": {
      "text/html": [
       "<div>\n",
       "<style scoped>\n",
       "    .dataframe tbody tr th:only-of-type {\n",
       "        vertical-align: middle;\n",
       "    }\n",
       "\n",
       "    .dataframe tbody tr th {\n",
       "        vertical-align: top;\n",
       "    }\n",
       "\n",
       "    .dataframe thead th {\n",
       "        text-align: right;\n",
       "    }\n",
       "</style>\n",
       "<table border=\"1\" class=\"dataframe\">\n",
       "  <thead>\n",
       "    <tr style=\"text-align: right;\">\n",
       "      <th></th>\n",
       "      <th>DPQ010</th>\n",
       "      <th>DPQ020</th>\n",
       "      <th>DPQ030</th>\n",
       "      <th>DPQ040</th>\n",
       "      <th>DPQ050</th>\n",
       "      <th>DPQ060</th>\n",
       "      <th>DPQ070</th>\n",
       "      <th>DPQ080</th>\n",
       "      <th>DPQ090</th>\n",
       "    </tr>\n",
       "    <tr>\n",
       "      <th>SEQN</th>\n",
       "      <th></th>\n",
       "      <th></th>\n",
       "      <th></th>\n",
       "      <th></th>\n",
       "      <th></th>\n",
       "      <th></th>\n",
       "      <th></th>\n",
       "      <th></th>\n",
       "      <th></th>\n",
       "    </tr>\n",
       "  </thead>\n",
       "  <tbody>\n",
       "    <tr>\n",
       "      <th>31130</th>\n",
       "      <td>nan</td>\n",
       "      <td>nan</td>\n",
       "      <td>nan</td>\n",
       "      <td>nan</td>\n",
       "      <td>nan</td>\n",
       "      <td>nan</td>\n",
       "      <td>nan</td>\n",
       "      <td>nan</td>\n",
       "      <td>nan</td>\n",
       "    </tr>\n",
       "    <tr>\n",
       "      <th>31131</th>\n",
       "      <td>0.000</td>\n",
       "      <td>0.000</td>\n",
       "      <td>0.000</td>\n",
       "      <td>0.000</td>\n",
       "      <td>0.000</td>\n",
       "      <td>0.000</td>\n",
       "      <td>0.000</td>\n",
       "      <td>0.000</td>\n",
       "      <td>0.000</td>\n",
       "    </tr>\n",
       "    <tr>\n",
       "      <th>31132</th>\n",
       "      <td>0.000</td>\n",
       "      <td>0.000</td>\n",
       "      <td>0.000</td>\n",
       "      <td>0.000</td>\n",
       "      <td>0.000</td>\n",
       "      <td>0.000</td>\n",
       "      <td>0.000</td>\n",
       "      <td>0.000</td>\n",
       "      <td>0.000</td>\n",
       "    </tr>\n",
       "    <tr>\n",
       "      <th>31134</th>\n",
       "      <td>0.000</td>\n",
       "      <td>0.000</td>\n",
       "      <td>0.000</td>\n",
       "      <td>0.000</td>\n",
       "      <td>0.000</td>\n",
       "      <td>0.000</td>\n",
       "      <td>0.000</td>\n",
       "      <td>0.000</td>\n",
       "      <td>0.000</td>\n",
       "    </tr>\n",
       "    <tr>\n",
       "      <th>31139</th>\n",
       "      <td>0.000</td>\n",
       "      <td>0.000</td>\n",
       "      <td>0.000</td>\n",
       "      <td>0.000</td>\n",
       "      <td>3.000</td>\n",
       "      <td>1.000</td>\n",
       "      <td>0.000</td>\n",
       "      <td>0.000</td>\n",
       "      <td>0.000</td>\n",
       "    </tr>\n",
       "  </tbody>\n",
       "</table>\n",
       "</div>"
      ],
      "text/plain": [
       "       DPQ010  DPQ020  DPQ030  DPQ040  DPQ050  DPQ060  DPQ070  DPQ080  DPQ090\n",
       "SEQN                                                                         \n",
       "31130     nan     nan     nan     nan     nan     nan     nan     nan     nan\n",
       "31131   0.000   0.000   0.000   0.000   0.000   0.000   0.000   0.000   0.000\n",
       "31132   0.000   0.000   0.000   0.000   0.000   0.000   0.000   0.000   0.000\n",
       "31134   0.000   0.000   0.000   0.000   0.000   0.000   0.000   0.000   0.000\n",
       "31139   0.000   0.000   0.000   0.000   3.000   1.000   0.000   0.000   0.000"
      ]
     },
     "execution_count": 442,
     "metadata": {},
     "output_type": "execute_result"
    }
   ],
   "source": [
    "df_target.head()"
   ]
  },
  {
   "cell_type": "code",
   "execution_count": 443,
   "metadata": {
    "ExecuteTime": {
     "end_time": "2021-01-05T23:46:54.398195Z",
     "start_time": "2021-01-05T23:46:54.389197Z"
    }
   },
   "outputs": [
    {
     "data": {
      "text/plain": [
       "DPQ010    4025\n",
       "DPQ020    4031\n",
       "DPQ030    4033\n",
       "DPQ040    4038\n",
       "DPQ050    4038\n",
       "DPQ060    4041\n",
       "DPQ070    4043\n",
       "DPQ080    4044\n",
       "DPQ090    4049\n",
       "dtype: int64"
      ]
     },
     "execution_count": 443,
     "metadata": {},
     "output_type": "execute_result"
    }
   ],
   "source": [
    "df_target.isna().sum()"
   ]
  },
  {
   "cell_type": "code",
   "execution_count": 444,
   "metadata": {
    "ExecuteTime": {
     "end_time": "2021-01-05T23:46:54.790198Z",
     "start_time": "2021-01-05T23:46:54.400197Z"
    }
   },
   "outputs": [
    {
     "data": {
      "image/png": "[encoded data removed]",
      "text/plain": [
       "<Figure size 1800x720 with 2 Axes>"
      ]
     },
     "metadata": {},
     "output_type": "display_data"
    }
   ],
   "source": [
    "import missingno as ms\n",
    "ms.matrix(df_target);"
   ]
  },
  {
   "cell_type": "code",
   "execution_count": 445,
   "metadata": {
    "ExecuteTime": {
     "end_time": "2021-01-05T23:46:54.804251Z",
     "start_time": "2021-01-05T23:46:54.792198Z"
    }
   },
   "outputs": [],
   "source": [
    "df_target.dropna(inplace=True)"
   ]
  },
  {
   "cell_type": "code",
   "execution_count": 446,
   "metadata": {
    "ExecuteTime": {
     "end_time": "2021-01-05T23:46:54.820302Z",
     "start_time": "2021-01-05T23:46:54.806195Z"
    }
   },
   "outputs": [
    {
     "name": "stdout",
     "output_type": "stream",
     "text": [
      "<class 'pandas.core.frame.DataFrame'>\n",
      "Int64Index: 36447 entries, 31131 to 102956\n",
      "Data columns (total 9 columns):\n",
      " #   Column  Non-Null Count  Dtype  \n",
      "---  ------  --------------  -----  \n",
      " 0   DPQ010  36447 non-null  float64\n",
      " 1   DPQ020  36447 non-null  float64\n",
      " 2   DPQ030  36447 non-null  float64\n",
      " 3   DPQ040  36447 non-null  float64\n",
      " 4   DPQ050  36447 non-null  float64\n",
      " 5   DPQ060  36447 non-null  float64\n",
      " 6   DPQ070  36447 non-null  float64\n",
      " 7   DPQ080  36447 non-null  float64\n",
      " 8   DPQ090  36447 non-null  float64\n",
      "dtypes: float64(9)\n",
      "memory usage: 2.8 MB\n"
     ]
    }
   ],
   "source": [
    "df_target.info()"
   ]
  },
  {
   "cell_type": "code",
   "execution_count": 447,
   "metadata": {
    "ExecuteTime": {
     "end_time": "2021-01-05T23:46:54.840201Z",
     "start_time": "2021-01-05T23:46:54.822204Z"
    }
   },
   "outputs": [
    {
     "data": {
      "text/html": [
       "<div>\n",
       "<style scoped>\n",
       "    .dataframe tbody tr th:only-of-type {\n",
       "        vertical-align: middle;\n",
       "    }\n",
       "\n",
       "    .dataframe tbody tr th {\n",
       "        vertical-align: top;\n",
       "    }\n",
       "\n",
       "    .dataframe thead th {\n",
       "        text-align: right;\n",
       "    }\n",
       "</style>\n",
       "<table border=\"1\" class=\"dataframe\">\n",
       "  <thead>\n",
       "    <tr style=\"text-align: right;\">\n",
       "      <th></th>\n",
       "      <th>DPQ010</th>\n",
       "      <th>DPQ020</th>\n",
       "      <th>DPQ030</th>\n",
       "      <th>DPQ040</th>\n",
       "      <th>DPQ050</th>\n",
       "      <th>DPQ060</th>\n",
       "      <th>DPQ070</th>\n",
       "      <th>DPQ080</th>\n",
       "      <th>DPQ090</th>\n",
       "    </tr>\n",
       "    <tr>\n",
       "      <th>SEQN</th>\n",
       "      <th></th>\n",
       "      <th></th>\n",
       "      <th></th>\n",
       "      <th></th>\n",
       "      <th></th>\n",
       "      <th></th>\n",
       "      <th></th>\n",
       "      <th></th>\n",
       "      <th></th>\n",
       "    </tr>\n",
       "  </thead>\n",
       "  <tbody>\n",
       "    <tr>\n",
       "      <th>31131</th>\n",
       "      <td>0.000</td>\n",
       "      <td>0.000</td>\n",
       "      <td>0.000</td>\n",
       "      <td>0.000</td>\n",
       "      <td>0.000</td>\n",
       "      <td>0.000</td>\n",
       "      <td>0.000</td>\n",
       "      <td>0.000</td>\n",
       "      <td>0.000</td>\n",
       "    </tr>\n",
       "    <tr>\n",
       "      <th>31132</th>\n",
       "      <td>0.000</td>\n",
       "      <td>0.000</td>\n",
       "      <td>0.000</td>\n",
       "      <td>0.000</td>\n",
       "      <td>0.000</td>\n",
       "      <td>0.000</td>\n",
       "      <td>0.000</td>\n",
       "      <td>0.000</td>\n",
       "      <td>0.000</td>\n",
       "    </tr>\n",
       "    <tr>\n",
       "      <th>31134</th>\n",
       "      <td>0.000</td>\n",
       "      <td>0.000</td>\n",
       "      <td>0.000</td>\n",
       "      <td>0.000</td>\n",
       "      <td>0.000</td>\n",
       "      <td>0.000</td>\n",
       "      <td>0.000</td>\n",
       "      <td>0.000</td>\n",
       "      <td>0.000</td>\n",
       "    </tr>\n",
       "    <tr>\n",
       "      <th>31139</th>\n",
       "      <td>0.000</td>\n",
       "      <td>0.000</td>\n",
       "      <td>0.000</td>\n",
       "      <td>0.000</td>\n",
       "      <td>3.000</td>\n",
       "      <td>1.000</td>\n",
       "      <td>0.000</td>\n",
       "      <td>0.000</td>\n",
       "      <td>0.000</td>\n",
       "    </tr>\n",
       "    <tr>\n",
       "      <th>31143</th>\n",
       "      <td>0.000</td>\n",
       "      <td>1.000</td>\n",
       "      <td>1.000</td>\n",
       "      <td>1.000</td>\n",
       "      <td>1.000</td>\n",
       "      <td>1.000</td>\n",
       "      <td>1.000</td>\n",
       "      <td>0.000</td>\n",
       "      <td>0.000</td>\n",
       "    </tr>\n",
       "  </tbody>\n",
       "</table>\n",
       "</div>"
      ],
      "text/plain": [
       "       DPQ010  DPQ020  DPQ030  DPQ040  DPQ050  DPQ060  DPQ070  DPQ080  DPQ090\n",
       "SEQN                                                                         \n",
       "31131   0.000   0.000   0.000   0.000   0.000   0.000   0.000   0.000   0.000\n",
       "31132   0.000   0.000   0.000   0.000   0.000   0.000   0.000   0.000   0.000\n",
       "31134   0.000   0.000   0.000   0.000   0.000   0.000   0.000   0.000   0.000\n",
       "31139   0.000   0.000   0.000   0.000   3.000   1.000   0.000   0.000   0.000\n",
       "31143   0.000   1.000   1.000   1.000   1.000   1.000   1.000   0.000   0.000"
      ]
     },
     "execution_count": 447,
     "metadata": {},
     "output_type": "execute_result"
    }
   ],
   "source": [
    "df_target.head()"
   ]
  },
  {
   "cell_type": "code",
   "execution_count": 448,
   "metadata": {
    "ExecuteTime": {
     "end_time": "2021-01-05T23:46:54.847196Z",
     "start_time": "2021-01-05T23:46:54.842196Z"
    }
   },
   "outputs": [],
   "source": [
    "def val_counts(df):\n",
    "    for col in df.columns:\n",
    "        print(f'{col} value counts', '\\n')\n",
    "        display(df[col].value_counts(dropna=False))\n",
    "        print('--------------------------------------')"
   ]
  },
  {
   "cell_type": "code",
   "execution_count": 449,
   "metadata": {
    "ExecuteTime": {
     "end_time": "2021-01-05T23:46:54.892200Z",
     "start_time": "2021-01-05T23:46:54.850197Z"
    }
   },
   "outputs": [
    {
     "name": "stdout",
     "output_type": "stream",
     "text": [
      "DPQ010 value counts \n",
      "\n"
     ]
    },
    {
     "data": {
      "text/plain": [
       "0.000    27333\n",
       "1.000     5946\n",
       "2.000     1716\n",
       "3.000     1385\n",
       "9.000       54\n",
       "7.000       13\n",
       "Name: DPQ010, dtype: int64"
      ]
     },
     "metadata": {},
     "output_type": "display_data"
    },
    {
     "name": "stdout",
     "output_type": "stream",
     "text": [
      "--------------------------------------\n",
      "DPQ020 value counts \n",
      "\n"
     ]
    },
    {
     "data": {
      "text/plain": [
       "0.000    27582\n",
       "1.000     6117\n",
       "2.000     1471\n",
       "3.000     1243\n",
       "9.000       26\n",
       "7.000        8\n",
       "Name: DPQ020, dtype: int64"
      ]
     },
     "metadata": {},
     "output_type": "display_data"
    },
    {
     "name": "stdout",
     "output_type": "stream",
     "text": [
      "--------------------------------------\n",
      "DPQ030 value counts \n",
      "\n"
     ]
    },
    {
     "data": {
      "text/plain": [
       "0.000    22611\n",
       "1.000     8120\n",
       "3.000     3180\n",
       "2.000     2506\n",
       "9.000       24\n",
       "7.000        6\n",
       "Name: DPQ030, dtype: int64"
      ]
     },
     "metadata": {},
     "output_type": "display_data"
    },
    {
     "name": "stdout",
     "output_type": "stream",
     "text": [
      "--------------------------------------\n",
      "DPQ040 value counts \n",
      "\n"
     ]
    },
    {
     "data": {
      "text/plain": [
       "0.000    18316\n",
       "1.000    12057\n",
       "3.000     3108\n",
       "2.000     2937\n",
       "9.000       23\n",
       "7.000        6\n",
       "Name: DPQ040, dtype: int64"
      ]
     },
     "metadata": {},
     "output_type": "display_data"
    },
    {
     "name": "stdout",
     "output_type": "stream",
     "text": [
      "--------------------------------------\n",
      "DPQ050 value counts \n",
      "\n"
     ]
    },
    {
     "data": {
      "text/plain": [
       "0.000    27482\n",
       "1.000     5614\n",
       "2.000     1696\n",
       "3.000     1628\n",
       "9.000       24\n",
       "7.000        3\n",
       "Name: DPQ050, dtype: int64"
      ]
     },
     "metadata": {},
     "output_type": "display_data"
    },
    {
     "name": "stdout",
     "output_type": "stream",
     "text": [
      "--------------------------------------\n",
      "DPQ060 value counts \n",
      "\n"
     ]
    },
    {
     "data": {
      "text/plain": [
       "0.000    30214\n",
       "1.000     4161\n",
       "2.000     1032\n",
       "3.000      989\n",
       "9.000       45\n",
       "7.000        6\n",
       "Name: DPQ060, dtype: int64"
      ]
     },
     "metadata": {},
     "output_type": "display_data"
    },
    {
     "name": "stdout",
     "output_type": "stream",
     "text": [
      "--------------------------------------\n",
      "DPQ070 value counts \n",
      "\n"
     ]
    },
    {
     "data": {
      "text/plain": [
       "0.000    30248\n",
       "1.000     3967\n",
       "3.000     1126\n",
       "2.000     1075\n",
       "9.000       27\n",
       "7.000        4\n",
       "Name: DPQ070, dtype: int64"
      ]
     },
     "metadata": {},
     "output_type": "display_data"
    },
    {
     "name": "stdout",
     "output_type": "stream",
     "text": [
      "--------------------------------------\n",
      "DPQ080 value counts \n",
      "\n"
     ]
    },
    {
     "data": {
      "text/plain": [
       "0.000    32397\n",
       "1.000     2574\n",
       "2.000      770\n",
       "3.000      661\n",
       "9.000       41\n",
       "7.000        4\n",
       "Name: DPQ080, dtype: int64"
      ]
     },
     "metadata": {},
     "output_type": "display_data"
    },
    {
     "name": "stdout",
     "output_type": "stream",
     "text": [
      "--------------------------------------\n",
      "DPQ090 value counts \n",
      "\n"
     ]
    },
    {
     "data": {
      "text/plain": [
       "0.000    35027\n",
       "1.000      950\n",
       "2.000      224\n",
       "3.000      208\n",
       "9.000       30\n",
       "7.000        8\n",
       "Name: DPQ090, dtype: int64"
      ]
     },
     "metadata": {},
     "output_type": "display_data"
    },
    {
     "name": "stdout",
     "output_type": "stream",
     "text": [
      "--------------------------------------\n"
     ]
    }
   ],
   "source": [
    "val_counts(df_target)"
   ]
  },
  {
   "cell_type": "code",
   "execution_count": 450,
   "metadata": {
    "ExecuteTime": {
     "end_time": "2021-01-05T23:46:54.906197Z",
     "start_time": "2021-01-05T23:46:54.897218Z"
    }
   },
   "outputs": [],
   "source": [
    "df_target = df_target[(df_target != 7) & (df_target != 9)]"
   ]
  },
  {
   "cell_type": "code",
   "execution_count": 451,
   "metadata": {
    "ExecuteTime": {
     "end_time": "2021-01-05T23:46:54.928202Z",
     "start_time": "2021-01-05T23:46:54.908195Z"
    }
   },
   "outputs": [
    {
     "data": {
      "text/html": [
       "<div>\n",
       "<style scoped>\n",
       "    .dataframe tbody tr th:only-of-type {\n",
       "        vertical-align: middle;\n",
       "    }\n",
       "\n",
       "    .dataframe tbody tr th {\n",
       "        vertical-align: top;\n",
       "    }\n",
       "\n",
       "    .dataframe thead th {\n",
       "        text-align: right;\n",
       "    }\n",
       "</style>\n",
       "<table border=\"1\" class=\"dataframe\">\n",
       "  <thead>\n",
       "    <tr style=\"text-align: right;\">\n",
       "      <th></th>\n",
       "      <th>DPQ010</th>\n",
       "      <th>DPQ020</th>\n",
       "      <th>DPQ030</th>\n",
       "      <th>DPQ040</th>\n",
       "      <th>DPQ050</th>\n",
       "      <th>DPQ060</th>\n",
       "      <th>DPQ070</th>\n",
       "      <th>DPQ080</th>\n",
       "      <th>DPQ090</th>\n",
       "    </tr>\n",
       "    <tr>\n",
       "      <th>SEQN</th>\n",
       "      <th></th>\n",
       "      <th></th>\n",
       "      <th></th>\n",
       "      <th></th>\n",
       "      <th></th>\n",
       "      <th></th>\n",
       "      <th></th>\n",
       "      <th></th>\n",
       "      <th></th>\n",
       "    </tr>\n",
       "  </thead>\n",
       "  <tbody>\n",
       "    <tr>\n",
       "      <th>31131</th>\n",
       "      <td>0.000</td>\n",
       "      <td>0.000</td>\n",
       "      <td>0.000</td>\n",
       "      <td>0.000</td>\n",
       "      <td>0.000</td>\n",
       "      <td>0.000</td>\n",
       "      <td>0.000</td>\n",
       "      <td>0.000</td>\n",
       "      <td>0.000</td>\n",
       "    </tr>\n",
       "    <tr>\n",
       "      <th>31132</th>\n",
       "      <td>0.000</td>\n",
       "      <td>0.000</td>\n",
       "      <td>0.000</td>\n",
       "      <td>0.000</td>\n",
       "      <td>0.000</td>\n",
       "      <td>0.000</td>\n",
       "      <td>0.000</td>\n",
       "      <td>0.000</td>\n",
       "      <td>0.000</td>\n",
       "    </tr>\n",
       "    <tr>\n",
       "      <th>31134</th>\n",
       "      <td>0.000</td>\n",
       "      <td>0.000</td>\n",
       "      <td>0.000</td>\n",
       "      <td>0.000</td>\n",
       "      <td>0.000</td>\n",
       "      <td>0.000</td>\n",
       "      <td>0.000</td>\n",
       "      <td>0.000</td>\n",
       "      <td>0.000</td>\n",
       "    </tr>\n",
       "    <tr>\n",
       "      <th>31139</th>\n",
       "      <td>0.000</td>\n",
       "      <td>0.000</td>\n",
       "      <td>0.000</td>\n",
       "      <td>0.000</td>\n",
       "      <td>3.000</td>\n",
       "      <td>1.000</td>\n",
       "      <td>0.000</td>\n",
       "      <td>0.000</td>\n",
       "      <td>0.000</td>\n",
       "    </tr>\n",
       "    <tr>\n",
       "      <th>31143</th>\n",
       "      <td>0.000</td>\n",
       "      <td>1.000</td>\n",
       "      <td>1.000</td>\n",
       "      <td>1.000</td>\n",
       "      <td>1.000</td>\n",
       "      <td>1.000</td>\n",
       "      <td>1.000</td>\n",
       "      <td>0.000</td>\n",
       "      <td>0.000</td>\n",
       "    </tr>\n",
       "  </tbody>\n",
       "</table>\n",
       "</div>"
      ],
      "text/plain": [
       "       DPQ010  DPQ020  DPQ030  DPQ040  DPQ050  DPQ060  DPQ070  DPQ080  DPQ090\n",
       "SEQN                                                                         \n",
       "31131   0.000   0.000   0.000   0.000   0.000   0.000   0.000   0.000   0.000\n",
       "31132   0.000   0.000   0.000   0.000   0.000   0.000   0.000   0.000   0.000\n",
       "31134   0.000   0.000   0.000   0.000   0.000   0.000   0.000   0.000   0.000\n",
       "31139   0.000   0.000   0.000   0.000   3.000   1.000   0.000   0.000   0.000\n",
       "31143   0.000   1.000   1.000   1.000   1.000   1.000   1.000   0.000   0.000"
      ]
     },
     "execution_count": 451,
     "metadata": {},
     "output_type": "execute_result"
    }
   ],
   "source": [
    "df_target.head()"
   ]
  },
  {
   "cell_type": "code",
   "execution_count": 452,
   "metadata": {
    "ExecuteTime": {
     "end_time": "2021-01-05T23:46:54.977202Z",
     "start_time": "2021-01-05T23:46:54.930201Z"
    }
   },
   "outputs": [
    {
     "name": "stdout",
     "output_type": "stream",
     "text": [
      "DPQ010 value counts \n",
      "\n"
     ]
    },
    {
     "data": {
      "text/plain": [
       "0.000    27333\n",
       "1.000     5946\n",
       "2.000     1716\n",
       "3.000     1385\n",
       "nan         67\n",
       "Name: DPQ010, dtype: int64"
      ]
     },
     "metadata": {},
     "output_type": "display_data"
    },
    {
     "name": "stdout",
     "output_type": "stream",
     "text": [
      "--------------------------------------\n",
      "DPQ020 value counts \n",
      "\n"
     ]
    },
    {
     "data": {
      "text/plain": [
       "0.000    27582\n",
       "1.000     6117\n",
       "2.000     1471\n",
       "3.000     1243\n",
       "nan         34\n",
       "Name: DPQ020, dtype: int64"
      ]
     },
     "metadata": {},
     "output_type": "display_data"
    },
    {
     "name": "stdout",
     "output_type": "stream",
     "text": [
      "--------------------------------------\n",
      "DPQ030 value counts \n",
      "\n"
     ]
    },
    {
     "data": {
      "text/plain": [
       "0.000    22611\n",
       "1.000     8120\n",
       "3.000     3180\n",
       "2.000     2506\n",
       "nan         30\n",
       "Name: DPQ030, dtype: int64"
      ]
     },
     "metadata": {},
     "output_type": "display_data"
    },
    {
     "name": "stdout",
     "output_type": "stream",
     "text": [
      "--------------------------------------\n",
      "DPQ040 value counts \n",
      "\n"
     ]
    },
    {
     "data": {
      "text/plain": [
       "0.000    18316\n",
       "1.000    12057\n",
       "3.000     3108\n",
       "2.000     2937\n",
       "nan         29\n",
       "Name: DPQ040, dtype: int64"
      ]
     },
     "metadata": {},
     "output_type": "display_data"
    },
    {
     "name": "stdout",
     "output_type": "stream",
     "text": [
      "--------------------------------------\n",
      "DPQ050 value counts \n",
      "\n"
     ]
    },
    {
     "data": {
      "text/plain": [
       "0.000    27482\n",
       "1.000     5614\n",
       "2.000     1696\n",
       "3.000     1628\n",
       "nan         27\n",
       "Name: DPQ050, dtype: int64"
      ]
     },
     "metadata": {},
     "output_type": "display_data"
    },
    {
     "name": "stdout",
     "output_type": "stream",
     "text": [
      "--------------------------------------\n",
      "DPQ060 value counts \n",
      "\n"
     ]
    },
    {
     "data": {
      "text/plain": [
       "0.000    30214\n",
       "1.000     4161\n",
       "2.000     1032\n",
       "3.000      989\n",
       "nan         51\n",
       "Name: DPQ060, dtype: int64"
      ]
     },
     "metadata": {},
     "output_type": "display_data"
    },
    {
     "name": "stdout",
     "output_type": "stream",
     "text": [
      "--------------------------------------\n",
      "DPQ070 value counts \n",
      "\n"
     ]
    },
    {
     "data": {
      "text/plain": [
       "0.000    30248\n",
       "1.000     3967\n",
       "3.000     1126\n",
       "2.000     1075\n",
       "nan         31\n",
       "Name: DPQ070, dtype: int64"
      ]
     },
     "metadata": {},
     "output_type": "display_data"
    },
    {
     "name": "stdout",
     "output_type": "stream",
     "text": [
      "--------------------------------------\n",
      "DPQ080 value counts \n",
      "\n"
     ]
    },
    {
     "data": {
      "text/plain": [
       "0.000    32397\n",
       "1.000     2574\n",
       "2.000      770\n",
       "3.000      661\n",
       "nan         45\n",
       "Name: DPQ080, dtype: int64"
      ]
     },
     "metadata": {},
     "output_type": "display_data"
    },
    {
     "name": "stdout",
     "output_type": "stream",
     "text": [
      "--------------------------------------\n",
      "DPQ090 value counts \n",
      "\n"
     ]
    },
    {
     "data": {
      "text/plain": [
       "0.000    35027\n",
       "1.000      950\n",
       "2.000      224\n",
       "3.000      208\n",
       "nan         38\n",
       "Name: DPQ090, dtype: int64"
      ]
     },
     "metadata": {},
     "output_type": "display_data"
    },
    {
     "name": "stdout",
     "output_type": "stream",
     "text": [
      "--------------------------------------\n"
     ]
    }
   ],
   "source": [
    "val_counts(df_target)"
   ]
  },
  {
   "cell_type": "code",
   "execution_count": 453,
   "metadata": {
    "ExecuteTime": {
     "end_time": "2021-01-05T23:46:54.992217Z",
     "start_time": "2021-01-05T23:46:54.979195Z"
    }
   },
   "outputs": [
    {
     "name": "stdout",
     "output_type": "stream",
     "text": [
      "<class 'pandas.core.frame.DataFrame'>\n",
      "Int64Index: 36447 entries, 31131 to 102956\n",
      "Data columns (total 9 columns):\n",
      " #   Column  Non-Null Count  Dtype  \n",
      "---  ------  --------------  -----  \n",
      " 0   DPQ010  36380 non-null  float64\n",
      " 1   DPQ020  36413 non-null  float64\n",
      " 2   DPQ030  36417 non-null  float64\n",
      " 3   DPQ040  36418 non-null  float64\n",
      " 4   DPQ050  36420 non-null  float64\n",
      " 5   DPQ060  36396 non-null  float64\n",
      " 6   DPQ070  36416 non-null  float64\n",
      " 7   DPQ080  36402 non-null  float64\n",
      " 8   DPQ090  36409 non-null  float64\n",
      "dtypes: float64(9)\n",
      "memory usage: 2.8 MB\n"
     ]
    }
   ],
   "source": [
    "df_target.info()"
   ]
  },
  {
   "cell_type": "code",
   "execution_count": 454,
   "metadata": {
    "ExecuteTime": {
     "end_time": "2021-01-05T23:46:55.004199Z",
     "start_time": "2021-01-05T23:46:54.994196Z"
    }
   },
   "outputs": [
    {
     "data": {
      "text/plain": [
       "DPQ010    67\n",
       "DPQ020    34\n",
       "DPQ030    30\n",
       "DPQ040    29\n",
       "DPQ050    27\n",
       "DPQ060    51\n",
       "DPQ070    31\n",
       "DPQ080    45\n",
       "DPQ090    38\n",
       "dtype: int64"
      ]
     },
     "execution_count": 454,
     "metadata": {},
     "output_type": "execute_result"
    }
   ],
   "source": [
    "df_target.isna().sum()"
   ]
  },
  {
   "cell_type": "code",
   "execution_count": 455,
   "metadata": {
    "ExecuteTime": {
     "end_time": "2021-01-05T23:46:55.387194Z",
     "start_time": "2021-01-05T23:46:55.007198Z"
    }
   },
   "outputs": [
    {
     "data": {
      "image/png": "[encoded data removed]",
      "text/plain": [
       "<Figure size 1800x720 with 2 Axes>"
      ]
     },
     "metadata": {},
     "output_type": "display_data"
    }
   ],
   "source": [
    "ms.matrix(df_target);"
   ]
  },
  {
   "cell_type": "code",
   "execution_count": 456,
   "metadata": {
    "ExecuteTime": {
     "end_time": "2021-01-05T23:46:55.402197Z",
     "start_time": "2021-01-05T23:46:55.389198Z"
    }
   },
   "outputs": [],
   "source": [
    "df_target.dropna(inplace=True)"
   ]
  },
  {
   "cell_type": "code",
   "execution_count": 457,
   "metadata": {
    "ExecuteTime": {
     "end_time": "2021-01-05T23:46:55.416199Z",
     "start_time": "2021-01-05T23:46:55.404194Z"
    }
   },
   "outputs": [
    {
     "name": "stdout",
     "output_type": "stream",
     "text": [
      "<class 'pandas.core.frame.DataFrame'>\n",
      "Int64Index: 36259 entries, 31131 to 102956\n",
      "Data columns (total 9 columns):\n",
      " #   Column  Non-Null Count  Dtype  \n",
      "---  ------  --------------  -----  \n",
      " 0   DPQ010  36259 non-null  float64\n",
      " 1   DPQ020  36259 non-null  float64\n",
      " 2   DPQ030  36259 non-null  float64\n",
      " 3   DPQ040  36259 non-null  float64\n",
      " 4   DPQ050  36259 non-null  float64\n",
      " 5   DPQ060  36259 non-null  float64\n",
      " 6   DPQ070  36259 non-null  float64\n",
      " 7   DPQ080  36259 non-null  float64\n",
      " 8   DPQ090  36259 non-null  float64\n",
      "dtypes: float64(9)\n",
      "memory usage: 2.8 MB\n"
     ]
    }
   ],
   "source": [
    "df_target.info()"
   ]
  },
  {
   "cell_type": "code",
   "execution_count": 458,
   "metadata": {
    "ExecuteTime": {
     "end_time": "2021-01-05T23:46:55.423199Z",
     "start_time": "2021-01-05T23:46:55.417199Z"
    }
   },
   "outputs": [],
   "source": [
    "df_target = df_target.astype('int64')"
   ]
  },
  {
   "cell_type": "code",
   "execution_count": 459,
   "metadata": {
    "ExecuteTime": {
     "end_time": "2021-01-05T23:46:55.446196Z",
     "start_time": "2021-01-05T23:46:55.426196Z"
    }
   },
   "outputs": [
    {
     "data": {
      "text/html": [
       "<div>\n",
       "<style scoped>\n",
       "    .dataframe tbody tr th:only-of-type {\n",
       "        vertical-align: middle;\n",
       "    }\n",
       "\n",
       "    .dataframe tbody tr th {\n",
       "        vertical-align: top;\n",
       "    }\n",
       "\n",
       "    .dataframe thead th {\n",
       "        text-align: right;\n",
       "    }\n",
       "</style>\n",
       "<table border=\"1\" class=\"dataframe\">\n",
       "  <thead>\n",
       "    <tr style=\"text-align: right;\">\n",
       "      <th></th>\n",
       "      <th>DPQ010</th>\n",
       "      <th>DPQ020</th>\n",
       "      <th>DPQ030</th>\n",
       "      <th>DPQ040</th>\n",
       "      <th>DPQ050</th>\n",
       "      <th>DPQ060</th>\n",
       "      <th>DPQ070</th>\n",
       "      <th>DPQ080</th>\n",
       "      <th>DPQ090</th>\n",
       "    </tr>\n",
       "    <tr>\n",
       "      <th>SEQN</th>\n",
       "      <th></th>\n",
       "      <th></th>\n",
       "      <th></th>\n",
       "      <th></th>\n",
       "      <th></th>\n",
       "      <th></th>\n",
       "      <th></th>\n",
       "      <th></th>\n",
       "      <th></th>\n",
       "    </tr>\n",
       "  </thead>\n",
       "  <tbody>\n",
       "    <tr>\n",
       "      <th>31131</th>\n",
       "      <td>0</td>\n",
       "      <td>0</td>\n",
       "      <td>0</td>\n",
       "      <td>0</td>\n",
       "      <td>0</td>\n",
       "      <td>0</td>\n",
       "      <td>0</td>\n",
       "      <td>0</td>\n",
       "      <td>0</td>\n",
       "    </tr>\n",
       "    <tr>\n",
       "      <th>31132</th>\n",
       "      <td>0</td>\n",
       "      <td>0</td>\n",
       "      <td>0</td>\n",
       "      <td>0</td>\n",
       "      <td>0</td>\n",
       "      <td>0</td>\n",
       "      <td>0</td>\n",
       "      <td>0</td>\n",
       "      <td>0</td>\n",
       "    </tr>\n",
       "    <tr>\n",
       "      <th>31134</th>\n",
       "      <td>0</td>\n",
       "      <td>0</td>\n",
       "      <td>0</td>\n",
       "      <td>0</td>\n",
       "      <td>0</td>\n",
       "      <td>0</td>\n",
       "      <td>0</td>\n",
       "      <td>0</td>\n",
       "      <td>0</td>\n",
       "    </tr>\n",
       "    <tr>\n",
       "      <th>31139</th>\n",
       "      <td>0</td>\n",
       "      <td>0</td>\n",
       "      <td>0</td>\n",
       "      <td>0</td>\n",
       "      <td>3</td>\n",
       "      <td>1</td>\n",
       "      <td>0</td>\n",
       "      <td>0</td>\n",
       "      <td>0</td>\n",
       "    </tr>\n",
       "    <tr>\n",
       "      <th>31143</th>\n",
       "      <td>0</td>\n",
       "      <td>1</td>\n",
       "      <td>1</td>\n",
       "      <td>1</td>\n",
       "      <td>1</td>\n",
       "      <td>1</td>\n",
       "      <td>1</td>\n",
       "      <td>0</td>\n",
       "      <td>0</td>\n",
       "    </tr>\n",
       "  </tbody>\n",
       "</table>\n",
       "</div>"
      ],
      "text/plain": [
       "       DPQ010  DPQ020  DPQ030  DPQ040  DPQ050  DPQ060  DPQ070  DPQ080  DPQ090\n",
       "SEQN                                                                         \n",
       "31131       0       0       0       0       0       0       0       0       0\n",
       "31132       0       0       0       0       0       0       0       0       0\n",
       "31134       0       0       0       0       0       0       0       0       0\n",
       "31139       0       0       0       0       3       1       0       0       0\n",
       "31143       0       1       1       1       1       1       1       0       0"
      ]
     },
     "execution_count": 459,
     "metadata": {},
     "output_type": "execute_result"
    }
   ],
   "source": [
    "df_target.head()"
   ]
  },
  {
   "cell_type": "code",
   "execution_count": 460,
   "metadata": {
    "ExecuteTime": {
     "end_time": "2021-01-05T23:46:55.455221Z",
     "start_time": "2021-01-05T23:46:55.448196Z"
    }
   },
   "outputs": [],
   "source": [
    "df_target['Total'] = df_target.sum(axis=1)"
   ]
  },
  {
   "cell_type": "code",
   "execution_count": 461,
   "metadata": {
    "ExecuteTime": {
     "end_time": "2021-01-05T23:46:55.479218Z",
     "start_time": "2021-01-05T23:46:55.457196Z"
    }
   },
   "outputs": [
    {
     "data": {
      "text/html": [
       "<div>\n",
       "<style scoped>\n",
       "    .dataframe tbody tr th:only-of-type {\n",
       "        vertical-align: middle;\n",
       "    }\n",
       "\n",
       "    .dataframe tbody tr th {\n",
       "        vertical-align: top;\n",
       "    }\n",
       "\n",
       "    .dataframe thead th {\n",
       "        text-align: right;\n",
       "    }\n",
       "</style>\n",
       "<table border=\"1\" class=\"dataframe\">\n",
       "  <thead>\n",
       "    <tr style=\"text-align: right;\">\n",
       "      <th></th>\n",
       "      <th>DPQ010</th>\n",
       "      <th>DPQ020</th>\n",
       "      <th>DPQ030</th>\n",
       "      <th>DPQ040</th>\n",
       "      <th>DPQ050</th>\n",
       "      <th>DPQ060</th>\n",
       "      <th>DPQ070</th>\n",
       "      <th>DPQ080</th>\n",
       "      <th>DPQ090</th>\n",
       "      <th>Total</th>\n",
       "    </tr>\n",
       "    <tr>\n",
       "      <th>SEQN</th>\n",
       "      <th></th>\n",
       "      <th></th>\n",
       "      <th></th>\n",
       "      <th></th>\n",
       "      <th></th>\n",
       "      <th></th>\n",
       "      <th></th>\n",
       "      <th></th>\n",
       "      <th></th>\n",
       "      <th></th>\n",
       "    </tr>\n",
       "  </thead>\n",
       "  <tbody>\n",
       "    <tr>\n",
       "      <th>31131</th>\n",
       "      <td>0</td>\n",
       "      <td>0</td>\n",
       "      <td>0</td>\n",
       "      <td>0</td>\n",
       "      <td>0</td>\n",
       "      <td>0</td>\n",
       "      <td>0</td>\n",
       "      <td>0</td>\n",
       "      <td>0</td>\n",
       "      <td>0</td>\n",
       "    </tr>\n",
       "    <tr>\n",
       "      <th>31132</th>\n",
       "      <td>0</td>\n",
       "      <td>0</td>\n",
       "      <td>0</td>\n",
       "      <td>0</td>\n",
       "      <td>0</td>\n",
       "      <td>0</td>\n",
       "      <td>0</td>\n",
       "      <td>0</td>\n",
       "      <td>0</td>\n",
       "      <td>0</td>\n",
       "    </tr>\n",
       "    <tr>\n",
       "      <th>31134</th>\n",
       "      <td>0</td>\n",
       "      <td>0</td>\n",
       "      <td>0</td>\n",
       "      <td>0</td>\n",
       "      <td>0</td>\n",
       "      <td>0</td>\n",
       "      <td>0</td>\n",
       "      <td>0</td>\n",
       "      <td>0</td>\n",
       "      <td>0</td>\n",
       "    </tr>\n",
       "    <tr>\n",
       "      <th>31139</th>\n",
       "      <td>0</td>\n",
       "      <td>0</td>\n",
       "      <td>0</td>\n",
       "      <td>0</td>\n",
       "      <td>3</td>\n",
       "      <td>1</td>\n",
       "      <td>0</td>\n",
       "      <td>0</td>\n",
       "      <td>0</td>\n",
       "      <td>4</td>\n",
       "    </tr>\n",
       "    <tr>\n",
       "      <th>31143</th>\n",
       "      <td>0</td>\n",
       "      <td>1</td>\n",
       "      <td>1</td>\n",
       "      <td>1</td>\n",
       "      <td>1</td>\n",
       "      <td>1</td>\n",
       "      <td>1</td>\n",
       "      <td>0</td>\n",
       "      <td>0</td>\n",
       "      <td>6</td>\n",
       "    </tr>\n",
       "  </tbody>\n",
       "</table>\n",
       "</div>"
      ],
      "text/plain": [
       "       DPQ010  DPQ020  DPQ030  DPQ040  ...  DPQ070  DPQ080  DPQ090  Total\n",
       "SEQN                                   ...                               \n",
       "31131       0       0       0       0  ...       0       0       0      0\n",
       "31132       0       0       0       0  ...       0       0       0      0\n",
       "31134       0       0       0       0  ...       0       0       0      0\n",
       "31139       0       0       0       0  ...       0       0       0      4\n",
       "31143       0       1       1       1  ...       1       0       0      6\n",
       "\n",
       "[5 rows x 10 columns]"
      ]
     },
     "execution_count": 461,
     "metadata": {},
     "output_type": "execute_result"
    }
   ],
   "source": [
    "df_target.head()"
   ]
  },
  {
   "cell_type": "code",
   "execution_count": 462,
   "metadata": {
    "ExecuteTime": {
     "end_time": "2021-01-05T23:46:55.491197Z",
     "start_time": "2021-01-05T23:46:55.481201Z"
    }
   },
   "outputs": [
    {
     "data": {
      "text/plain": [
       "0    0.329\n",
       "1    0.149\n",
       "2    0.119\n",
       "3    0.091\n",
       "4    0.065\n",
       "5    0.047\n",
       "6    0.039\n",
       "7    0.030\n",
       "8    0.024\n",
       "9    0.019\n",
       "10   0.016\n",
       "11   0.012\n",
       "12   0.010\n",
       "13   0.009\n",
       "14   0.008\n",
       "15   0.006\n",
       "16   0.005\n",
       "17   0.004\n",
       "18   0.004\n",
       "19   0.003\n",
       "21   0.002\n",
       "20   0.002\n",
       "22   0.001\n",
       "24   0.001\n",
       "23   0.001\n",
       "25   0.001\n",
       "27   0.000\n",
       "26   0.000\n",
       "Name: Total, dtype: float64"
      ]
     },
     "execution_count": 462,
     "metadata": {},
     "output_type": "execute_result"
    }
   ],
   "source": [
    "df_target.Total.value_counts(1)"
   ]
  },
  {
   "cell_type": "code",
   "execution_count": 463,
   "metadata": {
    "ExecuteTime": {
     "end_time": "2021-01-05T23:46:55.505219Z",
     "start_time": "2021-01-05T23:46:55.493195Z"
    }
   },
   "outputs": [],
   "source": [
    "df_target['Category'] = df_target.Total.apply(lambda x: 'Not Depressed' if x<10 else 'Depressed')"
   ]
  },
  {
   "cell_type": "code",
   "execution_count": 464,
   "metadata": {
    "ExecuteTime": {
     "end_time": "2021-01-05T23:46:55.519197Z",
     "start_time": "2021-01-05T23:46:55.507196Z"
    }
   },
   "outputs": [
    {
     "data": {
      "text/plain": [
       "Not Depressed   0.913\n",
       "Depressed       0.087\n",
       "Name: Category, dtype: float64"
      ]
     },
     "execution_count": 464,
     "metadata": {},
     "output_type": "execute_result"
    }
   ],
   "source": [
    "df_target.Category.value_counts(1)"
   ]
  },
  {
   "cell_type": "code",
   "execution_count": 465,
   "metadata": {
    "ExecuteTime": {
     "end_time": "2021-01-05T23:46:55.529194Z",
     "start_time": "2021-01-05T23:46:55.521200Z"
    }
   },
   "outputs": [
    {
     "data": {
      "text/plain": [
       "SEQN\n",
       "31131    Not Depressed\n",
       "31132    Not Depressed\n",
       "31134    Not Depressed\n",
       "31139    Not Depressed\n",
       "31143    Not Depressed\n",
       "Name: Category, dtype: object"
      ]
     },
     "execution_count": 465,
     "metadata": {},
     "output_type": "execute_result"
    }
   ],
   "source": [
    "series_target = pd.Series(df_target['Category'])\n",
    "series_target.head()"
   ]
  },
  {
   "cell_type": "code",
   "execution_count": 466,
   "metadata": {
    "ExecuteTime": {
     "end_time": "2021-01-05T23:46:55.543200Z",
     "start_time": "2021-01-05T23:46:55.531198Z"
    }
   },
   "outputs": [
    {
     "data": {
      "text/plain": [
       "Not Depressed   0.913\n",
       "Depressed       0.087\n",
       "Name: Category, dtype: float64"
      ]
     },
     "execution_count": 466,
     "metadata": {},
     "output_type": "execute_result"
    }
   ],
   "source": [
    "series_target.value_counts(1)"
   ]
  },
  {
   "cell_type": "markdown",
   "metadata": {},
   "source": [
    "# Demographic Data"
   ]
  },
  {
   "cell_type": "code",
   "execution_count": 467,
   "metadata": {
    "ExecuteTime": {
     "end_time": "2021-01-05T23:46:56.147223Z",
     "start_time": "2021-01-05T23:46:55.545203Z"
    }
   },
   "outputs": [
    {
     "data": {
      "text/plain": [
       "['Data/Demographics\\\\DEMO_D.XPT',\n",
       " 'Data/Demographics\\\\DEMO_E.XPT',\n",
       " 'Data/Demographics\\\\DEMO_F.XPT',\n",
       " 'Data/Demographics\\\\DEMO_G.XPT',\n",
       " 'Data/Demographics\\\\DEMO_H.XPT',\n",
       " 'Data/Demographics\\\\DEMO_I.XPT',\n",
       " 'Data/Demographics\\\\DEMO_J.XPT']"
      ]
     },
     "metadata": {},
     "output_type": "display_data"
    }
   ],
   "source": [
    "path = r'Data/Demographics'\n",
    "df_demo = glob_concat(path, '*.XPT')"
   ]
  },
  {
   "cell_type": "code",
   "execution_count": 468,
   "metadata": {
    "ExecuteTime": {
     "end_time": "2021-01-05T23:46:56.255243Z",
     "start_time": "2021-01-05T23:46:56.151223Z"
    }
   },
   "outputs": [
    {
     "data": {
      "text/html": [
       "<div>\n",
       "<style scoped>\n",
       "    .dataframe tbody tr th:only-of-type {\n",
       "        vertical-align: middle;\n",
       "    }\n",
       "\n",
       "    .dataframe tbody tr th {\n",
       "        vertical-align: top;\n",
       "    }\n",
       "\n",
       "    .dataframe thead th {\n",
       "        text-align: right;\n",
       "    }\n",
       "</style>\n",
       "<table border=\"1\" class=\"dataframe\">\n",
       "  <thead>\n",
       "    <tr style=\"text-align: right;\">\n",
       "      <th></th>\n",
       "      <th>SEQN</th>\n",
       "      <th>SDDSRVYR</th>\n",
       "      <th>RIDSTATR</th>\n",
       "      <th>RIDEXMON</th>\n",
       "      <th>RIAGENDR</th>\n",
       "      <th>RIDAGEYR</th>\n",
       "      <th>RIDAGEMN</th>\n",
       "      <th>RIDAGEEX</th>\n",
       "      <th>RIDRETH1</th>\n",
       "      <th>DMQMILIT</th>\n",
       "      <th>DMDBORN</th>\n",
       "      <th>DMDCITZN</th>\n",
       "      <th>DMDYRSUS</th>\n",
       "      <th>DMDEDUC3</th>\n",
       "      <th>DMDEDUC2</th>\n",
       "      <th>DMDSCHOL</th>\n",
       "      <th>DMDMARTL</th>\n",
       "      <th>DMDHHSIZ</th>\n",
       "      <th>DMDFMSIZ</th>\n",
       "      <th>INDHHINC</th>\n",
       "      <th>INDFMINC</th>\n",
       "      <th>INDFMPIR</th>\n",
       "      <th>RIDEXPRG</th>\n",
       "      <th>DMDHRGND</th>\n",
       "      <th>DMDHRAGE</th>\n",
       "      <th>DMDHRBRN</th>\n",
       "      <th>DMDHREDU</th>\n",
       "      <th>DMDHRMAR</th>\n",
       "      <th>DMDHSEDU</th>\n",
       "      <th>SIALANG</th>\n",
       "      <th>SIAPROXY</th>\n",
       "      <th>SIAINTRP</th>\n",
       "      <th>FIALANG</th>\n",
       "      <th>FIAPROXY</th>\n",
       "      <th>FIAINTRP</th>\n",
       "      <th>MIALANG</th>\n",
       "      <th>MIAPROXY</th>\n",
       "      <th>MIAINTRP</th>\n",
       "      <th>AIALANG</th>\n",
       "      <th>WTINT2YR</th>\n",
       "      <th>WTMEC2YR</th>\n",
       "      <th>SDMVPSU</th>\n",
       "      <th>SDMVSTRA</th>\n",
       "      <th>DMDBORN2</th>\n",
       "      <th>INDHHIN2</th>\n",
       "      <th>INDFMIN2</th>\n",
       "      <th>DMDHRBR2</th>\n",
       "      <th>RIDRETH3</th>\n",
       "      <th>RIDEXAGY</th>\n",
       "      <th>RIDEXAGM</th>\n",
       "      <th>DMQMILIZ</th>\n",
       "      <th>DMQADFC</th>\n",
       "      <th>DMDBORN4</th>\n",
       "      <th>AIALANGA</th>\n",
       "      <th>DMDHHSZA</th>\n",
       "      <th>DMDHHSZB</th>\n",
       "      <th>DMDHHSZE</th>\n",
       "      <th>DMDHRBR4</th>\n",
       "      <th>DMDHRAGZ</th>\n",
       "      <th>DMDHREDZ</th>\n",
       "      <th>DMDHRMAZ</th>\n",
       "      <th>DMDHSEDZ</th>\n",
       "    </tr>\n",
       "  </thead>\n",
       "  <tbody>\n",
       "    <tr>\n",
       "      <th>0</th>\n",
       "      <td>31127.000</td>\n",
       "      <td>4.000</td>\n",
       "      <td>2.000</td>\n",
       "      <td>2.000</td>\n",
       "      <td>1.000</td>\n",
       "      <td>0.000</td>\n",
       "      <td>11.000</td>\n",
       "      <td>12.000</td>\n",
       "      <td>3.000</td>\n",
       "      <td>nan</td>\n",
       "      <td>1.000</td>\n",
       "      <td>1.000</td>\n",
       "      <td>nan</td>\n",
       "      <td>nan</td>\n",
       "      <td>nan</td>\n",
       "      <td>nan</td>\n",
       "      <td>nan</td>\n",
       "      <td>4.000</td>\n",
       "      <td>4.000</td>\n",
       "      <td>4.000</td>\n",
       "      <td>4.000</td>\n",
       "      <td>0.750</td>\n",
       "      <td>nan</td>\n",
       "      <td>2.000</td>\n",
       "      <td>21.000</td>\n",
       "      <td>1.000</td>\n",
       "      <td>3.000</td>\n",
       "      <td>1.000</td>\n",
       "      <td>2.000</td>\n",
       "      <td>1.000</td>\n",
       "      <td>1.000</td>\n",
       "      <td>2.000</td>\n",
       "      <td>1.000</td>\n",
       "      <td>2.000</td>\n",
       "      <td>2.000</td>\n",
       "      <td>nan</td>\n",
       "      <td>nan</td>\n",
       "      <td>nan</td>\n",
       "      <td>nan</td>\n",
       "      <td>6434.950</td>\n",
       "      <td>6571.396</td>\n",
       "      <td>2.000</td>\n",
       "      <td>44.000</td>\n",
       "      <td>nan</td>\n",
       "      <td>nan</td>\n",
       "      <td>nan</td>\n",
       "      <td>nan</td>\n",
       "      <td>nan</td>\n",
       "      <td>nan</td>\n",
       "      <td>nan</td>\n",
       "      <td>nan</td>\n",
       "      <td>nan</td>\n",
       "      <td>nan</td>\n",
       "      <td>nan</td>\n",
       "      <td>nan</td>\n",
       "      <td>nan</td>\n",
       "      <td>nan</td>\n",
       "      <td>nan</td>\n",
       "      <td>nan</td>\n",
       "      <td>nan</td>\n",
       "      <td>nan</td>\n",
       "      <td>nan</td>\n",
       "    </tr>\n",
       "    <tr>\n",
       "      <th>1</th>\n",
       "      <td>31128.000</td>\n",
       "      <td>4.000</td>\n",
       "      <td>2.000</td>\n",
       "      <td>1.000</td>\n",
       "      <td>2.000</td>\n",
       "      <td>11.000</td>\n",
       "      <td>132.000</td>\n",
       "      <td>132.000</td>\n",
       "      <td>4.000</td>\n",
       "      <td>nan</td>\n",
       "      <td>1.000</td>\n",
       "      <td>1.000</td>\n",
       "      <td>nan</td>\n",
       "      <td>4.000</td>\n",
       "      <td>nan</td>\n",
       "      <td>1.000</td>\n",
       "      <td>nan</td>\n",
       "      <td>7.000</td>\n",
       "      <td>6.000</td>\n",
       "      <td>8.000</td>\n",
       "      <td>5.000</td>\n",
       "      <td>0.770</td>\n",
       "      <td>2.000</td>\n",
       "      <td>1.000</td>\n",
       "      <td>47.000</td>\n",
       "      <td>1.000</td>\n",
       "      <td>2.000</td>\n",
       "      <td>nan</td>\n",
       "      <td>nan</td>\n",
       "      <td>1.000</td>\n",
       "      <td>1.000</td>\n",
       "      <td>2.000</td>\n",
       "      <td>1.000</td>\n",
       "      <td>2.000</td>\n",
       "      <td>2.000</td>\n",
       "      <td>1.000</td>\n",
       "      <td>2.000</td>\n",
       "      <td>2.000</td>\n",
       "      <td>1.000</td>\n",
       "      <td>9081.701</td>\n",
       "      <td>8987.042</td>\n",
       "      <td>1.000</td>\n",
       "      <td>52.000</td>\n",
       "      <td>nan</td>\n",
       "      <td>nan</td>\n",
       "      <td>nan</td>\n",
       "      <td>nan</td>\n",
       "      <td>nan</td>\n",
       "      <td>nan</td>\n",
       "      <td>nan</td>\n",
       "      <td>nan</td>\n",
       "      <td>nan</td>\n",
       "      <td>nan</td>\n",
       "      <td>nan</td>\n",
       "      <td>nan</td>\n",
       "      <td>nan</td>\n",
       "      <td>nan</td>\n",
       "      <td>nan</td>\n",
       "      <td>nan</td>\n",
       "      <td>nan</td>\n",
       "      <td>nan</td>\n",
       "      <td>nan</td>\n",
       "    </tr>\n",
       "    <tr>\n",
       "      <th>2</th>\n",
       "      <td>31129.000</td>\n",
       "      <td>4.000</td>\n",
       "      <td>2.000</td>\n",
       "      <td>2.000</td>\n",
       "      <td>1.000</td>\n",
       "      <td>15.000</td>\n",
       "      <td>189.000</td>\n",
       "      <td>190.000</td>\n",
       "      <td>4.000</td>\n",
       "      <td>nan</td>\n",
       "      <td>1.000</td>\n",
       "      <td>1.000</td>\n",
       "      <td>nan</td>\n",
       "      <td>10.000</td>\n",
       "      <td>nan</td>\n",
       "      <td>1.000</td>\n",
       "      <td>5.000</td>\n",
       "      <td>6.000</td>\n",
       "      <td>6.000</td>\n",
       "      <td>10.000</td>\n",
       "      <td>10.000</td>\n",
       "      <td>2.710</td>\n",
       "      <td>nan</td>\n",
       "      <td>1.000</td>\n",
       "      <td>41.000</td>\n",
       "      <td>1.000</td>\n",
       "      <td>4.000</td>\n",
       "      <td>1.000</td>\n",
       "      <td>4.000</td>\n",
       "      <td>1.000</td>\n",
       "      <td>1.000</td>\n",
       "      <td>2.000</td>\n",
       "      <td>1.000</td>\n",
       "      <td>2.000</td>\n",
       "      <td>2.000</td>\n",
       "      <td>1.000</td>\n",
       "      <td>2.000</td>\n",
       "      <td>2.000</td>\n",
       "      <td>1.000</td>\n",
       "      <td>5316.895</td>\n",
       "      <td>5586.719</td>\n",
       "      <td>1.000</td>\n",
       "      <td>51.000</td>\n",
       "      <td>nan</td>\n",
       "      <td>nan</td>\n",
       "      <td>nan</td>\n",
       "      <td>nan</td>\n",
       "      <td>nan</td>\n",
       "      <td>nan</td>\n",
       "      <td>nan</td>\n",
       "      <td>nan</td>\n",
       "      <td>nan</td>\n",
       "      <td>nan</td>\n",
       "      <td>nan</td>\n",
       "      <td>nan</td>\n",
       "      <td>nan</td>\n",
       "      <td>nan</td>\n",
       "      <td>nan</td>\n",
       "      <td>nan</td>\n",
       "      <td>nan</td>\n",
       "      <td>nan</td>\n",
       "      <td>nan</td>\n",
       "    </tr>\n",
       "    <tr>\n",
       "      <th>3</th>\n",
       "      <td>31130.000</td>\n",
       "      <td>4.000</td>\n",
       "      <td>2.000</td>\n",
       "      <td>2.000</td>\n",
       "      <td>2.000</td>\n",
       "      <td>85.000</td>\n",
       "      <td>nan</td>\n",
       "      <td>nan</td>\n",
       "      <td>3.000</td>\n",
       "      <td>2.000</td>\n",
       "      <td>1.000</td>\n",
       "      <td>1.000</td>\n",
       "      <td>nan</td>\n",
       "      <td>nan</td>\n",
       "      <td>4.000</td>\n",
       "      <td>nan</td>\n",
       "      <td>2.000</td>\n",
       "      <td>1.000</td>\n",
       "      <td>1.000</td>\n",
       "      <td>4.000</td>\n",
       "      <td>4.000</td>\n",
       "      <td>1.990</td>\n",
       "      <td>nan</td>\n",
       "      <td>2.000</td>\n",
       "      <td>85.000</td>\n",
       "      <td>1.000</td>\n",
       "      <td>4.000</td>\n",
       "      <td>2.000</td>\n",
       "      <td>nan</td>\n",
       "      <td>1.000</td>\n",
       "      <td>2.000</td>\n",
       "      <td>2.000</td>\n",
       "      <td>1.000</td>\n",
       "      <td>2.000</td>\n",
       "      <td>2.000</td>\n",
       "      <td>nan</td>\n",
       "      <td>nan</td>\n",
       "      <td>nan</td>\n",
       "      <td>nan</td>\n",
       "      <td>29960.840</td>\n",
       "      <td>34030.995</td>\n",
       "      <td>2.000</td>\n",
       "      <td>46.000</td>\n",
       "      <td>nan</td>\n",
       "      <td>nan</td>\n",
       "      <td>nan</td>\n",
       "      <td>nan</td>\n",
       "      <td>nan</td>\n",
       "      <td>nan</td>\n",
       "      <td>nan</td>\n",
       "      <td>nan</td>\n",
       "      <td>nan</td>\n",
       "      <td>nan</td>\n",
       "      <td>nan</td>\n",
       "      <td>nan</td>\n",
       "      <td>nan</td>\n",
       "      <td>nan</td>\n",
       "      <td>nan</td>\n",
       "      <td>nan</td>\n",
       "      <td>nan</td>\n",
       "      <td>nan</td>\n",
       "      <td>nan</td>\n",
       "    </tr>\n",
       "    <tr>\n",
       "      <th>4</th>\n",
       "      <td>31131.000</td>\n",
       "      <td>4.000</td>\n",
       "      <td>2.000</td>\n",
       "      <td>2.000</td>\n",
       "      <td>2.000</td>\n",
       "      <td>44.000</td>\n",
       "      <td>535.000</td>\n",
       "      <td>536.000</td>\n",
       "      <td>4.000</td>\n",
       "      <td>2.000</td>\n",
       "      <td>1.000</td>\n",
       "      <td>1.000</td>\n",
       "      <td>nan</td>\n",
       "      <td>nan</td>\n",
       "      <td>4.000</td>\n",
       "      <td>nan</td>\n",
       "      <td>1.000</td>\n",
       "      <td>4.000</td>\n",
       "      <td>4.000</td>\n",
       "      <td>11.000</td>\n",
       "      <td>11.000</td>\n",
       "      <td>4.650</td>\n",
       "      <td>2.000</td>\n",
       "      <td>1.000</td>\n",
       "      <td>36.000</td>\n",
       "      <td>1.000</td>\n",
       "      <td>5.000</td>\n",
       "      <td>1.000</td>\n",
       "      <td>4.000</td>\n",
       "      <td>1.000</td>\n",
       "      <td>2.000</td>\n",
       "      <td>2.000</td>\n",
       "      <td>1.000</td>\n",
       "      <td>2.000</td>\n",
       "      <td>2.000</td>\n",
       "      <td>1.000</td>\n",
       "      <td>2.000</td>\n",
       "      <td>2.000</td>\n",
       "      <td>1.000</td>\n",
       "      <td>26457.708</td>\n",
       "      <td>26770.585</td>\n",
       "      <td>1.000</td>\n",
       "      <td>48.000</td>\n",
       "      <td>nan</td>\n",
       "      <td>nan</td>\n",
       "      <td>nan</td>\n",
       "      <td>nan</td>\n",
       "      <td>nan</td>\n",
       "      <td>nan</td>\n",
       "      <td>nan</td>\n",
       "      <td>nan</td>\n",
       "      <td>nan</td>\n",
       "      <td>nan</td>\n",
       "      <td>nan</td>\n",
       "      <td>nan</td>\n",
       "      <td>nan</td>\n",
       "      <td>nan</td>\n",
       "      <td>nan</td>\n",
       "      <td>nan</td>\n",
       "      <td>nan</td>\n",
       "      <td>nan</td>\n",
       "      <td>nan</td>\n",
       "    </tr>\n",
       "  </tbody>\n",
       "</table>\n",
       "</div>"
      ],
      "text/plain": [
       "       SEQN  SDDSRVYR  RIDSTATR  ...  DMDHREDZ  DMDHRMAZ  DMDHSEDZ\n",
       "0 31127.000     4.000     2.000  ...       nan       nan       nan\n",
       "1 31128.000     4.000     2.000  ...       nan       nan       nan\n",
       "2 31129.000     4.000     2.000  ...       nan       nan       nan\n",
       "3 31130.000     4.000     2.000  ...       nan       nan       nan\n",
       "4 31131.000     4.000     2.000  ...       nan       nan       nan\n",
       "\n",
       "[5 rows x 62 columns]"
      ]
     },
     "execution_count": 468,
     "metadata": {},
     "output_type": "execute_result"
    }
   ],
   "source": [
    "df_demo.head()"
   ]
  },
  {
   "cell_type": "code",
   "execution_count": 469,
   "metadata": {
    "ExecuteTime": {
     "end_time": "2021-01-05T23:46:56.268220Z",
     "start_time": "2021-01-05T23:46:56.257221Z"
    }
   },
   "outputs": [],
   "source": [
    "df_demo.SEQN = df_demo.SEQN.astype('int64')\n",
    "df_demo.set_index('SEQN', verify_integrity=True, inplace=True)"
   ]
  },
  {
   "cell_type": "code",
   "execution_count": 470,
   "metadata": {
    "ExecuteTime": {
     "end_time": "2021-01-05T23:46:56.336221Z",
     "start_time": "2021-01-05T23:46:56.269222Z"
    }
   },
   "outputs": [
    {
     "name": "stdout",
     "output_type": "stream",
     "text": [
      "<class 'pandas.core.frame.DataFrame'>\n",
      "Int64Index: 70190 entries, 31127 to 102956\n",
      "Data columns (total 61 columns):\n",
      " #   Column    Non-Null Count  Dtype  \n",
      "---  ------    --------------  -----  \n",
      " 0   SDDSRVYR  70190 non-null  float64\n",
      " 1   RIDSTATR  70190 non-null  float64\n",
      " 2   RIDEXMON  67364 non-null  float64\n",
      " 3   RIAGENDR  70190 non-null  float64\n",
      " 4   RIDAGEYR  70190 non-null  float64\n",
      " 5   RIDAGEMN  32591 non-null  float64\n",
      " 6   RIDAGEEX  28999 non-null  float64\n",
      " 7   RIDRETH1  70190 non-null  float64\n",
      " 8   DMQMILIT  18934 non-null  float64\n",
      " 9   DMDBORN   10348 non-null  float64\n",
      " 10  DMDCITZN  70163 non-null  float64\n",
      " 11  DMDYRSUS  13405 non-null  float64\n",
      " 12  DMDEDUC3  18882 non-null  float64\n",
      " 13  DMDEDUC2  39749 non-null  float64\n",
      " 14  DMDSCHOL  7807 non-null   float64\n",
      " 15  DMDMARTL  41468 non-null  float64\n",
      " 16  DMDHHSIZ  70190 non-null  float64\n",
      " 17  DMDFMSIZ  70190 non-null  float64\n",
      " 18  INDHHINC  10216 non-null  float64\n",
      " 19  INDFMINC  10238 non-null  float64\n",
      " 20  INDFMPIR  63858 non-null  float64\n",
      " 21  RIDEXPRG  10901 non-null  float64\n",
      " 22  DMDHRGND  70190 non-null  float64\n",
      " 23  DMDHRAGE  60936 non-null  float64\n",
      " 24  DMDHRBRN  10025 non-null  float64\n",
      " 25  DMDHREDU  59019 non-null  float64\n",
      " 26  DMDHRMAR  59816 non-null  float64\n",
      " 27  DMDHSEDU  31881 non-null  float64\n",
      " 28  SIALANG   70187 non-null  float64\n",
      " 29  SIAPROXY  70176 non-null  float64\n",
      " 30  SIAINTRP  70187 non-null  float64\n",
      " 31  FIALANG   68852 non-null  float64\n",
      " 32  FIAPROXY  68852 non-null  float64\n",
      " 33  FIAINTRP  68852 non-null  float64\n",
      " 34  MIALANG   49326 non-null  float64\n",
      " 35  MIAPROXY  49328 non-null  float64\n",
      " 36  MIAINTRP  49328 non-null  float64\n",
      " 37  AIALANG   20547 non-null  float64\n",
      " 38  WTINT2YR  70190 non-null  float64\n",
      " 39  WTMEC2YR  70190 non-null  float64\n",
      " 40  SDMVPSU   70190 non-null  float64\n",
      " 41  SDMVSTRA  70190 non-null  float64\n",
      " 42  DMDBORN2  20686 non-null  float64\n",
      " 43  INDHHIN2  58628 non-null  float64\n",
      " 44  INDFMIN2  58699 non-null  float64\n",
      " 45  DMDHRBR2  20141 non-null  float64\n",
      " 46  RIDRETH3  39156 non-null  float64\n",
      " 47  RIDEXAGY  3418 non-null   float64\n",
      " 48  RIDEXAGM  15715 non-null  float64\n",
      " 49  DMQMILIZ  24421 non-null  float64\n",
      " 50  DMQADFC   2182 non-null   float64\n",
      " 51  DMDBORN4  39156 non-null  float64\n",
      " 52  AIALANGA  23010 non-null  float64\n",
      " 53  DMDHHSZA  39156 non-null  float64\n",
      " 54  DMDHHSZB  39156 non-null  float64\n",
      " 55  DMDHHSZE  39156 non-null  float64\n",
      " 56  DMDHRBR4  28844 non-null  float64\n",
      " 57  DMDHRAGZ  9254 non-null   float64\n",
      " 58  DMDHREDZ  8764 non-null   float64\n",
      " 59  DMDHRMAZ  9063 non-null   float64\n",
      " 60  DMDHSEDZ  4751 non-null   float64\n",
      "dtypes: float64(61)\n",
      "memory usage: 33.2 MB\n"
     ]
    }
   ],
   "source": [
    "df_demo.info()"
   ]
  },
  {
   "cell_type": "code",
   "execution_count": 471,
   "metadata": {
    "ExecuteTime": {
     "end_time": "2021-01-05T23:46:56.343222Z",
     "start_time": "2021-01-05T23:46:56.338221Z"
    }
   },
   "outputs": [
    {
     "data": {
      "text/plain": [
       "Index(['AIALANG', 'AIALANGA', 'DMDBORN', 'DMDBORN2', 'DMDBORN4', 'DMDCITZN',\n",
       "       'DMDEDUC2', 'DMDEDUC3', 'DMDFMSIZ', 'DMDHHSIZ', 'DMDHHSZA', 'DMDHHSZB',\n",
       "       'DMDHHSZE', 'DMDHRAGE', 'DMDHRAGZ', 'DMDHRBR2', 'DMDHRBR4', 'DMDHRBRN',\n",
       "       'DMDHREDU', 'DMDHREDZ', 'DMDHRGND', 'DMDHRMAR', 'DMDHRMAZ', 'DMDHSEDU',\n",
       "       'DMDHSEDZ', 'DMDMARTL', 'DMDSCHOL', 'DMDYRSUS', 'DMQADFC', 'DMQMILIT',\n",
       "       'DMQMILIZ', 'FIAINTRP', 'FIALANG', 'FIAPROXY', 'INDFMIN2', 'INDFMINC',\n",
       "       'INDFMPIR', 'INDHHIN2', 'INDHHINC', 'MIAINTRP', 'MIALANG', 'MIAPROXY',\n",
       "       'RIAGENDR', 'RIDAGEEX', 'RIDAGEMN', 'RIDAGEYR', 'RIDEXAGM', 'RIDEXAGY',\n",
       "       'RIDEXMON', 'RIDEXPRG', 'RIDRETH1', 'RIDRETH3', 'RIDSTATR', 'SDDSRVYR',\n",
       "       'SDMVPSU', 'SDMVSTRA', 'SIAINTRP', 'SIALANG', 'SIAPROXY', 'WTINT2YR',\n",
       "       'WTMEC2YR'],\n",
       "      dtype='object')"
      ]
     },
     "execution_count": 471,
     "metadata": {},
     "output_type": "execute_result"
    }
   ],
   "source": [
    "df_demo.columns.sort_values()"
   ]
  },
  {
   "cell_type": "code",
   "execution_count": 472,
   "metadata": {
    "ExecuteTime": {
     "end_time": "2021-01-05T23:46:56.350223Z",
     "start_time": "2021-01-05T23:46:56.345224Z"
    }
   },
   "outputs": [],
   "source": [
    "demo_tokeep = ['DMDBORN', 'DMDBORN2', 'DMDBORN4', 'DMDCITZN', 'DMDEDUC2', \n",
    "               'DMDHHSIZ', 'DMDMARTL', 'DMQMILIT', 'DMQMILIZ', 'INDHHIN2', \n",
    "               'INDHHINC', 'RIAGENDR', 'RIDAGEYR', 'RIDEXPRG', 'RIDRETH1', \n",
    "               'SDDSRVYR']"
   ]
  },
  {
   "cell_type": "code",
   "execution_count": 473,
   "metadata": {
    "ExecuteTime": {
     "end_time": "2021-01-05T23:46:56.361220Z",
     "start_time": "2021-01-05T23:46:56.353231Z"
    }
   },
   "outputs": [],
   "source": [
    "def cols_tokeep(df, col_list):\n",
    "    df_copy = df.copy()\n",
    "    for col in df_copy.columns:\n",
    "        if col not in col_list:\n",
    "            df_copy.drop(columns=[col], inplace=True)\n",
    "        else:\n",
    "            pass\n",
    "    return df_copy"
   ]
  },
  {
   "cell_type": "code",
   "execution_count": 474,
   "metadata": {
    "ExecuteTime": {
     "end_time": "2021-01-05T23:46:56.885505Z",
     "start_time": "2021-01-05T23:46:56.364227Z"
    }
   },
   "outputs": [],
   "source": [
    "demo_clean = cols_tokeep(df_demo, demo_tokeep)"
   ]
  },
  {
   "cell_type": "code",
   "execution_count": 475,
   "metadata": {
    "ExecuteTime": {
     "end_time": "2021-01-05T23:46:56.913477Z",
     "start_time": "2021-01-05T23:46:56.886492Z"
    }
   },
   "outputs": [
    {
     "data": {
      "text/html": [
       "<div>\n",
       "<style scoped>\n",
       "    .dataframe tbody tr th:only-of-type {\n",
       "        vertical-align: middle;\n",
       "    }\n",
       "\n",
       "    .dataframe tbody tr th {\n",
       "        vertical-align: top;\n",
       "    }\n",
       "\n",
       "    .dataframe thead th {\n",
       "        text-align: right;\n",
       "    }\n",
       "</style>\n",
       "<table border=\"1\" class=\"dataframe\">\n",
       "  <thead>\n",
       "    <tr style=\"text-align: right;\">\n",
       "      <th></th>\n",
       "      <th>SDDSRVYR</th>\n",
       "      <th>RIAGENDR</th>\n",
       "      <th>RIDAGEYR</th>\n",
       "      <th>RIDRETH1</th>\n",
       "      <th>DMQMILIT</th>\n",
       "      <th>DMDBORN</th>\n",
       "      <th>DMDCITZN</th>\n",
       "      <th>DMDEDUC2</th>\n",
       "      <th>DMDMARTL</th>\n",
       "      <th>DMDHHSIZ</th>\n",
       "      <th>INDHHINC</th>\n",
       "      <th>RIDEXPRG</th>\n",
       "      <th>DMDBORN2</th>\n",
       "      <th>INDHHIN2</th>\n",
       "      <th>DMQMILIZ</th>\n",
       "      <th>DMDBORN4</th>\n",
       "    </tr>\n",
       "    <tr>\n",
       "      <th>SEQN</th>\n",
       "      <th></th>\n",
       "      <th></th>\n",
       "      <th></th>\n",
       "      <th></th>\n",
       "      <th></th>\n",
       "      <th></th>\n",
       "      <th></th>\n",
       "      <th></th>\n",
       "      <th></th>\n",
       "      <th></th>\n",
       "      <th></th>\n",
       "      <th></th>\n",
       "      <th></th>\n",
       "      <th></th>\n",
       "      <th></th>\n",
       "      <th></th>\n",
       "    </tr>\n",
       "  </thead>\n",
       "  <tbody>\n",
       "    <tr>\n",
       "      <th>31127</th>\n",
       "      <td>4.000</td>\n",
       "      <td>1.000</td>\n",
       "      <td>0.000</td>\n",
       "      <td>3.000</td>\n",
       "      <td>nan</td>\n",
       "      <td>1.000</td>\n",
       "      <td>1.000</td>\n",
       "      <td>nan</td>\n",
       "      <td>nan</td>\n",
       "      <td>4.000</td>\n",
       "      <td>4.000</td>\n",
       "      <td>nan</td>\n",
       "      <td>nan</td>\n",
       "      <td>nan</td>\n",
       "      <td>nan</td>\n",
       "      <td>nan</td>\n",
       "    </tr>\n",
       "    <tr>\n",
       "      <th>31128</th>\n",
       "      <td>4.000</td>\n",
       "      <td>2.000</td>\n",
       "      <td>11.000</td>\n",
       "      <td>4.000</td>\n",
       "      <td>nan</td>\n",
       "      <td>1.000</td>\n",
       "      <td>1.000</td>\n",
       "      <td>nan</td>\n",
       "      <td>nan</td>\n",
       "      <td>7.000</td>\n",
       "      <td>8.000</td>\n",
       "      <td>2.000</td>\n",
       "      <td>nan</td>\n",
       "      <td>nan</td>\n",
       "      <td>nan</td>\n",
       "      <td>nan</td>\n",
       "    </tr>\n",
       "    <tr>\n",
       "      <th>31129</th>\n",
       "      <td>4.000</td>\n",
       "      <td>1.000</td>\n",
       "      <td>15.000</td>\n",
       "      <td>4.000</td>\n",
       "      <td>nan</td>\n",
       "      <td>1.000</td>\n",
       "      <td>1.000</td>\n",
       "      <td>nan</td>\n",
       "      <td>5.000</td>\n",
       "      <td>6.000</td>\n",
       "      <td>10.000</td>\n",
       "      <td>nan</td>\n",
       "      <td>nan</td>\n",
       "      <td>nan</td>\n",
       "      <td>nan</td>\n",
       "      <td>nan</td>\n",
       "    </tr>\n",
       "    <tr>\n",
       "      <th>31130</th>\n",
       "      <td>4.000</td>\n",
       "      <td>2.000</td>\n",
       "      <td>85.000</td>\n",
       "      <td>3.000</td>\n",
       "      <td>2.000</td>\n",
       "      <td>1.000</td>\n",
       "      <td>1.000</td>\n",
       "      <td>4.000</td>\n",
       "      <td>2.000</td>\n",
       "      <td>1.000</td>\n",
       "      <td>4.000</td>\n",
       "      <td>nan</td>\n",
       "      <td>nan</td>\n",
       "      <td>nan</td>\n",
       "      <td>nan</td>\n",
       "      <td>nan</td>\n",
       "    </tr>\n",
       "    <tr>\n",
       "      <th>31131</th>\n",
       "      <td>4.000</td>\n",
       "      <td>2.000</td>\n",
       "      <td>44.000</td>\n",
       "      <td>4.000</td>\n",
       "      <td>2.000</td>\n",
       "      <td>1.000</td>\n",
       "      <td>1.000</td>\n",
       "      <td>4.000</td>\n",
       "      <td>1.000</td>\n",
       "      <td>4.000</td>\n",
       "      <td>11.000</td>\n",
       "      <td>2.000</td>\n",
       "      <td>nan</td>\n",
       "      <td>nan</td>\n",
       "      <td>nan</td>\n",
       "      <td>nan</td>\n",
       "    </tr>\n",
       "  </tbody>\n",
       "</table>\n",
       "</div>"
      ],
      "text/plain": [
       "       SDDSRVYR  RIAGENDR  RIDAGEYR  ...  INDHHIN2  DMQMILIZ  DMDBORN4\n",
       "SEQN                                 ...                              \n",
       "31127     4.000     1.000     0.000  ...       nan       nan       nan\n",
       "31128     4.000     2.000    11.000  ...       nan       nan       nan\n",
       "31129     4.000     1.000    15.000  ...       nan       nan       nan\n",
       "31130     4.000     2.000    85.000  ...       nan       nan       nan\n",
       "31131     4.000     2.000    44.000  ...       nan       nan       nan\n",
       "\n",
       "[5 rows x 16 columns]"
      ]
     },
     "execution_count": 475,
     "metadata": {},
     "output_type": "execute_result"
    }
   ],
   "source": [
    "demo_clean.head()"
   ]
  },
  {
   "cell_type": "code",
   "execution_count": 476,
   "metadata": {
    "ExecuteTime": {
     "end_time": "2021-01-05T23:46:56.931479Z",
     "start_time": "2021-01-05T23:46:56.916479Z"
    }
   },
   "outputs": [
    {
     "name": "stdout",
     "output_type": "stream",
     "text": [
      "<class 'pandas.core.frame.DataFrame'>\n",
      "Int64Index: 70190 entries, 31127 to 102956\n",
      "Data columns (total 16 columns):\n",
      " #   Column    Non-Null Count  Dtype  \n",
      "---  ------    --------------  -----  \n",
      " 0   SDDSRVYR  70190 non-null  float64\n",
      " 1   RIAGENDR  70190 non-null  float64\n",
      " 2   RIDAGEYR  70190 non-null  float64\n",
      " 3   RIDRETH1  70190 non-null  float64\n",
      " 4   DMQMILIT  18934 non-null  float64\n",
      " 5   DMDBORN   10348 non-null  float64\n",
      " 6   DMDCITZN  70163 non-null  float64\n",
      " 7   DMDEDUC2  39749 non-null  float64\n",
      " 8   DMDMARTL  41468 non-null  float64\n",
      " 9   DMDHHSIZ  70190 non-null  float64\n",
      " 10  INDHHINC  10216 non-null  float64\n",
      " 11  RIDEXPRG  10901 non-null  float64\n",
      " 12  DMDBORN2  20686 non-null  float64\n",
      " 13  INDHHIN2  58628 non-null  float64\n",
      " 14  DMQMILIZ  24421 non-null  float64\n",
      " 15  DMDBORN4  39156 non-null  float64\n",
      "dtypes: float64(16)\n",
      "memory usage: 9.1 MB\n"
     ]
    }
   ],
   "source": [
    "demo_clean.info()"
   ]
  },
  {
   "cell_type": "code",
   "execution_count": 477,
   "metadata": {
    "ExecuteTime": {
     "end_time": "2021-01-05T23:46:56.940481Z",
     "start_time": "2021-01-05T23:46:56.933480Z"
    }
   },
   "outputs": [
    {
     "data": {
      "text/plain": [
       "Index(['DMDBORN', 'DMDBORN2', 'DMDBORN4', 'DMDCITZN', 'DMDEDUC2', 'DMDHHSIZ',\n",
       "       'DMDMARTL', 'DMQMILIT', 'DMQMILIZ', 'INDHHIN2', 'INDHHINC', 'RIAGENDR',\n",
       "       'RIDAGEYR', 'RIDEXPRG', 'RIDRETH1', 'SDDSRVYR'],\n",
       "      dtype='object')"
      ]
     },
     "execution_count": 477,
     "metadata": {},
     "output_type": "execute_result"
    }
   ],
   "source": [
    "demo_clean.columns.sort_values()"
   ]
  },
  {
   "cell_type": "markdown",
   "metadata": {},
   "source": [
    "## Birth Place"
   ]
  },
  {
   "cell_type": "code",
   "execution_count": 478,
   "metadata": {
    "ExecuteTime": {
     "end_time": "2021-01-05T23:46:56.953481Z",
     "start_time": "2021-01-05T23:46:56.943482Z"
    }
   },
   "outputs": [
    {
     "data": {
      "text/plain": [
       "nan      59842\n",
       "1.000     8794\n",
       "2.000      961\n",
       "3.000      588\n",
       "7.000        5\n",
       "Name: DMDBORN, dtype: int64"
      ]
     },
     "execution_count": 478,
     "metadata": {},
     "output_type": "execute_result"
    }
   ],
   "source": [
    "demo_clean.DMDBORN.value_counts(dropna=False)"
   ]
  },
  {
   "cell_type": "code",
   "execution_count": 479,
   "metadata": {
    "ExecuteTime": {
     "end_time": "2021-01-05T23:46:56.965498Z",
     "start_time": "2021-01-05T23:46:56.954486Z"
    }
   },
   "outputs": [
    {
     "data": {
      "text/plain": [
       "nan      49504\n",
       "1.000    16938\n",
       "2.000     1550\n",
       "4.000     1120\n",
       "5.000     1065\n",
       "7.000       11\n",
       "9.000        2\n",
       "Name: DMDBORN2, dtype: int64"
      ]
     },
     "execution_count": 479,
     "metadata": {},
     "output_type": "execute_result"
    }
   ],
   "source": [
    "demo_clean.DMDBORN2.value_counts(dropna=False)"
   ]
  },
  {
   "cell_type": "code",
   "execution_count": 480,
   "metadata": {
    "ExecuteTime": {
     "end_time": "2021-01-05T23:46:56.975506Z",
     "start_time": "2021-01-05T23:46:56.967477Z"
    }
   },
   "outputs": [
    {
     "data": {
      "text/plain": [
       "nan       31034\n",
       "1.000     30966\n",
       "2.000      8175\n",
       "77.000        8\n",
       "99.000        7\n",
       "Name: DMDBORN4, dtype: int64"
      ]
     },
     "execution_count": 480,
     "metadata": {},
     "output_type": "execute_result"
    }
   ],
   "source": [
    "demo_clean.DMDBORN4.value_counts(dropna=False)"
   ]
  },
  {
   "cell_type": "code",
   "execution_count": 481,
   "metadata": {
    "ExecuteTime": {
     "end_time": "2021-01-05T23:46:56.985483Z",
     "start_time": "2021-01-05T23:46:56.977478Z"
    }
   },
   "outputs": [],
   "source": [
    "demo_clean.DMDBORN.fillna(0, inplace=True)\n",
    "demo_clean.DMDBORN2.fillna(0, inplace=True)\n",
    "demo_clean.DMDBORN4.fillna(0, inplace=True)"
   ]
  },
  {
   "cell_type": "code",
   "execution_count": 482,
   "metadata": {
    "ExecuteTime": {
     "end_time": "2021-01-05T23:46:56.993480Z",
     "start_time": "2021-01-05T23:46:56.987478Z"
    }
   },
   "outputs": [],
   "source": [
    "demo_clean['birth_place'] = demo_clean['DMDBORN'] + demo_clean['DMDBORN2'] + demo_clean['DMDBORN4']"
   ]
  },
  {
   "cell_type": "code",
   "execution_count": 483,
   "metadata": {
    "ExecuteTime": {
     "end_time": "2021-01-05T23:46:57.030484Z",
     "start_time": "2021-01-05T23:46:57.000482Z"
    }
   },
   "outputs": [
    {
     "data": {
      "text/html": [
       "<div>\n",
       "<style scoped>\n",
       "    .dataframe tbody tr th:only-of-type {\n",
       "        vertical-align: middle;\n",
       "    }\n",
       "\n",
       "    .dataframe tbody tr th {\n",
       "        vertical-align: top;\n",
       "    }\n",
       "\n",
       "    .dataframe thead th {\n",
       "        text-align: right;\n",
       "    }\n",
       "</style>\n",
       "<table border=\"1\" class=\"dataframe\">\n",
       "  <thead>\n",
       "    <tr style=\"text-align: right;\">\n",
       "      <th></th>\n",
       "      <th>SDDSRVYR</th>\n",
       "      <th>RIAGENDR</th>\n",
       "      <th>RIDAGEYR</th>\n",
       "      <th>RIDRETH1</th>\n",
       "      <th>DMQMILIT</th>\n",
       "      <th>DMDBORN</th>\n",
       "      <th>DMDCITZN</th>\n",
       "      <th>DMDEDUC2</th>\n",
       "      <th>DMDMARTL</th>\n",
       "      <th>DMDHHSIZ</th>\n",
       "      <th>INDHHINC</th>\n",
       "      <th>RIDEXPRG</th>\n",
       "      <th>DMDBORN2</th>\n",
       "      <th>INDHHIN2</th>\n",
       "      <th>DMQMILIZ</th>\n",
       "      <th>DMDBORN4</th>\n",
       "      <th>birth_place</th>\n",
       "    </tr>\n",
       "    <tr>\n",
       "      <th>SEQN</th>\n",
       "      <th></th>\n",
       "      <th></th>\n",
       "      <th></th>\n",
       "      <th></th>\n",
       "      <th></th>\n",
       "      <th></th>\n",
       "      <th></th>\n",
       "      <th></th>\n",
       "      <th></th>\n",
       "      <th></th>\n",
       "      <th></th>\n",
       "      <th></th>\n",
       "      <th></th>\n",
       "      <th></th>\n",
       "      <th></th>\n",
       "      <th></th>\n",
       "      <th></th>\n",
       "    </tr>\n",
       "  </thead>\n",
       "  <tbody>\n",
       "    <tr>\n",
       "      <th>31127</th>\n",
       "      <td>4.000</td>\n",
       "      <td>1.000</td>\n",
       "      <td>0.000</td>\n",
       "      <td>3.000</td>\n",
       "      <td>nan</td>\n",
       "      <td>1.000</td>\n",
       "      <td>1.000</td>\n",
       "      <td>nan</td>\n",
       "      <td>nan</td>\n",
       "      <td>4.000</td>\n",
       "      <td>4.000</td>\n",
       "      <td>nan</td>\n",
       "      <td>0.000</td>\n",
       "      <td>nan</td>\n",
       "      <td>nan</td>\n",
       "      <td>0.000</td>\n",
       "      <td>1.000</td>\n",
       "    </tr>\n",
       "    <tr>\n",
       "      <th>31128</th>\n",
       "      <td>4.000</td>\n",
       "      <td>2.000</td>\n",
       "      <td>11.000</td>\n",
       "      <td>4.000</td>\n",
       "      <td>nan</td>\n",
       "      <td>1.000</td>\n",
       "      <td>1.000</td>\n",
       "      <td>nan</td>\n",
       "      <td>nan</td>\n",
       "      <td>7.000</td>\n",
       "      <td>8.000</td>\n",
       "      <td>2.000</td>\n",
       "      <td>0.000</td>\n",
       "      <td>nan</td>\n",
       "      <td>nan</td>\n",
       "      <td>0.000</td>\n",
       "      <td>1.000</td>\n",
       "    </tr>\n",
       "    <tr>\n",
       "      <th>31129</th>\n",
       "      <td>4.000</td>\n",
       "      <td>1.000</td>\n",
       "      <td>15.000</td>\n",
       "      <td>4.000</td>\n",
       "      <td>nan</td>\n",
       "      <td>1.000</td>\n",
       "      <td>1.000</td>\n",
       "      <td>nan</td>\n",
       "      <td>5.000</td>\n",
       "      <td>6.000</td>\n",
       "      <td>10.000</td>\n",
       "      <td>nan</td>\n",
       "      <td>0.000</td>\n",
       "      <td>nan</td>\n",
       "      <td>nan</td>\n",
       "      <td>0.000</td>\n",
       "      <td>1.000</td>\n",
       "    </tr>\n",
       "    <tr>\n",
       "      <th>31130</th>\n",
       "      <td>4.000</td>\n",
       "      <td>2.000</td>\n",
       "      <td>85.000</td>\n",
       "      <td>3.000</td>\n",
       "      <td>2.000</td>\n",
       "      <td>1.000</td>\n",
       "      <td>1.000</td>\n",
       "      <td>4.000</td>\n",
       "      <td>2.000</td>\n",
       "      <td>1.000</td>\n",
       "      <td>4.000</td>\n",
       "      <td>nan</td>\n",
       "      <td>0.000</td>\n",
       "      <td>nan</td>\n",
       "      <td>nan</td>\n",
       "      <td>0.000</td>\n",
       "      <td>1.000</td>\n",
       "    </tr>\n",
       "    <tr>\n",
       "      <th>31131</th>\n",
       "      <td>4.000</td>\n",
       "      <td>2.000</td>\n",
       "      <td>44.000</td>\n",
       "      <td>4.000</td>\n",
       "      <td>2.000</td>\n",
       "      <td>1.000</td>\n",
       "      <td>1.000</td>\n",
       "      <td>4.000</td>\n",
       "      <td>1.000</td>\n",
       "      <td>4.000</td>\n",
       "      <td>11.000</td>\n",
       "      <td>2.000</td>\n",
       "      <td>0.000</td>\n",
       "      <td>nan</td>\n",
       "      <td>nan</td>\n",
       "      <td>0.000</td>\n",
       "      <td>1.000</td>\n",
       "    </tr>\n",
       "  </tbody>\n",
       "</table>\n",
       "</div>"
      ],
      "text/plain": [
       "       SDDSRVYR  RIAGENDR  RIDAGEYR  ...  DMQMILIZ  DMDBORN4  birth_place\n",
       "SEQN                                 ...                                 \n",
       "31127     4.000     1.000     0.000  ...       nan     0.000        1.000\n",
       "31128     4.000     2.000    11.000  ...       nan     0.000        1.000\n",
       "31129     4.000     1.000    15.000  ...       nan     0.000        1.000\n",
       "31130     4.000     2.000    85.000  ...       nan     0.000        1.000\n",
       "31131     4.000     2.000    44.000  ...       nan     0.000        1.000\n",
       "\n",
       "[5 rows x 17 columns]"
      ]
     },
     "execution_count": 483,
     "metadata": {},
     "output_type": "execute_result"
    }
   ],
   "source": [
    "demo_clean.head()"
   ]
  },
  {
   "cell_type": "code",
   "execution_count": 484,
   "metadata": {
    "ExecuteTime": {
     "end_time": "2021-01-05T23:46:57.043505Z",
     "start_time": "2021-01-05T23:46:57.034478Z"
    }
   },
   "outputs": [
    {
     "data": {
      "text/plain": [
       "1.000     56698\n",
       "2.000     10686\n",
       "4.000      1120\n",
       "5.000      1065\n",
       "3.000       588\n",
       "7.000        16\n",
       "77.000        8\n",
       "99.000        7\n",
       "9.000         2\n",
       "Name: birth_place, dtype: int64"
      ]
     },
     "execution_count": 484,
     "metadata": {},
     "output_type": "execute_result"
    }
   ],
   "source": [
    "demo_clean.birth_place.value_counts(dropna=False)"
   ]
  },
  {
   "cell_type": "code",
   "execution_count": 485,
   "metadata": {
    "ExecuteTime": {
     "end_time": "2021-01-05T23:46:57.063481Z",
     "start_time": "2021-01-05T23:46:57.045477Z"
    }
   },
   "outputs": [],
   "source": [
    "demo_clean.drop(columns=['DMDBORN', 'DMDBORN2', 'DMDBORN4'], inplace=True)"
   ]
  },
  {
   "cell_type": "code",
   "execution_count": 486,
   "metadata": {
    "ExecuteTime": {
     "end_time": "2021-01-05T23:46:57.078478Z",
     "start_time": "2021-01-05T23:46:57.064476Z"
    }
   },
   "outputs": [
    {
     "name": "stdout",
     "output_type": "stream",
     "text": [
      "<class 'pandas.core.frame.DataFrame'>\n",
      "Int64Index: 70190 entries, 31127 to 102956\n",
      "Data columns (total 14 columns):\n",
      " #   Column       Non-Null Count  Dtype  \n",
      "---  ------       --------------  -----  \n",
      " 0   SDDSRVYR     70190 non-null  float64\n",
      " 1   RIAGENDR     70190 non-null  float64\n",
      " 2   RIDAGEYR     70190 non-null  float64\n",
      " 3   RIDRETH1     70190 non-null  float64\n",
      " 4   DMQMILIT     18934 non-null  float64\n",
      " 5   DMDCITZN     70163 non-null  float64\n",
      " 6   DMDEDUC2     39749 non-null  float64\n",
      " 7   DMDMARTL     41468 non-null  float64\n",
      " 8   DMDHHSIZ     70190 non-null  float64\n",
      " 9   INDHHINC     10216 non-null  float64\n",
      " 10  RIDEXPRG     10901 non-null  float64\n",
      " 11  INDHHIN2     58628 non-null  float64\n",
      " 12  DMQMILIZ     24421 non-null  float64\n",
      " 13  birth_place  70190 non-null  float64\n",
      "dtypes: float64(14)\n",
      "memory usage: 8.0 MB\n"
     ]
    }
   ],
   "source": [
    "demo_clean.info()"
   ]
  },
  {
   "cell_type": "markdown",
   "metadata": {},
   "source": [
    "## Veteran"
   ]
  },
  {
   "cell_type": "code",
   "execution_count": 487,
   "metadata": {
    "ExecuteTime": {
     "end_time": "2021-01-05T23:46:57.090502Z",
     "start_time": "2021-01-05T23:46:57.080479Z"
    }
   },
   "outputs": [
    {
     "data": {
      "text/plain": [
       "nan      51256\n",
       "2.000    16685\n",
       "1.000     2242\n",
       "7.000        6\n",
       "9.000        1\n",
       "Name: DMQMILIT, dtype: int64"
      ]
     },
     "execution_count": 487,
     "metadata": {},
     "output_type": "execute_result"
    }
   ],
   "source": [
    "demo_clean.DMQMILIT.value_counts(dropna=False)"
   ]
  },
  {
   "cell_type": "code",
   "execution_count": 488,
   "metadata": {
    "ExecuteTime": {
     "end_time": "2021-01-05T23:46:57.101478Z",
     "start_time": "2021-01-05T23:46:57.091483Z"
    }
   },
   "outputs": [
    {
     "data": {
      "text/plain": [
       "nan      45769\n",
       "2.000    22235\n",
       "1.000     2182\n",
       "7.000        3\n",
       "9.000        1\n",
       "Name: DMQMILIZ, dtype: int64"
      ]
     },
     "execution_count": 488,
     "metadata": {},
     "output_type": "execute_result"
    }
   ],
   "source": [
    "demo_clean.DMQMILIZ.value_counts(dropna=False)"
   ]
  },
  {
   "cell_type": "code",
   "execution_count": 489,
   "metadata": {
    "ExecuteTime": {
     "end_time": "2021-01-05T23:46:57.109583Z",
     "start_time": "2021-01-05T23:46:57.103572Z"
    }
   },
   "outputs": [],
   "source": [
    "demo_clean.DMQMILIT.fillna(0, inplace=True)\n",
    "demo_clean.DMQMILIZ.fillna(0, inplace=True)"
   ]
  },
  {
   "cell_type": "code",
   "execution_count": 490,
   "metadata": {
    "ExecuteTime": {
     "end_time": "2021-01-05T23:46:57.118478Z",
     "start_time": "2021-01-05T23:46:57.111476Z"
    }
   },
   "outputs": [],
   "source": [
    "demo_clean['veteran'] = demo_clean['DMQMILIT'] + demo_clean['DMQMILIZ']"
   ]
  },
  {
   "cell_type": "code",
   "execution_count": 491,
   "metadata": {
    "ExecuteTime": {
     "end_time": "2021-01-05T23:46:57.130528Z",
     "start_time": "2021-01-05T23:46:57.120480Z"
    }
   },
   "outputs": [
    {
     "data": {
      "text/plain": [
       "2.000    38920\n",
       "0.000    26835\n",
       "1.000     4424\n",
       "7.000        9\n",
       "9.000        2\n",
       "Name: veteran, dtype: int64"
      ]
     },
     "execution_count": 491,
     "metadata": {},
     "output_type": "execute_result"
    }
   ],
   "source": [
    "demo_clean.veteran.value_counts(dropna=False)"
   ]
  },
  {
   "cell_type": "code",
   "execution_count": 492,
   "metadata": {
    "ExecuteTime": {
     "end_time": "2021-01-05T23:46:57.154500Z",
     "start_time": "2021-01-05T23:46:57.132484Z"
    }
   },
   "outputs": [],
   "source": [
    "demo_clean.drop(columns=['DMQMILIT', 'DMQMILIZ'], inplace=True)"
   ]
  },
  {
   "cell_type": "code",
   "execution_count": 493,
   "metadata": {
    "ExecuteTime": {
     "end_time": "2021-01-05T23:46:57.172477Z",
     "start_time": "2021-01-05T23:46:57.156482Z"
    }
   },
   "outputs": [
    {
     "name": "stdout",
     "output_type": "stream",
     "text": [
      "<class 'pandas.core.frame.DataFrame'>\n",
      "Int64Index: 70190 entries, 31127 to 102956\n",
      "Data columns (total 13 columns):\n",
      " #   Column       Non-Null Count  Dtype  \n",
      "---  ------       --------------  -----  \n",
      " 0   SDDSRVYR     70190 non-null  float64\n",
      " 1   RIAGENDR     70190 non-null  float64\n",
      " 2   RIDAGEYR     70190 non-null  float64\n",
      " 3   RIDRETH1     70190 non-null  float64\n",
      " 4   DMDCITZN     70163 non-null  float64\n",
      " 5   DMDEDUC2     39749 non-null  float64\n",
      " 6   DMDMARTL     41468 non-null  float64\n",
      " 7   DMDHHSIZ     70190 non-null  float64\n",
      " 8   INDHHINC     10216 non-null  float64\n",
      " 9   RIDEXPRG     10901 non-null  float64\n",
      " 10  INDHHIN2     58628 non-null  float64\n",
      " 11  birth_place  70190 non-null  float64\n",
      " 12  veteran      70190 non-null  float64\n",
      "dtypes: float64(13)\n",
      "memory usage: 7.5 MB\n"
     ]
    }
   ],
   "source": [
    "demo_clean.info()"
   ]
  },
  {
   "cell_type": "markdown",
   "metadata": {},
   "source": [
    "## Household Income"
   ]
  },
  {
   "cell_type": "code",
   "execution_count": 494,
   "metadata": {
    "ExecuteTime": {
     "end_time": "2021-01-05T23:46:57.183485Z",
     "start_time": "2021-01-05T23:46:57.173482Z"
    }
   },
   "outputs": [
    {
     "data": {
      "text/plain": [
       "nan       59974\n",
       "11.000     2195\n",
       "6.000      1331\n",
       "7.000       995\n",
       "8.000       922\n",
       "5.000       818\n",
       "3.000       803\n",
       "4.000       801\n",
       "9.000       619\n",
       "10.000      557\n",
       "2.000       428\n",
       "1.000       255\n",
       "12.000      186\n",
       "99.000      161\n",
       "13.000       74\n",
       "77.000       71\n",
       "Name: INDHHINC, dtype: int64"
      ]
     },
     "execution_count": 494,
     "metadata": {},
     "output_type": "execute_result"
    }
   ],
   "source": [
    "demo_clean.INDHHINC.value_counts(dropna=False)"
   ]
  },
  {
   "cell_type": "code",
   "execution_count": 495,
   "metadata": {
    "ExecuteTime": {
     "end_time": "2021-01-05T23:46:57.195480Z",
     "start_time": "2021-01-05T23:46:57.184483Z"
    }
   },
   "outputs": [
    {
     "data": {
      "text/plain": [
       "nan       11562\n",
       "15.000     9126\n",
       "6.000      6919\n",
       "7.000      5498\n",
       "14.000     5171\n",
       "5.000      4596\n",
       "8.000      4310\n",
       "4.000      4056\n",
       "3.000      3857\n",
       "9.000      3337\n",
       "10.000     2683\n",
       "2.000      2430\n",
       "12.000     2094\n",
       "1.000      1563\n",
       "77.000     1244\n",
       "99.000      987\n",
       "13.000      757\n",
       "Name: INDHHIN2, dtype: int64"
      ]
     },
     "execution_count": 495,
     "metadata": {},
     "output_type": "execute_result"
    }
   ],
   "source": [
    "demo_clean.INDHHIN2.value_counts(dropna=False)"
   ]
  },
  {
   "cell_type": "code",
   "execution_count": 496,
   "metadata": {
    "ExecuteTime": {
     "end_time": "2021-01-05T23:46:57.203482Z",
     "start_time": "2021-01-05T23:46:57.196482Z"
    }
   },
   "outputs": [],
   "source": [
    "demo_clean.INDHHINC.fillna(0, inplace=True)\n",
    "demo_clean.INDHHIN2.fillna(0, inplace=True)"
   ]
  },
  {
   "cell_type": "code",
   "execution_count": 497,
   "metadata": {
    "ExecuteTime": {
     "end_time": "2021-01-05T23:46:57.210486Z",
     "start_time": "2021-01-05T23:46:57.204484Z"
    }
   },
   "outputs": [],
   "source": [
    "demo_clean['household_income'] = demo_clean['INDHHINC'] + demo_clean['INDHHIN2']"
   ]
  },
  {
   "cell_type": "code",
   "execution_count": 498,
   "metadata": {
    "ExecuteTime": {
     "end_time": "2021-01-05T23:46:57.221499Z",
     "start_time": "2021-01-05T23:46:57.212479Z"
    }
   },
   "outputs": [
    {
     "data": {
      "text/plain": [
       "15.000    9126\n",
       "6.000     8250\n",
       "7.000     6493\n",
       "5.000     5414\n",
       "8.000     5232\n",
       "14.000    5171\n",
       "4.000     4857\n",
       "3.000     4660\n",
       "9.000     3956\n",
       "10.000    3240\n",
       "2.000     2858\n",
       "12.000    2280\n",
       "11.000    2195\n",
       "1.000     1818\n",
       "0.000     1346\n",
       "77.000    1315\n",
       "99.000    1148\n",
       "13.000     831\n",
       "Name: household_income, dtype: int64"
      ]
     },
     "execution_count": 498,
     "metadata": {},
     "output_type": "execute_result"
    }
   ],
   "source": [
    "demo_clean.household_income.value_counts(dropna=False)"
   ]
  },
  {
   "cell_type": "code",
   "execution_count": 499,
   "metadata": {
    "ExecuteTime": {
     "end_time": "2021-01-05T23:46:57.241477Z",
     "start_time": "2021-01-05T23:46:57.223479Z"
    }
   },
   "outputs": [],
   "source": [
    "demo_clean.drop(columns=['INDHHINC', 'INDHHIN2'], inplace=True)"
   ]
  },
  {
   "cell_type": "code",
   "execution_count": 500,
   "metadata": {
    "ExecuteTime": {
     "end_time": "2021-01-05T23:46:57.256480Z",
     "start_time": "2021-01-05T23:46:57.243485Z"
    }
   },
   "outputs": [
    {
     "name": "stdout",
     "output_type": "stream",
     "text": [
      "<class 'pandas.core.frame.DataFrame'>\n",
      "Int64Index: 70190 entries, 31127 to 102956\n",
      "Data columns (total 12 columns):\n",
      " #   Column            Non-Null Count  Dtype  \n",
      "---  ------            --------------  -----  \n",
      " 0   SDDSRVYR          70190 non-null  float64\n",
      " 1   RIAGENDR          70190 non-null  float64\n",
      " 2   RIDAGEYR          70190 non-null  float64\n",
      " 3   RIDRETH1          70190 non-null  float64\n",
      " 4   DMDCITZN          70163 non-null  float64\n",
      " 5   DMDEDUC2          39749 non-null  float64\n",
      " 6   DMDMARTL          41468 non-null  float64\n",
      " 7   DMDHHSIZ          70190 non-null  float64\n",
      " 8   RIDEXPRG          10901 non-null  float64\n",
      " 9   birth_place       70190 non-null  float64\n",
      " 10  veteran           70190 non-null  float64\n",
      " 11  household_income  70190 non-null  float64\n",
      "dtypes: float64(12)\n",
      "memory usage: 7.0 MB\n"
     ]
    }
   ],
   "source": [
    "demo_clean.info()"
   ]
  },
  {
   "cell_type": "markdown",
   "metadata": {},
   "source": [
    "## Renaming Columns"
   ]
  },
  {
   "cell_type": "code",
   "execution_count": 501,
   "metadata": {
    "ExecuteTime": {
     "end_time": "2021-01-05T23:46:57.262480Z",
     "start_time": "2021-01-05T23:46:57.257483Z"
    }
   },
   "outputs": [],
   "source": [
    "demo_clean.rename(columns={'DMDCITZN': 'citizenship', \n",
    "                           'DMDEDUC2': 'education_level', \n",
    "                           'DMDHHSIZ': 'household_size', \n",
    "                           'DMDMARTL': 'marital_status', \n",
    "                           'RIAGENDR': 'gender', \n",
    "                           'RIDAGEYR': 'age', \n",
    "                           'RIDEXPRG': 'pregnant',\n",
    "                           'RIDRETH1': 'race',\n",
    "                           'SDDSRVYR': 'year'}, inplace=True)"
   ]
  },
  {
   "cell_type": "code",
   "execution_count": 502,
   "metadata": {
    "ExecuteTime": {
     "end_time": "2021-01-05T23:46:57.279480Z",
     "start_time": "2021-01-05T23:46:57.265482Z"
    }
   },
   "outputs": [
    {
     "name": "stdout",
     "output_type": "stream",
     "text": [
      "<class 'pandas.core.frame.DataFrame'>\n",
      "Int64Index: 70190 entries, 31127 to 102956\n",
      "Data columns (total 12 columns):\n",
      " #   Column            Non-Null Count  Dtype  \n",
      "---  ------            --------------  -----  \n",
      " 0   year              70190 non-null  float64\n",
      " 1   gender            70190 non-null  float64\n",
      " 2   age               70190 non-null  float64\n",
      " 3   race              70190 non-null  float64\n",
      " 4   citizenship       70163 non-null  float64\n",
      " 5   education_level   39749 non-null  float64\n",
      " 6   marital_status    41468 non-null  float64\n",
      " 7   household_size    70190 non-null  float64\n",
      " 8   pregnant          10901 non-null  float64\n",
      " 9   birth_place       70190 non-null  float64\n",
      " 10  veteran           70190 non-null  float64\n",
      " 11  household_income  70190 non-null  float64\n",
      "dtypes: float64(12)\n",
      "memory usage: 7.0 MB\n"
     ]
    }
   ],
   "source": [
    "demo_clean.info()"
   ]
  },
  {
   "cell_type": "markdown",
   "metadata": {},
   "source": [
    "## Clean Column Values"
   ]
  },
  {
   "cell_type": "code",
   "execution_count": 503,
   "metadata": {
    "ExecuteTime": {
     "end_time": "2021-01-05T23:46:57.770483Z",
     "start_time": "2021-01-05T23:46:57.280482Z"
    }
   },
   "outputs": [
    {
     "data": {
      "image/png": "[encoded data removed]",
      "text/plain": [
       "<Figure size 1800x720 with 2 Axes>"
      ]
     },
     "metadata": {},
     "output_type": "display_data"
    }
   ],
   "source": [
    "ms.matrix(demo_clean);"
   ]
  },
  {
   "cell_type": "code",
   "execution_count": 504,
   "metadata": {
    "ExecuteTime": {
     "end_time": "2021-01-05T23:46:57.838499Z",
     "start_time": "2021-01-05T23:46:57.772479Z"
    }
   },
   "outputs": [
    {
     "name": "stdout",
     "output_type": "stream",
     "text": [
      "year value counts \n",
      "\n"
     ]
    },
    {
     "data": {
      "text/plain": [
       "6.000     10537\n",
       "4.000     10348\n",
       "8.000     10175\n",
       "5.000     10149\n",
       "9.000      9971\n",
       "7.000      9756\n",
       "10.000     9254\n",
       "Name: year, dtype: int64"
      ]
     },
     "metadata": {},
     "output_type": "display_data"
    },
    {
     "name": "stdout",
     "output_type": "stream",
     "text": [
      "--------------------------------------\n",
      "gender value counts \n",
      "\n"
     ]
    },
    {
     "data": {
      "text/plain": [
       "2.000    35481\n",
       "1.000    34709\n",
       "Name: gender, dtype: int64"
      ]
     },
     "metadata": {},
     "output_type": "display_data"
    },
    {
     "name": "stdout",
     "output_type": "stream",
     "text": [
      "--------------------------------------\n",
      "age value counts \n",
      "\n"
     ]
    },
    {
     "data": {
      "text/plain": [
       "0.000     2987\n",
       "80.000    2428\n",
       "2.000     2121\n",
       "1.000     2005\n",
       "4.000     1585\n",
       "8.000     1504\n",
       "6.000     1501\n",
       "11.000    1461\n",
       "7.000     1455\n",
       "9.000     1451\n",
       "3.000     1450\n",
       "10.000    1438\n",
       "5.000     1403\n",
       "16.000    1346\n",
       "14.000    1330\n",
       "12.000    1302\n",
       "13.000    1261\n",
       "15.000    1235\n",
       "18.000    1217\n",
       "17.000    1212\n",
       "19.000    1177\n",
       "60.000     853\n",
       "61.000     803\n",
       "62.000     752\n",
       "63.000     730\n",
       "36.000     721\n",
       "40.000     718\n",
       "22.000     716\n",
       "23.000     702\n",
       "29.000     699\n",
       "30.000     698\n",
       "31.000     698\n",
       "51.000     695\n",
       "24.000     683\n",
       "41.000     681\n",
       "20.000     681\n",
       "50.000     680\n",
       "25.000     678\n",
       "33.000     675\n",
       "45.000     672\n",
       "39.000     672\n",
       "34.000     669\n",
       "44.000     669\n",
       "52.000     668\n",
       "32.000     666\n",
       "38.000     666\n",
       "46.000     665\n",
       "28.000     661\n",
       "54.000     660\n",
       "43.000     656\n",
       "26.000     653\n",
       "55.000     653\n",
       "21.000     652\n",
       "47.000     651\n",
       "64.000     640\n",
       "42.000     636\n",
       "27.000     633\n",
       "48.000     633\n",
       "35.000     630\n",
       "53.000     620\n",
       "56.000     614\n",
       "37.000     614\n",
       "65.000     609\n",
       "49.000     606\n",
       "66.000     598\n",
       "67.000     555\n",
       "59.000     552\n",
       "70.000     550\n",
       "57.000     545\n",
       "58.000     528\n",
       "68.000     514\n",
       "71.000     505\n",
       "69.000     495\n",
       "72.000     464\n",
       "73.000     455\n",
       "74.000     445\n",
       "75.000     400\n",
       "76.000     365\n",
       "78.000     344\n",
       "77.000     338\n",
       "79.000     289\n",
       "85.000     170\n",
       "81.000      59\n",
       "82.000      44\n",
       "83.000      39\n",
       "84.000      36\n",
       "Name: age, dtype: int64"
      ]
     },
     "metadata": {},
     "output_type": "display_data"
    },
    {
     "name": "stdout",
     "output_type": "stream",
     "text": [
      "--------------------------------------\n",
      "race value counts \n",
      "\n"
     ]
    },
    {
     "data": {
      "text/plain": [
       "3.000    25326\n",
       "4.000    16072\n",
       "1.000    13761\n",
       "5.000     8184\n",
       "2.000     6847\n",
       "Name: race, dtype: int64"
      ]
     },
     "metadata": {},
     "output_type": "display_data"
    },
    {
     "name": "stdout",
     "output_type": "stream",
     "text": [
      "--------------------------------------\n",
      "citizenship value counts \n",
      "\n"
     ]
    },
    {
     "data": {
      "text/plain": [
       "1.000    62794\n",
       "2.000     7257\n",
       "7.000       87\n",
       "nan         27\n",
       "9.000       25\n",
       "Name: citizenship, dtype: int64"
      ]
     },
     "metadata": {},
     "output_type": "display_data"
    },
    {
     "name": "stdout",
     "output_type": "stream",
     "text": [
      "--------------------------------------\n",
      "education_level value counts \n",
      "\n"
     ]
    },
    {
     "data": {
      "text/plain": [
       "nan      30441\n",
       "4.000    11561\n",
       "3.000     9102\n",
       "5.000     8935\n",
       "2.000     5708\n",
       "1.000     4382\n",
       "9.000       42\n",
       "7.000       19\n",
       "Name: education_level, dtype: int64"
      ]
     },
     "metadata": {},
     "output_type": "display_data"
    },
    {
     "name": "stdout",
     "output_type": "stream",
     "text": [
      "--------------------------------------\n",
      "marital_status value counts \n",
      "\n"
     ]
    },
    {
     "data": {
      "text/plain": [
       "nan       28722\n",
       "1.000     20284\n",
       "5.000      8857\n",
       "3.000      4292\n",
       "2.000      3371\n",
       "6.000      3279\n",
       "4.000      1349\n",
       "77.000       31\n",
       "99.000        5\n",
       "Name: marital_status, dtype: int64"
      ]
     },
     "metadata": {},
     "output_type": "display_data"
    },
    {
     "name": "stdout",
     "output_type": "stream",
     "text": [
      "--------------------------------------\n",
      "household_size value counts \n",
      "\n"
     ]
    },
    {
     "data": {
      "text/plain": [
       "4.000    14745\n",
       "2.000    13308\n",
       "3.000    12368\n",
       "5.000    11293\n",
       "7.000     6421\n",
       "6.000     6262\n",
       "1.000     5793\n",
       "Name: household_size, dtype: int64"
      ]
     },
     "metadata": {},
     "output_type": "display_data"
    },
    {
     "name": "stdout",
     "output_type": "stream",
     "text": [
      "--------------------------------------\n",
      "pregnant value counts \n",
      "\n"
     ]
    },
    {
     "data": {
      "text/plain": [
       "nan      59289\n",
       "2.000     9460\n",
       "1.000      754\n",
       "3.000      687\n",
       "Name: pregnant, dtype: int64"
      ]
     },
     "metadata": {},
     "output_type": "display_data"
    },
    {
     "name": "stdout",
     "output_type": "stream",
     "text": [
      "--------------------------------------\n",
      "birth_place value counts \n",
      "\n"
     ]
    },
    {
     "data": {
      "text/plain": [
       "1.000     56698\n",
       "2.000     10686\n",
       "4.000      1120\n",
       "5.000      1065\n",
       "3.000       588\n",
       "7.000        16\n",
       "77.000        8\n",
       "99.000        7\n",
       "9.000         2\n",
       "Name: birth_place, dtype: int64"
      ]
     },
     "metadata": {},
     "output_type": "display_data"
    },
    {
     "name": "stdout",
     "output_type": "stream",
     "text": [
      "--------------------------------------\n",
      "veteran value counts \n",
      "\n"
     ]
    },
    {
     "data": {
      "text/plain": [
       "2.000    38920\n",
       "0.000    26835\n",
       "1.000     4424\n",
       "7.000        9\n",
       "9.000        2\n",
       "Name: veteran, dtype: int64"
      ]
     },
     "metadata": {},
     "output_type": "display_data"
    },
    {
     "name": "stdout",
     "output_type": "stream",
     "text": [
      "--------------------------------------\n",
      "household_income value counts \n",
      "\n"
     ]
    },
    {
     "data": {
      "text/plain": [
       "15.000    9126\n",
       "6.000     8250\n",
       "7.000     6493\n",
       "5.000     5414\n",
       "8.000     5232\n",
       "14.000    5171\n",
       "4.000     4857\n",
       "3.000     4660\n",
       "9.000     3956\n",
       "10.000    3240\n",
       "2.000     2858\n",
       "12.000    2280\n",
       "11.000    2195\n",
       "1.000     1818\n",
       "0.000     1346\n",
       "77.000    1315\n",
       "99.000    1148\n",
       "13.000     831\n",
       "Name: household_income, dtype: int64"
      ]
     },
     "metadata": {},
     "output_type": "display_data"
    },
    {
     "name": "stdout",
     "output_type": "stream",
     "text": [
      "--------------------------------------\n"
     ]
    }
   ],
   "source": [
    "val_counts(demo_clean)"
   ]
  },
  {
   "cell_type": "code",
   "execution_count": 505,
   "metadata": {
    "ExecuteTime": {
     "end_time": "2021-01-05T23:46:57.850497Z",
     "start_time": "2021-01-05T23:46:57.840491Z"
    }
   },
   "outputs": [],
   "source": [
    "demo_clean['year'] = demo_clean['year'].astype('int64')"
   ]
  },
  {
   "cell_type": "code",
   "execution_count": 506,
   "metadata": {
    "ExecuteTime": {
     "end_time": "2021-01-05T23:46:57.863590Z",
     "start_time": "2021-01-05T23:46:57.851557Z"
    }
   },
   "outputs": [],
   "source": [
    "demo_clean['gender'].replace({2.000:1, 1.000:0}, inplace=True)\n",
    "demo_clean['gender'] = demo_clean['gender'].astype('int64')"
   ]
  },
  {
   "cell_type": "code",
   "execution_count": 507,
   "metadata": {
    "ExecuteTime": {
     "end_time": "2021-01-05T23:46:57.872499Z",
     "start_time": "2021-01-05T23:46:57.865497Z"
    }
   },
   "outputs": [
    {
     "data": {
      "text/plain": [
       "1    35481\n",
       "0    34709\n",
       "Name: gender, dtype: int64"
      ]
     },
     "execution_count": 507,
     "metadata": {},
     "output_type": "execute_result"
    }
   ],
   "source": [
    "demo_clean.gender.value_counts()"
   ]
  },
  {
   "cell_type": "code",
   "execution_count": 508,
   "metadata": {
    "ExecuteTime": {
     "end_time": "2021-01-05T23:46:57.883577Z",
     "start_time": "2021-01-05T23:46:57.874496Z"
    }
   },
   "outputs": [],
   "source": [
    "demo_clean['age'] = demo_clean['age'].astype('int64')"
   ]
  },
  {
   "cell_type": "code",
   "execution_count": 509,
   "metadata": {
    "ExecuteTime": {
     "end_time": "2021-01-05T23:46:57.898524Z",
     "start_time": "2021-01-05T23:46:57.885492Z"
    }
   },
   "outputs": [],
   "source": [
    "demo_clean['race'].replace({1.000:'Mexican', \n",
    "                            2.000:'Other Hispanic', \n",
    "                            3.000:'White', \n",
    "                            4.000:'Black', \n",
    "                            5.000:'Other and Multiracial'}, \n",
    "                           inplace=True)"
   ]
  },
  {
   "cell_type": "code",
   "execution_count": 510,
   "metadata": {
    "ExecuteTime": {
     "end_time": "2021-01-05T23:46:57.914493Z",
     "start_time": "2021-01-05T23:46:57.899496Z"
    }
   },
   "outputs": [
    {
     "data": {
      "text/plain": [
       "White                    25326\n",
       "Black                    16072\n",
       "Mexican                  13761\n",
       "Other and Multiracial     8184\n",
       "Other Hispanic            6847\n",
       "Name: race, dtype: int64"
      ]
     },
     "execution_count": 510,
     "metadata": {},
     "output_type": "execute_result"
    }
   ],
   "source": [
    "demo_clean.race.value_counts()"
   ]
  },
  {
   "cell_type": "code",
   "execution_count": 511,
   "metadata": {
    "ExecuteTime": {
     "end_time": "2021-01-05T23:46:57.934587Z",
     "start_time": "2021-01-05T23:46:57.916491Z"
    }
   },
   "outputs": [],
   "source": [
    "demo_clean['citizenship'].replace({1.000:'Citizen', \n",
    "                                   2.000:'Not Citizen', \n",
    "                                   7.000:'Missing', \n",
    "                                   9.000:'Missing'}, \n",
    "                                  inplace=True)\n",
    "demo_clean['citizenship'].fillna('Missing', inplace=True)"
   ]
  },
  {
   "cell_type": "code",
   "execution_count": 512,
   "metadata": {
    "ExecuteTime": {
     "end_time": "2021-01-05T23:46:57.950579Z",
     "start_time": "2021-01-05T23:46:57.935506Z"
    }
   },
   "outputs": [
    {
     "data": {
      "text/plain": [
       "Citizen        62794\n",
       "Not Citizen     7257\n",
       "Missing          139\n",
       "Name: citizenship, dtype: int64"
      ]
     },
     "execution_count": 512,
     "metadata": {},
     "output_type": "execute_result"
    }
   ],
   "source": [
    "demo_clean.citizenship.value_counts(dropna=False)"
   ]
  },
  {
   "cell_type": "code",
   "execution_count": 513,
   "metadata": {
    "ExecuteTime": {
     "end_time": "2021-01-05T23:46:57.975590Z",
     "start_time": "2021-01-05T23:46:57.952498Z"
    }
   },
   "outputs": [],
   "source": [
    "demo_clean['education_level'].replace({1.000:'Below 9th', \n",
    "                                       2.000:'9th to 11th', \n",
    "                                       3.000:'High School', \n",
    "                                       4.000:'Some College', \n",
    "                                       5.000:'College Graduate', \n",
    "                                       7.000:'Missing', \n",
    "                                       9.000:'Missing'}, \n",
    "                                      inplace=True)\n",
    "demo_clean['education_level'].fillna('Missing', inplace=True)"
   ]
  },
  {
   "cell_type": "code",
   "execution_count": 514,
   "metadata": {
    "ExecuteTime": {
     "end_time": "2021-01-05T23:46:57.990497Z",
     "start_time": "2021-01-05T23:46:57.976494Z"
    }
   },
   "outputs": [
    {
     "data": {
      "text/plain": [
       "Missing             30502\n",
       "Some College        11561\n",
       "High School          9102\n",
       "College Graduate     8935\n",
       "9th to 11th          5708\n",
       "Below 9th            4382\n",
       "Name: education_level, dtype: int64"
      ]
     },
     "execution_count": 514,
     "metadata": {},
     "output_type": "execute_result"
    }
   ],
   "source": [
    "demo_clean.education_level.value_counts(dropna=False)"
   ]
  },
  {
   "cell_type": "code",
   "execution_count": 515,
   "metadata": {
    "ExecuteTime": {
     "end_time": "2021-01-05T23:46:58.017513Z",
     "start_time": "2021-01-05T23:46:57.993498Z"
    }
   },
   "outputs": [],
   "source": [
    "demo_clean['marital_status'].replace({1.000:'Married', \n",
    "                                      2.000:'Widowed', \n",
    "                                      3.000:'Divorced', \n",
    "                                      4.000:'Separated', \n",
    "                                      5.000:'Never Married',\n",
    "                                      6.000:'Partner',\n",
    "                                      77.000:'Missing', \n",
    "                                      99.000:'Missing'}, \n",
    "                                      inplace=True)\n",
    "demo_clean['marital_status'].fillna('Missing', inplace=True)"
   ]
  },
  {
   "cell_type": "code",
   "execution_count": 516,
   "metadata": {
    "ExecuteTime": {
     "end_time": "2021-01-05T23:46:58.033499Z",
     "start_time": "2021-01-05T23:46:58.018495Z"
    }
   },
   "outputs": [
    {
     "data": {
      "text/plain": [
       "Missing          28758\n",
       "Married          20284\n",
       "Never Married     8857\n",
       "Divorced          4292\n",
       "Widowed           3371\n",
       "Partner           3279\n",
       "Separated         1349\n",
       "Name: marital_status, dtype: int64"
      ]
     },
     "execution_count": 516,
     "metadata": {},
     "output_type": "execute_result"
    }
   ],
   "source": [
    "demo_clean.marital_status.value_counts(dropna=False)"
   ]
  },
  {
   "cell_type": "code",
   "execution_count": 517,
   "metadata": {
    "ExecuteTime": {
     "end_time": "2021-01-05T23:46:58.043492Z",
     "start_time": "2021-01-05T23:46:58.036500Z"
    }
   },
   "outputs": [],
   "source": [
    "demo_clean['household_size'] = demo_clean['household_size'].astype('int64')"
   ]
  },
  {
   "cell_type": "code",
   "execution_count": 518,
   "metadata": {
    "ExecuteTime": {
     "end_time": "2021-01-05T23:46:58.062529Z",
     "start_time": "2021-01-05T23:46:58.045499Z"
    }
   },
   "outputs": [],
   "source": [
    "demo_clean['pregnant'].replace({1.000:'Yes', \n",
    "                                2.000:'No', \n",
    "                                3.000:'Missing'}, \n",
    "                                  inplace=True)\n",
    "demo_clean['pregnant'].fillna('Missing', inplace=True)"
   ]
  },
  {
   "cell_type": "code",
   "execution_count": 519,
   "metadata": {
    "ExecuteTime": {
     "end_time": "2021-01-05T23:46:58.077491Z",
     "start_time": "2021-01-05T23:46:58.063496Z"
    }
   },
   "outputs": [
    {
     "data": {
      "text/plain": [
       "Missing    59976\n",
       "No          9460\n",
       "Yes          754\n",
       "Name: pregnant, dtype: int64"
      ]
     },
     "execution_count": 519,
     "metadata": {},
     "output_type": "execute_result"
    }
   ],
   "source": [
    "demo_clean.pregnant.value_counts(dropna=False)"
   ]
  },
  {
   "cell_type": "code",
   "execution_count": 520,
   "metadata": {
    "ExecuteTime": {
     "end_time": "2021-01-05T23:46:58.098514Z",
     "start_time": "2021-01-05T23:46:58.080492Z"
    }
   },
   "outputs": [],
   "source": [
    "demo_clean['birth_place'].replace({1.000:'USA', \n",
    "                                   2.000:'Mexico', \n",
    "                                   3.000:'Elsewhere', \n",
    "                                   4.000:'Other Spanish Country', \n",
    "                                   5.000:'Other Non Spanish Country',\n",
    "                                   7.000:'Missing', \n",
    "                                   9.000:'Missing',\n",
    "                                   77.000:'Missing', \n",
    "                                   99.000:'Missing'}, \n",
    "                                    inplace=True)\n",
    "demo_clean['birth_place'].fillna('Missing', inplace=True)"
   ]
  },
  {
   "cell_type": "code",
   "execution_count": 521,
   "metadata": {
    "ExecuteTime": {
     "end_time": "2021-01-05T23:46:58.114492Z",
     "start_time": "2021-01-05T23:46:58.099519Z"
    }
   },
   "outputs": [
    {
     "data": {
      "text/plain": [
       "USA                          56698\n",
       "Mexico                       10686\n",
       "Other Spanish Country         1120\n",
       "Other Non Spanish Country     1065\n",
       "Elsewhere                      588\n",
       "Missing                         33\n",
       "Name: birth_place, dtype: int64"
      ]
     },
     "execution_count": 521,
     "metadata": {},
     "output_type": "execute_result"
    }
   ],
   "source": [
    "demo_clean.birth_place.value_counts(dropna=False)"
   ]
  },
  {
   "cell_type": "code",
   "execution_count": 522,
   "metadata": {
    "ExecuteTime": {
     "end_time": "2021-01-05T23:46:58.129512Z",
     "start_time": "2021-01-05T23:46:58.116493Z"
    }
   },
   "outputs": [],
   "source": [
    "demo_clean['veteran'].replace({1.000:'Yes', \n",
    "                               2.000:'No', \n",
    "                               7.000:'Missing', \n",
    "                               9.000:'Missing',\n",
    "                               0.000:'Missing'}, \n",
    "                                inplace=True)"
   ]
  },
  {
   "cell_type": "code",
   "execution_count": 523,
   "metadata": {
    "ExecuteTime": {
     "end_time": "2021-01-05T23:46:58.143495Z",
     "start_time": "2021-01-05T23:46:58.130494Z"
    }
   },
   "outputs": [
    {
     "data": {
      "text/plain": [
       "No         38920\n",
       "Missing    26846\n",
       "Yes         4424\n",
       "Name: veteran, dtype: int64"
      ]
     },
     "execution_count": 523,
     "metadata": {},
     "output_type": "execute_result"
    }
   ],
   "source": [
    "demo_clean.veteran.value_counts(dropna=False)"
   ]
  },
  {
   "cell_type": "code",
   "execution_count": 524,
   "metadata": {
    "ExecuteTime": {
     "end_time": "2021-01-05T23:46:58.162513Z",
     "start_time": "2021-01-05T23:46:58.146493Z"
    }
   },
   "outputs": [],
   "source": [
    "demo_clean['household_income'].replace({12.000: 5, \n",
    "                                        13.000: 4,\n",
    "                                        14.000: 11,\n",
    "                                        15.000: 12,\n",
    "                                        77.000: 0, \n",
    "                                        99.000: 0}, \n",
    "                                        inplace=True)\n",
    "demo_clean['household_income'] = demo_clean['household_income'].astype('int64')"
   ]
  },
  {
   "cell_type": "code",
   "execution_count": 525,
   "metadata": {
    "ExecuteTime": {
     "end_time": "2021-01-05T23:46:58.171511Z",
     "start_time": "2021-01-05T23:46:58.163497Z"
    }
   },
   "outputs": [
    {
     "data": {
      "text/plain": [
       "12    9126\n",
       "6     8250\n",
       "5     7694\n",
       "11    7366\n",
       "7     6493\n",
       "4     5688\n",
       "8     5232\n",
       "3     4660\n",
       "9     3956\n",
       "0     3809\n",
       "10    3240\n",
       "2     2858\n",
       "1     1818\n",
       "Name: household_income, dtype: int64"
      ]
     },
     "execution_count": 525,
     "metadata": {},
     "output_type": "execute_result"
    }
   ],
   "source": [
    "demo_clean.household_income.value_counts(dropna=False)"
   ]
  },
  {
   "cell_type": "code",
   "execution_count": 526,
   "metadata": {
    "ExecuteTime": {
     "end_time": "2021-01-05T23:46:58.678127Z",
     "start_time": "2021-01-05T23:46:58.173494Z"
    }
   },
   "outputs": [
    {
     "data": {
      "image/png": "[encoded data removed]",
      "text/plain": [
       "<Figure size 1800x720 with 2 Axes>"
      ]
     },
     "metadata": {},
     "output_type": "display_data"
    }
   ],
   "source": [
    "ms.matrix(demo_clean);"
   ]
  },
  {
   "cell_type": "code",
   "execution_count": 527,
   "metadata": {
    "ExecuteTime": {
     "end_time": "2021-01-05T23:46:58.713049Z",
     "start_time": "2021-01-05T23:46:58.680048Z"
    }
   },
   "outputs": [
    {
     "data": {
      "text/plain": [
       "year                0\n",
       "gender              0\n",
       "age                 0\n",
       "race                0\n",
       "citizenship         0\n",
       "education_level     0\n",
       "marital_status      0\n",
       "household_size      0\n",
       "pregnant            0\n",
       "birth_place         0\n",
       "veteran             0\n",
       "household_income    0\n",
       "dtype: int64"
      ]
     },
     "execution_count": 527,
     "metadata": {},
     "output_type": "execute_result"
    }
   ],
   "source": [
    "demo_clean.isna().sum()"
   ]
  },
  {
   "cell_type": "code",
   "execution_count": 528,
   "metadata": {
    "ExecuteTime": {
     "end_time": "2021-01-05T23:46:58.758048Z",
     "start_time": "2021-01-05T23:46:58.715049Z"
    }
   },
   "outputs": [
    {
     "name": "stdout",
     "output_type": "stream",
     "text": [
      "<class 'pandas.core.frame.DataFrame'>\n",
      "Int64Index: 70190 entries, 31127 to 102956\n",
      "Data columns (total 12 columns):\n",
      " #   Column            Non-Null Count  Dtype \n",
      "---  ------            --------------  ----- \n",
      " 0   year              70190 non-null  int64 \n",
      " 1   gender            70190 non-null  int64 \n",
      " 2   age               70190 non-null  int64 \n",
      " 3   race              70190 non-null  object\n",
      " 4   citizenship       70190 non-null  object\n",
      " 5   education_level   70190 non-null  object\n",
      " 6   marital_status    70190 non-null  object\n",
      " 7   household_size    70190 non-null  int64 \n",
      " 8   pregnant          70190 non-null  object\n",
      " 9   birth_place       70190 non-null  object\n",
      " 10  veteran           70190 non-null  object\n",
      " 11  household_income  70190 non-null  int64 \n",
      "dtypes: int64(5), object(7)\n",
      "memory usage: 7.0+ MB\n"
     ]
    }
   ],
   "source": [
    "demo_clean.info()"
   ]
  },
  {
   "cell_type": "code",
   "execution_count": 529,
   "metadata": {
    "ExecuteTime": {
     "end_time": "2021-01-05T23:46:58.786047Z",
     "start_time": "2021-01-05T23:46:58.759048Z"
    }
   },
   "outputs": [
    {
     "data": {
      "text/html": [
       "<div>\n",
       "<style scoped>\n",
       "    .dataframe tbody tr th:only-of-type {\n",
       "        vertical-align: middle;\n",
       "    }\n",
       "\n",
       "    .dataframe tbody tr th {\n",
       "        vertical-align: top;\n",
       "    }\n",
       "\n",
       "    .dataframe thead th {\n",
       "        text-align: right;\n",
       "    }\n",
       "</style>\n",
       "<table border=\"1\" class=\"dataframe\">\n",
       "  <thead>\n",
       "    <tr style=\"text-align: right;\">\n",
       "      <th></th>\n",
       "      <th>year</th>\n",
       "      <th>gender</th>\n",
       "      <th>age</th>\n",
       "      <th>race</th>\n",
       "      <th>citizenship</th>\n",
       "      <th>education_level</th>\n",
       "      <th>marital_status</th>\n",
       "      <th>household_size</th>\n",
       "      <th>pregnant</th>\n",
       "      <th>birth_place</th>\n",
       "      <th>veteran</th>\n",
       "      <th>household_income</th>\n",
       "    </tr>\n",
       "    <tr>\n",
       "      <th>SEQN</th>\n",
       "      <th></th>\n",
       "      <th></th>\n",
       "      <th></th>\n",
       "      <th></th>\n",
       "      <th></th>\n",
       "      <th></th>\n",
       "      <th></th>\n",
       "      <th></th>\n",
       "      <th></th>\n",
       "      <th></th>\n",
       "      <th></th>\n",
       "      <th></th>\n",
       "    </tr>\n",
       "  </thead>\n",
       "  <tbody>\n",
       "    <tr>\n",
       "      <th>31127</th>\n",
       "      <td>4</td>\n",
       "      <td>0</td>\n",
       "      <td>0</td>\n",
       "      <td>White</td>\n",
       "      <td>Citizen</td>\n",
       "      <td>Missing</td>\n",
       "      <td>Missing</td>\n",
       "      <td>4</td>\n",
       "      <td>Missing</td>\n",
       "      <td>USA</td>\n",
       "      <td>Missing</td>\n",
       "      <td>4</td>\n",
       "    </tr>\n",
       "    <tr>\n",
       "      <th>31128</th>\n",
       "      <td>4</td>\n",
       "      <td>1</td>\n",
       "      <td>11</td>\n",
       "      <td>Black</td>\n",
       "      <td>Citizen</td>\n",
       "      <td>Missing</td>\n",
       "      <td>Missing</td>\n",
       "      <td>7</td>\n",
       "      <td>No</td>\n",
       "      <td>USA</td>\n",
       "      <td>Missing</td>\n",
       "      <td>8</td>\n",
       "    </tr>\n",
       "    <tr>\n",
       "      <th>31129</th>\n",
       "      <td>4</td>\n",
       "      <td>0</td>\n",
       "      <td>15</td>\n",
       "      <td>Black</td>\n",
       "      <td>Citizen</td>\n",
       "      <td>Missing</td>\n",
       "      <td>Never Married</td>\n",
       "      <td>6</td>\n",
       "      <td>Missing</td>\n",
       "      <td>USA</td>\n",
       "      <td>Missing</td>\n",
       "      <td>10</td>\n",
       "    </tr>\n",
       "    <tr>\n",
       "      <th>31130</th>\n",
       "      <td>4</td>\n",
       "      <td>1</td>\n",
       "      <td>85</td>\n",
       "      <td>White</td>\n",
       "      <td>Citizen</td>\n",
       "      <td>Some College</td>\n",
       "      <td>Widowed</td>\n",
       "      <td>1</td>\n",
       "      <td>Missing</td>\n",
       "      <td>USA</td>\n",
       "      <td>No</td>\n",
       "      <td>4</td>\n",
       "    </tr>\n",
       "    <tr>\n",
       "      <th>31131</th>\n",
       "      <td>4</td>\n",
       "      <td>1</td>\n",
       "      <td>44</td>\n",
       "      <td>Black</td>\n",
       "      <td>Citizen</td>\n",
       "      <td>Some College</td>\n",
       "      <td>Married</td>\n",
       "      <td>4</td>\n",
       "      <td>No</td>\n",
       "      <td>USA</td>\n",
       "      <td>No</td>\n",
       "      <td>11</td>\n",
       "    </tr>\n",
       "  </tbody>\n",
       "</table>\n",
       "</div>"
      ],
      "text/plain": [
       "       year  gender  age   race  ... pregnant birth_place  veteran  household_income\n",
       "SEQN                             ...                                                \n",
       "31127     4       0    0  White  ...  Missing         USA  Missing                 4\n",
       "31128     4       1   11  Black  ...       No         USA  Missing                 8\n",
       "31129     4       0   15  Black  ...  Missing         USA  Missing                10\n",
       "31130     4       1   85  White  ...  Missing         USA       No                 4\n",
       "31131     4       1   44  Black  ...       No         USA       No                11\n",
       "\n",
       "[5 rows x 12 columns]"
      ]
     },
     "execution_count": 529,
     "metadata": {},
     "output_type": "execute_result"
    }
   ],
   "source": [
    "demo_clean.head()"
   ]
  },
  {
   "cell_type": "markdown",
   "metadata": {},
   "source": [
    "# Medical Conditions"
   ]
  },
  {
   "cell_type": "code",
   "execution_count": 530,
   "metadata": {
    "ExecuteTime": {
     "end_time": "2021-01-05T23:46:59.861046Z",
     "start_time": "2021-01-05T23:46:58.788051Z"
    }
   },
   "outputs": [
    {
     "data": {
      "text/plain": [
       "['Data/Conditions\\\\MCQ_D.XPT',\n",
       " 'Data/Conditions\\\\MCQ_E.XPT',\n",
       " 'Data/Conditions\\\\MCQ_F.XPT',\n",
       " 'Data/Conditions\\\\MCQ_G.XPT',\n",
       " 'Data/Conditions\\\\MCQ_H.XPT',\n",
       " 'Data/Conditions\\\\MCQ_I.XPT',\n",
       " 'Data/Conditions\\\\MCQ_J.XPT']"
      ]
     },
     "metadata": {},
     "output_type": "display_data"
    }
   ],
   "source": [
    "path = r'Data/Conditions'\n",
    "df_medcond = glob_concat(path, '*.XPT')"
   ]
  },
  {
   "cell_type": "code",
   "execution_count": 531,
   "metadata": {
    "ExecuteTime": {
     "end_time": "2021-01-05T23:46:59.972128Z",
     "start_time": "2021-01-05T23:46:59.863050Z"
    }
   },
   "outputs": [
    {
     "data": {
      "text/html": [
       "<div>\n",
       "<style scoped>\n",
       "    .dataframe tbody tr th:only-of-type {\n",
       "        vertical-align: middle;\n",
       "    }\n",
       "\n",
       "    .dataframe tbody tr th {\n",
       "        vertical-align: top;\n",
       "    }\n",
       "\n",
       "    .dataframe thead th {\n",
       "        text-align: right;\n",
       "    }\n",
       "</style>\n",
       "<table border=\"1\" class=\"dataframe\">\n",
       "  <thead>\n",
       "    <tr style=\"text-align: right;\">\n",
       "      <th></th>\n",
       "      <th>SEQN</th>\n",
       "      <th>MCQ010</th>\n",
       "      <th>MCQ025</th>\n",
       "      <th>MCQ035</th>\n",
       "      <th>MCQ040</th>\n",
       "      <th>MCQ050</th>\n",
       "      <th>MCQ053</th>\n",
       "      <th>MCQ080</th>\n",
       "      <th>MCQ092</th>\n",
       "      <th>MCD093</th>\n",
       "      <th>MCQ140</th>\n",
       "      <th>MCQ149</th>\n",
       "      <th>MCQ150G</th>\n",
       "      <th>MCQ150Q</th>\n",
       "      <th>MCQ160A</th>\n",
       "      <th>MCQ160B</th>\n",
       "      <th>MCQ160C</th>\n",
       "      <th>MCQ160D</th>\n",
       "      <th>MCQ160E</th>\n",
       "      <th>MCQ160F</th>\n",
       "      <th>MCQ160G</th>\n",
       "      <th>MCQ160K</th>\n",
       "      <th>MCQ160L</th>\n",
       "      <th>MCQ160M</th>\n",
       "      <th>MCQ170K</th>\n",
       "      <th>MCQ170L</th>\n",
       "      <th>MCQ170M</th>\n",
       "      <th>MCQ180A</th>\n",
       "      <th>MCQ180B</th>\n",
       "      <th>MCQ180C</th>\n",
       "      <th>MCQ180D</th>\n",
       "      <th>MCQ180E</th>\n",
       "      <th>MCQ180F</th>\n",
       "      <th>MCQ180G</th>\n",
       "      <th>MCQ180K</th>\n",
       "      <th>MCQ180L</th>\n",
       "      <th>MCQ180M</th>\n",
       "      <th>MCQ190</th>\n",
       "      <th>MCQ220</th>\n",
       "      <th>MCQ230A</th>\n",
       "      <th>...</th>\n",
       "      <th>MCQ160O</th>\n",
       "      <th>MCQ203</th>\n",
       "      <th>MCQ206</th>\n",
       "      <th>OSQ230</th>\n",
       "      <th>RHD018</th>\n",
       "      <th>MCD180A</th>\n",
       "      <th>MCD180N</th>\n",
       "      <th>MCD180B</th>\n",
       "      <th>MCD180C</th>\n",
       "      <th>MCD180D</th>\n",
       "      <th>MCD180E</th>\n",
       "      <th>MCD180F</th>\n",
       "      <th>MCD180M</th>\n",
       "      <th>MCD180G</th>\n",
       "      <th>MCD180K</th>\n",
       "      <th>MCD180L</th>\n",
       "      <th>MCQ500</th>\n",
       "      <th>MCQ510A</th>\n",
       "      <th>MCQ510B</th>\n",
       "      <th>MCQ510C</th>\n",
       "      <th>MCQ510D</th>\n",
       "      <th>MCQ510E</th>\n",
       "      <th>MCQ510F</th>\n",
       "      <th>MCQ520</th>\n",
       "      <th>MCQ530</th>\n",
       "      <th>MCQ540</th>\n",
       "      <th>MCQ550</th>\n",
       "      <th>MCQ560</th>\n",
       "      <th>MCQ570</th>\n",
       "      <th>MCD240A</th>\n",
       "      <th>MCD240B</th>\n",
       "      <th>MCD240C</th>\n",
       "      <th>MCQ366A</th>\n",
       "      <th>MCQ366B</th>\n",
       "      <th>MCQ366C</th>\n",
       "      <th>MCQ366D</th>\n",
       "      <th>MCQ371A</th>\n",
       "      <th>MCQ371B</th>\n",
       "      <th>MCQ371C</th>\n",
       "      <th>MCQ371D</th>\n",
       "    </tr>\n",
       "  </thead>\n",
       "  <tbody>\n",
       "    <tr>\n",
       "      <th>0</th>\n",
       "      <td>31128.000</td>\n",
       "      <td>2.000</td>\n",
       "      <td>nan</td>\n",
       "      <td>nan</td>\n",
       "      <td>nan</td>\n",
       "      <td>nan</td>\n",
       "      <td>2.000</td>\n",
       "      <td>nan</td>\n",
       "      <td>2.000</td>\n",
       "      <td>nan</td>\n",
       "      <td>2.000</td>\n",
       "      <td>2.000</td>\n",
       "      <td>1.000</td>\n",
       "      <td>2.000</td>\n",
       "      <td>nan</td>\n",
       "      <td>nan</td>\n",
       "      <td>nan</td>\n",
       "      <td>nan</td>\n",
       "      <td>nan</td>\n",
       "      <td>nan</td>\n",
       "      <td>nan</td>\n",
       "      <td>nan</td>\n",
       "      <td>nan</td>\n",
       "      <td>nan</td>\n",
       "      <td>nan</td>\n",
       "      <td>nan</td>\n",
       "      <td>nan</td>\n",
       "      <td>nan</td>\n",
       "      <td>nan</td>\n",
       "      <td>nan</td>\n",
       "      <td>nan</td>\n",
       "      <td>nan</td>\n",
       "      <td>nan</td>\n",
       "      <td>nan</td>\n",
       "      <td>nan</td>\n",
       "      <td>nan</td>\n",
       "      <td>nan</td>\n",
       "      <td>nan</td>\n",
       "      <td>nan</td>\n",
       "      <td>nan</td>\n",
       "      <td>...</td>\n",
       "      <td>nan</td>\n",
       "      <td>nan</td>\n",
       "      <td>nan</td>\n",
       "      <td>nan</td>\n",
       "      <td>nan</td>\n",
       "      <td>nan</td>\n",
       "      <td>nan</td>\n",
       "      <td>nan</td>\n",
       "      <td>nan</td>\n",
       "      <td>nan</td>\n",
       "      <td>nan</td>\n",
       "      <td>nan</td>\n",
       "      <td>nan</td>\n",
       "      <td>nan</td>\n",
       "      <td>nan</td>\n",
       "      <td>nan</td>\n",
       "      <td>nan</td>\n",
       "      <td>nan</td>\n",
       "      <td>nan</td>\n",
       "      <td>nan</td>\n",
       "      <td>nan</td>\n",
       "      <td>nan</td>\n",
       "      <td>nan</td>\n",
       "      <td>nan</td>\n",
       "      <td>nan</td>\n",
       "      <td>nan</td>\n",
       "      <td>nan</td>\n",
       "      <td>nan</td>\n",
       "      <td>nan</td>\n",
       "      <td>nan</td>\n",
       "      <td>nan</td>\n",
       "      <td>nan</td>\n",
       "      <td>nan</td>\n",
       "      <td>nan</td>\n",
       "      <td>nan</td>\n",
       "      <td>nan</td>\n",
       "      <td>nan</td>\n",
       "      <td>nan</td>\n",
       "      <td>nan</td>\n",
       "      <td>nan</td>\n",
       "    </tr>\n",
       "    <tr>\n",
       "      <th>1</th>\n",
       "      <td>31129.000</td>\n",
       "      <td>2.000</td>\n",
       "      <td>nan</td>\n",
       "      <td>nan</td>\n",
       "      <td>nan</td>\n",
       "      <td>nan</td>\n",
       "      <td>2.000</td>\n",
       "      <td>nan</td>\n",
       "      <td>2.000</td>\n",
       "      <td>nan</td>\n",
       "      <td>2.000</td>\n",
       "      <td>nan</td>\n",
       "      <td>1.000</td>\n",
       "      <td>1.000</td>\n",
       "      <td>nan</td>\n",
       "      <td>nan</td>\n",
       "      <td>nan</td>\n",
       "      <td>nan</td>\n",
       "      <td>nan</td>\n",
       "      <td>nan</td>\n",
       "      <td>nan</td>\n",
       "      <td>nan</td>\n",
       "      <td>nan</td>\n",
       "      <td>nan</td>\n",
       "      <td>nan</td>\n",
       "      <td>nan</td>\n",
       "      <td>nan</td>\n",
       "      <td>nan</td>\n",
       "      <td>nan</td>\n",
       "      <td>nan</td>\n",
       "      <td>nan</td>\n",
       "      <td>nan</td>\n",
       "      <td>nan</td>\n",
       "      <td>nan</td>\n",
       "      <td>nan</td>\n",
       "      <td>nan</td>\n",
       "      <td>nan</td>\n",
       "      <td>nan</td>\n",
       "      <td>nan</td>\n",
       "      <td>nan</td>\n",
       "      <td>...</td>\n",
       "      <td>nan</td>\n",
       "      <td>nan</td>\n",
       "      <td>nan</td>\n",
       "      <td>nan</td>\n",
       "      <td>nan</td>\n",
       "      <td>nan</td>\n",
       "      <td>nan</td>\n",
       "      <td>nan</td>\n",
       "      <td>nan</td>\n",
       "      <td>nan</td>\n",
       "      <td>nan</td>\n",
       "      <td>nan</td>\n",
       "      <td>nan</td>\n",
       "      <td>nan</td>\n",
       "      <td>nan</td>\n",
       "      <td>nan</td>\n",
       "      <td>nan</td>\n",
       "      <td>nan</td>\n",
       "      <td>nan</td>\n",
       "      <td>nan</td>\n",
       "      <td>nan</td>\n",
       "      <td>nan</td>\n",
       "      <td>nan</td>\n",
       "      <td>nan</td>\n",
       "      <td>nan</td>\n",
       "      <td>nan</td>\n",
       "      <td>nan</td>\n",
       "      <td>nan</td>\n",
       "      <td>nan</td>\n",
       "      <td>nan</td>\n",
       "      <td>nan</td>\n",
       "      <td>nan</td>\n",
       "      <td>nan</td>\n",
       "      <td>nan</td>\n",
       "      <td>nan</td>\n",
       "      <td>nan</td>\n",
       "      <td>nan</td>\n",
       "      <td>nan</td>\n",
       "      <td>nan</td>\n",
       "      <td>nan</td>\n",
       "    </tr>\n",
       "    <tr>\n",
       "      <th>2</th>\n",
       "      <td>31130.000</td>\n",
       "      <td>2.000</td>\n",
       "      <td>nan</td>\n",
       "      <td>nan</td>\n",
       "      <td>nan</td>\n",
       "      <td>nan</td>\n",
       "      <td>2.000</td>\n",
       "      <td>2.000</td>\n",
       "      <td>9.000</td>\n",
       "      <td>nan</td>\n",
       "      <td>2.000</td>\n",
       "      <td>nan</td>\n",
       "      <td>nan</td>\n",
       "      <td>nan</td>\n",
       "      <td>2.000</td>\n",
       "      <td>2.000</td>\n",
       "      <td>2.000</td>\n",
       "      <td>2.000</td>\n",
       "      <td>2.000</td>\n",
       "      <td>2.000</td>\n",
       "      <td>2.000</td>\n",
       "      <td>2.000</td>\n",
       "      <td>2.000</td>\n",
       "      <td>2.000</td>\n",
       "      <td>nan</td>\n",
       "      <td>nan</td>\n",
       "      <td>nan</td>\n",
       "      <td>nan</td>\n",
       "      <td>nan</td>\n",
       "      <td>nan</td>\n",
       "      <td>nan</td>\n",
       "      <td>nan</td>\n",
       "      <td>nan</td>\n",
       "      <td>nan</td>\n",
       "      <td>nan</td>\n",
       "      <td>nan</td>\n",
       "      <td>nan</td>\n",
       "      <td>nan</td>\n",
       "      <td>2.000</td>\n",
       "      <td>nan</td>\n",
       "      <td>...</td>\n",
       "      <td>nan</td>\n",
       "      <td>nan</td>\n",
       "      <td>nan</td>\n",
       "      <td>nan</td>\n",
       "      <td>nan</td>\n",
       "      <td>nan</td>\n",
       "      <td>nan</td>\n",
       "      <td>nan</td>\n",
       "      <td>nan</td>\n",
       "      <td>nan</td>\n",
       "      <td>nan</td>\n",
       "      <td>nan</td>\n",
       "      <td>nan</td>\n",
       "      <td>nan</td>\n",
       "      <td>nan</td>\n",
       "      <td>nan</td>\n",
       "      <td>nan</td>\n",
       "      <td>nan</td>\n",
       "      <td>nan</td>\n",
       "      <td>nan</td>\n",
       "      <td>nan</td>\n",
       "      <td>nan</td>\n",
       "      <td>nan</td>\n",
       "      <td>nan</td>\n",
       "      <td>nan</td>\n",
       "      <td>nan</td>\n",
       "      <td>nan</td>\n",
       "      <td>nan</td>\n",
       "      <td>nan</td>\n",
       "      <td>nan</td>\n",
       "      <td>nan</td>\n",
       "      <td>nan</td>\n",
       "      <td>nan</td>\n",
       "      <td>nan</td>\n",
       "      <td>nan</td>\n",
       "      <td>nan</td>\n",
       "      <td>nan</td>\n",
       "      <td>nan</td>\n",
       "      <td>nan</td>\n",
       "      <td>nan</td>\n",
       "    </tr>\n",
       "    <tr>\n",
       "      <th>3</th>\n",
       "      <td>31131.000</td>\n",
       "      <td>2.000</td>\n",
       "      <td>nan</td>\n",
       "      <td>nan</td>\n",
       "      <td>nan</td>\n",
       "      <td>nan</td>\n",
       "      <td>2.000</td>\n",
       "      <td>2.000</td>\n",
       "      <td>1.000</td>\n",
       "      <td>3.000</td>\n",
       "      <td>2.000</td>\n",
       "      <td>nan</td>\n",
       "      <td>nan</td>\n",
       "      <td>nan</td>\n",
       "      <td>2.000</td>\n",
       "      <td>1.000</td>\n",
       "      <td>2.000</td>\n",
       "      <td>2.000</td>\n",
       "      <td>2.000</td>\n",
       "      <td>2.000</td>\n",
       "      <td>2.000</td>\n",
       "      <td>2.000</td>\n",
       "      <td>2.000</td>\n",
       "      <td>2.000</td>\n",
       "      <td>nan</td>\n",
       "      <td>nan</td>\n",
       "      <td>nan</td>\n",
       "      <td>nan</td>\n",
       "      <td>42.000</td>\n",
       "      <td>nan</td>\n",
       "      <td>nan</td>\n",
       "      <td>nan</td>\n",
       "      <td>nan</td>\n",
       "      <td>nan</td>\n",
       "      <td>nan</td>\n",
       "      <td>nan</td>\n",
       "      <td>nan</td>\n",
       "      <td>nan</td>\n",
       "      <td>2.000</td>\n",
       "      <td>nan</td>\n",
       "      <td>...</td>\n",
       "      <td>nan</td>\n",
       "      <td>nan</td>\n",
       "      <td>nan</td>\n",
       "      <td>nan</td>\n",
       "      <td>nan</td>\n",
       "      <td>nan</td>\n",
       "      <td>nan</td>\n",
       "      <td>nan</td>\n",
       "      <td>nan</td>\n",
       "      <td>nan</td>\n",
       "      <td>nan</td>\n",
       "      <td>nan</td>\n",
       "      <td>nan</td>\n",
       "      <td>nan</td>\n",
       "      <td>nan</td>\n",
       "      <td>nan</td>\n",
       "      <td>nan</td>\n",
       "      <td>nan</td>\n",
       "      <td>nan</td>\n",
       "      <td>nan</td>\n",
       "      <td>nan</td>\n",
       "      <td>nan</td>\n",
       "      <td>nan</td>\n",
       "      <td>nan</td>\n",
       "      <td>nan</td>\n",
       "      <td>nan</td>\n",
       "      <td>nan</td>\n",
       "      <td>nan</td>\n",
       "      <td>nan</td>\n",
       "      <td>nan</td>\n",
       "      <td>nan</td>\n",
       "      <td>nan</td>\n",
       "      <td>nan</td>\n",
       "      <td>nan</td>\n",
       "      <td>nan</td>\n",
       "      <td>nan</td>\n",
       "      <td>nan</td>\n",
       "      <td>nan</td>\n",
       "      <td>nan</td>\n",
       "      <td>nan</td>\n",
       "    </tr>\n",
       "    <tr>\n",
       "      <th>4</th>\n",
       "      <td>31132.000</td>\n",
       "      <td>2.000</td>\n",
       "      <td>nan</td>\n",
       "      <td>nan</td>\n",
       "      <td>nan</td>\n",
       "      <td>nan</td>\n",
       "      <td>2.000</td>\n",
       "      <td>2.000</td>\n",
       "      <td>2.000</td>\n",
       "      <td>nan</td>\n",
       "      <td>2.000</td>\n",
       "      <td>nan</td>\n",
       "      <td>nan</td>\n",
       "      <td>nan</td>\n",
       "      <td>2.000</td>\n",
       "      <td>2.000</td>\n",
       "      <td>2.000</td>\n",
       "      <td>2.000</td>\n",
       "      <td>2.000</td>\n",
       "      <td>2.000</td>\n",
       "      <td>2.000</td>\n",
       "      <td>2.000</td>\n",
       "      <td>2.000</td>\n",
       "      <td>1.000</td>\n",
       "      <td>nan</td>\n",
       "      <td>nan</td>\n",
       "      <td>1.000</td>\n",
       "      <td>nan</td>\n",
       "      <td>nan</td>\n",
       "      <td>nan</td>\n",
       "      <td>nan</td>\n",
       "      <td>nan</td>\n",
       "      <td>nan</td>\n",
       "      <td>nan</td>\n",
       "      <td>nan</td>\n",
       "      <td>nan</td>\n",
       "      <td>63.000</td>\n",
       "      <td>nan</td>\n",
       "      <td>2.000</td>\n",
       "      <td>nan</td>\n",
       "      <td>...</td>\n",
       "      <td>nan</td>\n",
       "      <td>nan</td>\n",
       "      <td>nan</td>\n",
       "      <td>nan</td>\n",
       "      <td>nan</td>\n",
       "      <td>nan</td>\n",
       "      <td>nan</td>\n",
       "      <td>nan</td>\n",
       "      <td>nan</td>\n",
       "      <td>nan</td>\n",
       "      <td>nan</td>\n",
       "      <td>nan</td>\n",
       "      <td>nan</td>\n",
       "      <td>nan</td>\n",
       "      <td>nan</td>\n",
       "      <td>nan</td>\n",
       "      <td>nan</td>\n",
       "      <td>nan</td>\n",
       "      <td>nan</td>\n",
       "      <td>nan</td>\n",
       "      <td>nan</td>\n",
       "      <td>nan</td>\n",
       "      <td>nan</td>\n",
       "      <td>nan</td>\n",
       "      <td>nan</td>\n",
       "      <td>nan</td>\n",
       "      <td>nan</td>\n",
       "      <td>nan</td>\n",
       "      <td>nan</td>\n",
       "      <td>nan</td>\n",
       "      <td>nan</td>\n",
       "      <td>nan</td>\n",
       "      <td>nan</td>\n",
       "      <td>nan</td>\n",
       "      <td>nan</td>\n",
       "      <td>nan</td>\n",
       "      <td>nan</td>\n",
       "      <td>nan</td>\n",
       "      <td>nan</td>\n",
       "      <td>nan</td>\n",
       "    </tr>\n",
       "  </tbody>\n",
       "</table>\n",
       "<p>5 rows × 150 columns</p>\n",
       "</div>"
      ],
      "text/plain": [
       "       SEQN  MCQ010  MCQ025  MCQ035  ...  MCQ371A  MCQ371B  MCQ371C  MCQ371D\n",
       "0 31128.000   2.000     nan     nan  ...      nan      nan      nan      nan\n",
       "1 31129.000   2.000     nan     nan  ...      nan      nan      nan      nan\n",
       "2 31130.000   2.000     nan     nan  ...      nan      nan      nan      nan\n",
       "3 31131.000   2.000     nan     nan  ...      nan      nan      nan      nan\n",
       "4 31132.000   2.000     nan     nan  ...      nan      nan      nan      nan\n",
       "\n",
       "[5 rows x 150 columns]"
      ]
     },
     "execution_count": 531,
     "metadata": {},
     "output_type": "execute_result"
    }
   ],
   "source": [
    "df_medcond.head()"
   ]
  },
  {
   "cell_type": "code",
   "execution_count": 532,
   "metadata": {
    "ExecuteTime": {
     "end_time": "2021-01-05T23:46:59.984126Z",
     "start_time": "2021-01-05T23:46:59.973049Z"
    }
   },
   "outputs": [],
   "source": [
    "df_medcond.SEQN = df_medcond.SEQN.astype('int64')\n",
    "df_medcond.set_index('SEQN', verify_integrity=True, inplace=True)"
   ]
  },
  {
   "cell_type": "code",
   "execution_count": 533,
   "metadata": {
    "ExecuteTime": {
     "end_time": "2021-01-05T23:47:00.103050Z",
     "start_time": "2021-01-05T23:46:59.986050Z"
    }
   },
   "outputs": [
    {
     "data": {
      "text/html": [
       "<div>\n",
       "<style scoped>\n",
       "    .dataframe tbody tr th:only-of-type {\n",
       "        vertical-align: middle;\n",
       "    }\n",
       "\n",
       "    .dataframe tbody tr th {\n",
       "        vertical-align: top;\n",
       "    }\n",
       "\n",
       "    .dataframe thead th {\n",
       "        text-align: right;\n",
       "    }\n",
       "</style>\n",
       "<table border=\"1\" class=\"dataframe\">\n",
       "  <thead>\n",
       "    <tr style=\"text-align: right;\">\n",
       "      <th></th>\n",
       "      <th>MCQ010</th>\n",
       "      <th>MCQ025</th>\n",
       "      <th>MCQ035</th>\n",
       "      <th>MCQ040</th>\n",
       "      <th>MCQ050</th>\n",
       "      <th>MCQ053</th>\n",
       "      <th>MCQ080</th>\n",
       "      <th>MCQ092</th>\n",
       "      <th>MCD093</th>\n",
       "      <th>MCQ140</th>\n",
       "      <th>MCQ149</th>\n",
       "      <th>MCQ150G</th>\n",
       "      <th>MCQ150Q</th>\n",
       "      <th>MCQ160A</th>\n",
       "      <th>MCQ160B</th>\n",
       "      <th>MCQ160C</th>\n",
       "      <th>MCQ160D</th>\n",
       "      <th>MCQ160E</th>\n",
       "      <th>MCQ160F</th>\n",
       "      <th>MCQ160G</th>\n",
       "      <th>MCQ160K</th>\n",
       "      <th>MCQ160L</th>\n",
       "      <th>MCQ160M</th>\n",
       "      <th>MCQ170K</th>\n",
       "      <th>MCQ170L</th>\n",
       "      <th>MCQ170M</th>\n",
       "      <th>MCQ180A</th>\n",
       "      <th>MCQ180B</th>\n",
       "      <th>MCQ180C</th>\n",
       "      <th>MCQ180D</th>\n",
       "      <th>MCQ180E</th>\n",
       "      <th>MCQ180F</th>\n",
       "      <th>MCQ180G</th>\n",
       "      <th>MCQ180K</th>\n",
       "      <th>MCQ180L</th>\n",
       "      <th>MCQ180M</th>\n",
       "      <th>MCQ190</th>\n",
       "      <th>MCQ220</th>\n",
       "      <th>MCQ230A</th>\n",
       "      <th>MCQ230B</th>\n",
       "      <th>...</th>\n",
       "      <th>MCQ160O</th>\n",
       "      <th>MCQ203</th>\n",
       "      <th>MCQ206</th>\n",
       "      <th>OSQ230</th>\n",
       "      <th>RHD018</th>\n",
       "      <th>MCD180A</th>\n",
       "      <th>MCD180N</th>\n",
       "      <th>MCD180B</th>\n",
       "      <th>MCD180C</th>\n",
       "      <th>MCD180D</th>\n",
       "      <th>MCD180E</th>\n",
       "      <th>MCD180F</th>\n",
       "      <th>MCD180M</th>\n",
       "      <th>MCD180G</th>\n",
       "      <th>MCD180K</th>\n",
       "      <th>MCD180L</th>\n",
       "      <th>MCQ500</th>\n",
       "      <th>MCQ510A</th>\n",
       "      <th>MCQ510B</th>\n",
       "      <th>MCQ510C</th>\n",
       "      <th>MCQ510D</th>\n",
       "      <th>MCQ510E</th>\n",
       "      <th>MCQ510F</th>\n",
       "      <th>MCQ520</th>\n",
       "      <th>MCQ530</th>\n",
       "      <th>MCQ540</th>\n",
       "      <th>MCQ550</th>\n",
       "      <th>MCQ560</th>\n",
       "      <th>MCQ570</th>\n",
       "      <th>MCD240A</th>\n",
       "      <th>MCD240B</th>\n",
       "      <th>MCD240C</th>\n",
       "      <th>MCQ366A</th>\n",
       "      <th>MCQ366B</th>\n",
       "      <th>MCQ366C</th>\n",
       "      <th>MCQ366D</th>\n",
       "      <th>MCQ371A</th>\n",
       "      <th>MCQ371B</th>\n",
       "      <th>MCQ371C</th>\n",
       "      <th>MCQ371D</th>\n",
       "    </tr>\n",
       "    <tr>\n",
       "      <th>SEQN</th>\n",
       "      <th></th>\n",
       "      <th></th>\n",
       "      <th></th>\n",
       "      <th></th>\n",
       "      <th></th>\n",
       "      <th></th>\n",
       "      <th></th>\n",
       "      <th></th>\n",
       "      <th></th>\n",
       "      <th></th>\n",
       "      <th></th>\n",
       "      <th></th>\n",
       "      <th></th>\n",
       "      <th></th>\n",
       "      <th></th>\n",
       "      <th></th>\n",
       "      <th></th>\n",
       "      <th></th>\n",
       "      <th></th>\n",
       "      <th></th>\n",
       "      <th></th>\n",
       "      <th></th>\n",
       "      <th></th>\n",
       "      <th></th>\n",
       "      <th></th>\n",
       "      <th></th>\n",
       "      <th></th>\n",
       "      <th></th>\n",
       "      <th></th>\n",
       "      <th></th>\n",
       "      <th></th>\n",
       "      <th></th>\n",
       "      <th></th>\n",
       "      <th></th>\n",
       "      <th></th>\n",
       "      <th></th>\n",
       "      <th></th>\n",
       "      <th></th>\n",
       "      <th></th>\n",
       "      <th></th>\n",
       "      <th></th>\n",
       "      <th></th>\n",
       "      <th></th>\n",
       "      <th></th>\n",
       "      <th></th>\n",
       "      <th></th>\n",
       "      <th></th>\n",
       "      <th></th>\n",
       "      <th></th>\n",
       "      <th></th>\n",
       "      <th></th>\n",
       "      <th></th>\n",
       "      <th></th>\n",
       "      <th></th>\n",
       "      <th></th>\n",
       "      <th></th>\n",
       "      <th></th>\n",
       "      <th></th>\n",
       "      <th></th>\n",
       "      <th></th>\n",
       "      <th></th>\n",
       "      <th></th>\n",
       "      <th></th>\n",
       "      <th></th>\n",
       "      <th></th>\n",
       "      <th></th>\n",
       "      <th></th>\n",
       "      <th></th>\n",
       "      <th></th>\n",
       "      <th></th>\n",
       "      <th></th>\n",
       "      <th></th>\n",
       "      <th></th>\n",
       "      <th></th>\n",
       "      <th></th>\n",
       "      <th></th>\n",
       "      <th></th>\n",
       "      <th></th>\n",
       "      <th></th>\n",
       "      <th></th>\n",
       "      <th></th>\n",
       "    </tr>\n",
       "  </thead>\n",
       "  <tbody>\n",
       "    <tr>\n",
       "      <th>31128</th>\n",
       "      <td>2.000</td>\n",
       "      <td>nan</td>\n",
       "      <td>nan</td>\n",
       "      <td>nan</td>\n",
       "      <td>nan</td>\n",
       "      <td>2.000</td>\n",
       "      <td>nan</td>\n",
       "      <td>2.000</td>\n",
       "      <td>nan</td>\n",
       "      <td>2.000</td>\n",
       "      <td>2.000</td>\n",
       "      <td>1.000</td>\n",
       "      <td>2.000</td>\n",
       "      <td>nan</td>\n",
       "      <td>nan</td>\n",
       "      <td>nan</td>\n",
       "      <td>nan</td>\n",
       "      <td>nan</td>\n",
       "      <td>nan</td>\n",
       "      <td>nan</td>\n",
       "      <td>nan</td>\n",
       "      <td>nan</td>\n",
       "      <td>nan</td>\n",
       "      <td>nan</td>\n",
       "      <td>nan</td>\n",
       "      <td>nan</td>\n",
       "      <td>nan</td>\n",
       "      <td>nan</td>\n",
       "      <td>nan</td>\n",
       "      <td>nan</td>\n",
       "      <td>nan</td>\n",
       "      <td>nan</td>\n",
       "      <td>nan</td>\n",
       "      <td>nan</td>\n",
       "      <td>nan</td>\n",
       "      <td>nan</td>\n",
       "      <td>nan</td>\n",
       "      <td>nan</td>\n",
       "      <td>nan</td>\n",
       "      <td>nan</td>\n",
       "      <td>...</td>\n",
       "      <td>nan</td>\n",
       "      <td>nan</td>\n",
       "      <td>nan</td>\n",
       "      <td>nan</td>\n",
       "      <td>nan</td>\n",
       "      <td>nan</td>\n",
       "      <td>nan</td>\n",
       "      <td>nan</td>\n",
       "      <td>nan</td>\n",
       "      <td>nan</td>\n",
       "      <td>nan</td>\n",
       "      <td>nan</td>\n",
       "      <td>nan</td>\n",
       "      <td>nan</td>\n",
       "      <td>nan</td>\n",
       "      <td>nan</td>\n",
       "      <td>nan</td>\n",
       "      <td>nan</td>\n",
       "      <td>nan</td>\n",
       "      <td>nan</td>\n",
       "      <td>nan</td>\n",
       "      <td>nan</td>\n",
       "      <td>nan</td>\n",
       "      <td>nan</td>\n",
       "      <td>nan</td>\n",
       "      <td>nan</td>\n",
       "      <td>nan</td>\n",
       "      <td>nan</td>\n",
       "      <td>nan</td>\n",
       "      <td>nan</td>\n",
       "      <td>nan</td>\n",
       "      <td>nan</td>\n",
       "      <td>nan</td>\n",
       "      <td>nan</td>\n",
       "      <td>nan</td>\n",
       "      <td>nan</td>\n",
       "      <td>nan</td>\n",
       "      <td>nan</td>\n",
       "      <td>nan</td>\n",
       "      <td>nan</td>\n",
       "    </tr>\n",
       "    <tr>\n",
       "      <th>31129</th>\n",
       "      <td>2.000</td>\n",
       "      <td>nan</td>\n",
       "      <td>nan</td>\n",
       "      <td>nan</td>\n",
       "      <td>nan</td>\n",
       "      <td>2.000</td>\n",
       "      <td>nan</td>\n",
       "      <td>2.000</td>\n",
       "      <td>nan</td>\n",
       "      <td>2.000</td>\n",
       "      <td>nan</td>\n",
       "      <td>1.000</td>\n",
       "      <td>1.000</td>\n",
       "      <td>nan</td>\n",
       "      <td>nan</td>\n",
       "      <td>nan</td>\n",
       "      <td>nan</td>\n",
       "      <td>nan</td>\n",
       "      <td>nan</td>\n",
       "      <td>nan</td>\n",
       "      <td>nan</td>\n",
       "      <td>nan</td>\n",
       "      <td>nan</td>\n",
       "      <td>nan</td>\n",
       "      <td>nan</td>\n",
       "      <td>nan</td>\n",
       "      <td>nan</td>\n",
       "      <td>nan</td>\n",
       "      <td>nan</td>\n",
       "      <td>nan</td>\n",
       "      <td>nan</td>\n",
       "      <td>nan</td>\n",
       "      <td>nan</td>\n",
       "      <td>nan</td>\n",
       "      <td>nan</td>\n",
       "      <td>nan</td>\n",
       "      <td>nan</td>\n",
       "      <td>nan</td>\n",
       "      <td>nan</td>\n",
       "      <td>nan</td>\n",
       "      <td>...</td>\n",
       "      <td>nan</td>\n",
       "      <td>nan</td>\n",
       "      <td>nan</td>\n",
       "      <td>nan</td>\n",
       "      <td>nan</td>\n",
       "      <td>nan</td>\n",
       "      <td>nan</td>\n",
       "      <td>nan</td>\n",
       "      <td>nan</td>\n",
       "      <td>nan</td>\n",
       "      <td>nan</td>\n",
       "      <td>nan</td>\n",
       "      <td>nan</td>\n",
       "      <td>nan</td>\n",
       "      <td>nan</td>\n",
       "      <td>nan</td>\n",
       "      <td>nan</td>\n",
       "      <td>nan</td>\n",
       "      <td>nan</td>\n",
       "      <td>nan</td>\n",
       "      <td>nan</td>\n",
       "      <td>nan</td>\n",
       "      <td>nan</td>\n",
       "      <td>nan</td>\n",
       "      <td>nan</td>\n",
       "      <td>nan</td>\n",
       "      <td>nan</td>\n",
       "      <td>nan</td>\n",
       "      <td>nan</td>\n",
       "      <td>nan</td>\n",
       "      <td>nan</td>\n",
       "      <td>nan</td>\n",
       "      <td>nan</td>\n",
       "      <td>nan</td>\n",
       "      <td>nan</td>\n",
       "      <td>nan</td>\n",
       "      <td>nan</td>\n",
       "      <td>nan</td>\n",
       "      <td>nan</td>\n",
       "      <td>nan</td>\n",
       "    </tr>\n",
       "    <tr>\n",
       "      <th>31130</th>\n",
       "      <td>2.000</td>\n",
       "      <td>nan</td>\n",
       "      <td>nan</td>\n",
       "      <td>nan</td>\n",
       "      <td>nan</td>\n",
       "      <td>2.000</td>\n",
       "      <td>2.000</td>\n",
       "      <td>9.000</td>\n",
       "      <td>nan</td>\n",
       "      <td>2.000</td>\n",
       "      <td>nan</td>\n",
       "      <td>nan</td>\n",
       "      <td>nan</td>\n",
       "      <td>2.000</td>\n",
       "      <td>2.000</td>\n",
       "      <td>2.000</td>\n",
       "      <td>2.000</td>\n",
       "      <td>2.000</td>\n",
       "      <td>2.000</td>\n",
       "      <td>2.000</td>\n",
       "      <td>2.000</td>\n",
       "      <td>2.000</td>\n",
       "      <td>2.000</td>\n",
       "      <td>nan</td>\n",
       "      <td>nan</td>\n",
       "      <td>nan</td>\n",
       "      <td>nan</td>\n",
       "      <td>nan</td>\n",
       "      <td>nan</td>\n",
       "      <td>nan</td>\n",
       "      <td>nan</td>\n",
       "      <td>nan</td>\n",
       "      <td>nan</td>\n",
       "      <td>nan</td>\n",
       "      <td>nan</td>\n",
       "      <td>nan</td>\n",
       "      <td>nan</td>\n",
       "      <td>2.000</td>\n",
       "      <td>nan</td>\n",
       "      <td>nan</td>\n",
       "      <td>...</td>\n",
       "      <td>nan</td>\n",
       "      <td>nan</td>\n",
       "      <td>nan</td>\n",
       "      <td>nan</td>\n",
       "      <td>nan</td>\n",
       "      <td>nan</td>\n",
       "      <td>nan</td>\n",
       "      <td>nan</td>\n",
       "      <td>nan</td>\n",
       "      <td>nan</td>\n",
       "      <td>nan</td>\n",
       "      <td>nan</td>\n",
       "      <td>nan</td>\n",
       "      <td>nan</td>\n",
       "      <td>nan</td>\n",
       "      <td>nan</td>\n",
       "      <td>nan</td>\n",
       "      <td>nan</td>\n",
       "      <td>nan</td>\n",
       "      <td>nan</td>\n",
       "      <td>nan</td>\n",
       "      <td>nan</td>\n",
       "      <td>nan</td>\n",
       "      <td>nan</td>\n",
       "      <td>nan</td>\n",
       "      <td>nan</td>\n",
       "      <td>nan</td>\n",
       "      <td>nan</td>\n",
       "      <td>nan</td>\n",
       "      <td>nan</td>\n",
       "      <td>nan</td>\n",
       "      <td>nan</td>\n",
       "      <td>nan</td>\n",
       "      <td>nan</td>\n",
       "      <td>nan</td>\n",
       "      <td>nan</td>\n",
       "      <td>nan</td>\n",
       "      <td>nan</td>\n",
       "      <td>nan</td>\n",
       "      <td>nan</td>\n",
       "    </tr>\n",
       "    <tr>\n",
       "      <th>31131</th>\n",
       "      <td>2.000</td>\n",
       "      <td>nan</td>\n",
       "      <td>nan</td>\n",
       "      <td>nan</td>\n",
       "      <td>nan</td>\n",
       "      <td>2.000</td>\n",
       "      <td>2.000</td>\n",
       "      <td>1.000</td>\n",
       "      <td>3.000</td>\n",
       "      <td>2.000</td>\n",
       "      <td>nan</td>\n",
       "      <td>nan</td>\n",
       "      <td>nan</td>\n",
       "      <td>2.000</td>\n",
       "      <td>1.000</td>\n",
       "      <td>2.000</td>\n",
       "      <td>2.000</td>\n",
       "      <td>2.000</td>\n",
       "      <td>2.000</td>\n",
       "      <td>2.000</td>\n",
       "      <td>2.000</td>\n",
       "      <td>2.000</td>\n",
       "      <td>2.000</td>\n",
       "      <td>nan</td>\n",
       "      <td>nan</td>\n",
       "      <td>nan</td>\n",
       "      <td>nan</td>\n",
       "      <td>42.000</td>\n",
       "      <td>nan</td>\n",
       "      <td>nan</td>\n",
       "      <td>nan</td>\n",
       "      <td>nan</td>\n",
       "      <td>nan</td>\n",
       "      <td>nan</td>\n",
       "      <td>nan</td>\n",
       "      <td>nan</td>\n",
       "      <td>nan</td>\n",
       "      <td>2.000</td>\n",
       "      <td>nan</td>\n",
       "      <td>nan</td>\n",
       "      <td>...</td>\n",
       "      <td>nan</td>\n",
       "      <td>nan</td>\n",
       "      <td>nan</td>\n",
       "      <td>nan</td>\n",
       "      <td>nan</td>\n",
       "      <td>nan</td>\n",
       "      <td>nan</td>\n",
       "      <td>nan</td>\n",
       "      <td>nan</td>\n",
       "      <td>nan</td>\n",
       "      <td>nan</td>\n",
       "      <td>nan</td>\n",
       "      <td>nan</td>\n",
       "      <td>nan</td>\n",
       "      <td>nan</td>\n",
       "      <td>nan</td>\n",
       "      <td>nan</td>\n",
       "      <td>nan</td>\n",
       "      <td>nan</td>\n",
       "      <td>nan</td>\n",
       "      <td>nan</td>\n",
       "      <td>nan</td>\n",
       "      <td>nan</td>\n",
       "      <td>nan</td>\n",
       "      <td>nan</td>\n",
       "      <td>nan</td>\n",
       "      <td>nan</td>\n",
       "      <td>nan</td>\n",
       "      <td>nan</td>\n",
       "      <td>nan</td>\n",
       "      <td>nan</td>\n",
       "      <td>nan</td>\n",
       "      <td>nan</td>\n",
       "      <td>nan</td>\n",
       "      <td>nan</td>\n",
       "      <td>nan</td>\n",
       "      <td>nan</td>\n",
       "      <td>nan</td>\n",
       "      <td>nan</td>\n",
       "      <td>nan</td>\n",
       "    </tr>\n",
       "    <tr>\n",
       "      <th>31132</th>\n",
       "      <td>2.000</td>\n",
       "      <td>nan</td>\n",
       "      <td>nan</td>\n",
       "      <td>nan</td>\n",
       "      <td>nan</td>\n",
       "      <td>2.000</td>\n",
       "      <td>2.000</td>\n",
       "      <td>2.000</td>\n",
       "      <td>nan</td>\n",
       "      <td>2.000</td>\n",
       "      <td>nan</td>\n",
       "      <td>nan</td>\n",
       "      <td>nan</td>\n",
       "      <td>2.000</td>\n",
       "      <td>2.000</td>\n",
       "      <td>2.000</td>\n",
       "      <td>2.000</td>\n",
       "      <td>2.000</td>\n",
       "      <td>2.000</td>\n",
       "      <td>2.000</td>\n",
       "      <td>2.000</td>\n",
       "      <td>2.000</td>\n",
       "      <td>1.000</td>\n",
       "      <td>nan</td>\n",
       "      <td>nan</td>\n",
       "      <td>1.000</td>\n",
       "      <td>nan</td>\n",
       "      <td>nan</td>\n",
       "      <td>nan</td>\n",
       "      <td>nan</td>\n",
       "      <td>nan</td>\n",
       "      <td>nan</td>\n",
       "      <td>nan</td>\n",
       "      <td>nan</td>\n",
       "      <td>nan</td>\n",
       "      <td>63.000</td>\n",
       "      <td>nan</td>\n",
       "      <td>2.000</td>\n",
       "      <td>nan</td>\n",
       "      <td>nan</td>\n",
       "      <td>...</td>\n",
       "      <td>nan</td>\n",
       "      <td>nan</td>\n",
       "      <td>nan</td>\n",
       "      <td>nan</td>\n",
       "      <td>nan</td>\n",
       "      <td>nan</td>\n",
       "      <td>nan</td>\n",
       "      <td>nan</td>\n",
       "      <td>nan</td>\n",
       "      <td>nan</td>\n",
       "      <td>nan</td>\n",
       "      <td>nan</td>\n",
       "      <td>nan</td>\n",
       "      <td>nan</td>\n",
       "      <td>nan</td>\n",
       "      <td>nan</td>\n",
       "      <td>nan</td>\n",
       "      <td>nan</td>\n",
       "      <td>nan</td>\n",
       "      <td>nan</td>\n",
       "      <td>nan</td>\n",
       "      <td>nan</td>\n",
       "      <td>nan</td>\n",
       "      <td>nan</td>\n",
       "      <td>nan</td>\n",
       "      <td>nan</td>\n",
       "      <td>nan</td>\n",
       "      <td>nan</td>\n",
       "      <td>nan</td>\n",
       "      <td>nan</td>\n",
       "      <td>nan</td>\n",
       "      <td>nan</td>\n",
       "      <td>nan</td>\n",
       "      <td>nan</td>\n",
       "      <td>nan</td>\n",
       "      <td>nan</td>\n",
       "      <td>nan</td>\n",
       "      <td>nan</td>\n",
       "      <td>nan</td>\n",
       "      <td>nan</td>\n",
       "    </tr>\n",
       "  </tbody>\n",
       "</table>\n",
       "<p>5 rows × 149 columns</p>\n",
       "</div>"
      ],
      "text/plain": [
       "       MCQ010  MCQ025  MCQ035  MCQ040  ...  MCQ371A  MCQ371B  MCQ371C  MCQ371D\n",
       "SEQN                                   ...                                    \n",
       "31128   2.000     nan     nan     nan  ...      nan      nan      nan      nan\n",
       "31129   2.000     nan     nan     nan  ...      nan      nan      nan      nan\n",
       "31130   2.000     nan     nan     nan  ...      nan      nan      nan      nan\n",
       "31131   2.000     nan     nan     nan  ...      nan      nan      nan      nan\n",
       "31132   2.000     nan     nan     nan  ...      nan      nan      nan      nan\n",
       "\n",
       "[5 rows x 149 columns]"
      ]
     },
     "execution_count": 533,
     "metadata": {},
     "output_type": "execute_result"
    }
   ],
   "source": [
    "df_medcond.head()"
   ]
  },
  {
   "cell_type": "code",
   "execution_count": 534,
   "metadata": {
    "ExecuteTime": {
     "end_time": "2021-01-05T23:47:00.114048Z",
     "start_time": "2021-01-05T23:47:00.105047Z"
    }
   },
   "outputs": [
    {
     "data": {
      "text/plain": [
       "['AGQ030',\n",
       " 'MCD093',\n",
       " 'MCD180A',\n",
       " 'MCD180B',\n",
       " 'MCD180C',\n",
       " 'MCD180D',\n",
       " 'MCD180E',\n",
       " 'MCD180F',\n",
       " 'MCD180G',\n",
       " 'MCD180K',\n",
       " 'MCD180L',\n",
       " 'MCD180M',\n",
       " 'MCD180N',\n",
       " 'MCD240A',\n",
       " 'MCD240B',\n",
       " 'MCD240C',\n",
       " 'MCD330',\n",
       " 'MCQ010',\n",
       " 'MCQ025',\n",
       " 'MCQ035',\n",
       " 'MCQ040',\n",
       " 'MCQ050',\n",
       " 'MCQ051',\n",
       " 'MCQ053',\n",
       " 'MCQ070',\n",
       " 'MCQ075',\n",
       " 'MCQ080',\n",
       " 'MCQ082',\n",
       " 'MCQ084',\n",
       " 'MCQ086',\n",
       " 'MCQ092',\n",
       " 'MCQ140',\n",
       " 'MCQ149',\n",
       " 'MCQ150G',\n",
       " 'MCQ150Q',\n",
       " 'MCQ151',\n",
       " 'MCQ160A',\n",
       " 'MCQ160B',\n",
       " 'MCQ160C',\n",
       " 'MCQ160D',\n",
       " 'MCQ160E',\n",
       " 'MCQ160F',\n",
       " 'MCQ160G',\n",
       " 'MCQ160K',\n",
       " 'MCQ160L',\n",
       " 'MCQ160M',\n",
       " 'MCQ160N',\n",
       " 'MCQ160O',\n",
       " 'MCQ170K',\n",
       " 'MCQ170L',\n",
       " 'MCQ170M',\n",
       " 'MCQ180A',\n",
       " 'MCQ180B',\n",
       " 'MCQ180C',\n",
       " 'MCQ180D',\n",
       " 'MCQ180E',\n",
       " 'MCQ180F',\n",
       " 'MCQ180G',\n",
       " 'MCQ180K',\n",
       " 'MCQ180L',\n",
       " 'MCQ180M',\n",
       " 'MCQ180N',\n",
       " 'MCQ190',\n",
       " 'MCQ191',\n",
       " 'MCQ195',\n",
       " 'MCQ203',\n",
       " 'MCQ206',\n",
       " 'MCQ220',\n",
       " 'MCQ230A',\n",
       " 'MCQ230B',\n",
       " 'MCQ230C',\n",
       " 'MCQ230D',\n",
       " 'MCQ240A',\n",
       " 'MCQ240AA',\n",
       " 'MCQ240B',\n",
       " 'MCQ240BB',\n",
       " 'MCQ240C',\n",
       " 'MCQ240CC',\n",
       " 'MCQ240D',\n",
       " 'MCQ240DD',\n",
       " 'MCQ240DK',\n",
       " 'MCQ240E',\n",
       " 'MCQ240F',\n",
       " 'MCQ240G',\n",
       " 'MCQ240H',\n",
       " 'MCQ240I',\n",
       " 'MCQ240J',\n",
       " 'MCQ240K',\n",
       " 'MCQ240L',\n",
       " 'MCQ240M',\n",
       " 'MCQ240N',\n",
       " 'MCQ240O',\n",
       " 'MCQ240P',\n",
       " 'MCQ240Q',\n",
       " 'MCQ240R',\n",
       " 'MCQ240S',\n",
       " 'MCQ240T',\n",
       " 'MCQ240U',\n",
       " 'MCQ240V',\n",
       " 'MCQ240W',\n",
       " 'MCQ240X',\n",
       " 'MCQ240Y',\n",
       " 'MCQ240Z',\n",
       " 'MCQ245A',\n",
       " 'MCQ245B',\n",
       " 'MCQ265',\n",
       " 'MCQ268A',\n",
       " 'MCQ268B',\n",
       " 'MCQ268C',\n",
       " 'MCQ268D',\n",
       " 'MCQ300A',\n",
       " 'MCQ300B',\n",
       " 'MCQ300C',\n",
       " 'MCQ310',\n",
       " 'MCQ320',\n",
       " 'MCQ340',\n",
       " 'MCQ350',\n",
       " 'MCQ365A',\n",
       " 'MCQ365B',\n",
       " 'MCQ365C',\n",
       " 'MCQ365D',\n",
       " 'MCQ366A',\n",
       " 'MCQ366B',\n",
       " 'MCQ366C',\n",
       " 'MCQ366D',\n",
       " 'MCQ370A',\n",
       " 'MCQ370B',\n",
       " 'MCQ370C',\n",
       " 'MCQ370D',\n",
       " 'MCQ371A',\n",
       " 'MCQ371B',\n",
       " 'MCQ371C',\n",
       " 'MCQ371D',\n",
       " 'MCQ380',\n",
       " 'MCQ500',\n",
       " 'MCQ510A',\n",
       " 'MCQ510B',\n",
       " 'MCQ510C',\n",
       " 'MCQ510D',\n",
       " 'MCQ510E',\n",
       " 'MCQ510F',\n",
       " 'MCQ520',\n",
       " 'MCQ530',\n",
       " 'MCQ540',\n",
       " 'MCQ550',\n",
       " 'MCQ560',\n",
       " 'MCQ570',\n",
       " 'OSQ230',\n",
       " 'RHD018']"
      ]
     },
     "execution_count": 534,
     "metadata": {},
     "output_type": "execute_result"
    }
   ],
   "source": [
    "list(df_medcond.columns.sort_values())"
   ]
  },
  {
   "cell_type": "code",
   "execution_count": 535,
   "metadata": {
    "ExecuteTime": {
     "end_time": "2021-01-05T23:47:00.124146Z",
     "start_time": "2021-01-05T23:47:00.116047Z"
    }
   },
   "outputs": [
    {
     "data": {
      "text/plain": [
       "54"
      ]
     },
     "execution_count": 535,
     "metadata": {},
     "output_type": "execute_result"
    }
   ],
   "source": [
    "medcond_tokeep = ['AGQ030', 'MCQ010', 'MCQ025', 'MCQ035', 'MCQ050', \n",
    "                  'MCQ053', 'MCQ080', 'MCQ092', 'MCQ160A', 'MCQ160B', \n",
    "                  'MCQ160C', 'MCQ160D', 'MCQ160E', 'MCQ160F', 'MCQ160G', \n",
    "                  'MCQ160K', 'MCQ160L', 'MCQ160M', 'MCQ170K', 'MCQ170L', \n",
    "                  'MCQ170M', 'MCQ180A', 'MCD180A', 'MCQ180B', 'MCD180B', \n",
    "                  'MCQ180C', 'MCD180C', 'MCQ180D', 'MCD180D', 'MCQ180E', \n",
    "                  'MCD180E', 'MCQ180F', 'MCD180F', 'MCQ180G', 'MCD180G', \n",
    "                  'MCQ180K', 'MCD180K', 'MCQ180L', 'MCD180L', 'MCQ180M', \n",
    "                  'MCD180M', 'MCQ190', 'MCQ191', 'MCQ195', 'MCQ220', 'MCQ230A', \n",
    "                  'MCQ230B', 'MCQ230C', 'MCQ230D', 'MCQ240DK', 'MCD240A', \n",
    "                  'MCQ300A', 'MCQ300B', 'MCQ300C']\n",
    "\n",
    "len(medcond_tokeep)"
   ]
  },
  {
   "cell_type": "code",
   "execution_count": 536,
   "metadata": {
    "ExecuteTime": {
     "end_time": "2021-01-05T23:47:02.700518Z",
     "start_time": "2021-01-05T23:47:00.127050Z"
    }
   },
   "outputs": [],
   "source": [
    "medcond_clean = cols_tokeep(df_medcond, medcond_tokeep)"
   ]
  },
  {
   "cell_type": "code",
   "execution_count": 537,
   "metadata": {
    "ExecuteTime": {
     "end_time": "2021-01-05T23:47:02.727411Z",
     "start_time": "2021-01-05T23:47:02.702415Z"
    }
   },
   "outputs": [
    {
     "name": "stdout",
     "output_type": "stream",
     "text": [
      "<class 'pandas.core.frame.DataFrame'>\n",
      "Int64Index: 67203 entries, 31128 to 102956\n",
      "Data columns (total 54 columns):\n",
      " #   Column    Non-Null Count  Dtype  \n",
      "---  ------    --------------  -----  \n",
      " 0   MCQ010    67201 non-null  float64\n",
      " 1   MCQ025    9977 non-null   float64\n",
      " 2   MCQ035    9979 non-null   float64\n",
      " 3   MCQ050    4874 non-null   float64\n",
      " 4   MCQ053    67201 non-null  float64\n",
      " 5   MCQ080    44700 non-null  float64\n",
      " 6   MCQ092    58636 non-null  float64\n",
      " 7   MCQ160A   39747 non-null  float64\n",
      " 8   MCQ160B   39748 non-null  float64\n",
      " 9   MCQ160C   39748 non-null  float64\n",
      " 10  MCQ160D   39748 non-null  float64\n",
      " 11  MCQ160E   39748 non-null  float64\n",
      " 12  MCQ160F   39748 non-null  float64\n",
      " 13  MCQ160G   39748 non-null  float64\n",
      " 14  MCQ160K   39748 non-null  float64\n",
      " 15  MCQ160L   39748 non-null  float64\n",
      " 16  MCQ160M   39748 non-null  float64\n",
      " 17  MCQ170K   2292 non-null   float64\n",
      " 18  MCQ170L   1584 non-null   float64\n",
      " 19  MCQ170M   4010 non-null   float64\n",
      " 20  MCQ180A   9019 non-null   float64\n",
      " 21  MCQ180B   1153 non-null   float64\n",
      " 22  MCQ180C   1375 non-null   float64\n",
      " 23  MCQ180D   872 non-null    float64\n",
      " 24  MCQ180E   1441 non-null   float64\n",
      " 25  MCQ180F   1318 non-null   float64\n",
      " 26  MCQ180G   718 non-null    float64\n",
      " 27  MCQ180K   1896 non-null   float64\n",
      " 28  MCQ180L   1288 non-null   float64\n",
      " 29  MCQ180M   3355 non-null   float64\n",
      " 30  MCQ190    3002 non-null   float64\n",
      " 31  MCQ220    39748 non-null  float64\n",
      " 32  MCQ230A   3780 non-null   float64\n",
      " 33  MCQ230B   401 non-null    float64\n",
      " 34  MCQ230C   46 non-null     float64\n",
      " 35  MCQ230D   6 non-null      float64\n",
      " 36  MCQ240DK  15 non-null     float64\n",
      " 37  MCQ300A   39748 non-null  float64\n",
      " 38  MCQ300B   55204 non-null  float64\n",
      " 39  MCQ300C   39748 non-null  float64\n",
      " 40  MCQ191    1674 non-null   float64\n",
      " 41  MCQ195    6038 non-null   float64\n",
      " 42  AGQ030    2641 non-null   float64\n",
      " 43  MCD180A   1695 non-null   float64\n",
      " 44  MCD180B   201 non-null    float64\n",
      " 45  MCD180C   265 non-null    float64\n",
      " 46  MCD180D   161 non-null    float64\n",
      " 47  MCD180E   270 non-null    float64\n",
      " 48  MCD180F   273 non-null    float64\n",
      " 49  MCD180M   655 non-null    float64\n",
      " 50  MCD180G   106 non-null    float64\n",
      " 51  MCD180K   395 non-null    float64\n",
      " 52  MCD180L   294 non-null    float64\n",
      " 53  MCD240A   587 non-null    float64\n",
      "dtypes: float64(54)\n",
      "memory usage: 28.2 MB\n"
     ]
    }
   ],
   "source": [
    "medcond_clean.info()"
   ]
  },
  {
   "cell_type": "markdown",
   "metadata": {},
   "source": [
    "## Onset Age Columns"
   ]
  },
  {
   "cell_type": "code",
   "execution_count": 538,
   "metadata": {
    "ExecuteTime": {
     "end_time": "2021-01-05T23:47:02.735415Z",
     "start_time": "2021-01-05T23:47:02.729411Z"
    }
   },
   "outputs": [],
   "source": [
    "col_pairs = [('MCD180A', 'MCQ180A'), \n",
    "             ('MCD180B', 'MCQ180B'), \n",
    "             ('MCD180C', 'MCQ180C'), \n",
    "             ('MCD180D', 'MCQ180D'), \n",
    "             ('MCD180E', 'MCQ180E'), \n",
    "             ('MCD180F', 'MCQ180F'), \n",
    "             ('MCD180G', 'MCQ180G'), \n",
    "             ('MCD180K', 'MCQ180K'), \n",
    "             ('MCD180L', 'MCQ180L'), \n",
    "             ('MCD180M', 'MCQ180M'), \n",
    "             ('MCD240A', 'MCQ240DK')]"
   ]
  },
  {
   "cell_type": "code",
   "execution_count": 539,
   "metadata": {
    "ExecuteTime": {
     "end_time": "2021-01-05T23:47:02.744416Z",
     "start_time": "2021-01-05T23:47:02.738410Z"
    }
   },
   "outputs": [],
   "source": [
    "col_disease = ['arthritis', 'heart_failure', 'heart_disease', 'angina', \n",
    "              'heart_attack', 'stroke', 'emphysema', 'bronchitis', \n",
    "              'liver_condition', 'thyroid_problem', 'cancer']"
   ]
  },
  {
   "cell_type": "code",
   "execution_count": 540,
   "metadata": {
    "ExecuteTime": {
     "end_time": "2021-01-05T23:47:02.753470Z",
     "start_time": "2021-01-05T23:47:02.746410Z"
    },
    "scrolled": true
   },
   "outputs": [
    {
     "data": {
      "text/plain": [
       "{'arthritis': ('MCD180A', 'MCQ180A'),\n",
       " 'heart_failure': ('MCD180B', 'MCQ180B'),\n",
       " 'heart_disease': ('MCD180C', 'MCQ180C'),\n",
       " 'angina': ('MCD180D', 'MCQ180D'),\n",
       " 'heart_attack': ('MCD180E', 'MCQ180E'),\n",
       " 'stroke': ('MCD180F', 'MCQ180F'),\n",
       " 'emphysema': ('MCD180G', 'MCQ180G'),\n",
       " 'bronchitis': ('MCD180K', 'MCQ180K'),\n",
       " 'liver_condition': ('MCD180L', 'MCQ180L'),\n",
       " 'thyroid_problem': ('MCD180M', 'MCQ180M'),\n",
       " 'cancer': ('MCD240A', 'MCQ240DK')}"
      ]
     },
     "execution_count": 540,
     "metadata": {},
     "output_type": "execute_result"
    }
   ],
   "source": [
    "disease_dict = dict(zip(col_disease, col_pairs))\n",
    "disease_dict"
   ]
  },
  {
   "cell_type": "code",
   "execution_count": 541,
   "metadata": {
    "ExecuteTime": {
     "end_time": "2021-01-05T23:47:03.010428Z",
     "start_time": "2021-01-05T23:47:02.755409Z"
    },
    "scrolled": false
   },
   "outputs": [],
   "source": [
    "for key in disease_dict:\n",
    "    for item in disease_dict[key]:\n",
    "        medcond_clean[item].fillna(0, inplace=True)\n",
    "        medcond_clean[item] = medcond_clean[item].replace(99999, 0)\n",
    "        medcond_clean[item] = medcond_clean[item].replace(77777, 0)\n",
    "    medcond_clean[f'{key}_onset'] = medcond_clean[disease_dict[key][0]] + medcond_clean[disease_dict[key][1]]\n",
    "    medcond_clean[f'{key}_onset'] = medcond_clean[f'{key}_onset'].astype('int64')\n",
    "    medcond_clean.drop(columns=[disease_dict[key][0], disease_dict[key][1]], inplace=True)   "
   ]
  },
  {
   "cell_type": "code",
   "execution_count": 542,
   "metadata": {
    "ExecuteTime": {
     "end_time": "2021-01-05T23:47:03.038410Z",
     "start_time": "2021-01-05T23:47:03.012413Z"
    }
   },
   "outputs": [
    {
     "name": "stdout",
     "output_type": "stream",
     "text": [
      "<class 'pandas.core.frame.DataFrame'>\n",
      "Int64Index: 67203 entries, 31128 to 102956\n",
      "Data columns (total 43 columns):\n",
      " #   Column                 Non-Null Count  Dtype  \n",
      "---  ------                 --------------  -----  \n",
      " 0   MCQ010                 67201 non-null  float64\n",
      " 1   MCQ025                 9977 non-null   float64\n",
      " 2   MCQ035                 9979 non-null   float64\n",
      " 3   MCQ050                 4874 non-null   float64\n",
      " 4   MCQ053                 67201 non-null  float64\n",
      " 5   MCQ080                 44700 non-null  float64\n",
      " 6   MCQ092                 58636 non-null  float64\n",
      " 7   MCQ160A                39747 non-null  float64\n",
      " 8   MCQ160B                39748 non-null  float64\n",
      " 9   MCQ160C                39748 non-null  float64\n",
      " 10  MCQ160D                39748 non-null  float64\n",
      " 11  MCQ160E                39748 non-null  float64\n",
      " 12  MCQ160F                39748 non-null  float64\n",
      " 13  MCQ160G                39748 non-null  float64\n",
      " 14  MCQ160K                39748 non-null  float64\n",
      " 15  MCQ160L                39748 non-null  float64\n",
      " 16  MCQ160M                39748 non-null  float64\n",
      " 17  MCQ170K                2292 non-null   float64\n",
      " 18  MCQ170L                1584 non-null   float64\n",
      " 19  MCQ170M                4010 non-null   float64\n",
      " 20  MCQ190                 3002 non-null   float64\n",
      " 21  MCQ220                 39748 non-null  float64\n",
      " 22  MCQ230A                3780 non-null   float64\n",
      " 23  MCQ230B                401 non-null    float64\n",
      " 24  MCQ230C                46 non-null     float64\n",
      " 25  MCQ230D                6 non-null      float64\n",
      " 26  MCQ300A                39748 non-null  float64\n",
      " 27  MCQ300B                55204 non-null  float64\n",
      " 28  MCQ300C                39748 non-null  float64\n",
      " 29  MCQ191                 1674 non-null   float64\n",
      " 30  MCQ195                 6038 non-null   float64\n",
      " 31  AGQ030                 2641 non-null   float64\n",
      " 32  arthritis_onset        67203 non-null  int64  \n",
      " 33  heart_failure_onset    67203 non-null  int64  \n",
      " 34  heart_disease_onset    67203 non-null  int64  \n",
      " 35  angina_onset           67203 non-null  int64  \n",
      " 36  heart_attack_onset     67203 non-null  int64  \n",
      " 37  stroke_onset           67203 non-null  int64  \n",
      " 38  emphysema_onset        67203 non-null  int64  \n",
      " 39  bronchitis_onset       67203 non-null  int64  \n",
      " 40  liver_condition_onset  67203 non-null  int64  \n",
      " 41  thyroid_problem_onset  67203 non-null  int64  \n",
      " 42  cancer_onset           67203 non-null  int64  \n",
      "dtypes: float64(32), int64(11)\n",
      "memory usage: 22.6 MB\n"
     ]
    }
   ],
   "source": [
    "medcond_clean.info()"
   ]
  },
  {
   "cell_type": "code",
   "execution_count": 543,
   "metadata": {
    "ExecuteTime": {
     "end_time": "2021-01-05T23:47:03.107412Z",
     "start_time": "2021-01-05T23:47:03.040409Z"
    }
   },
   "outputs": [
    {
     "data": {
      "text/html": [
       "<div>\n",
       "<style scoped>\n",
       "    .dataframe tbody tr th:only-of-type {\n",
       "        vertical-align: middle;\n",
       "    }\n",
       "\n",
       "    .dataframe tbody tr th {\n",
       "        vertical-align: top;\n",
       "    }\n",
       "\n",
       "    .dataframe thead th {\n",
       "        text-align: right;\n",
       "    }\n",
       "</style>\n",
       "<table border=\"1\" class=\"dataframe\">\n",
       "  <thead>\n",
       "    <tr style=\"text-align: right;\">\n",
       "      <th></th>\n",
       "      <th>MCQ010</th>\n",
       "      <th>MCQ025</th>\n",
       "      <th>MCQ035</th>\n",
       "      <th>MCQ050</th>\n",
       "      <th>MCQ053</th>\n",
       "      <th>MCQ080</th>\n",
       "      <th>MCQ092</th>\n",
       "      <th>MCQ160A</th>\n",
       "      <th>MCQ160B</th>\n",
       "      <th>MCQ160C</th>\n",
       "      <th>MCQ160D</th>\n",
       "      <th>MCQ160E</th>\n",
       "      <th>MCQ160F</th>\n",
       "      <th>MCQ160G</th>\n",
       "      <th>MCQ160K</th>\n",
       "      <th>MCQ160L</th>\n",
       "      <th>MCQ160M</th>\n",
       "      <th>MCQ170K</th>\n",
       "      <th>MCQ170L</th>\n",
       "      <th>MCQ170M</th>\n",
       "      <th>MCQ190</th>\n",
       "      <th>MCQ220</th>\n",
       "      <th>MCQ230A</th>\n",
       "      <th>MCQ230B</th>\n",
       "      <th>MCQ230C</th>\n",
       "      <th>MCQ230D</th>\n",
       "      <th>MCQ300A</th>\n",
       "      <th>MCQ300B</th>\n",
       "      <th>MCQ300C</th>\n",
       "      <th>MCQ191</th>\n",
       "      <th>MCQ195</th>\n",
       "      <th>AGQ030</th>\n",
       "      <th>arthritis_onset</th>\n",
       "      <th>heart_failure_onset</th>\n",
       "      <th>heart_disease_onset</th>\n",
       "      <th>angina_onset</th>\n",
       "      <th>heart_attack_onset</th>\n",
       "      <th>stroke_onset</th>\n",
       "      <th>emphysema_onset</th>\n",
       "      <th>bronchitis_onset</th>\n",
       "      <th>liver_condition_onset</th>\n",
       "      <th>thyroid_problem_onset</th>\n",
       "      <th>cancer_onset</th>\n",
       "    </tr>\n",
       "    <tr>\n",
       "      <th>SEQN</th>\n",
       "      <th></th>\n",
       "      <th></th>\n",
       "      <th></th>\n",
       "      <th></th>\n",
       "      <th></th>\n",
       "      <th></th>\n",
       "      <th></th>\n",
       "      <th></th>\n",
       "      <th></th>\n",
       "      <th></th>\n",
       "      <th></th>\n",
       "      <th></th>\n",
       "      <th></th>\n",
       "      <th></th>\n",
       "      <th></th>\n",
       "      <th></th>\n",
       "      <th></th>\n",
       "      <th></th>\n",
       "      <th></th>\n",
       "      <th></th>\n",
       "      <th></th>\n",
       "      <th></th>\n",
       "      <th></th>\n",
       "      <th></th>\n",
       "      <th></th>\n",
       "      <th></th>\n",
       "      <th></th>\n",
       "      <th></th>\n",
       "      <th></th>\n",
       "      <th></th>\n",
       "      <th></th>\n",
       "      <th></th>\n",
       "      <th></th>\n",
       "      <th></th>\n",
       "      <th></th>\n",
       "      <th></th>\n",
       "      <th></th>\n",
       "      <th></th>\n",
       "      <th></th>\n",
       "      <th></th>\n",
       "      <th></th>\n",
       "      <th></th>\n",
       "      <th></th>\n",
       "    </tr>\n",
       "  </thead>\n",
       "  <tbody>\n",
       "    <tr>\n",
       "      <th>31128</th>\n",
       "      <td>2.000</td>\n",
       "      <td>nan</td>\n",
       "      <td>nan</td>\n",
       "      <td>nan</td>\n",
       "      <td>2.000</td>\n",
       "      <td>nan</td>\n",
       "      <td>2.000</td>\n",
       "      <td>nan</td>\n",
       "      <td>nan</td>\n",
       "      <td>nan</td>\n",
       "      <td>nan</td>\n",
       "      <td>nan</td>\n",
       "      <td>nan</td>\n",
       "      <td>nan</td>\n",
       "      <td>nan</td>\n",
       "      <td>nan</td>\n",
       "      <td>nan</td>\n",
       "      <td>nan</td>\n",
       "      <td>nan</td>\n",
       "      <td>nan</td>\n",
       "      <td>nan</td>\n",
       "      <td>nan</td>\n",
       "      <td>nan</td>\n",
       "      <td>nan</td>\n",
       "      <td>nan</td>\n",
       "      <td>nan</td>\n",
       "      <td>nan</td>\n",
       "      <td>nan</td>\n",
       "      <td>nan</td>\n",
       "      <td>nan</td>\n",
       "      <td>nan</td>\n",
       "      <td>nan</td>\n",
       "      <td>0</td>\n",
       "      <td>0</td>\n",
       "      <td>0</td>\n",
       "      <td>0</td>\n",
       "      <td>0</td>\n",
       "      <td>0</td>\n",
       "      <td>0</td>\n",
       "      <td>0</td>\n",
       "      <td>0</td>\n",
       "      <td>0</td>\n",
       "      <td>0</td>\n",
       "    </tr>\n",
       "    <tr>\n",
       "      <th>31129</th>\n",
       "      <td>2.000</td>\n",
       "      <td>nan</td>\n",
       "      <td>nan</td>\n",
       "      <td>nan</td>\n",
       "      <td>2.000</td>\n",
       "      <td>nan</td>\n",
       "      <td>2.000</td>\n",
       "      <td>nan</td>\n",
       "      <td>nan</td>\n",
       "      <td>nan</td>\n",
       "      <td>nan</td>\n",
       "      <td>nan</td>\n",
       "      <td>nan</td>\n",
       "      <td>nan</td>\n",
       "      <td>nan</td>\n",
       "      <td>nan</td>\n",
       "      <td>nan</td>\n",
       "      <td>nan</td>\n",
       "      <td>nan</td>\n",
       "      <td>nan</td>\n",
       "      <td>nan</td>\n",
       "      <td>nan</td>\n",
       "      <td>nan</td>\n",
       "      <td>nan</td>\n",
       "      <td>nan</td>\n",
       "      <td>nan</td>\n",
       "      <td>nan</td>\n",
       "      <td>nan</td>\n",
       "      <td>nan</td>\n",
       "      <td>nan</td>\n",
       "      <td>nan</td>\n",
       "      <td>nan</td>\n",
       "      <td>0</td>\n",
       "      <td>0</td>\n",
       "      <td>0</td>\n",
       "      <td>0</td>\n",
       "      <td>0</td>\n",
       "      <td>0</td>\n",
       "      <td>0</td>\n",
       "      <td>0</td>\n",
       "      <td>0</td>\n",
       "      <td>0</td>\n",
       "      <td>0</td>\n",
       "    </tr>\n",
       "    <tr>\n",
       "      <th>31130</th>\n",
       "      <td>2.000</td>\n",
       "      <td>nan</td>\n",
       "      <td>nan</td>\n",
       "      <td>nan</td>\n",
       "      <td>2.000</td>\n",
       "      <td>2.000</td>\n",
       "      <td>9.000</td>\n",
       "      <td>2.000</td>\n",
       "      <td>2.000</td>\n",
       "      <td>2.000</td>\n",
       "      <td>2.000</td>\n",
       "      <td>2.000</td>\n",
       "      <td>2.000</td>\n",
       "      <td>2.000</td>\n",
       "      <td>2.000</td>\n",
       "      <td>2.000</td>\n",
       "      <td>2.000</td>\n",
       "      <td>nan</td>\n",
       "      <td>nan</td>\n",
       "      <td>nan</td>\n",
       "      <td>nan</td>\n",
       "      <td>2.000</td>\n",
       "      <td>nan</td>\n",
       "      <td>nan</td>\n",
       "      <td>nan</td>\n",
       "      <td>nan</td>\n",
       "      <td>2.000</td>\n",
       "      <td>1.000</td>\n",
       "      <td>2.000</td>\n",
       "      <td>nan</td>\n",
       "      <td>nan</td>\n",
       "      <td>nan</td>\n",
       "      <td>0</td>\n",
       "      <td>0</td>\n",
       "      <td>0</td>\n",
       "      <td>0</td>\n",
       "      <td>0</td>\n",
       "      <td>0</td>\n",
       "      <td>0</td>\n",
       "      <td>0</td>\n",
       "      <td>0</td>\n",
       "      <td>0</td>\n",
       "      <td>0</td>\n",
       "    </tr>\n",
       "    <tr>\n",
       "      <th>31131</th>\n",
       "      <td>2.000</td>\n",
       "      <td>nan</td>\n",
       "      <td>nan</td>\n",
       "      <td>nan</td>\n",
       "      <td>2.000</td>\n",
       "      <td>2.000</td>\n",
       "      <td>1.000</td>\n",
       "      <td>2.000</td>\n",
       "      <td>1.000</td>\n",
       "      <td>2.000</td>\n",
       "      <td>2.000</td>\n",
       "      <td>2.000</td>\n",
       "      <td>2.000</td>\n",
       "      <td>2.000</td>\n",
       "      <td>2.000</td>\n",
       "      <td>2.000</td>\n",
       "      <td>2.000</td>\n",
       "      <td>nan</td>\n",
       "      <td>nan</td>\n",
       "      <td>nan</td>\n",
       "      <td>nan</td>\n",
       "      <td>2.000</td>\n",
       "      <td>nan</td>\n",
       "      <td>nan</td>\n",
       "      <td>nan</td>\n",
       "      <td>nan</td>\n",
       "      <td>1.000</td>\n",
       "      <td>2.000</td>\n",
       "      <td>1.000</td>\n",
       "      <td>nan</td>\n",
       "      <td>nan</td>\n",
       "      <td>nan</td>\n",
       "      <td>0</td>\n",
       "      <td>42</td>\n",
       "      <td>0</td>\n",
       "      <td>0</td>\n",
       "      <td>0</td>\n",
       "      <td>0</td>\n",
       "      <td>0</td>\n",
       "      <td>0</td>\n",
       "      <td>0</td>\n",
       "      <td>0</td>\n",
       "      <td>0</td>\n",
       "    </tr>\n",
       "    <tr>\n",
       "      <th>31132</th>\n",
       "      <td>2.000</td>\n",
       "      <td>nan</td>\n",
       "      <td>nan</td>\n",
       "      <td>nan</td>\n",
       "      <td>2.000</td>\n",
       "      <td>2.000</td>\n",
       "      <td>2.000</td>\n",
       "      <td>2.000</td>\n",
       "      <td>2.000</td>\n",
       "      <td>2.000</td>\n",
       "      <td>2.000</td>\n",
       "      <td>2.000</td>\n",
       "      <td>2.000</td>\n",
       "      <td>2.000</td>\n",
       "      <td>2.000</td>\n",
       "      <td>2.000</td>\n",
       "      <td>1.000</td>\n",
       "      <td>nan</td>\n",
       "      <td>nan</td>\n",
       "      <td>1.000</td>\n",
       "      <td>nan</td>\n",
       "      <td>2.000</td>\n",
       "      <td>nan</td>\n",
       "      <td>nan</td>\n",
       "      <td>nan</td>\n",
       "      <td>nan</td>\n",
       "      <td>2.000</td>\n",
       "      <td>2.000</td>\n",
       "      <td>2.000</td>\n",
       "      <td>nan</td>\n",
       "      <td>nan</td>\n",
       "      <td>nan</td>\n",
       "      <td>0</td>\n",
       "      <td>0</td>\n",
       "      <td>0</td>\n",
       "      <td>0</td>\n",
       "      <td>0</td>\n",
       "      <td>0</td>\n",
       "      <td>0</td>\n",
       "      <td>0</td>\n",
       "      <td>0</td>\n",
       "      <td>63</td>\n",
       "      <td>0</td>\n",
       "    </tr>\n",
       "  </tbody>\n",
       "</table>\n",
       "</div>"
      ],
      "text/plain": [
       "       MCQ010  MCQ025  ...  thyroid_problem_onset  cancer_onset\n",
       "SEQN                   ...                                     \n",
       "31128   2.000     nan  ...                      0             0\n",
       "31129   2.000     nan  ...                      0             0\n",
       "31130   2.000     nan  ...                      0             0\n",
       "31131   2.000     nan  ...                      0             0\n",
       "31132   2.000     nan  ...                     63             0\n",
       "\n",
       "[5 rows x 43 columns]"
      ]
     },
     "execution_count": 543,
     "metadata": {},
     "output_type": "execute_result"
    }
   ],
   "source": [
    "medcond_clean.head()"
   ]
  },
  {
   "cell_type": "markdown",
   "metadata": {},
   "source": [
    "## Arthritis Type Columns"
   ]
  },
  {
   "cell_type": "code",
   "execution_count": 544,
   "metadata": {
    "ExecuteTime": {
     "end_time": "2021-01-05T23:47:03.118415Z",
     "start_time": "2021-01-05T23:47:03.109409Z"
    }
   },
   "outputs": [
    {
     "data": {
      "text/plain": [
       "nan      64201\n",
       "9.000     1121\n",
       "2.000      910\n",
       "1.000      584\n",
       "3.000      386\n",
       "7.000        1\n",
       "Name: MCQ190, dtype: int64"
      ]
     },
     "execution_count": 544,
     "metadata": {},
     "output_type": "execute_result"
    }
   ],
   "source": [
    "medcond_clean['MCQ190'].value_counts(dropna=False)"
   ]
  },
  {
   "cell_type": "code",
   "execution_count": 545,
   "metadata": {
    "ExecuteTime": {
     "end_time": "2021-01-05T23:47:03.137507Z",
     "start_time": "2021-01-05T23:47:03.120410Z"
    }
   },
   "outputs": [],
   "source": [
    "medcond_clean['MCQ190'].replace({1.000:'Rheumatoid', \n",
    "                                2.000:'Osteoarthritis', \n",
    "                                3.000:'Other', \n",
    "                                7.000:'Missing', \n",
    "                                9.000:'Missing'}, \n",
    "                               inplace=True)"
   ]
  },
  {
   "cell_type": "code",
   "execution_count": 546,
   "metadata": {
    "ExecuteTime": {
     "end_time": "2021-01-05T23:47:03.147412Z",
     "start_time": "2021-01-05T23:47:03.139413Z"
    }
   },
   "outputs": [],
   "source": [
    "medcond_clean['MCQ190'].fillna('', inplace=True)"
   ]
  },
  {
   "cell_type": "code",
   "execution_count": 547,
   "metadata": {
    "ExecuteTime": {
     "end_time": "2021-01-05T23:47:03.169413Z",
     "start_time": "2021-01-05T23:47:03.153412Z"
    }
   },
   "outputs": [
    {
     "data": {
      "text/plain": [
       "                  64201\n",
       "Missing            1122\n",
       "Osteoarthritis      910\n",
       "Rheumatoid          584\n",
       "Other               386\n",
       "Name: MCQ190, dtype: int64"
      ]
     },
     "execution_count": 547,
     "metadata": {},
     "output_type": "execute_result"
    }
   ],
   "source": [
    "medcond_clean['MCQ190'].value_counts(dropna=False)"
   ]
  },
  {
   "cell_type": "code",
   "execution_count": 548,
   "metadata": {
    "ExecuteTime": {
     "end_time": "2021-01-05T23:47:03.180413Z",
     "start_time": "2021-01-05T23:47:03.171413Z"
    }
   },
   "outputs": [
    {
     "data": {
      "text/plain": [
       "nan      65529\n",
       "9.000      605\n",
       "2.000      514\n",
       "1.000      316\n",
       "4.000      226\n",
       "3.000        8\n",
       "7.000        5\n",
       "Name: MCQ191, dtype: int64"
      ]
     },
     "execution_count": 548,
     "metadata": {},
     "output_type": "execute_result"
    }
   ],
   "source": [
    "medcond_clean['MCQ191'].value_counts(dropna=False)"
   ]
  },
  {
   "cell_type": "code",
   "execution_count": 549,
   "metadata": {
    "ExecuteTime": {
     "end_time": "2021-01-05T23:47:03.202410Z",
     "start_time": "2021-01-05T23:47:03.182409Z"
    }
   },
   "outputs": [],
   "source": [
    "medcond_clean['MCQ191'].replace({1.000:'Rheumatoid', \n",
    "                                2.000:'Osteoarthritis', \n",
    "                                3.000:'Psoriatic',\n",
    "                                4.000:'Other',\n",
    "                                7.000:'Missing', \n",
    "                                9.000:'Missing'}, \n",
    "                               inplace=True)"
   ]
  },
  {
   "cell_type": "code",
   "execution_count": 550,
   "metadata": {
    "ExecuteTime": {
     "end_time": "2021-01-05T23:47:03.211409Z",
     "start_time": "2021-01-05T23:47:03.203410Z"
    }
   },
   "outputs": [],
   "source": [
    "medcond_clean['MCQ191'].fillna('', inplace=True)"
   ]
  },
  {
   "cell_type": "code",
   "execution_count": 551,
   "metadata": {
    "ExecuteTime": {
     "end_time": "2021-01-05T23:47:03.228412Z",
     "start_time": "2021-01-05T23:47:03.213410Z"
    }
   },
   "outputs": [
    {
     "data": {
      "text/plain": [
       "                  65529\n",
       "Missing             610\n",
       "Osteoarthritis      514\n",
       "Rheumatoid          316\n",
       "Other               226\n",
       "Psoriatic             8\n",
       "Name: MCQ191, dtype: int64"
      ]
     },
     "execution_count": 551,
     "metadata": {},
     "output_type": "execute_result"
    }
   ],
   "source": [
    "medcond_clean['MCQ191'].value_counts(dropna=False)"
   ]
  },
  {
   "cell_type": "code",
   "execution_count": 552,
   "metadata": {
    "ExecuteTime": {
     "end_time": "2021-01-05T23:47:03.242410Z",
     "start_time": "2021-01-05T23:47:03.230411Z"
    }
   },
   "outputs": [
    {
     "data": {
      "text/plain": [
       "nan      61165\n",
       "1.000     2597\n",
       "9.000     1664\n",
       "2.000     1132\n",
       "4.000      559\n",
       "3.000       82\n",
       "7.000        4\n",
       "Name: MCQ195, dtype: int64"
      ]
     },
     "execution_count": 552,
     "metadata": {},
     "output_type": "execute_result"
    }
   ],
   "source": [
    "medcond_clean['MCQ195'].value_counts(dropna=False)"
   ]
  },
  {
   "cell_type": "code",
   "execution_count": 553,
   "metadata": {
    "ExecuteTime": {
     "end_time": "2021-01-05T23:47:03.266431Z",
     "start_time": "2021-01-05T23:47:03.244410Z"
    }
   },
   "outputs": [],
   "source": [
    "medcond_clean['MCQ195'].replace({1.000:'Osteoarthritis', \n",
    "                                2.000:'Rheumatoid', \n",
    "                                3.000:'Psoriatic',\n",
    "                                4.000:'Other',\n",
    "                                7.000:'Missing', \n",
    "                                9.000:'Missing'}, \n",
    "                               inplace=True)"
   ]
  },
  {
   "cell_type": "code",
   "execution_count": 554,
   "metadata": {
    "ExecuteTime": {
     "end_time": "2021-01-05T23:47:03.276409Z",
     "start_time": "2021-01-05T23:47:03.267411Z"
    }
   },
   "outputs": [],
   "source": [
    "medcond_clean['MCQ195'].fillna('', inplace=True)"
   ]
  },
  {
   "cell_type": "code",
   "execution_count": 555,
   "metadata": {
    "ExecuteTime": {
     "end_time": "2021-01-05T23:47:03.292415Z",
     "start_time": "2021-01-05T23:47:03.278411Z"
    }
   },
   "outputs": [
    {
     "data": {
      "text/plain": [
       "                  61165\n",
       "Osteoarthritis     2597\n",
       "Missing            1668\n",
       "Rheumatoid         1132\n",
       "Other               559\n",
       "Psoriatic            82\n",
       "Name: MCQ195, dtype: int64"
      ]
     },
     "execution_count": 555,
     "metadata": {},
     "output_type": "execute_result"
    }
   ],
   "source": [
    "medcond_clean['MCQ195'].value_counts(dropna=False)"
   ]
  },
  {
   "cell_type": "code",
   "execution_count": 556,
   "metadata": {
    "ExecuteTime": {
     "end_time": "2021-01-05T23:47:03.304434Z",
     "start_time": "2021-01-05T23:47:03.294415Z"
    }
   },
   "outputs": [],
   "source": [
    "medcond_clean['arthritis_type'] = medcond_clean['MCQ190'] + medcond_clean['MCQ191'] + medcond_clean['MCQ195']"
   ]
  },
  {
   "cell_type": "code",
   "execution_count": 557,
   "metadata": {
    "ExecuteTime": {
     "end_time": "2021-01-05T23:47:03.320409Z",
     "start_time": "2021-01-05T23:47:03.306413Z"
    }
   },
   "outputs": [
    {
     "data": {
      "text/plain": [
       "                  56489\n",
       "Osteoarthritis     4021\n",
       "Missing            3400\n",
       "Rheumatoid         2032\n",
       "Other              1171\n",
       "Psoriatic            90\n",
       "Name: arthritis_type, dtype: int64"
      ]
     },
     "execution_count": 557,
     "metadata": {},
     "output_type": "execute_result"
    }
   ],
   "source": [
    "medcond_clean['arthritis_type'].value_counts(dropna=False)"
   ]
  },
  {
   "cell_type": "code",
   "execution_count": 558,
   "metadata": {
    "ExecuteTime": {
     "end_time": "2021-01-05T23:47:03.344412Z",
     "start_time": "2021-01-05T23:47:03.322415Z"
    }
   },
   "outputs": [],
   "source": [
    "medcond_clean.drop(columns=['MCQ190', 'MCQ191', 'MCQ195'], inplace=True)  "
   ]
  },
  {
   "cell_type": "code",
   "execution_count": 559,
   "metadata": {
    "ExecuteTime": {
     "end_time": "2021-01-05T23:47:03.362414Z",
     "start_time": "2021-01-05T23:47:03.346414Z"
    }
   },
   "outputs": [
    {
     "data": {
      "text/plain": [
       "                  56489\n",
       "Osteoarthritis     4021\n",
       "Missing            3400\n",
       "Rheumatoid         2032\n",
       "Other              1171\n",
       "Psoriatic            90\n",
       "Name: arthritis_type, dtype: int64"
      ]
     },
     "execution_count": 559,
     "metadata": {},
     "output_type": "execute_result"
    }
   ],
   "source": [
    "medcond_clean['arthritis_type'].value_counts(dropna=False)"
   ]
  },
  {
   "cell_type": "code",
   "execution_count": 560,
   "metadata": {
    "ExecuteTime": {
     "end_time": "2021-01-05T23:47:03.375435Z",
     "start_time": "2021-01-05T23:47:03.365413Z"
    }
   },
   "outputs": [],
   "source": [
    "medcond_clean['arthritis_type'] = medcond_clean['arthritis_type'].replace('', 'Missing')"
   ]
  },
  {
   "cell_type": "code",
   "execution_count": 561,
   "metadata": {
    "ExecuteTime": {
     "end_time": "2021-01-05T23:47:03.393410Z",
     "start_time": "2021-01-05T23:47:03.377414Z"
    }
   },
   "outputs": [
    {
     "data": {
      "text/plain": [
       "Missing           59889\n",
       "Osteoarthritis     4021\n",
       "Rheumatoid         2032\n",
       "Other              1171\n",
       "Psoriatic            90\n",
       "Name: arthritis_type, dtype: int64"
      ]
     },
     "execution_count": 561,
     "metadata": {},
     "output_type": "execute_result"
    }
   ],
   "source": [
    "medcond_clean['arthritis_type'].value_counts(dropna=False)"
   ]
  },
  {
   "cell_type": "markdown",
   "metadata": {},
   "source": [
    "## Renaming Columns"
   ]
  },
  {
   "cell_type": "code",
   "execution_count": 562,
   "metadata": {
    "ExecuteTime": {
     "end_time": "2021-01-05T23:47:03.401432Z",
     "start_time": "2021-01-05T23:47:03.395410Z"
    },
    "scrolled": true
   },
   "outputs": [
    {
     "data": {
      "text/plain": [
       "Index(['MCQ010', 'MCQ025', 'MCQ035', 'MCQ050', 'MCQ053', 'MCQ080', 'MCQ092',\n",
       "       'MCQ160A', 'MCQ160B', 'MCQ160C', 'MCQ160D', 'MCQ160E', 'MCQ160F',\n",
       "       'MCQ160G', 'MCQ160K', 'MCQ160L', 'MCQ160M', 'MCQ170K', 'MCQ170L',\n",
       "       'MCQ170M', 'MCQ220', 'MCQ230A', 'MCQ230B', 'MCQ230C', 'MCQ230D',\n",
       "       'MCQ300A', 'MCQ300B', 'MCQ300C', 'AGQ030', 'arthritis_onset',\n",
       "       'heart_failure_onset', 'heart_disease_onset', 'angina_onset',\n",
       "       'heart_attack_onset', 'stroke_onset', 'emphysema_onset',\n",
       "       'bronchitis_onset', 'liver_condition_onset', 'thyroid_problem_onset',\n",
       "       'cancer_onset', 'arthritis_type'],\n",
       "      dtype='object')"
      ]
     },
     "execution_count": 562,
     "metadata": {},
     "output_type": "execute_result"
    }
   ],
   "source": [
    "medcond_clean.columns"
   ]
  },
  {
   "cell_type": "code",
   "execution_count": 563,
   "metadata": {
    "ExecuteTime": {
     "end_time": "2021-01-05T23:47:03.411409Z",
     "start_time": "2021-01-05T23:47:03.403410Z"
    }
   },
   "outputs": [],
   "source": [
    "medcond_clean.rename(columns={'MCQ010': 'asthma', \n",
    "                              'MCQ025': 'asthma_onset', \n",
    "                              'MCQ035': 'asthma_currently', \n",
    "                              'MCQ050': 'asthma_emergency', \n",
    "                              'MCQ053': 'anemia', \n",
    "                              'MCQ080': 'ever_overweight', \n",
    "                              'MCQ092': 'blood_transfusion',\n",
    "                              'MCQ160A': 'arthritis', \n",
    "                              'MCQ160B': 'heart_failure', \n",
    "                              'MCQ160C': 'heart_disease', \n",
    "                              'MCQ160D': 'angina', \n",
    "                              'MCQ160E': 'heart_attack', \n",
    "                              'MCQ160F': 'stroke', \n",
    "                              'MCQ160G': 'emphysema', \n",
    "                              'MCQ160K': 'bronchitis', \n",
    "                              'MCQ160L': 'liver_condition', \n",
    "                              'MCQ160M': 'thyroid_problem', \n",
    "                              'MCQ170K': 'brochitis_currently', \n",
    "                              'MCQ170L': 'liver_condition_currently',\n",
    "                              'MCQ170M': 'thyroid_problem_currently',  \n",
    "                              'MCQ220': 'cancer', \n",
    "                              'MCQ230A': 'first_cancer', \n",
    "                              'MCQ230B': 'second_cancer', \n",
    "                              'MCQ230C': 'third_cancer',\n",
    "                              'MCQ230D': 'fourth_cancer', \n",
    "                              'MCQ300A': 'heart_attack_relative', \n",
    "                              'MCQ300B': 'asthma_relative', \n",
    "                              'MCQ300C': 'diabetes_relative', \n",
    "                              'AGQ030': 'hay_fever'\n",
    "                              }, inplace=True)"
   ]
  },
  {
   "cell_type": "code",
   "execution_count": 564,
   "metadata": {
    "ExecuteTime": {
     "end_time": "2021-01-05T23:47:03.441408Z",
     "start_time": "2021-01-05T23:47:03.414412Z"
    }
   },
   "outputs": [
    {
     "name": "stdout",
     "output_type": "stream",
     "text": [
      "<class 'pandas.core.frame.DataFrame'>\n",
      "Int64Index: 67203 entries, 31128 to 102956\n",
      "Data columns (total 41 columns):\n",
      " #   Column                     Non-Null Count  Dtype  \n",
      "---  ------                     --------------  -----  \n",
      " 0   asthma                     67201 non-null  float64\n",
      " 1   asthma_onset               9977 non-null   float64\n",
      " 2   asthma_currently           9979 non-null   float64\n",
      " 3   asthma_emergency           4874 non-null   float64\n",
      " 4   anemia                     67201 non-null  float64\n",
      " 5   ever_overweight            44700 non-null  float64\n",
      " 6   blood_transfusion          58636 non-null  float64\n",
      " 7   arthritis                  39747 non-null  float64\n",
      " 8   heart_failure              39748 non-null  float64\n",
      " 9   heart_disease              39748 non-null  float64\n",
      " 10  angina                     39748 non-null  float64\n",
      " 11  heart_attack               39748 non-null  float64\n",
      " 12  stroke                     39748 non-null  float64\n",
      " 13  emphysema                  39748 non-null  float64\n",
      " 14  bronchitis                 39748 non-null  float64\n",
      " 15  liver_condition            39748 non-null  float64\n",
      " 16  thyroid_problem            39748 non-null  float64\n",
      " 17  brochitis_currently        2292 non-null   float64\n",
      " 18  liver_condition_currently  1584 non-null   float64\n",
      " 19  thyroid_problem_currently  4010 non-null   float64\n",
      " 20  cancer                     39748 non-null  float64\n",
      " 21  first_cancer               3780 non-null   float64\n",
      " 22  second_cancer              401 non-null    float64\n",
      " 23  third_cancer               46 non-null     float64\n",
      " 24  fourth_cancer              6 non-null      float64\n",
      " 25  heart_attack_relative      39748 non-null  float64\n",
      " 26  asthma_relative            55204 non-null  float64\n",
      " 27  diabetes_relative          39748 non-null  float64\n",
      " 28  hay_fever                  2641 non-null   float64\n",
      " 29  arthritis_onset            67203 non-null  int64  \n",
      " 30  heart_failure_onset        67203 non-null  int64  \n",
      " 31  heart_disease_onset        67203 non-null  int64  \n",
      " 32  angina_onset               67203 non-null  int64  \n",
      " 33  heart_attack_onset         67203 non-null  int64  \n",
      " 34  stroke_onset               67203 non-null  int64  \n",
      " 35  emphysema_onset            67203 non-null  int64  \n",
      " 36  bronchitis_onset           67203 non-null  int64  \n",
      " 37  liver_condition_onset      67203 non-null  int64  \n",
      " 38  thyroid_problem_onset      67203 non-null  int64  \n",
      " 39  cancer_onset               67203 non-null  int64  \n",
      " 40  arthritis_type             67203 non-null  object \n",
      "dtypes: float64(29), int64(11), object(1)\n",
      "memory usage: 21.5+ MB\n"
     ]
    }
   ],
   "source": [
    "medcond_clean.info()"
   ]
  },
  {
   "cell_type": "markdown",
   "metadata": {},
   "source": [
    "## Clean Column Values"
   ]
  },
  {
   "cell_type": "code",
   "execution_count": 565,
   "metadata": {
    "ExecuteTime": {
     "end_time": "2021-01-05T23:47:03.657410Z",
     "start_time": "2021-01-05T23:47:03.442412Z"
    },
    "scrolled": true
   },
   "outputs": [
    {
     "name": "stdout",
     "output_type": "stream",
     "text": [
      "asthma value counts \n",
      "\n"
     ]
    },
    {
     "data": {
      "text/plain": [
       "2.000    57147\n",
       "1.000     9979\n",
       "9.000       70\n",
       "7.000        5\n",
       "nan          2\n",
       "Name: asthma, dtype: int64"
      ]
     },
     "metadata": {},
     "output_type": "display_data"
    },
    {
     "name": "stdout",
     "output_type": "stream",
     "text": [
      "--------------------------------------\n",
      "asthma_onset value counts \n",
      "\n"
     ]
    },
    {
     "data": {
      "text/plain": [
       "nan          57226\n",
       "1.000         2085\n",
       "2.000          682\n",
       "5.000          601\n",
       "3.000          529\n",
       "6.000          450\n",
       "4.000          440\n",
       "10.000         412\n",
       "7.000          380\n",
       "8.000          368\n",
       "12.000         285\n",
       "9.000          241\n",
       "13.000         178\n",
       "40.000         159\n",
       "11.000         158\n",
       "30.000         154\n",
       "15.000         148\n",
       "99999.000      141\n",
       "50.000         140\n",
       "14.000         136\n",
       "16.000         127\n",
       "35.000         104\n",
       "25.000         103\n",
       "18.000         102\n",
       "20.000          89\n",
       "45.000          85\n",
       "60.000          78\n",
       "55.000          68\n",
       "22.000          65\n",
       "17.000          64\n",
       "28.000          59\n",
       "21.000          53\n",
       "65.000          50\n",
       "42.000          48\n",
       "38.000          48\n",
       "19.000          47\n",
       "23.000          43\n",
       "52.000          39\n",
       "70.000          38\n",
       "27.000          38\n",
       "37.000          37\n",
       "32.000          37\n",
       "44.000          36\n",
       "58.000          35\n",
       "53.000          35\n",
       "48.000          35\n",
       "24.000          34\n",
       "29.000          34\n",
       "80.000          34\n",
       "47.000          34\n",
       "26.000          34\n",
       "62.000          33\n",
       "33.000          32\n",
       "36.000          31\n",
       "34.000          30\n",
       "46.000          28\n",
       "56.000          25\n",
       "49.000          25\n",
       "43.000          23\n",
       "59.000          23\n",
       "54.000          22\n",
       "63.000          20\n",
       "68.000          20\n",
       "31.000          20\n",
       "39.000          19\n",
       "51.000          19\n",
       "57.000          19\n",
       "61.000          18\n",
       "41.000          17\n",
       "64.000          16\n",
       "69.000          15\n",
       "75.000          14\n",
       "73.000          14\n",
       "67.000          12\n",
       "72.000          12\n",
       "78.000           9\n",
       "74.000           8\n",
       "76.000           7\n",
       "66.000           6\n",
       "71.000           6\n",
       "77.000           5\n",
       "85.000           3\n",
       "79.000           3\n",
       "83.000           2\n",
       "82.000           1\n",
       "Name: asthma_onset, dtype: int64"
      ]
     },
     "metadata": {},
     "output_type": "display_data"
    },
    {
     "name": "stdout",
     "output_type": "stream",
     "text": [
      "--------------------------------------\n",
      "asthma_currently value counts \n",
      "\n"
     ]
    },
    {
     "data": {
      "text/plain": [
       "nan      57224\n",
       "1.000     6104\n",
       "2.000     3708\n",
       "9.000      166\n",
       "7.000        1\n",
       "Name: asthma_currently, dtype: int64"
      ]
     },
     "metadata": {},
     "output_type": "display_data"
    },
    {
     "name": "stdout",
     "output_type": "stream",
     "text": [
      "--------------------------------------\n",
      "asthma_emergency value counts \n",
      "\n"
     ]
    },
    {
     "data": {
      "text/plain": [
       "nan      62329\n",
       "2.000     3687\n",
       "1.000     1186\n",
       "9.000        1\n",
       "Name: asthma_emergency, dtype: int64"
      ]
     },
     "metadata": {},
     "output_type": "display_data"
    },
    {
     "name": "stdout",
     "output_type": "stream",
     "text": [
      "--------------------------------------\n",
      "anemia value counts \n",
      "\n"
     ]
    },
    {
     "data": {
      "text/plain": [
       "2.000    65087\n",
       "1.000     2056\n",
       "9.000       52\n",
       "7.000        6\n",
       "nan          2\n",
       "Name: anemia, dtype: int64"
      ]
     },
     "metadata": {},
     "output_type": "display_data"
    },
    {
     "name": "stdout",
     "output_type": "stream",
     "text": [
      "--------------------------------------\n",
      "ever_overweight value counts \n",
      "\n"
     ]
    },
    {
     "data": {
      "text/plain": [
       "2.000    30109\n",
       "nan      22503\n",
       "1.000    14556\n",
       "9.000       33\n",
       "7.000        2\n",
       "Name: ever_overweight, dtype: int64"
      ]
     },
     "metadata": {},
     "output_type": "display_data"
    },
    {
     "name": "stdout",
     "output_type": "stream",
     "text": [
      "--------------------------------------\n",
      "blood_transfusion value counts \n",
      "\n"
     ]
    },
    {
     "data": {
      "text/plain": [
       "2.000    52979\n",
       "nan       8567\n",
       "1.000     5120\n",
       "9.000      533\n",
       "7.000        4\n",
       "Name: blood_transfusion, dtype: int64"
      ]
     },
     "metadata": {},
     "output_type": "display_data"
    },
    {
     "name": "stdout",
     "output_type": "stream",
     "text": [
      "--------------------------------------\n",
      "arthritis value counts \n",
      "\n"
     ]
    },
    {
     "data": {
      "text/plain": [
       "2.000    28947\n",
       "nan      27456\n",
       "1.000    10714\n",
       "9.000       85\n",
       "7.000        1\n",
       "Name: arthritis, dtype: int64"
      ]
     },
     "metadata": {},
     "output_type": "display_data"
    },
    {
     "name": "stdout",
     "output_type": "stream",
     "text": [
      "--------------------------------------\n",
      "heart_failure value counts \n",
      "\n"
     ]
    },
    {
     "data": {
      "text/plain": [
       "2.000    38281\n",
       "nan      27455\n",
       "1.000     1355\n",
       "9.000      111\n",
       "7.000        1\n",
       "Name: heart_failure, dtype: int64"
      ]
     },
     "metadata": {},
     "output_type": "display_data"
    },
    {
     "name": "stdout",
     "output_type": "stream",
     "text": [
      "--------------------------------------\n",
      "heart_disease value counts \n",
      "\n"
     ]
    },
    {
     "data": {
      "text/plain": [
       "2.000    37940\n",
       "nan      27455\n",
       "1.000     1644\n",
       "9.000      162\n",
       "7.000        2\n",
       "Name: heart_disease, dtype: int64"
      ]
     },
     "metadata": {},
     "output_type": "display_data"
    },
    {
     "name": "stdout",
     "output_type": "stream",
     "text": [
      "--------------------------------------\n",
      "angina value counts \n",
      "\n"
     ]
    },
    {
     "data": {
      "text/plain": [
       "2.000    38584\n",
       "nan      27455\n",
       "1.000     1033\n",
       "9.000      129\n",
       "7.000        2\n",
       "Name: angina, dtype: int64"
      ]
     },
     "metadata": {},
     "output_type": "display_data"
    },
    {
     "name": "stdout",
     "output_type": "stream",
     "text": [
      "--------------------------------------\n",
      "heart_attack value counts \n",
      "\n"
     ]
    },
    {
     "data": {
      "text/plain": [
       "2.000    37971\n",
       "nan      27455\n",
       "1.000     1712\n",
       "9.000       64\n",
       "7.000        1\n",
       "Name: heart_attack, dtype: int64"
      ]
     },
     "metadata": {},
     "output_type": "display_data"
    },
    {
     "name": "stdout",
     "output_type": "stream",
     "text": [
      "--------------------------------------\n",
      "stroke value counts \n",
      "\n"
     ]
    },
    {
     "data": {
      "text/plain": [
       "2.000    38098\n",
       "nan      27455\n",
       "1.000     1591\n",
       "9.000       58\n",
       "7.000        1\n",
       "Name: stroke, dtype: int64"
      ]
     },
     "metadata": {},
     "output_type": "display_data"
    },
    {
     "name": "stdout",
     "output_type": "stream",
     "text": [
      "--------------------------------------\n",
      "emphysema value counts \n",
      "\n"
     ]
    },
    {
     "data": {
      "text/plain": [
       "2.000    38867\n",
       "nan      27455\n",
       "1.000      825\n",
       "9.000       55\n",
       "7.000        1\n",
       "Name: emphysema, dtype: int64"
      ]
     },
     "metadata": {},
     "output_type": "display_data"
    },
    {
     "name": "stdout",
     "output_type": "stream",
     "text": [
      "--------------------------------------\n",
      "bronchitis value counts \n",
      "\n"
     ]
    },
    {
     "data": {
      "text/plain": [
       "2.000    37380\n",
       "nan      27455\n",
       "1.000     2292\n",
       "9.000       75\n",
       "7.000        1\n",
       "Name: bronchitis, dtype: int64"
      ]
     },
     "metadata": {},
     "output_type": "display_data"
    },
    {
     "name": "stdout",
     "output_type": "stream",
     "text": [
      "--------------------------------------\n",
      "liver_condition value counts \n",
      "\n"
     ]
    },
    {
     "data": {
      "text/plain": [
       "2.000    38084\n",
       "nan      27455\n",
       "1.000     1584\n",
       "9.000       79\n",
       "7.000        1\n",
       "Name: liver_condition, dtype: int64"
      ]
     },
     "metadata": {},
     "output_type": "display_data"
    },
    {
     "name": "stdout",
     "output_type": "stream",
     "text": [
      "--------------------------------------\n",
      "thyroid_problem value counts \n",
      "\n"
     ]
    },
    {
     "data": {
      "text/plain": [
       "2.000    35644\n",
       "nan      27455\n",
       "1.000     4010\n",
       "9.000       90\n",
       "7.000        4\n",
       "Name: thyroid_problem, dtype: int64"
      ]
     },
     "metadata": {},
     "output_type": "display_data"
    },
    {
     "name": "stdout",
     "output_type": "stream",
     "text": [
      "--------------------------------------\n",
      "brochitis_currently value counts \n",
      "\n"
     ]
    },
    {
     "data": {
      "text/plain": [
       "nan      64911\n",
       "2.000     1157\n",
       "1.000     1076\n",
       "9.000       59\n",
       "Name: brochitis_currently, dtype: int64"
      ]
     },
     "metadata": {},
     "output_type": "display_data"
    },
    {
     "name": "stdout",
     "output_type": "stream",
     "text": [
      "--------------------------------------\n",
      "liver_condition_currently value counts \n",
      "\n"
     ]
    },
    {
     "data": {
      "text/plain": [
       "nan      65619\n",
       "1.000      860\n",
       "2.000      577\n",
       "9.000      146\n",
       "7.000        1\n",
       "Name: liver_condition_currently, dtype: int64"
      ]
     },
     "metadata": {},
     "output_type": "display_data"
    },
    {
     "name": "stdout",
     "output_type": "stream",
     "text": [
      "--------------------------------------\n",
      "thyroid_problem_currently value counts \n",
      "\n"
     ]
    },
    {
     "data": {
      "text/plain": [
       "nan      63193\n",
       "1.000     2944\n",
       "2.000      923\n",
       "9.000      142\n",
       "7.000        1\n",
       "Name: thyroid_problem_currently, dtype: int64"
      ]
     },
     "metadata": {},
     "output_type": "display_data"
    },
    {
     "name": "stdout",
     "output_type": "stream",
     "text": [
      "--------------------------------------\n",
      "cancer value counts \n",
      "\n"
     ]
    },
    {
     "data": {
      "text/plain": [
       "2.000    35932\n",
       "nan      27455\n",
       "1.000     3782\n",
       "9.000       33\n",
       "7.000        1\n",
       "Name: cancer, dtype: int64"
      ]
     },
     "metadata": {},
     "output_type": "display_data"
    },
    {
     "name": "stdout",
     "output_type": "stream",
     "text": [
      "--------------------------------------\n",
      "first_cancer value counts \n",
      "\n"
     ]
    },
    {
     "data": {
      "text/plain": [
       "nan       63423\n",
       "14.000      594\n",
       "30.000      567\n",
       "32.000      562\n",
       "33.000      279\n",
       "16.000      251\n",
       "15.000      244\n",
       "25.000      219\n",
       "39.000      168\n",
       "38.000      144\n",
       "23.000       93\n",
       "10.000       89\n",
       "24.000       85\n",
       "28.000       79\n",
       "37.000       77\n",
       "19.000       65\n",
       "21.000       38\n",
       "35.000       30\n",
       "99.000       28\n",
       "17.000       21\n",
       "26.000       20\n",
       "36.000       19\n",
       "22.000       18\n",
       "13.000       16\n",
       "20.000       16\n",
       "12.000       14\n",
       "29.000       12\n",
       "31.000       12\n",
       "11.000        9\n",
       "34.000        7\n",
       "18.000        2\n",
       "9.000         1\n",
       "27.000        1\n",
       "Name: first_cancer, dtype: int64"
      ]
     },
     "metadata": {},
     "output_type": "display_data"
    },
    {
     "name": "stdout",
     "output_type": "stream",
     "text": [
      "--------------------------------------\n",
      "second_cancer value counts \n",
      "\n"
     ]
    },
    {
     "data": {
      "text/plain": [
       "nan       66802\n",
       "30.000       45\n",
       "32.000       45\n",
       "33.000       40\n",
       "39.000       39\n",
       "16.000       30\n",
       "25.000       29\n",
       "38.000       23\n",
       "28.000       22\n",
       "14.000       21\n",
       "10.000       15\n",
       "19.000       10\n",
       "12.000        9\n",
       "31.000        9\n",
       "37.000        9\n",
       "23.000        8\n",
       "24.000        8\n",
       "22.000        7\n",
       "15.000        6\n",
       "21.000        6\n",
       "20.000        4\n",
       "17.000        4\n",
       "26.000        3\n",
       "35.000        3\n",
       "13.000        2\n",
       "29.000        2\n",
       "11.000        2\n",
       "Name: second_cancer, dtype: int64"
      ]
     },
     "metadata": {},
     "output_type": "display_data"
    },
    {
     "name": "stdout",
     "output_type": "stream",
     "text": [
      "--------------------------------------\n",
      "third_cancer value counts \n",
      "\n"
     ]
    },
    {
     "data": {
      "text/plain": [
       "nan       67157\n",
       "32.000        6\n",
       "39.000        5\n",
       "33.000        4\n",
       "25.000        4\n",
       "30.000        4\n",
       "38.000        3\n",
       "37.000        3\n",
       "16.000        3\n",
       "14.000        2\n",
       "22.000        2\n",
       "23.000        2\n",
       "21.000        2\n",
       "28.000        2\n",
       "12.000        1\n",
       "11.000        1\n",
       "13.000        1\n",
       "15.000        1\n",
       "Name: third_cancer, dtype: int64"
      ]
     },
     "metadata": {},
     "output_type": "display_data"
    },
    {
     "name": "stdout",
     "output_type": "stream",
     "text": [
      "--------------------------------------\n",
      "fourth_cancer value counts \n",
      "\n"
     ]
    },
    {
     "data": {
      "text/plain": [
       "nan       67197\n",
       "66.000        6\n",
       "Name: fourth_cancer, dtype: int64"
      ]
     },
     "metadata": {},
     "output_type": "display_data"
    },
    {
     "name": "stdout",
     "output_type": "stream",
     "text": [
      "--------------------------------------\n",
      "heart_attack_relative value counts \n",
      "\n"
     ]
    },
    {
     "data": {
      "text/plain": [
       "2.000    33906\n",
       "nan      27455\n",
       "1.000     4816\n",
       "9.000     1021\n",
       "7.000        5\n",
       "Name: heart_attack_relative, dtype: int64"
      ]
     },
     "metadata": {},
     "output_type": "display_data"
    },
    {
     "name": "stdout",
     "output_type": "stream",
     "text": [
      "--------------------------------------\n",
      "asthma_relative value counts \n",
      "\n"
     ]
    },
    {
     "data": {
      "text/plain": [
       "2.000    41287\n",
       "1.000    12782\n",
       "nan      11999\n",
       "9.000     1127\n",
       "7.000        8\n",
       "Name: asthma_relative, dtype: int64"
      ]
     },
     "metadata": {},
     "output_type": "display_data"
    },
    {
     "name": "stdout",
     "output_type": "stream",
     "text": [
      "--------------------------------------\n",
      "diabetes_relative value counts \n",
      "\n"
     ]
    },
    {
     "data": {
      "text/plain": [
       "nan      27455\n",
       "2.000    22559\n",
       "1.000    16387\n",
       "9.000      795\n",
       "7.000        7\n",
       "Name: diabetes_relative, dtype: int64"
      ]
     },
     "metadata": {},
     "output_type": "display_data"
    },
    {
     "name": "stdout",
     "output_type": "stream",
     "text": [
      "--------------------------------------\n",
      "hay_fever value counts \n",
      "\n"
     ]
    },
    {
     "data": {
      "text/plain": [
       "nan      64562\n",
       "2.000     1939\n",
       "1.000      688\n",
       "9.000       14\n",
       "Name: hay_fever, dtype: int64"
      ]
     },
     "metadata": {},
     "output_type": "display_data"
    },
    {
     "name": "stdout",
     "output_type": "stream",
     "text": [
      "--------------------------------------\n",
      "arthritis_onset value counts \n",
      "\n"
     ]
    },
    {
     "data": {
      "text/plain": [
       "0     56698\n",
       "50      762\n",
       "60      564\n",
       "40      547\n",
       "55      484\n",
       "45      439\n",
       "65      344\n",
       "70      318\n",
       "35      286\n",
       "80      275\n",
       "30      274\n",
       "52      203\n",
       "48      202\n",
       "58      200\n",
       "62      167\n",
       "75      166\n",
       "54      165\n",
       "57      161\n",
       "42      161\n",
       "25      160\n",
       "59      160\n",
       "53      156\n",
       "49      153\n",
       "56      150\n",
       "68      149\n",
       "63      146\n",
       "38      145\n",
       "64      135\n",
       "47      132\n",
       "51      128\n",
       "43      123\n",
       "32      120\n",
       "67      120\n",
       "44      113\n",
       "20      108\n",
       "61      106\n",
       "66      102\n",
       "72      102\n",
       "36      101\n",
       "39      101\n",
       "69      101\n",
       "46      100\n",
       "37       93\n",
       "28       93\n",
       "16       91\n",
       "33       81\n",
       "41       80\n",
       "74       72\n",
       "71       71\n",
       "27       70\n",
       "73       70\n",
       "22       68\n",
       "78       65\n",
       "26       64\n",
       "23       63\n",
       "31       62\n",
       "34       61\n",
       "18       60\n",
       "77       58\n",
       "76       56\n",
       "29       54\n",
       "21       52\n",
       "24       51\n",
       "15       46\n",
       "79       44\n",
       "19       43\n",
       "17       43\n",
       "10       42\n",
       "13       31\n",
       "14       25\n",
       "12       21\n",
       "85       19\n",
       "5        19\n",
       "8        14\n",
       "6        13\n",
       "2        13\n",
       "4        12\n",
       "3        11\n",
       "7        11\n",
       "9        10\n",
       "1         8\n",
       "82        5\n",
       "11        4\n",
       "83        3\n",
       "84        2\n",
       "81        2\n",
       "Name: arthritis_onset, dtype: int64"
      ]
     },
     "metadata": {},
     "output_type": "display_data"
    },
    {
     "name": "stdout",
     "output_type": "stream",
     "text": [
      "--------------------------------------\n",
      "heart_failure_onset value counts \n",
      "\n"
     ]
    },
    {
     "data": {
      "text/plain": [
       "0     65881\n",
       "80       90\n",
       "60       64\n",
       "70       57\n",
       "50       54\n",
       "65       51\n",
       "55       43\n",
       "58       35\n",
       "63       34\n",
       "54       32\n",
       "56       32\n",
       "53       31\n",
       "45       31\n",
       "64       31\n",
       "52       30\n",
       "75       30\n",
       "69       28\n",
       "62       27\n",
       "68       26\n",
       "71       26\n",
       "59       24\n",
       "72       24\n",
       "40       24\n",
       "57       24\n",
       "67       24\n",
       "73       23\n",
       "61       21\n",
       "47       21\n",
       "46       21\n",
       "74       19\n",
       "76       19\n",
       "66       19\n",
       "79       18\n",
       "42       18\n",
       "48       18\n",
       "78       17\n",
       "49       16\n",
       "43       15\n",
       "35       15\n",
       "44       14\n",
       "37       12\n",
       "51       12\n",
       "41       11\n",
       "38       10\n",
       "36       10\n",
       "39        9\n",
       "85        9\n",
       "34        8\n",
       "77        8\n",
       "20        6\n",
       "30        6\n",
       "26        5\n",
       "25        5\n",
       "32        5\n",
       "31        5\n",
       "29        5\n",
       "1         5\n",
       "33        4\n",
       "81        4\n",
       "18        4\n",
       "28        4\n",
       "15        3\n",
       "6         3\n",
       "16        3\n",
       "24        2\n",
       "10        2\n",
       "12        2\n",
       "83        2\n",
       "22        2\n",
       "27        2\n",
       "7         1\n",
       "13        1\n",
       "4         1\n",
       "19        1\n",
       "3         1\n",
       "2         1\n",
       "21        1\n",
       "84        1\n",
       "Name: heart_failure_onset, dtype: int64"
      ]
     },
     "metadata": {},
     "output_type": "display_data"
    },
    {
     "name": "stdout",
     "output_type": "stream",
     "text": [
      "--------------------------------------\n",
      "heart_disease_onset value counts \n",
      "\n"
     ]
    },
    {
     "data": {
      "text/plain": [
       "0     65589\n",
       "60       82\n",
       "50       77\n",
       "55       75\n",
       "80       70\n",
       "65       64\n",
       "70       55\n",
       "58       53\n",
       "62       48\n",
       "56       47\n",
       "66       46\n",
       "68       45\n",
       "54       43\n",
       "59       43\n",
       "53       41\n",
       "57       36\n",
       "64       36\n",
       "49       35\n",
       "45       34\n",
       "40       32\n",
       "61       32\n",
       "71       30\n",
       "72       30\n",
       "63       29\n",
       "48       28\n",
       "74       28\n",
       "52       28\n",
       "67       28\n",
       "46       28\n",
       "69       27\n",
       "75       26\n",
       "73       23\n",
       "42       23\n",
       "51       22\n",
       "47       22\n",
       "76       19\n",
       "78       19\n",
       "79       17\n",
       "35       16\n",
       "44       15\n",
       "77       13\n",
       "38       13\n",
       "43       11\n",
       "41       11\n",
       "37       10\n",
       "36        8\n",
       "85        8\n",
       "39        7\n",
       "30        7\n",
       "32        6\n",
       "11        5\n",
       "34        5\n",
       "33        5\n",
       "5         4\n",
       "16        4\n",
       "10        4\n",
       "82        4\n",
       "22        3\n",
       "28        3\n",
       "25        3\n",
       "20        3\n",
       "27        3\n",
       "1         2\n",
       "6         2\n",
       "15        2\n",
       "8         2\n",
       "12        2\n",
       "13        2\n",
       "26        2\n",
       "7         1\n",
       "17        1\n",
       "81        1\n",
       "3         1\n",
       "18        1\n",
       "21        1\n",
       "31        1\n",
       "23        1\n",
       "Name: heart_disease_onset, dtype: int64"
      ]
     },
     "metadata": {},
     "output_type": "display_data"
    },
    {
     "name": "stdout",
     "output_type": "stream",
     "text": [
      "--------------------------------------\n",
      "angina_onset value counts \n",
      "\n"
     ]
    },
    {
     "data": {
      "text/plain": [
       "0     66190\n",
       "60       53\n",
       "50       48\n",
       "45       40\n",
       "55       39\n",
       "40       37\n",
       "58       32\n",
       "80       30\n",
       "59       28\n",
       "35       28\n",
       "62       26\n",
       "46       26\n",
       "48       23\n",
       "65       23\n",
       "70       23\n",
       "63       22\n",
       "56       22\n",
       "53       21\n",
       "51       21\n",
       "72       21\n",
       "57       19\n",
       "69       19\n",
       "49       19\n",
       "52       18\n",
       "54       17\n",
       "47       17\n",
       "42       16\n",
       "61       16\n",
       "75       15\n",
       "41       14\n",
       "30       14\n",
       "44       13\n",
       "37       13\n",
       "68       12\n",
       "67       12\n",
       "64       11\n",
       "77       11\n",
       "36       10\n",
       "43       10\n",
       "74       10\n",
       "76       10\n",
       "66       10\n",
       "71        9\n",
       "25        9\n",
       "38        9\n",
       "32        8\n",
       "73        8\n",
       "20        7\n",
       "39        7\n",
       "79        7\n",
       "28        7\n",
       "23        6\n",
       "26        5\n",
       "16        5\n",
       "31        5\n",
       "34        4\n",
       "33        4\n",
       "29        4\n",
       "27        4\n",
       "10        4\n",
       "78        4\n",
       "15        4\n",
       "18        4\n",
       "7         3\n",
       "12        2\n",
       "8         2\n",
       "85        2\n",
       "21        2\n",
       "84        2\n",
       "83        1\n",
       "9         1\n",
       "22        1\n",
       "6         1\n",
       "17        1\n",
       "81        1\n",
       "82        1\n",
       "Name: angina_onset, dtype: int64"
      ]
     },
     "metadata": {},
     "output_type": "display_data"
    },
    {
     "name": "stdout",
     "output_type": "stream",
     "text": [
      "--------------------------------------\n",
      "heart_attack_onset value counts \n",
      "\n"
     ]
    },
    {
     "data": {
      "text/plain": [
       "0     65525\n",
       "50       74\n",
       "55       71\n",
       "60       69\n",
       "80       68\n",
       "65       54\n",
       "70       48\n",
       "58       46\n",
       "56       43\n",
       "59       42\n",
       "45       41\n",
       "53       41\n",
       "57       41\n",
       "54       40\n",
       "64       40\n",
       "62       39\n",
       "51       37\n",
       "40       35\n",
       "46       35\n",
       "52       34\n",
       "48       34\n",
       "63       33\n",
       "61       33\n",
       "72       32\n",
       "68       32\n",
       "47       31\n",
       "49       31\n",
       "69       30\n",
       "35       28\n",
       "71       27\n",
       "66       26\n",
       "67       26\n",
       "42       26\n",
       "74       25\n",
       "38       23\n",
       "37       22\n",
       "75       20\n",
       "78       20\n",
       "73       19\n",
       "79       19\n",
       "41       19\n",
       "43       18\n",
       "39       17\n",
       "44       15\n",
       "76       14\n",
       "77       14\n",
       "32       14\n",
       "85       13\n",
       "30       13\n",
       "25        9\n",
       "36        9\n",
       "33        9\n",
       "31        9\n",
       "20        9\n",
       "34        6\n",
       "29        6\n",
       "24        5\n",
       "28        5\n",
       "16        4\n",
       "21        4\n",
       "27        4\n",
       "26        4\n",
       "23        3\n",
       "82        2\n",
       "10        2\n",
       "84        2\n",
       "14        2\n",
       "83        2\n",
       "15        2\n",
       "9         1\n",
       "6         1\n",
       "22        1\n",
       "4         1\n",
       "2         1\n",
       "1         1\n",
       "19        1\n",
       "81        1\n",
       "Name: heart_attack_onset, dtype: int64"
      ]
     },
     "metadata": {},
     "output_type": "display_data"
    },
    {
     "name": "stdout",
     "output_type": "stream",
     "text": [
      "--------------------------------------\n",
      "stroke_onset value counts \n",
      "\n"
     ]
    },
    {
     "data": {
      "text/plain": [
       "0     65646\n",
       "80      118\n",
       "65       67\n",
       "55       58\n",
       "70       55\n",
       "50       51\n",
       "60       50\n",
       "62       46\n",
       "53       40\n",
       "58       38\n",
       "75       33\n",
       "64       32\n",
       "63       32\n",
       "45       31\n",
       "66       31\n",
       "51       30\n",
       "69       30\n",
       "67       30\n",
       "47       30\n",
       "72       29\n",
       "68       28\n",
       "43       28\n",
       "73       28\n",
       "52       28\n",
       "40       27\n",
       "61       27\n",
       "48       27\n",
       "54       27\n",
       "78       26\n",
       "76       26\n",
       "79       25\n",
       "59       25\n",
       "56       23\n",
       "71       23\n",
       "57       22\n",
       "42       22\n",
       "74       22\n",
       "49       21\n",
       "77       20\n",
       "44       19\n",
       "41       16\n",
       "35       15\n",
       "46       14\n",
       "30       14\n",
       "39       13\n",
       "38       12\n",
       "36       10\n",
       "25       10\n",
       "85        9\n",
       "23        8\n",
       "32        8\n",
       "22        6\n",
       "18        6\n",
       "34        6\n",
       "20        6\n",
       "33        6\n",
       "31        6\n",
       "29        6\n",
       "26        6\n",
       "28        5\n",
       "27        4\n",
       "15        4\n",
       "37        4\n",
       "19        4\n",
       "21        4\n",
       "24        4\n",
       "16        3\n",
       "7         3\n",
       "17        2\n",
       "10        2\n",
       "84        2\n",
       "2         2\n",
       "1         2\n",
       "81        2\n",
       "6         1\n",
       "8         1\n",
       "5         1\n",
       "4         1\n",
       "3         1\n",
       "11        1\n",
       "13        1\n",
       "82        1\n",
       "Name: stroke_onset, dtype: int64"
      ]
     },
     "metadata": {},
     "output_type": "display_data"
    },
    {
     "name": "stdout",
     "output_type": "stream",
     "text": [
      "--------------------------------------\n",
      "emphysema_onset value counts \n",
      "\n"
     ]
    },
    {
     "data": {
      "text/plain": [
       "0     66395\n",
       "60       46\n",
       "50       38\n",
       "65       36\n",
       "55       34\n",
       "40       34\n",
       "45       32\n",
       "70       32\n",
       "66       21\n",
       "58       19\n",
       "56       19\n",
       "62       18\n",
       "68       17\n",
       "51       17\n",
       "59       17\n",
       "72       17\n",
       "80       15\n",
       "75       15\n",
       "61       15\n",
       "71       15\n",
       "30       15\n",
       "43       14\n",
       "76       14\n",
       "57       14\n",
       "35       13\n",
       "67       13\n",
       "63       13\n",
       "44       13\n",
       "49       12\n",
       "48       12\n",
       "53       12\n",
       "32       11\n",
       "42       10\n",
       "73       10\n",
       "69       10\n",
       "64       10\n",
       "39        9\n",
       "47        9\n",
       "38        9\n",
       "54        9\n",
       "41        8\n",
       "77        7\n",
       "52        7\n",
       "20        7\n",
       "36        6\n",
       "37        6\n",
       "78        6\n",
       "46        5\n",
       "74        5\n",
       "33        5\n",
       "26        5\n",
       "79        5\n",
       "27        4\n",
       "28        4\n",
       "22        4\n",
       "10        3\n",
       "21        3\n",
       "34        3\n",
       "31        2\n",
       "29        2\n",
       "24        2\n",
       "14        2\n",
       "82        2\n",
       "16        2\n",
       "85        2\n",
       "13        2\n",
       "83        2\n",
       "4         1\n",
       "23        1\n",
       "5         1\n",
       "6         1\n",
       "8         1\n",
       "18        1\n",
       "11        1\n",
       "81        1\n",
       "Name: emphysema_onset, dtype: int64"
      ]
     },
     "metadata": {},
     "output_type": "display_data"
    },
    {
     "name": "stdout",
     "output_type": "stream",
     "text": [
      "--------------------------------------\n",
      "bronchitis_onset value counts \n",
      "\n"
     ]
    },
    {
     "data": {
      "text/plain": [
       "0     65000\n",
       "16      124\n",
       "50       92\n",
       "40       90\n",
       "30       89\n",
       "35       69\n",
       "25       66\n",
       "20       54\n",
       "55       53\n",
       "60       50\n",
       "18       43\n",
       "10       43\n",
       "45       43\n",
       "15       41\n",
       "32       41\n",
       "12       40\n",
       "1        38\n",
       "24       37\n",
       "65       33\n",
       "5        33\n",
       "70       31\n",
       "28       30\n",
       "17       30\n",
       "13       30\n",
       "7        30\n",
       "58       28\n",
       "8        28\n",
       "42       27\n",
       "14       27\n",
       "38       26\n",
       "52       25\n",
       "19       25\n",
       "48       25\n",
       "80       25\n",
       "21       24\n",
       "6        23\n",
       "22       23\n",
       "54       22\n",
       "23       22\n",
       "47       22\n",
       "43       21\n",
       "51       21\n",
       "44       21\n",
       "61       21\n",
       "66       20\n",
       "33       20\n",
       "56       20\n",
       "4        20\n",
       "2        19\n",
       "75       19\n",
       "27       19\n",
       "26       19\n",
       "57       18\n",
       "9        18\n",
       "41       17\n",
       "53       17\n",
       "34       17\n",
       "62       16\n",
       "29       15\n",
       "69       15\n",
       "73       15\n",
       "67       15\n",
       "3        14\n",
       "46       13\n",
       "59       13\n",
       "37       13\n",
       "36       13\n",
       "31       13\n",
       "68       12\n",
       "11       11\n",
       "49       11\n",
       "76       11\n",
       "74       10\n",
       "63       10\n",
       "78        9\n",
       "39        9\n",
       "64        9\n",
       "71        7\n",
       "72        7\n",
       "79        6\n",
       "85        4\n",
       "77        3\n",
       "Name: bronchitis_onset, dtype: int64"
      ]
     },
     "metadata": {},
     "output_type": "display_data"
    },
    {
     "name": "stdout",
     "output_type": "stream",
     "text": [
      "--------------------------------------\n",
      "liver_condition_onset value counts \n",
      "\n"
     ]
    },
    {
     "data": {
      "text/plain": [
       "0     65639\n",
       "35       67\n",
       "45       64\n",
       "40       61\n",
       "50       53\n",
       "30       48\n",
       "60       47\n",
       "55       42\n",
       "25       37\n",
       "42       35\n",
       "48       32\n",
       "52       31\n",
       "47       30\n",
       "56       29\n",
       "54       28\n",
       "36       27\n",
       "20       26\n",
       "28       26\n",
       "32       26\n",
       "21       25\n",
       "58       25\n",
       "33       24\n",
       "37       24\n",
       "59       24\n",
       "16       24\n",
       "43       24\n",
       "44       24\n",
       "65       23\n",
       "62       23\n",
       "51       23\n",
       "41       22\n",
       "46       22\n",
       "53       22\n",
       "24       21\n",
       "38       21\n",
       "34       21\n",
       "49       20\n",
       "27       19\n",
       "57       19\n",
       "19       19\n",
       "29       18\n",
       "64       17\n",
       "15       16\n",
       "67       16\n",
       "17       16\n",
       "80       16\n",
       "23       16\n",
       "22       15\n",
       "61       15\n",
       "66       15\n",
       "70       15\n",
       "10       14\n",
       "39       13\n",
       "69       13\n",
       "63       12\n",
       "26       12\n",
       "31       12\n",
       "13       12\n",
       "68       10\n",
       "7         8\n",
       "73        8\n",
       "18        8\n",
       "74        8\n",
       "11        8\n",
       "6         7\n",
       "14        7\n",
       "71        6\n",
       "75        6\n",
       "12        6\n",
       "8         5\n",
       "1         5\n",
       "77        4\n",
       "79        4\n",
       "78        4\n",
       "5         4\n",
       "9         4\n",
       "72        4\n",
       "76        3\n",
       "4         2\n",
       "3         1\n",
       "82        1\n",
       "Name: liver_condition_onset, dtype: int64"
      ]
     },
     "metadata": {},
     "output_type": "display_data"
    },
    {
     "name": "stdout",
     "output_type": "stream",
     "text": [
      "--------------------------------------\n",
      "thyroid_problem_onset value counts \n",
      "\n"
     ]
    },
    {
     "data": {
      "text/plain": [
       "0     63264\n",
       "40      184\n",
       "50      180\n",
       "30      168\n",
       "45      128\n",
       "35      126\n",
       "55      117\n",
       "60      113\n",
       "80      112\n",
       "25      103\n",
       "65       98\n",
       "70       72\n",
       "32       71\n",
       "28       66\n",
       "38       66\n",
       "52       66\n",
       "20       65\n",
       "48       60\n",
       "42       59\n",
       "16       59\n",
       "43       58\n",
       "47       57\n",
       "34       56\n",
       "58       56\n",
       "36       55\n",
       "21       52\n",
       "75       51\n",
       "22       50\n",
       "26       50\n",
       "53       49\n",
       "29       49\n",
       "24       48\n",
       "56       48\n",
       "18       47\n",
       "64       46\n",
       "62       46\n",
       "49       45\n",
       "27       45\n",
       "31       45\n",
       "41       45\n",
       "44       42\n",
       "59       42\n",
       "39       42\n",
       "63       41\n",
       "46       40\n",
       "33       40\n",
       "51       39\n",
       "54       39\n",
       "68       38\n",
       "15       38\n",
       "37       38\n",
       "61       37\n",
       "57       36\n",
       "17       34\n",
       "66       33\n",
       "72       32\n",
       "19       30\n",
       "23       30\n",
       "14       30\n",
       "12       28\n",
       "67       28\n",
       "13       27\n",
       "74       27\n",
       "71       26\n",
       "77       21\n",
       "69       21\n",
       "73       21\n",
       "76       20\n",
       "78       16\n",
       "10       13\n",
       "79       12\n",
       "8        10\n",
       "5         9\n",
       "7         8\n",
       "11        7\n",
       "9         7\n",
       "85        6\n",
       "2         4\n",
       "6         3\n",
       "1         3\n",
       "4         3\n",
       "82        2\n",
       "83        2\n",
       "84        1\n",
       "81        1\n",
       "3         1\n",
       "Name: thyroid_problem_onset, dtype: int64"
      ]
     },
     "metadata": {},
     "output_type": "display_data"
    },
    {
     "name": "stdout",
     "output_type": "stream",
     "text": [
      "--------------------------------------\n",
      "cancer_onset value counts \n",
      "\n"
     ]
    },
    {
     "data": {
      "text/plain": [
       "0     66609\n",
       "80       42\n",
       "50       20\n",
       "70       19\n",
       "55       18\n",
       "65       17\n",
       "62       17\n",
       "64       16\n",
       "60       16\n",
       "59       16\n",
       "66       15\n",
       "68       15\n",
       "53       15\n",
       "45       14\n",
       "40       14\n",
       "63       14\n",
       "61       14\n",
       "47       13\n",
       "75       13\n",
       "76       13\n",
       "54       13\n",
       "57       12\n",
       "69       12\n",
       "67       11\n",
       "52       11\n",
       "30       10\n",
       "42       10\n",
       "71       10\n",
       "58        9\n",
       "73        9\n",
       "74        8\n",
       "48        8\n",
       "38        8\n",
       "28        8\n",
       "72        8\n",
       "41        8\n",
       "56        7\n",
       "44        6\n",
       "51        6\n",
       "79        6\n",
       "16        6\n",
       "78        5\n",
       "22        5\n",
       "32        5\n",
       "33        5\n",
       "36        5\n",
       "49        5\n",
       "20        4\n",
       "46        4\n",
       "23        4\n",
       "26        4\n",
       "27        4\n",
       "77        4\n",
       "35        4\n",
       "37        4\n",
       "43        4\n",
       "25        4\n",
       "19        3\n",
       "24        3\n",
       "29        2\n",
       "21        2\n",
       "34        2\n",
       "39        2\n",
       "17        1\n",
       "18        1\n",
       "85        1\n",
       "Name: cancer_onset, dtype: int64"
      ]
     },
     "metadata": {},
     "output_type": "display_data"
    },
    {
     "name": "stdout",
     "output_type": "stream",
     "text": [
      "--------------------------------------\n",
      "arthritis_type value counts \n",
      "\n"
     ]
    },
    {
     "data": {
      "text/plain": [
       "Missing           59889\n",
       "Osteoarthritis     4021\n",
       "Rheumatoid         2032\n",
       "Other              1171\n",
       "Psoriatic            90\n",
       "Name: arthritis_type, dtype: int64"
      ]
     },
     "metadata": {},
     "output_type": "display_data"
    },
    {
     "name": "stdout",
     "output_type": "stream",
     "text": [
      "--------------------------------------\n"
     ]
    }
   ],
   "source": [
    "val_counts(medcond_clean)"
   ]
  },
  {
   "cell_type": "code",
   "execution_count": 566,
   "metadata": {
    "ExecuteTime": {
     "end_time": "2021-01-05T23:47:03.667264Z",
     "start_time": "2021-01-05T23:47:03.659410Z"
    }
   },
   "outputs": [],
   "source": [
    "yes_no_cols = ['arthritis', 'heart_failure', 'heart_disease', 'angina', \n",
    "              'heart_attack', 'stroke', 'emphysema', 'bronchitis', \n",
    "              'liver_condition', 'thyroid_problem', 'cancer', 'asthma', \n",
    "              'anemia', 'blood_transfusion', 'heart_attack_relative', \n",
    "              'asthma_relative', 'diabetes_relative', 'hay_fever', \n",
    "              'ever_overweight', 'asthma_currently', 'asthma_emergency', \n",
    "              'brochitis_currently', 'liver_condition_currently', \n",
    "              'thyroid_problem_currently']"
   ]
  },
  {
   "cell_type": "code",
   "execution_count": 567,
   "metadata": {
    "ExecuteTime": {
     "end_time": "2021-01-05T23:47:03.894434Z",
     "start_time": "2021-01-05T23:47:03.668408Z"
    }
   },
   "outputs": [],
   "source": [
    "for col in yes_no_cols:\n",
    "    medcond_clean[col].replace({2.000: 0, \n",
    "                                 7.000: 0, \n",
    "                                 9.000: 0}, \n",
    "                                inplace=True)\n",
    "    medcond_clean[col].fillna(0, inplace=True)\n",
    "    medcond_clean[col] = medcond_clean[col].astype('int64')"
   ]
  },
  {
   "cell_type": "code",
   "execution_count": 568,
   "metadata": {
    "ExecuteTime": {
     "end_time": "2021-01-05T23:47:03.907414Z",
     "start_time": "2021-01-05T23:47:03.896546Z"
    }
   },
   "outputs": [],
   "source": [
    "medcond_clean['asthma_onset'].replace(99999, 0, inplace=True)\n",
    "medcond_clean['asthma_onset'].fillna(0, inplace=True)\n",
    "medcond_clean['asthma_onset'] = medcond_clean['asthma_onset'].astype('int64')"
   ]
  },
  {
   "cell_type": "code",
   "execution_count": 569,
   "metadata": {
    "ExecuteTime": {
     "end_time": "2021-01-05T23:47:04.117411Z",
     "start_time": "2021-01-05T23:47:03.910431Z"
    }
   },
   "outputs": [
    {
     "name": "stdout",
     "output_type": "stream",
     "text": [
      "asthma value counts \n",
      "\n"
     ]
    },
    {
     "data": {
      "text/plain": [
       "0    57224\n",
       "1     9979\n",
       "Name: asthma, dtype: int64"
      ]
     },
     "metadata": {},
     "output_type": "display_data"
    },
    {
     "name": "stdout",
     "output_type": "stream",
     "text": [
      "--------------------------------------\n",
      "asthma_onset value counts \n",
      "\n"
     ]
    },
    {
     "data": {
      "text/plain": [
       "0     57367\n",
       "1      2085\n",
       "2       682\n",
       "5       601\n",
       "3       529\n",
       "6       450\n",
       "4       440\n",
       "10      412\n",
       "7       380\n",
       "8       368\n",
       "12      285\n",
       "9       241\n",
       "13      178\n",
       "40      159\n",
       "11      158\n",
       "30      154\n",
       "15      148\n",
       "50      140\n",
       "14      136\n",
       "16      127\n",
       "35      104\n",
       "25      103\n",
       "18      102\n",
       "20       89\n",
       "45       85\n",
       "60       78\n",
       "55       68\n",
       "22       65\n",
       "17       64\n",
       "28       59\n",
       "21       53\n",
       "65       50\n",
       "38       48\n",
       "42       48\n",
       "19       47\n",
       "23       43\n",
       "52       39\n",
       "27       38\n",
       "70       38\n",
       "32       37\n",
       "37       37\n",
       "44       36\n",
       "48       35\n",
       "58       35\n",
       "53       35\n",
       "80       34\n",
       "29       34\n",
       "24       34\n",
       "26       34\n",
       "47       34\n",
       "62       33\n",
       "33       32\n",
       "36       31\n",
       "34       30\n",
       "46       28\n",
       "49       25\n",
       "56       25\n",
       "59       23\n",
       "43       23\n",
       "54       22\n",
       "68       20\n",
       "63       20\n",
       "31       20\n",
       "51       19\n",
       "57       19\n",
       "39       19\n",
       "61       18\n",
       "41       17\n",
       "64       16\n",
       "69       15\n",
       "75       14\n",
       "73       14\n",
       "72       12\n",
       "67       12\n",
       "78        9\n",
       "74        8\n",
       "76        7\n",
       "71        6\n",
       "66        6\n",
       "77        5\n",
       "85        3\n",
       "79        3\n",
       "83        2\n",
       "82        1\n",
       "Name: asthma_onset, dtype: int64"
      ]
     },
     "metadata": {},
     "output_type": "display_data"
    },
    {
     "name": "stdout",
     "output_type": "stream",
     "text": [
      "--------------------------------------\n",
      "asthma_currently value counts \n",
      "\n"
     ]
    },
    {
     "data": {
      "text/plain": [
       "0    61099\n",
       "1     6104\n",
       "Name: asthma_currently, dtype: int64"
      ]
     },
     "metadata": {},
     "output_type": "display_data"
    },
    {
     "name": "stdout",
     "output_type": "stream",
     "text": [
      "--------------------------------------\n",
      "asthma_emergency value counts \n",
      "\n"
     ]
    },
    {
     "data": {
      "text/plain": [
       "0    66017\n",
       "1     1186\n",
       "Name: asthma_emergency, dtype: int64"
      ]
     },
     "metadata": {},
     "output_type": "display_data"
    },
    {
     "name": "stdout",
     "output_type": "stream",
     "text": [
      "--------------------------------------\n",
      "anemia value counts \n",
      "\n"
     ]
    },
    {
     "data": {
      "text/plain": [
       "0    65147\n",
       "1     2056\n",
       "Name: anemia, dtype: int64"
      ]
     },
     "metadata": {},
     "output_type": "display_data"
    },
    {
     "name": "stdout",
     "output_type": "stream",
     "text": [
      "--------------------------------------\n",
      "ever_overweight value counts \n",
      "\n"
     ]
    },
    {
     "data": {
      "text/plain": [
       "0    52647\n",
       "1    14556\n",
       "Name: ever_overweight, dtype: int64"
      ]
     },
     "metadata": {},
     "output_type": "display_data"
    },
    {
     "name": "stdout",
     "output_type": "stream",
     "text": [
      "--------------------------------------\n",
      "blood_transfusion value counts \n",
      "\n"
     ]
    },
    {
     "data": {
      "text/plain": [
       "0    62083\n",
       "1     5120\n",
       "Name: blood_transfusion, dtype: int64"
      ]
     },
     "metadata": {},
     "output_type": "display_data"
    },
    {
     "name": "stdout",
     "output_type": "stream",
     "text": [
      "--------------------------------------\n",
      "arthritis value counts \n",
      "\n"
     ]
    },
    {
     "data": {
      "text/plain": [
       "0    56489\n",
       "1    10714\n",
       "Name: arthritis, dtype: int64"
      ]
     },
     "metadata": {},
     "output_type": "display_data"
    },
    {
     "name": "stdout",
     "output_type": "stream",
     "text": [
      "--------------------------------------\n",
      "heart_failure value counts \n",
      "\n"
     ]
    },
    {
     "data": {
      "text/plain": [
       "0    65848\n",
       "1     1355\n",
       "Name: heart_failure, dtype: int64"
      ]
     },
     "metadata": {},
     "output_type": "display_data"
    },
    {
     "name": "stdout",
     "output_type": "stream",
     "text": [
      "--------------------------------------\n",
      "heart_disease value counts \n",
      "\n"
     ]
    },
    {
     "data": {
      "text/plain": [
       "0    65559\n",
       "1     1644\n",
       "Name: heart_disease, dtype: int64"
      ]
     },
     "metadata": {},
     "output_type": "display_data"
    },
    {
     "name": "stdout",
     "output_type": "stream",
     "text": [
      "--------------------------------------\n",
      "angina value counts \n",
      "\n"
     ]
    },
    {
     "data": {
      "text/plain": [
       "0    66170\n",
       "1     1033\n",
       "Name: angina, dtype: int64"
      ]
     },
     "metadata": {},
     "output_type": "display_data"
    },
    {
     "name": "stdout",
     "output_type": "stream",
     "text": [
      "--------------------------------------\n",
      "heart_attack value counts \n",
      "\n"
     ]
    },
    {
     "data": {
      "text/plain": [
       "0    65491\n",
       "1     1712\n",
       "Name: heart_attack, dtype: int64"
      ]
     },
     "metadata": {},
     "output_type": "display_data"
    },
    {
     "name": "stdout",
     "output_type": "stream",
     "text": [
      "--------------------------------------\n",
      "stroke value counts \n",
      "\n"
     ]
    },
    {
     "data": {
      "text/plain": [
       "0    65612\n",
       "1     1591\n",
       "Name: stroke, dtype: int64"
      ]
     },
     "metadata": {},
     "output_type": "display_data"
    },
    {
     "name": "stdout",
     "output_type": "stream",
     "text": [
      "--------------------------------------\n",
      "emphysema value counts \n",
      "\n"
     ]
    },
    {
     "data": {
      "text/plain": [
       "0    66378\n",
       "1      825\n",
       "Name: emphysema, dtype: int64"
      ]
     },
     "metadata": {},
     "output_type": "display_data"
    },
    {
     "name": "stdout",
     "output_type": "stream",
     "text": [
      "--------------------------------------\n",
      "bronchitis value counts \n",
      "\n"
     ]
    },
    {
     "data": {
      "text/plain": [
       "0    64911\n",
       "1     2292\n",
       "Name: bronchitis, dtype: int64"
      ]
     },
     "metadata": {},
     "output_type": "display_data"
    },
    {
     "name": "stdout",
     "output_type": "stream",
     "text": [
      "--------------------------------------\n",
      "liver_condition value counts \n",
      "\n"
     ]
    },
    {
     "data": {
      "text/plain": [
       "0    65619\n",
       "1     1584\n",
       "Name: liver_condition, dtype: int64"
      ]
     },
     "metadata": {},
     "output_type": "display_data"
    },
    {
     "name": "stdout",
     "output_type": "stream",
     "text": [
      "--------------------------------------\n",
      "thyroid_problem value counts \n",
      "\n"
     ]
    },
    {
     "data": {
      "text/plain": [
       "0    63193\n",
       "1     4010\n",
       "Name: thyroid_problem, dtype: int64"
      ]
     },
     "metadata": {},
     "output_type": "display_data"
    },
    {
     "name": "stdout",
     "output_type": "stream",
     "text": [
      "--------------------------------------\n",
      "brochitis_currently value counts \n",
      "\n"
     ]
    },
    {
     "data": {
      "text/plain": [
       "0    66127\n",
       "1     1076\n",
       "Name: brochitis_currently, dtype: int64"
      ]
     },
     "metadata": {},
     "output_type": "display_data"
    },
    {
     "name": "stdout",
     "output_type": "stream",
     "text": [
      "--------------------------------------\n",
      "liver_condition_currently value counts \n",
      "\n"
     ]
    },
    {
     "data": {
      "text/plain": [
       "0    66343\n",
       "1      860\n",
       "Name: liver_condition_currently, dtype: int64"
      ]
     },
     "metadata": {},
     "output_type": "display_data"
    },
    {
     "name": "stdout",
     "output_type": "stream",
     "text": [
      "--------------------------------------\n",
      "thyroid_problem_currently value counts \n",
      "\n"
     ]
    },
    {
     "data": {
      "text/plain": [
       "0    64259\n",
       "1     2944\n",
       "Name: thyroid_problem_currently, dtype: int64"
      ]
     },
     "metadata": {},
     "output_type": "display_data"
    },
    {
     "name": "stdout",
     "output_type": "stream",
     "text": [
      "--------------------------------------\n",
      "cancer value counts \n",
      "\n"
     ]
    },
    {
     "data": {
      "text/plain": [
       "0    63421\n",
       "1     3782\n",
       "Name: cancer, dtype: int64"
      ]
     },
     "metadata": {},
     "output_type": "display_data"
    },
    {
     "name": "stdout",
     "output_type": "stream",
     "text": [
      "--------------------------------------\n",
      "first_cancer value counts \n",
      "\n"
     ]
    },
    {
     "data": {
      "text/plain": [
       "nan       63423\n",
       "14.000      594\n",
       "30.000      567\n",
       "32.000      562\n",
       "33.000      279\n",
       "16.000      251\n",
       "15.000      244\n",
       "25.000      219\n",
       "39.000      168\n",
       "38.000      144\n",
       "23.000       93\n",
       "10.000       89\n",
       "24.000       85\n",
       "28.000       79\n",
       "37.000       77\n",
       "19.000       65\n",
       "21.000       38\n",
       "35.000       30\n",
       "99.000       28\n",
       "17.000       21\n",
       "26.000       20\n",
       "36.000       19\n",
       "22.000       18\n",
       "13.000       16\n",
       "20.000       16\n",
       "12.000       14\n",
       "29.000       12\n",
       "31.000       12\n",
       "11.000        9\n",
       "34.000        7\n",
       "18.000        2\n",
       "9.000         1\n",
       "27.000        1\n",
       "Name: first_cancer, dtype: int64"
      ]
     },
     "metadata": {},
     "output_type": "display_data"
    },
    {
     "name": "stdout",
     "output_type": "stream",
     "text": [
      "--------------------------------------\n",
      "second_cancer value counts \n",
      "\n"
     ]
    },
    {
     "data": {
      "text/plain": [
       "nan       66802\n",
       "30.000       45\n",
       "32.000       45\n",
       "33.000       40\n",
       "39.000       39\n",
       "16.000       30\n",
       "25.000       29\n",
       "38.000       23\n",
       "28.000       22\n",
       "14.000       21\n",
       "10.000       15\n",
       "19.000       10\n",
       "12.000        9\n",
       "31.000        9\n",
       "37.000        9\n",
       "23.000        8\n",
       "24.000        8\n",
       "22.000        7\n",
       "15.000        6\n",
       "21.000        6\n",
       "20.000        4\n",
       "17.000        4\n",
       "26.000        3\n",
       "35.000        3\n",
       "13.000        2\n",
       "29.000        2\n",
       "11.000        2\n",
       "Name: second_cancer, dtype: int64"
      ]
     },
     "metadata": {},
     "output_type": "display_data"
    },
    {
     "name": "stdout",
     "output_type": "stream",
     "text": [
      "--------------------------------------\n",
      "third_cancer value counts \n",
      "\n"
     ]
    },
    {
     "data": {
      "text/plain": [
       "nan       67157\n",
       "32.000        6\n",
       "39.000        5\n",
       "33.000        4\n",
       "25.000        4\n",
       "30.000        4\n",
       "38.000        3\n",
       "37.000        3\n",
       "16.000        3\n",
       "14.000        2\n",
       "22.000        2\n",
       "23.000        2\n",
       "21.000        2\n",
       "28.000        2\n",
       "12.000        1\n",
       "11.000        1\n",
       "13.000        1\n",
       "15.000        1\n",
       "Name: third_cancer, dtype: int64"
      ]
     },
     "metadata": {},
     "output_type": "display_data"
    },
    {
     "name": "stdout",
     "output_type": "stream",
     "text": [
      "--------------------------------------\n",
      "fourth_cancer value counts \n",
      "\n"
     ]
    },
    {
     "data": {
      "text/plain": [
       "nan       67197\n",
       "66.000        6\n",
       "Name: fourth_cancer, dtype: int64"
      ]
     },
     "metadata": {},
     "output_type": "display_data"
    },
    {
     "name": "stdout",
     "output_type": "stream",
     "text": [
      "--------------------------------------\n",
      "heart_attack_relative value counts \n",
      "\n"
     ]
    },
    {
     "data": {
      "text/plain": [
       "0    62387\n",
       "1     4816\n",
       "Name: heart_attack_relative, dtype: int64"
      ]
     },
     "metadata": {},
     "output_type": "display_data"
    },
    {
     "name": "stdout",
     "output_type": "stream",
     "text": [
      "--------------------------------------\n",
      "asthma_relative value counts \n",
      "\n"
     ]
    },
    {
     "data": {
      "text/plain": [
       "0    54421\n",
       "1    12782\n",
       "Name: asthma_relative, dtype: int64"
      ]
     },
     "metadata": {},
     "output_type": "display_data"
    },
    {
     "name": "stdout",
     "output_type": "stream",
     "text": [
      "--------------------------------------\n",
      "diabetes_relative value counts \n",
      "\n"
     ]
    },
    {
     "data": {
      "text/plain": [
       "0    50816\n",
       "1    16387\n",
       "Name: diabetes_relative, dtype: int64"
      ]
     },
     "metadata": {},
     "output_type": "display_data"
    },
    {
     "name": "stdout",
     "output_type": "stream",
     "text": [
      "--------------------------------------\n",
      "hay_fever value counts \n",
      "\n"
     ]
    },
    {
     "data": {
      "text/plain": [
       "0    66515\n",
       "1      688\n",
       "Name: hay_fever, dtype: int64"
      ]
     },
     "metadata": {},
     "output_type": "display_data"
    },
    {
     "name": "stdout",
     "output_type": "stream",
     "text": [
      "--------------------------------------\n",
      "arthritis_onset value counts \n",
      "\n"
     ]
    },
    {
     "data": {
      "text/plain": [
       "0     56698\n",
       "50      762\n",
       "60      564\n",
       "40      547\n",
       "55      484\n",
       "45      439\n",
       "65      344\n",
       "70      318\n",
       "35      286\n",
       "80      275\n",
       "30      274\n",
       "52      203\n",
       "48      202\n",
       "58      200\n",
       "62      167\n",
       "75      166\n",
       "54      165\n",
       "57      161\n",
       "42      161\n",
       "25      160\n",
       "59      160\n",
       "53      156\n",
       "49      153\n",
       "56      150\n",
       "68      149\n",
       "63      146\n",
       "38      145\n",
       "64      135\n",
       "47      132\n",
       "51      128\n",
       "43      123\n",
       "32      120\n",
       "67      120\n",
       "44      113\n",
       "20      108\n",
       "61      106\n",
       "66      102\n",
       "72      102\n",
       "36      101\n",
       "39      101\n",
       "69      101\n",
       "46      100\n",
       "37       93\n",
       "28       93\n",
       "16       91\n",
       "33       81\n",
       "41       80\n",
       "74       72\n",
       "71       71\n",
       "27       70\n",
       "73       70\n",
       "22       68\n",
       "78       65\n",
       "26       64\n",
       "23       63\n",
       "31       62\n",
       "34       61\n",
       "18       60\n",
       "77       58\n",
       "76       56\n",
       "29       54\n",
       "21       52\n",
       "24       51\n",
       "15       46\n",
       "79       44\n",
       "19       43\n",
       "17       43\n",
       "10       42\n",
       "13       31\n",
       "14       25\n",
       "12       21\n",
       "85       19\n",
       "5        19\n",
       "8        14\n",
       "6        13\n",
       "2        13\n",
       "4        12\n",
       "3        11\n",
       "7        11\n",
       "9        10\n",
       "1         8\n",
       "82        5\n",
       "11        4\n",
       "83        3\n",
       "84        2\n",
       "81        2\n",
       "Name: arthritis_onset, dtype: int64"
      ]
     },
     "metadata": {},
     "output_type": "display_data"
    },
    {
     "name": "stdout",
     "output_type": "stream",
     "text": [
      "--------------------------------------\n",
      "heart_failure_onset value counts \n",
      "\n"
     ]
    },
    {
     "data": {
      "text/plain": [
       "0     65881\n",
       "80       90\n",
       "60       64\n",
       "70       57\n",
       "50       54\n",
       "65       51\n",
       "55       43\n",
       "58       35\n",
       "63       34\n",
       "54       32\n",
       "56       32\n",
       "53       31\n",
       "45       31\n",
       "64       31\n",
       "52       30\n",
       "75       30\n",
       "69       28\n",
       "62       27\n",
       "68       26\n",
       "71       26\n",
       "59       24\n",
       "72       24\n",
       "40       24\n",
       "57       24\n",
       "67       24\n",
       "73       23\n",
       "61       21\n",
       "47       21\n",
       "46       21\n",
       "74       19\n",
       "76       19\n",
       "66       19\n",
       "79       18\n",
       "42       18\n",
       "48       18\n",
       "78       17\n",
       "49       16\n",
       "43       15\n",
       "35       15\n",
       "44       14\n",
       "37       12\n",
       "51       12\n",
       "41       11\n",
       "38       10\n",
       "36       10\n",
       "39        9\n",
       "85        9\n",
       "34        8\n",
       "77        8\n",
       "20        6\n",
       "30        6\n",
       "26        5\n",
       "25        5\n",
       "32        5\n",
       "31        5\n",
       "29        5\n",
       "1         5\n",
       "33        4\n",
       "81        4\n",
       "18        4\n",
       "28        4\n",
       "15        3\n",
       "6         3\n",
       "16        3\n",
       "24        2\n",
       "10        2\n",
       "12        2\n",
       "83        2\n",
       "22        2\n",
       "27        2\n",
       "7         1\n",
       "13        1\n",
       "4         1\n",
       "19        1\n",
       "3         1\n",
       "2         1\n",
       "21        1\n",
       "84        1\n",
       "Name: heart_failure_onset, dtype: int64"
      ]
     },
     "metadata": {},
     "output_type": "display_data"
    },
    {
     "name": "stdout",
     "output_type": "stream",
     "text": [
      "--------------------------------------\n",
      "heart_disease_onset value counts \n",
      "\n"
     ]
    },
    {
     "data": {
      "text/plain": [
       "0     65589\n",
       "60       82\n",
       "50       77\n",
       "55       75\n",
       "80       70\n",
       "65       64\n",
       "70       55\n",
       "58       53\n",
       "62       48\n",
       "56       47\n",
       "66       46\n",
       "68       45\n",
       "54       43\n",
       "59       43\n",
       "53       41\n",
       "57       36\n",
       "64       36\n",
       "49       35\n",
       "45       34\n",
       "40       32\n",
       "61       32\n",
       "71       30\n",
       "72       30\n",
       "63       29\n",
       "48       28\n",
       "74       28\n",
       "52       28\n",
       "67       28\n",
       "46       28\n",
       "69       27\n",
       "75       26\n",
       "73       23\n",
       "42       23\n",
       "51       22\n",
       "47       22\n",
       "76       19\n",
       "78       19\n",
       "79       17\n",
       "35       16\n",
       "44       15\n",
       "77       13\n",
       "38       13\n",
       "43       11\n",
       "41       11\n",
       "37       10\n",
       "36        8\n",
       "85        8\n",
       "39        7\n",
       "30        7\n",
       "32        6\n",
       "11        5\n",
       "34        5\n",
       "33        5\n",
       "5         4\n",
       "16        4\n",
       "10        4\n",
       "82        4\n",
       "22        3\n",
       "28        3\n",
       "25        3\n",
       "20        3\n",
       "27        3\n",
       "1         2\n",
       "6         2\n",
       "15        2\n",
       "8         2\n",
       "12        2\n",
       "13        2\n",
       "26        2\n",
       "7         1\n",
       "17        1\n",
       "81        1\n",
       "3         1\n",
       "18        1\n",
       "21        1\n",
       "31        1\n",
       "23        1\n",
       "Name: heart_disease_onset, dtype: int64"
      ]
     },
     "metadata": {},
     "output_type": "display_data"
    },
    {
     "name": "stdout",
     "output_type": "stream",
     "text": [
      "--------------------------------------\n",
      "angina_onset value counts \n",
      "\n"
     ]
    },
    {
     "data": {
      "text/plain": [
       "0     66190\n",
       "60       53\n",
       "50       48\n",
       "45       40\n",
       "55       39\n",
       "40       37\n",
       "58       32\n",
       "80       30\n",
       "59       28\n",
       "35       28\n",
       "62       26\n",
       "46       26\n",
       "48       23\n",
       "65       23\n",
       "70       23\n",
       "63       22\n",
       "56       22\n",
       "53       21\n",
       "51       21\n",
       "72       21\n",
       "57       19\n",
       "69       19\n",
       "49       19\n",
       "52       18\n",
       "54       17\n",
       "47       17\n",
       "42       16\n",
       "61       16\n",
       "75       15\n",
       "41       14\n",
       "30       14\n",
       "44       13\n",
       "37       13\n",
       "68       12\n",
       "67       12\n",
       "64       11\n",
       "77       11\n",
       "36       10\n",
       "43       10\n",
       "74       10\n",
       "76       10\n",
       "66       10\n",
       "71        9\n",
       "25        9\n",
       "38        9\n",
       "32        8\n",
       "73        8\n",
       "20        7\n",
       "39        7\n",
       "79        7\n",
       "28        7\n",
       "23        6\n",
       "26        5\n",
       "16        5\n",
       "31        5\n",
       "34        4\n",
       "33        4\n",
       "29        4\n",
       "27        4\n",
       "10        4\n",
       "78        4\n",
       "15        4\n",
       "18        4\n",
       "7         3\n",
       "12        2\n",
       "8         2\n",
       "85        2\n",
       "21        2\n",
       "84        2\n",
       "83        1\n",
       "9         1\n",
       "22        1\n",
       "6         1\n",
       "17        1\n",
       "81        1\n",
       "82        1\n",
       "Name: angina_onset, dtype: int64"
      ]
     },
     "metadata": {},
     "output_type": "display_data"
    },
    {
     "name": "stdout",
     "output_type": "stream",
     "text": [
      "--------------------------------------\n",
      "heart_attack_onset value counts \n",
      "\n"
     ]
    },
    {
     "data": {
      "text/plain": [
       "0     65525\n",
       "50       74\n",
       "55       71\n",
       "60       69\n",
       "80       68\n",
       "65       54\n",
       "70       48\n",
       "58       46\n",
       "56       43\n",
       "59       42\n",
       "45       41\n",
       "53       41\n",
       "57       41\n",
       "54       40\n",
       "64       40\n",
       "62       39\n",
       "51       37\n",
       "40       35\n",
       "46       35\n",
       "52       34\n",
       "48       34\n",
       "63       33\n",
       "61       33\n",
       "72       32\n",
       "68       32\n",
       "47       31\n",
       "49       31\n",
       "69       30\n",
       "35       28\n",
       "71       27\n",
       "66       26\n",
       "67       26\n",
       "42       26\n",
       "74       25\n",
       "38       23\n",
       "37       22\n",
       "75       20\n",
       "78       20\n",
       "73       19\n",
       "79       19\n",
       "41       19\n",
       "43       18\n",
       "39       17\n",
       "44       15\n",
       "76       14\n",
       "77       14\n",
       "32       14\n",
       "85       13\n",
       "30       13\n",
       "25        9\n",
       "36        9\n",
       "33        9\n",
       "31        9\n",
       "20        9\n",
       "34        6\n",
       "29        6\n",
       "24        5\n",
       "28        5\n",
       "16        4\n",
       "21        4\n",
       "27        4\n",
       "26        4\n",
       "23        3\n",
       "82        2\n",
       "10        2\n",
       "84        2\n",
       "14        2\n",
       "83        2\n",
       "15        2\n",
       "9         1\n",
       "6         1\n",
       "22        1\n",
       "4         1\n",
       "2         1\n",
       "1         1\n",
       "19        1\n",
       "81        1\n",
       "Name: heart_attack_onset, dtype: int64"
      ]
     },
     "metadata": {},
     "output_type": "display_data"
    },
    {
     "name": "stdout",
     "output_type": "stream",
     "text": [
      "--------------------------------------\n",
      "stroke_onset value counts \n",
      "\n"
     ]
    },
    {
     "data": {
      "text/plain": [
       "0     65646\n",
       "80      118\n",
       "65       67\n",
       "55       58\n",
       "70       55\n",
       "50       51\n",
       "60       50\n",
       "62       46\n",
       "53       40\n",
       "58       38\n",
       "75       33\n",
       "64       32\n",
       "63       32\n",
       "45       31\n",
       "66       31\n",
       "51       30\n",
       "69       30\n",
       "67       30\n",
       "47       30\n",
       "72       29\n",
       "68       28\n",
       "43       28\n",
       "73       28\n",
       "52       28\n",
       "40       27\n",
       "61       27\n",
       "48       27\n",
       "54       27\n",
       "78       26\n",
       "76       26\n",
       "79       25\n",
       "59       25\n",
       "56       23\n",
       "71       23\n",
       "57       22\n",
       "42       22\n",
       "74       22\n",
       "49       21\n",
       "77       20\n",
       "44       19\n",
       "41       16\n",
       "35       15\n",
       "46       14\n",
       "30       14\n",
       "39       13\n",
       "38       12\n",
       "36       10\n",
       "25       10\n",
       "85        9\n",
       "23        8\n",
       "32        8\n",
       "22        6\n",
       "18        6\n",
       "34        6\n",
       "20        6\n",
       "33        6\n",
       "31        6\n",
       "29        6\n",
       "26        6\n",
       "28        5\n",
       "27        4\n",
       "15        4\n",
       "37        4\n",
       "19        4\n",
       "21        4\n",
       "24        4\n",
       "16        3\n",
       "7         3\n",
       "17        2\n",
       "10        2\n",
       "84        2\n",
       "2         2\n",
       "1         2\n",
       "81        2\n",
       "6         1\n",
       "8         1\n",
       "5         1\n",
       "4         1\n",
       "3         1\n",
       "11        1\n",
       "13        1\n",
       "82        1\n",
       "Name: stroke_onset, dtype: int64"
      ]
     },
     "metadata": {},
     "output_type": "display_data"
    },
    {
     "name": "stdout",
     "output_type": "stream",
     "text": [
      "--------------------------------------\n",
      "emphysema_onset value counts \n",
      "\n"
     ]
    },
    {
     "data": {
      "text/plain": [
       "0     66395\n",
       "60       46\n",
       "50       38\n",
       "65       36\n",
       "55       34\n",
       "40       34\n",
       "45       32\n",
       "70       32\n",
       "66       21\n",
       "58       19\n",
       "56       19\n",
       "62       18\n",
       "68       17\n",
       "51       17\n",
       "59       17\n",
       "72       17\n",
       "80       15\n",
       "75       15\n",
       "61       15\n",
       "71       15\n",
       "30       15\n",
       "43       14\n",
       "76       14\n",
       "57       14\n",
       "35       13\n",
       "67       13\n",
       "63       13\n",
       "44       13\n",
       "49       12\n",
       "48       12\n",
       "53       12\n",
       "32       11\n",
       "42       10\n",
       "73       10\n",
       "69       10\n",
       "64       10\n",
       "39        9\n",
       "47        9\n",
       "38        9\n",
       "54        9\n",
       "41        8\n",
       "77        7\n",
       "52        7\n",
       "20        7\n",
       "36        6\n",
       "37        6\n",
       "78        6\n",
       "46        5\n",
       "74        5\n",
       "33        5\n",
       "26        5\n",
       "79        5\n",
       "27        4\n",
       "28        4\n",
       "22        4\n",
       "10        3\n",
       "21        3\n",
       "34        3\n",
       "31        2\n",
       "29        2\n",
       "24        2\n",
       "14        2\n",
       "82        2\n",
       "16        2\n",
       "85        2\n",
       "13        2\n",
       "83        2\n",
       "4         1\n",
       "23        1\n",
       "5         1\n",
       "6         1\n",
       "8         1\n",
       "18        1\n",
       "11        1\n",
       "81        1\n",
       "Name: emphysema_onset, dtype: int64"
      ]
     },
     "metadata": {},
     "output_type": "display_data"
    },
    {
     "name": "stdout",
     "output_type": "stream",
     "text": [
      "--------------------------------------\n",
      "bronchitis_onset value counts \n",
      "\n"
     ]
    },
    {
     "data": {
      "text/plain": [
       "0     65000\n",
       "16      124\n",
       "50       92\n",
       "40       90\n",
       "30       89\n",
       "35       69\n",
       "25       66\n",
       "20       54\n",
       "55       53\n",
       "60       50\n",
       "18       43\n",
       "10       43\n",
       "45       43\n",
       "15       41\n",
       "32       41\n",
       "12       40\n",
       "1        38\n",
       "24       37\n",
       "65       33\n",
       "5        33\n",
       "70       31\n",
       "28       30\n",
       "17       30\n",
       "13       30\n",
       "7        30\n",
       "58       28\n",
       "8        28\n",
       "42       27\n",
       "14       27\n",
       "38       26\n",
       "52       25\n",
       "19       25\n",
       "48       25\n",
       "80       25\n",
       "21       24\n",
       "6        23\n",
       "22       23\n",
       "54       22\n",
       "23       22\n",
       "47       22\n",
       "43       21\n",
       "51       21\n",
       "44       21\n",
       "61       21\n",
       "66       20\n",
       "33       20\n",
       "56       20\n",
       "4        20\n",
       "2        19\n",
       "75       19\n",
       "27       19\n",
       "26       19\n",
       "57       18\n",
       "9        18\n",
       "41       17\n",
       "53       17\n",
       "34       17\n",
       "62       16\n",
       "29       15\n",
       "69       15\n",
       "73       15\n",
       "67       15\n",
       "3        14\n",
       "46       13\n",
       "59       13\n",
       "37       13\n",
       "36       13\n",
       "31       13\n",
       "68       12\n",
       "11       11\n",
       "49       11\n",
       "76       11\n",
       "74       10\n",
       "63       10\n",
       "78        9\n",
       "39        9\n",
       "64        9\n",
       "71        7\n",
       "72        7\n",
       "79        6\n",
       "85        4\n",
       "77        3\n",
       "Name: bronchitis_onset, dtype: int64"
      ]
     },
     "metadata": {},
     "output_type": "display_data"
    },
    {
     "name": "stdout",
     "output_type": "stream",
     "text": [
      "--------------------------------------\n",
      "liver_condition_onset value counts \n",
      "\n"
     ]
    },
    {
     "data": {
      "text/plain": [
       "0     65639\n",
       "35       67\n",
       "45       64\n",
       "40       61\n",
       "50       53\n",
       "30       48\n",
       "60       47\n",
       "55       42\n",
       "25       37\n",
       "42       35\n",
       "48       32\n",
       "52       31\n",
       "47       30\n",
       "56       29\n",
       "54       28\n",
       "36       27\n",
       "20       26\n",
       "28       26\n",
       "32       26\n",
       "21       25\n",
       "58       25\n",
       "33       24\n",
       "37       24\n",
       "59       24\n",
       "16       24\n",
       "43       24\n",
       "44       24\n",
       "65       23\n",
       "62       23\n",
       "51       23\n",
       "41       22\n",
       "46       22\n",
       "53       22\n",
       "24       21\n",
       "38       21\n",
       "34       21\n",
       "49       20\n",
       "27       19\n",
       "57       19\n",
       "19       19\n",
       "29       18\n",
       "64       17\n",
       "15       16\n",
       "67       16\n",
       "17       16\n",
       "80       16\n",
       "23       16\n",
       "22       15\n",
       "61       15\n",
       "66       15\n",
       "70       15\n",
       "10       14\n",
       "39       13\n",
       "69       13\n",
       "63       12\n",
       "26       12\n",
       "31       12\n",
       "13       12\n",
       "68       10\n",
       "7         8\n",
       "73        8\n",
       "18        8\n",
       "74        8\n",
       "11        8\n",
       "6         7\n",
       "14        7\n",
       "71        6\n",
       "75        6\n",
       "12        6\n",
       "8         5\n",
       "1         5\n",
       "77        4\n",
       "79        4\n",
       "78        4\n",
       "5         4\n",
       "9         4\n",
       "72        4\n",
       "76        3\n",
       "4         2\n",
       "3         1\n",
       "82        1\n",
       "Name: liver_condition_onset, dtype: int64"
      ]
     },
     "metadata": {},
     "output_type": "display_data"
    },
    {
     "name": "stdout",
     "output_type": "stream",
     "text": [
      "--------------------------------------\n",
      "thyroid_problem_onset value counts \n",
      "\n"
     ]
    },
    {
     "data": {
      "text/plain": [
       "0     63264\n",
       "40      184\n",
       "50      180\n",
       "30      168\n",
       "45      128\n",
       "35      126\n",
       "55      117\n",
       "60      113\n",
       "80      112\n",
       "25      103\n",
       "65       98\n",
       "70       72\n",
       "32       71\n",
       "28       66\n",
       "38       66\n",
       "52       66\n",
       "20       65\n",
       "48       60\n",
       "42       59\n",
       "16       59\n",
       "43       58\n",
       "47       57\n",
       "34       56\n",
       "58       56\n",
       "36       55\n",
       "21       52\n",
       "75       51\n",
       "22       50\n",
       "26       50\n",
       "53       49\n",
       "29       49\n",
       "24       48\n",
       "56       48\n",
       "18       47\n",
       "64       46\n",
       "62       46\n",
       "49       45\n",
       "27       45\n",
       "31       45\n",
       "41       45\n",
       "44       42\n",
       "59       42\n",
       "39       42\n",
       "63       41\n",
       "46       40\n",
       "33       40\n",
       "51       39\n",
       "54       39\n",
       "68       38\n",
       "15       38\n",
       "37       38\n",
       "61       37\n",
       "57       36\n",
       "17       34\n",
       "66       33\n",
       "72       32\n",
       "19       30\n",
       "23       30\n",
       "14       30\n",
       "12       28\n",
       "67       28\n",
       "13       27\n",
       "74       27\n",
       "71       26\n",
       "77       21\n",
       "69       21\n",
       "73       21\n",
       "76       20\n",
       "78       16\n",
       "10       13\n",
       "79       12\n",
       "8        10\n",
       "5         9\n",
       "7         8\n",
       "11        7\n",
       "9         7\n",
       "85        6\n",
       "2         4\n",
       "6         3\n",
       "1         3\n",
       "4         3\n",
       "82        2\n",
       "83        2\n",
       "84        1\n",
       "81        1\n",
       "3         1\n",
       "Name: thyroid_problem_onset, dtype: int64"
      ]
     },
     "metadata": {},
     "output_type": "display_data"
    },
    {
     "name": "stdout",
     "output_type": "stream",
     "text": [
      "--------------------------------------\n",
      "cancer_onset value counts \n",
      "\n"
     ]
    },
    {
     "data": {
      "text/plain": [
       "0     66609\n",
       "80       42\n",
       "50       20\n",
       "70       19\n",
       "55       18\n",
       "65       17\n",
       "62       17\n",
       "64       16\n",
       "60       16\n",
       "59       16\n",
       "66       15\n",
       "68       15\n",
       "53       15\n",
       "45       14\n",
       "40       14\n",
       "63       14\n",
       "61       14\n",
       "47       13\n",
       "75       13\n",
       "76       13\n",
       "54       13\n",
       "57       12\n",
       "69       12\n",
       "67       11\n",
       "52       11\n",
       "30       10\n",
       "42       10\n",
       "71       10\n",
       "58        9\n",
       "73        9\n",
       "74        8\n",
       "48        8\n",
       "38        8\n",
       "28        8\n",
       "72        8\n",
       "41        8\n",
       "56        7\n",
       "44        6\n",
       "51        6\n",
       "79        6\n",
       "16        6\n",
       "78        5\n",
       "22        5\n",
       "32        5\n",
       "33        5\n",
       "36        5\n",
       "49        5\n",
       "20        4\n",
       "46        4\n",
       "23        4\n",
       "26        4\n",
       "27        4\n",
       "77        4\n",
       "35        4\n",
       "37        4\n",
       "43        4\n",
       "25        4\n",
       "19        3\n",
       "24        3\n",
       "29        2\n",
       "21        2\n",
       "34        2\n",
       "39        2\n",
       "17        1\n",
       "18        1\n",
       "85        1\n",
       "Name: cancer_onset, dtype: int64"
      ]
     },
     "metadata": {},
     "output_type": "display_data"
    },
    {
     "name": "stdout",
     "output_type": "stream",
     "text": [
      "--------------------------------------\n",
      "arthritis_type value counts \n",
      "\n"
     ]
    },
    {
     "data": {
      "text/plain": [
       "Missing           59889\n",
       "Osteoarthritis     4021\n",
       "Rheumatoid         2032\n",
       "Other              1171\n",
       "Psoriatic            90\n",
       "Name: arthritis_type, dtype: int64"
      ]
     },
     "metadata": {},
     "output_type": "display_data"
    },
    {
     "name": "stdout",
     "output_type": "stream",
     "text": [
      "--------------------------------------\n"
     ]
    }
   ],
   "source": [
    "val_counts(medcond_clean)"
   ]
  },
  {
   "cell_type": "code",
   "execution_count": null,
   "metadata": {},
   "outputs": [],
   "source": [
    "cancer_type_cols= ['first_cancer', 'second_cancer', 'third_cancer']"
   ]
  },
  {
   "cell_type": "code",
   "execution_count": null,
   "metadata": {},
   "outputs": [],
   "source": [
    "medcond_clean[col].replace({10.000: 'Bladder', \n",
    "                            11.000: 'Blood', \n",
    "                            12.000: 'Bone', \n",
    "                            13.000: 'Brain', \n",
    "                            14.000: 'Breast', \n",
    "                            15.000: 'Cervical', \n",
    "                            16.000: 'Colon', \n",
    "                            17.000: 'Esophageal', \n",
    "                            18.000: 'Gallbladder',\n",
    "                            19.000: 'Kidney', \n",
    "                            20.000: 'Larynx', \n",
    "                            21.000: 'Leukemia', \n",
    "                            22.000: 'Liver', \n",
    "                            23.000: 'Lung', \n",
    "                            24.000: 'Lymphoma', \n",
    "                            25.000: 'Melanoma', \n",
    "                            26.000: 'Mouth',\n",
    "                            27.000: 'Nervous System', \n",
    "                            28.000: 'Ovarian', \n",
    "                            29.000: 'Pancreatic', \n",
    "                            30.000: 'Prostate',\n",
    "                            31.000: 'Rectal', \n",
    "                            32.000: 'Skin Non Melanoma', \n",
    "                            33.000: 'Skin Other', \n",
    "                            34.000: 'Soft Tissue', \n",
    "                            35.000: 'Stomach', \n",
    "                            36.000: 'Testicular', \n",
    "                            37.000: 'Thyroid', \n",
    "                            38.000: 'Uterine',\n",
    "                            39.000: 'Other', \n",
    "                            66.000: 0, \n",
    "                            77.000: 0, \n",
    "                            99.000: 0,\n",
    "                           },\n",
    "                           inplace=True)"
   ]
  },
  {
   "cell_type": "code",
   "execution_count": null,
   "metadata": {},
   "outputs": [],
   "source": []
  },
  {
   "cell_type": "code",
   "execution_count": null,
   "metadata": {},
   "outputs": [],
   "source": []
  },
  {
   "cell_type": "markdown",
   "metadata": {},
   "source": [
    "# Body Measures"
   ]
  },
  {
   "cell_type": "code",
   "execution_count": 570,
   "metadata": {
    "ExecuteTime": {
     "end_time": "2021-01-06T00:38:56.618324Z",
     "start_time": "2021-01-06T00:38:56.303230Z"
    }
   },
   "outputs": [
    {
     "data": {
      "text/plain": [
       "['Data/BodyMeasures\\\\BMX_D.XPT',\n",
       " 'Data/BodyMeasures\\\\BMX_E.XPT',\n",
       " 'Data/BodyMeasures\\\\BMX_F.XPT',\n",
       " 'Data/BodyMeasures\\\\BMX_G.XPT',\n",
       " 'Data/BodyMeasures\\\\BMX_H.XPT',\n",
       " 'Data/BodyMeasures\\\\BMX_I.XPT',\n",
       " 'Data/BodyMeasures\\\\BMX_J.XPT']"
      ]
     },
     "metadata": {},
     "output_type": "display_data"
    }
   ],
   "source": [
    "path = r'Data/BodyMeasures'\n",
    "df_body = glob_concat(path, '*.XPT')"
   ]
  },
  {
   "cell_type": "code",
   "execution_count": null,
   "metadata": {},
   "outputs": [],
   "source": []
  },
  {
   "cell_type": "code",
   "execution_count": null,
   "metadata": {},
   "outputs": [],
   "source": []
  },
  {
   "cell_type": "code",
   "execution_count": null,
   "metadata": {},
   "outputs": [],
   "source": []
  },
  {
   "cell_type": "code",
   "execution_count": null,
   "metadata": {},
   "outputs": [],
   "source": []
  },
  {
   "cell_type": "code",
   "execution_count": null,
   "metadata": {},
   "outputs": [],
   "source": []
  }
 ],
 "metadata": {
  "kernelspec": {
   "display_name": "learn-env",
   "language": "python",
   "name": "learn-env"
  },
  "language_info": {
   "codemirror_mode": {
    "name": "ipython",
    "version": 3
   },
   "file_extension": ".py",
   "mimetype": "text/x-python",
   "name": "python",
   "nbconvert_exporter": "python",
   "pygments_lexer": "ipython3",
   "version": "3.6.11"
  },
  "toc": {
   "base_numbering": 1,
   "nav_menu": {},
   "number_sections": true,
   "sideBar": true,
   "skip_h1_title": false,
   "title_cell": "Table of Contents",
   "title_sidebar": "Contents",
   "toc_cell": false,
   "toc_position": {
    "height": "calc(100% - 180px)",
    "left": "10px",
    "top": "150px",
    "width": "349.091px"
   },
   "toc_section_display": true,
   "toc_window_display": true
  }
 },
 "nbformat": 4,
 "nbformat_minor": 4
}
