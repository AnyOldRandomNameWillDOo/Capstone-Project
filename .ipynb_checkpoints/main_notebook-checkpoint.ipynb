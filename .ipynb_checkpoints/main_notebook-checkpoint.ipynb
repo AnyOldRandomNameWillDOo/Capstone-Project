{
 "cells": [
  {
   "cell_type": "markdown",
   "metadata": {},
   "source": [
    "## Capstone Project Submission"
   ]
  },
  {
   "cell_type": "markdown",
   "metadata": {},
   "source": [
    "- Name: Vivienne DiFrancesco\n",
    "- Instructor: James Irving\n",
    "- Pace: Full Time\n"
   ]
  },
  {
   "cell_type": "markdown",
   "metadata": {},
   "source": [
    "# Introducion\n"
   ]
  },
  {
   "cell_type": "markdown",
   "metadata": {},
   "source": [
    "# Obtain"
   ]
  },
  {
   "cell_type": "code",
   "execution_count": 1,
   "metadata": {
    "ExecuteTime": {
     "end_time": "2021-01-03T22:13:22.518403Z",
     "start_time": "2021-01-03T22:13:22.326337Z"
    }
   },
   "outputs": [
    {
     "name": "stderr",
     "output_type": "stream",
     "text": [
      "C:\\Users\\drudi\\Anaconda3\\envs\\learn-env\\lib\\site-packages\\numpy\\_distributor_init.py:32: UserWarning: loaded more than 1 DLL from .libs:\n",
      "C:\\Users\\drudi\\Anaconda3\\envs\\learn-env\\lib\\site-packages\\numpy\\.libs\\libopenblas.NOIJJG62EMASZI6NYURL6JBKM4EVBGM7.gfortran-win_amd64.dll\n",
      "C:\\Users\\drudi\\Anaconda3\\envs\\learn-env\\lib\\site-packages\\numpy\\.libs\\libopenblas.PYQHXLVVQ7VESDPUVUADXEVJOBGHJPAY.gfortran-win_amd64.dll\n",
      "  stacklevel=1)\n"
     ]
    }
   ],
   "source": [
    "import numpy as np\n",
    "np.random.seed(123)"
   ]
  },
  {
   "cell_type": "code",
   "execution_count": 2,
   "metadata": {
    "ExecuteTime": {
     "end_time": "2021-01-03T22:13:25.461807Z",
     "start_time": "2021-01-03T22:13:22.520311Z"
    }
   },
   "outputs": [],
   "source": [
    "import tensorflow as tf\n",
    "tf.random.set_seed(123)"
   ]
  },
  {
   "cell_type": "code",
   "execution_count": 3,
   "metadata": {
    "ExecuteTime": {
     "end_time": "2021-01-03T22:13:26.032812Z",
     "start_time": "2021-01-03T22:13:25.463710Z"
    }
   },
   "outputs": [],
   "source": [
    "import pandas as pd\n",
    "import scipy\n",
    "import glob, os\n",
    "import matplotlib.pyplot as plt\n",
    "%matplotlib inline\n",
    "import seaborn as sns\n",
    "sns.set(style='whitegrid')\n",
    "import warnings\n",
    "warnings.filterwarnings('ignore')"
   ]
  },
  {
   "cell_type": "code",
   "execution_count": 4,
   "metadata": {
    "ExecuteTime": {
     "end_time": "2021-01-03T22:13:26.041060Z",
     "start_time": "2021-01-03T22:13:26.033712Z"
    }
   },
   "outputs": [],
   "source": [
    "# Setting inf values to be nan\n",
    "pd.set_option('mode.use_inf_as_na', True)\n",
    "\n",
    "# Turning off scientific notation in pandas\n",
    "pd.set_option('display.float_format', lambda x: '%.3f' % x)"
   ]
  },
  {
   "cell_type": "markdown",
   "metadata": {},
   "source": [
    "# Target"
   ]
  },
  {
   "cell_type": "code",
   "execution_count": 5,
   "metadata": {
    "ExecuteTime": {
     "end_time": "2021-01-03T22:13:26.050713Z",
     "start_time": "2021-01-03T22:13:26.042711Z"
    }
   },
   "outputs": [],
   "source": [
    "def glob_concat(path, file_str):\n",
    "    '''\n",
    "    Looks for files in folder path and combines them into a DataFrame.\n",
    "    \n",
    "    Args:\n",
    "        path (str): Location on computer where files are located.\n",
    "        file_str (str): Specific search query of which files to find.\n",
    "        \n",
    "    Returns:\n",
    "        Displays the files that were found for verification and returns the \n",
    "        DataFrame of all files after pd.concat is performed.\n",
    "    \n",
    "    Example:\n",
    "        combined_df = glob_concat(r'File/File', '*.XPT')\n",
    "    '''\n",
    "    \n",
    "    files = glob.glob(os.path.join(path, file_str))\n",
    "    display(files)\n",
    "    df_files = [pd.read_sas(file) for file in files]\n",
    "    combined_df = pd.concat(df_files)\n",
    "    return combined_df"
   ]
  },
  {
   "cell_type": "code",
   "execution_count": 6,
   "metadata": {
    "ExecuteTime": {
     "end_time": "2021-01-03T22:13:26.154715Z",
     "start_time": "2021-01-03T22:13:26.052790Z"
    }
   },
   "outputs": [
    {
     "data": {
      "text/plain": [
       "['Data/Target\\\\DPQ_D.XPT',\n",
       " 'Data/Target\\\\DPQ_E.XPT',\n",
       " 'Data/Target\\\\DPQ_F.XPT',\n",
       " 'Data/Target\\\\DPQ_G.XPT',\n",
       " 'Data/Target\\\\DPQ_H.XPT',\n",
       " 'Data/Target\\\\DPQ_I.XPT',\n",
       " 'Data/Target\\\\DPQ_J.XPT']"
      ]
     },
     "metadata": {},
     "output_type": "display_data"
    }
   ],
   "source": [
    "path = r'Data/Target'\n",
    "df_target = glob_concat(path, '*.XPT')"
   ]
  },
  {
   "cell_type": "code",
   "execution_count": 7,
   "metadata": {
    "ExecuteTime": {
     "end_time": "2021-01-03T22:13:26.181821Z",
     "start_time": "2021-01-03T22:13:26.157720Z"
    }
   },
   "outputs": [
    {
     "data": {
      "text/html": [
       "<div>\n",
       "<style scoped>\n",
       "    .dataframe tbody tr th:only-of-type {\n",
       "        vertical-align: middle;\n",
       "    }\n",
       "\n",
       "    .dataframe tbody tr th {\n",
       "        vertical-align: top;\n",
       "    }\n",
       "\n",
       "    .dataframe thead th {\n",
       "        text-align: right;\n",
       "    }\n",
       "</style>\n",
       "<table border=\"1\" class=\"dataframe\">\n",
       "  <thead>\n",
       "    <tr style=\"text-align: right;\">\n",
       "      <th></th>\n",
       "      <th>SEQN</th>\n",
       "      <th>DPQ010</th>\n",
       "      <th>DPQ020</th>\n",
       "      <th>DPQ030</th>\n",
       "      <th>DPQ040</th>\n",
       "      <th>DPQ050</th>\n",
       "      <th>DPQ060</th>\n",
       "      <th>DPQ070</th>\n",
       "      <th>DPQ080</th>\n",
       "      <th>DPQ090</th>\n",
       "      <th>DPQ100</th>\n",
       "    </tr>\n",
       "  </thead>\n",
       "  <tbody>\n",
       "    <tr>\n",
       "      <th>0</th>\n",
       "      <td>31130.000</td>\n",
       "      <td>nan</td>\n",
       "      <td>nan</td>\n",
       "      <td>nan</td>\n",
       "      <td>nan</td>\n",
       "      <td>nan</td>\n",
       "      <td>nan</td>\n",
       "      <td>nan</td>\n",
       "      <td>nan</td>\n",
       "      <td>nan</td>\n",
       "      <td>nan</td>\n",
       "    </tr>\n",
       "    <tr>\n",
       "      <th>1</th>\n",
       "      <td>31131.000</td>\n",
       "      <td>0.000</td>\n",
       "      <td>0.000</td>\n",
       "      <td>0.000</td>\n",
       "      <td>0.000</td>\n",
       "      <td>0.000</td>\n",
       "      <td>0.000</td>\n",
       "      <td>0.000</td>\n",
       "      <td>0.000</td>\n",
       "      <td>0.000</td>\n",
       "      <td>nan</td>\n",
       "    </tr>\n",
       "    <tr>\n",
       "      <th>2</th>\n",
       "      <td>31132.000</td>\n",
       "      <td>0.000</td>\n",
       "      <td>0.000</td>\n",
       "      <td>0.000</td>\n",
       "      <td>0.000</td>\n",
       "      <td>0.000</td>\n",
       "      <td>0.000</td>\n",
       "      <td>0.000</td>\n",
       "      <td>0.000</td>\n",
       "      <td>0.000</td>\n",
       "      <td>nan</td>\n",
       "    </tr>\n",
       "    <tr>\n",
       "      <th>3</th>\n",
       "      <td>31134.000</td>\n",
       "      <td>0.000</td>\n",
       "      <td>0.000</td>\n",
       "      <td>0.000</td>\n",
       "      <td>0.000</td>\n",
       "      <td>0.000</td>\n",
       "      <td>0.000</td>\n",
       "      <td>0.000</td>\n",
       "      <td>0.000</td>\n",
       "      <td>0.000</td>\n",
       "      <td>nan</td>\n",
       "    </tr>\n",
       "    <tr>\n",
       "      <th>4</th>\n",
       "      <td>31139.000</td>\n",
       "      <td>0.000</td>\n",
       "      <td>0.000</td>\n",
       "      <td>0.000</td>\n",
       "      <td>0.000</td>\n",
       "      <td>3.000</td>\n",
       "      <td>1.000</td>\n",
       "      <td>0.000</td>\n",
       "      <td>0.000</td>\n",
       "      <td>0.000</td>\n",
       "      <td>0.000</td>\n",
       "    </tr>\n",
       "    <tr>\n",
       "      <th>5</th>\n",
       "      <td>31143.000</td>\n",
       "      <td>0.000</td>\n",
       "      <td>1.000</td>\n",
       "      <td>1.000</td>\n",
       "      <td>1.000</td>\n",
       "      <td>1.000</td>\n",
       "      <td>1.000</td>\n",
       "      <td>1.000</td>\n",
       "      <td>0.000</td>\n",
       "      <td>0.000</td>\n",
       "      <td>1.000</td>\n",
       "    </tr>\n",
       "    <tr>\n",
       "      <th>6</th>\n",
       "      <td>31144.000</td>\n",
       "      <td>0.000</td>\n",
       "      <td>0.000</td>\n",
       "      <td>0.000</td>\n",
       "      <td>0.000</td>\n",
       "      <td>0.000</td>\n",
       "      <td>0.000</td>\n",
       "      <td>0.000</td>\n",
       "      <td>0.000</td>\n",
       "      <td>0.000</td>\n",
       "      <td>nan</td>\n",
       "    </tr>\n",
       "    <tr>\n",
       "      <th>7</th>\n",
       "      <td>31149.000</td>\n",
       "      <td>0.000</td>\n",
       "      <td>0.000</td>\n",
       "      <td>0.000</td>\n",
       "      <td>0.000</td>\n",
       "      <td>0.000</td>\n",
       "      <td>0.000</td>\n",
       "      <td>0.000</td>\n",
       "      <td>0.000</td>\n",
       "      <td>0.000</td>\n",
       "      <td>nan</td>\n",
       "    </tr>\n",
       "    <tr>\n",
       "      <th>8</th>\n",
       "      <td>31150.000</td>\n",
       "      <td>1.000</td>\n",
       "      <td>0.000</td>\n",
       "      <td>0.000</td>\n",
       "      <td>0.000</td>\n",
       "      <td>0.000</td>\n",
       "      <td>0.000</td>\n",
       "      <td>0.000</td>\n",
       "      <td>0.000</td>\n",
       "      <td>0.000</td>\n",
       "      <td>0.000</td>\n",
       "    </tr>\n",
       "    <tr>\n",
       "      <th>9</th>\n",
       "      <td>31151.000</td>\n",
       "      <td>0.000</td>\n",
       "      <td>0.000</td>\n",
       "      <td>1.000</td>\n",
       "      <td>1.000</td>\n",
       "      <td>0.000</td>\n",
       "      <td>0.000</td>\n",
       "      <td>1.000</td>\n",
       "      <td>0.000</td>\n",
       "      <td>0.000</td>\n",
       "      <td>0.000</td>\n",
       "    </tr>\n",
       "  </tbody>\n",
       "</table>\n",
       "</div>"
      ],
      "text/plain": [
       "       SEQN  DPQ010  DPQ020  DPQ030  DPQ040  DPQ050  DPQ060  DPQ070  DPQ080  \\\n",
       "0 31130.000     nan     nan     nan     nan     nan     nan     nan     nan   \n",
       "1 31131.000   0.000   0.000   0.000   0.000   0.000   0.000   0.000   0.000   \n",
       "2 31132.000   0.000   0.000   0.000   0.000   0.000   0.000   0.000   0.000   \n",
       "3 31134.000   0.000   0.000   0.000   0.000   0.000   0.000   0.000   0.000   \n",
       "4 31139.000   0.000   0.000   0.000   0.000   3.000   1.000   0.000   0.000   \n",
       "5 31143.000   0.000   1.000   1.000   1.000   1.000   1.000   1.000   0.000   \n",
       "6 31144.000   0.000   0.000   0.000   0.000   0.000   0.000   0.000   0.000   \n",
       "7 31149.000   0.000   0.000   0.000   0.000   0.000   0.000   0.000   0.000   \n",
       "8 31150.000   1.000   0.000   0.000   0.000   0.000   0.000   0.000   0.000   \n",
       "9 31151.000   0.000   0.000   1.000   1.000   0.000   0.000   1.000   0.000   \n",
       "\n",
       "   DPQ090  DPQ100  \n",
       "0     nan     nan  \n",
       "1   0.000     nan  \n",
       "2   0.000     nan  \n",
       "3   0.000     nan  \n",
       "4   0.000   0.000  \n",
       "5   0.000   1.000  \n",
       "6   0.000     nan  \n",
       "7   0.000     nan  \n",
       "8   0.000   0.000  \n",
       "9   0.000   0.000  "
      ]
     },
     "execution_count": 7,
     "metadata": {},
     "output_type": "execute_result"
    }
   ],
   "source": [
    "df_target.head(10)"
   ]
  },
  {
   "cell_type": "code",
   "execution_count": 8,
   "metadata": {
    "ExecuteTime": {
     "end_time": "2021-01-03T22:13:26.195710Z",
     "start_time": "2021-01-03T22:13:26.186715Z"
    }
   },
   "outputs": [],
   "source": [
    "df_target.SEQN = df_target.SEQN.astype('int64')\n",
    "df_target.set_index('SEQN', verify_integrity=True, inplace=True)"
   ]
  },
  {
   "cell_type": "code",
   "execution_count": 9,
   "metadata": {
    "ExecuteTime": {
     "end_time": "2021-01-03T22:13:26.205718Z",
     "start_time": "2021-01-03T22:13:26.198720Z"
    }
   },
   "outputs": [],
   "source": [
    "df_target.drop(columns=['DPQ100'], inplace=True)"
   ]
  },
  {
   "cell_type": "code",
   "execution_count": 10,
   "metadata": {
    "ExecuteTime": {
     "end_time": "2021-01-03T22:13:26.221718Z",
     "start_time": "2021-01-03T22:13:26.207715Z"
    }
   },
   "outputs": [
    {
     "name": "stdout",
     "output_type": "stream",
     "text": [
      "<class 'pandas.core.frame.DataFrame'>\n",
      "Int64Index: 40496 entries, 31130 to 102956\n",
      "Data columns (total 9 columns):\n",
      " #   Column  Non-Null Count  Dtype  \n",
      "---  ------  --------------  -----  \n",
      " 0   DPQ010  36471 non-null  float64\n",
      " 1   DPQ020  36465 non-null  float64\n",
      " 2   DPQ030  36463 non-null  float64\n",
      " 3   DPQ040  36458 non-null  float64\n",
      " 4   DPQ050  36458 non-null  float64\n",
      " 5   DPQ060  36455 non-null  float64\n",
      " 6   DPQ070  36453 non-null  float64\n",
      " 7   DPQ080  36452 non-null  float64\n",
      " 8   DPQ090  36447 non-null  float64\n",
      "dtypes: float64(9)\n",
      "memory usage: 3.1 MB\n"
     ]
    }
   ],
   "source": [
    "df_target.info()"
   ]
  },
  {
   "cell_type": "code",
   "execution_count": 11,
   "metadata": {
    "ExecuteTime": {
     "end_time": "2021-01-03T22:13:26.234717Z",
     "start_time": "2021-01-03T22:13:26.223769Z"
    }
   },
   "outputs": [
    {
     "data": {
      "text/html": [
       "<div>\n",
       "<style scoped>\n",
       "    .dataframe tbody tr th:only-of-type {\n",
       "        vertical-align: middle;\n",
       "    }\n",
       "\n",
       "    .dataframe tbody tr th {\n",
       "        vertical-align: top;\n",
       "    }\n",
       "\n",
       "    .dataframe thead th {\n",
       "        text-align: right;\n",
       "    }\n",
       "</style>\n",
       "<table border=\"1\" class=\"dataframe\">\n",
       "  <thead>\n",
       "    <tr style=\"text-align: right;\">\n",
       "      <th></th>\n",
       "      <th>DPQ010</th>\n",
       "      <th>DPQ020</th>\n",
       "      <th>DPQ030</th>\n",
       "      <th>DPQ040</th>\n",
       "      <th>DPQ050</th>\n",
       "      <th>DPQ060</th>\n",
       "      <th>DPQ070</th>\n",
       "      <th>DPQ080</th>\n",
       "      <th>DPQ090</th>\n",
       "    </tr>\n",
       "    <tr>\n",
       "      <th>SEQN</th>\n",
       "      <th></th>\n",
       "      <th></th>\n",
       "      <th></th>\n",
       "      <th></th>\n",
       "      <th></th>\n",
       "      <th></th>\n",
       "      <th></th>\n",
       "      <th></th>\n",
       "      <th></th>\n",
       "    </tr>\n",
       "  </thead>\n",
       "  <tbody>\n",
       "    <tr>\n",
       "      <th>31130</th>\n",
       "      <td>nan</td>\n",
       "      <td>nan</td>\n",
       "      <td>nan</td>\n",
       "      <td>nan</td>\n",
       "      <td>nan</td>\n",
       "      <td>nan</td>\n",
       "      <td>nan</td>\n",
       "      <td>nan</td>\n",
       "      <td>nan</td>\n",
       "    </tr>\n",
       "    <tr>\n",
       "      <th>31131</th>\n",
       "      <td>0.000</td>\n",
       "      <td>0.000</td>\n",
       "      <td>0.000</td>\n",
       "      <td>0.000</td>\n",
       "      <td>0.000</td>\n",
       "      <td>0.000</td>\n",
       "      <td>0.000</td>\n",
       "      <td>0.000</td>\n",
       "      <td>0.000</td>\n",
       "    </tr>\n",
       "    <tr>\n",
       "      <th>31132</th>\n",
       "      <td>0.000</td>\n",
       "      <td>0.000</td>\n",
       "      <td>0.000</td>\n",
       "      <td>0.000</td>\n",
       "      <td>0.000</td>\n",
       "      <td>0.000</td>\n",
       "      <td>0.000</td>\n",
       "      <td>0.000</td>\n",
       "      <td>0.000</td>\n",
       "    </tr>\n",
       "    <tr>\n",
       "      <th>31134</th>\n",
       "      <td>0.000</td>\n",
       "      <td>0.000</td>\n",
       "      <td>0.000</td>\n",
       "      <td>0.000</td>\n",
       "      <td>0.000</td>\n",
       "      <td>0.000</td>\n",
       "      <td>0.000</td>\n",
       "      <td>0.000</td>\n",
       "      <td>0.000</td>\n",
       "    </tr>\n",
       "    <tr>\n",
       "      <th>31139</th>\n",
       "      <td>0.000</td>\n",
       "      <td>0.000</td>\n",
       "      <td>0.000</td>\n",
       "      <td>0.000</td>\n",
       "      <td>3.000</td>\n",
       "      <td>1.000</td>\n",
       "      <td>0.000</td>\n",
       "      <td>0.000</td>\n",
       "      <td>0.000</td>\n",
       "    </tr>\n",
       "  </tbody>\n",
       "</table>\n",
       "</div>"
      ],
      "text/plain": [
       "       DPQ010  DPQ020  DPQ030  DPQ040  DPQ050  DPQ060  DPQ070  DPQ080  DPQ090\n",
       "SEQN                                                                         \n",
       "31130     nan     nan     nan     nan     nan     nan     nan     nan     nan\n",
       "31131   0.000   0.000   0.000   0.000   0.000   0.000   0.000   0.000   0.000\n",
       "31132   0.000   0.000   0.000   0.000   0.000   0.000   0.000   0.000   0.000\n",
       "31134   0.000   0.000   0.000   0.000   0.000   0.000   0.000   0.000   0.000\n",
       "31139   0.000   0.000   0.000   0.000   3.000   1.000   0.000   0.000   0.000"
      ]
     },
     "execution_count": 11,
     "metadata": {},
     "output_type": "execute_result"
    }
   ],
   "source": [
    "df_target.head()"
   ]
  },
  {
   "cell_type": "code",
   "execution_count": 12,
   "metadata": {
    "ExecuteTime": {
     "end_time": "2021-01-03T22:13:26.245714Z",
     "start_time": "2021-01-03T22:13:26.236713Z"
    }
   },
   "outputs": [
    {
     "data": {
      "text/plain": [
       "DPQ010    4025\n",
       "DPQ020    4031\n",
       "DPQ030    4033\n",
       "DPQ040    4038\n",
       "DPQ050    4038\n",
       "DPQ060    4041\n",
       "DPQ070    4043\n",
       "DPQ080    4044\n",
       "DPQ090    4049\n",
       "dtype: int64"
      ]
     },
     "execution_count": 12,
     "metadata": {},
     "output_type": "execute_result"
    }
   ],
   "source": [
    "df_target.isna().sum()"
   ]
  },
  {
   "cell_type": "code",
   "execution_count": 13,
   "metadata": {
    "ExecuteTime": {
     "end_time": "2021-01-03T22:13:26.652813Z",
     "start_time": "2021-01-03T22:13:26.246732Z"
    }
   },
   "outputs": [
    {
     "data": {
      "image/png": "[encoded data removed]",
      "text/plain": [
       "<Figure size 1800x720 with 2 Axes>"
      ]
     },
     "metadata": {},
     "output_type": "display_data"
    }
   ],
   "source": [
    "import missingno as ms\n",
    "ms.matrix(df_target);"
   ]
  },
  {
   "cell_type": "code",
   "execution_count": 14,
   "metadata": {
    "ExecuteTime": {
     "end_time": "2021-01-03T22:13:26.664899Z",
     "start_time": "2021-01-03T22:13:26.654723Z"
    }
   },
   "outputs": [],
   "source": [
    "df_target.dropna(inplace=True)"
   ]
  },
  {
   "cell_type": "code",
   "execution_count": 15,
   "metadata": {
    "ExecuteTime": {
     "end_time": "2021-01-03T22:13:26.681728Z",
     "start_time": "2021-01-03T22:13:26.666836Z"
    }
   },
   "outputs": [
    {
     "name": "stdout",
     "output_type": "stream",
     "text": [
      "<class 'pandas.core.frame.DataFrame'>\n",
      "Int64Index: 36447 entries, 31131 to 102956\n",
      "Data columns (total 9 columns):\n",
      " #   Column  Non-Null Count  Dtype  \n",
      "---  ------  --------------  -----  \n",
      " 0   DPQ010  36447 non-null  float64\n",
      " 1   DPQ020  36447 non-null  float64\n",
      " 2   DPQ030  36447 non-null  float64\n",
      " 3   DPQ040  36447 non-null  float64\n",
      " 4   DPQ050  36447 non-null  float64\n",
      " 5   DPQ060  36447 non-null  float64\n",
      " 6   DPQ070  36447 non-null  float64\n",
      " 7   DPQ080  36447 non-null  float64\n",
      " 8   DPQ090  36447 non-null  float64\n",
      "dtypes: float64(9)\n",
      "memory usage: 2.8 MB\n"
     ]
    }
   ],
   "source": [
    "df_target.info()"
   ]
  },
  {
   "cell_type": "code",
   "execution_count": 16,
   "metadata": {
    "ExecuteTime": {
     "end_time": "2021-01-03T22:13:26.705727Z",
     "start_time": "2021-01-03T22:13:26.684832Z"
    }
   },
   "outputs": [
    {
     "data": {
      "text/html": [
       "<div>\n",
       "<style scoped>\n",
       "    .dataframe tbody tr th:only-of-type {\n",
       "        vertical-align: middle;\n",
       "    }\n",
       "\n",
       "    .dataframe tbody tr th {\n",
       "        vertical-align: top;\n",
       "    }\n",
       "\n",
       "    .dataframe thead th {\n",
       "        text-align: right;\n",
       "    }\n",
       "</style>\n",
       "<table border=\"1\" class=\"dataframe\">\n",
       "  <thead>\n",
       "    <tr style=\"text-align: right;\">\n",
       "      <th></th>\n",
       "      <th>DPQ010</th>\n",
       "      <th>DPQ020</th>\n",
       "      <th>DPQ030</th>\n",
       "      <th>DPQ040</th>\n",
       "      <th>DPQ050</th>\n",
       "      <th>DPQ060</th>\n",
       "      <th>DPQ070</th>\n",
       "      <th>DPQ080</th>\n",
       "      <th>DPQ090</th>\n",
       "    </tr>\n",
       "    <tr>\n",
       "      <th>SEQN</th>\n",
       "      <th></th>\n",
       "      <th></th>\n",
       "      <th></th>\n",
       "      <th></th>\n",
       "      <th></th>\n",
       "      <th></th>\n",
       "      <th></th>\n",
       "      <th></th>\n",
       "      <th></th>\n",
       "    </tr>\n",
       "  </thead>\n",
       "  <tbody>\n",
       "    <tr>\n",
       "      <th>31131</th>\n",
       "      <td>0.000</td>\n",
       "      <td>0.000</td>\n",
       "      <td>0.000</td>\n",
       "      <td>0.000</td>\n",
       "      <td>0.000</td>\n",
       "      <td>0.000</td>\n",
       "      <td>0.000</td>\n",
       "      <td>0.000</td>\n",
       "      <td>0.000</td>\n",
       "    </tr>\n",
       "    <tr>\n",
       "      <th>31132</th>\n",
       "      <td>0.000</td>\n",
       "      <td>0.000</td>\n",
       "      <td>0.000</td>\n",
       "      <td>0.000</td>\n",
       "      <td>0.000</td>\n",
       "      <td>0.000</td>\n",
       "      <td>0.000</td>\n",
       "      <td>0.000</td>\n",
       "      <td>0.000</td>\n",
       "    </tr>\n",
       "    <tr>\n",
       "      <th>31134</th>\n",
       "      <td>0.000</td>\n",
       "      <td>0.000</td>\n",
       "      <td>0.000</td>\n",
       "      <td>0.000</td>\n",
       "      <td>0.000</td>\n",
       "      <td>0.000</td>\n",
       "      <td>0.000</td>\n",
       "      <td>0.000</td>\n",
       "      <td>0.000</td>\n",
       "    </tr>\n",
       "    <tr>\n",
       "      <th>31139</th>\n",
       "      <td>0.000</td>\n",
       "      <td>0.000</td>\n",
       "      <td>0.000</td>\n",
       "      <td>0.000</td>\n",
       "      <td>3.000</td>\n",
       "      <td>1.000</td>\n",
       "      <td>0.000</td>\n",
       "      <td>0.000</td>\n",
       "      <td>0.000</td>\n",
       "    </tr>\n",
       "    <tr>\n",
       "      <th>31143</th>\n",
       "      <td>0.000</td>\n",
       "      <td>1.000</td>\n",
       "      <td>1.000</td>\n",
       "      <td>1.000</td>\n",
       "      <td>1.000</td>\n",
       "      <td>1.000</td>\n",
       "      <td>1.000</td>\n",
       "      <td>0.000</td>\n",
       "      <td>0.000</td>\n",
       "    </tr>\n",
       "  </tbody>\n",
       "</table>\n",
       "</div>"
      ],
      "text/plain": [
       "       DPQ010  DPQ020  DPQ030  DPQ040  DPQ050  DPQ060  DPQ070  DPQ080  DPQ090\n",
       "SEQN                                                                         \n",
       "31131   0.000   0.000   0.000   0.000   0.000   0.000   0.000   0.000   0.000\n",
       "31132   0.000   0.000   0.000   0.000   0.000   0.000   0.000   0.000   0.000\n",
       "31134   0.000   0.000   0.000   0.000   0.000   0.000   0.000   0.000   0.000\n",
       "31139   0.000   0.000   0.000   0.000   3.000   1.000   0.000   0.000   0.000\n",
       "31143   0.000   1.000   1.000   1.000   1.000   1.000   1.000   0.000   0.000"
      ]
     },
     "execution_count": 16,
     "metadata": {},
     "output_type": "execute_result"
    }
   ],
   "source": [
    "df_target.head()"
   ]
  },
  {
   "cell_type": "code",
   "execution_count": 17,
   "metadata": {
    "ExecuteTime": {
     "end_time": "2021-01-03T22:13:26.712728Z",
     "start_time": "2021-01-03T22:13:26.707727Z"
    }
   },
   "outputs": [],
   "source": [
    "def val_counts(df):\n",
    "    for col in df.columns:\n",
    "        print(f'{col} value counts', '\\n')\n",
    "        display(df_target[col].value_counts(dropna=False))\n",
    "        print('--------------------------------------')"
   ]
  },
  {
   "cell_type": "code",
   "execution_count": 18,
   "metadata": {
    "ExecuteTime": {
     "end_time": "2021-01-03T22:13:26.769815Z",
     "start_time": "2021-01-03T22:13:26.716726Z"
    }
   },
   "outputs": [
    {
     "name": "stdout",
     "output_type": "stream",
     "text": [
      "DPQ010 value counts \n",
      "\n"
     ]
    },
    {
     "data": {
      "text/plain": [
       "0.000    27333\n",
       "1.000     5946\n",
       "2.000     1716\n",
       "3.000     1385\n",
       "9.000       54\n",
       "7.000       13\n",
       "Name: DPQ010, dtype: int64"
      ]
     },
     "metadata": {},
     "output_type": "display_data"
    },
    {
     "name": "stdout",
     "output_type": "stream",
     "text": [
      "--------------------------------------\n",
      "DPQ020 value counts \n",
      "\n"
     ]
    },
    {
     "data": {
      "text/plain": [
       "0.000    27582\n",
       "1.000     6117\n",
       "2.000     1471\n",
       "3.000     1243\n",
       "9.000       26\n",
       "7.000        8\n",
       "Name: DPQ020, dtype: int64"
      ]
     },
     "metadata": {},
     "output_type": "display_data"
    },
    {
     "name": "stdout",
     "output_type": "stream",
     "text": [
      "--------------------------------------\n",
      "DPQ030 value counts \n",
      "\n"
     ]
    },
    {
     "data": {
      "text/plain": [
       "0.000    22611\n",
       "1.000     8120\n",
       "3.000     3180\n",
       "2.000     2506\n",
       "9.000       24\n",
       "7.000        6\n",
       "Name: DPQ030, dtype: int64"
      ]
     },
     "metadata": {},
     "output_type": "display_data"
    },
    {
     "name": "stdout",
     "output_type": "stream",
     "text": [
      "--------------------------------------\n",
      "DPQ040 value counts \n",
      "\n"
     ]
    },
    {
     "data": {
      "text/plain": [
       "0.000    18316\n",
       "1.000    12057\n",
       "3.000     3108\n",
       "2.000     2937\n",
       "9.000       23\n",
       "7.000        6\n",
       "Name: DPQ040, dtype: int64"
      ]
     },
     "metadata": {},
     "output_type": "display_data"
    },
    {
     "name": "stdout",
     "output_type": "stream",
     "text": [
      "--------------------------------------\n",
      "DPQ050 value counts \n",
      "\n"
     ]
    },
    {
     "data": {
      "text/plain": [
       "0.000    27482\n",
       "1.000     5614\n",
       "2.000     1696\n",
       "3.000     1628\n",
       "9.000       24\n",
       "7.000        3\n",
       "Name: DPQ050, dtype: int64"
      ]
     },
     "metadata": {},
     "output_type": "display_data"
    },
    {
     "name": "stdout",
     "output_type": "stream",
     "text": [
      "--------------------------------------\n",
      "DPQ060 value counts \n",
      "\n"
     ]
    },
    {
     "data": {
      "text/plain": [
       "0.000    30214\n",
       "1.000     4161\n",
       "2.000     1032\n",
       "3.000      989\n",
       "9.000       45\n",
       "7.000        6\n",
       "Name: DPQ060, dtype: int64"
      ]
     },
     "metadata": {},
     "output_type": "display_data"
    },
    {
     "name": "stdout",
     "output_type": "stream",
     "text": [
      "--------------------------------------\n",
      "DPQ070 value counts \n",
      "\n"
     ]
    },
    {
     "data": {
      "text/plain": [
       "0.000    30248\n",
       "1.000     3967\n",
       "3.000     1126\n",
       "2.000     1075\n",
       "9.000       27\n",
       "7.000        4\n",
       "Name: DPQ070, dtype: int64"
      ]
     },
     "metadata": {},
     "output_type": "display_data"
    },
    {
     "name": "stdout",
     "output_type": "stream",
     "text": [
      "--------------------------------------\n",
      "DPQ080 value counts \n",
      "\n"
     ]
    },
    {
     "data": {
      "text/plain": [
       "0.000    32397\n",
       "1.000     2574\n",
       "2.000      770\n",
       "3.000      661\n",
       "9.000       41\n",
       "7.000        4\n",
       "Name: DPQ080, dtype: int64"
      ]
     },
     "metadata": {},
     "output_type": "display_data"
    },
    {
     "name": "stdout",
     "output_type": "stream",
     "text": [
      "--------------------------------------\n",
      "DPQ090 value counts \n",
      "\n"
     ]
    },
    {
     "data": {
      "text/plain": [
       "0.000    35027\n",
       "1.000      950\n",
       "2.000      224\n",
       "3.000      208\n",
       "9.000       30\n",
       "7.000        8\n",
       "Name: DPQ090, dtype: int64"
      ]
     },
     "metadata": {},
     "output_type": "display_data"
    },
    {
     "name": "stdout",
     "output_type": "stream",
     "text": [
      "--------------------------------------\n"
     ]
    }
   ],
   "source": [
    "val_counts(df_target)"
   ]
  },
  {
   "cell_type": "code",
   "execution_count": 19,
   "metadata": {
    "ExecuteTime": {
     "end_time": "2021-01-03T22:13:26.787764Z",
     "start_time": "2021-01-03T22:13:26.771726Z"
    }
   },
   "outputs": [],
   "source": [
    "df_target = df_target[(df_target != 7) & (df_target != 9)]"
   ]
  },
  {
   "cell_type": "code",
   "execution_count": 20,
   "metadata": {
    "ExecuteTime": {
     "end_time": "2021-01-03T22:13:26.799741Z",
     "start_time": "2021-01-03T22:13:26.788725Z"
    }
   },
   "outputs": [
    {
     "data": {
      "text/html": [
       "<div>\n",
       "<style scoped>\n",
       "    .dataframe tbody tr th:only-of-type {\n",
       "        vertical-align: middle;\n",
       "    }\n",
       "\n",
       "    .dataframe tbody tr th {\n",
       "        vertical-align: top;\n",
       "    }\n",
       "\n",
       "    .dataframe thead th {\n",
       "        text-align: right;\n",
       "    }\n",
       "</style>\n",
       "<table border=\"1\" class=\"dataframe\">\n",
       "  <thead>\n",
       "    <tr style=\"text-align: right;\">\n",
       "      <th></th>\n",
       "      <th>DPQ010</th>\n",
       "      <th>DPQ020</th>\n",
       "      <th>DPQ030</th>\n",
       "      <th>DPQ040</th>\n",
       "      <th>DPQ050</th>\n",
       "      <th>DPQ060</th>\n",
       "      <th>DPQ070</th>\n",
       "      <th>DPQ080</th>\n",
       "      <th>DPQ090</th>\n",
       "    </tr>\n",
       "    <tr>\n",
       "      <th>SEQN</th>\n",
       "      <th></th>\n",
       "      <th></th>\n",
       "      <th></th>\n",
       "      <th></th>\n",
       "      <th></th>\n",
       "      <th></th>\n",
       "      <th></th>\n",
       "      <th></th>\n",
       "      <th></th>\n",
       "    </tr>\n",
       "  </thead>\n",
       "  <tbody>\n",
       "    <tr>\n",
       "      <th>31131</th>\n",
       "      <td>0.000</td>\n",
       "      <td>0.000</td>\n",
       "      <td>0.000</td>\n",
       "      <td>0.000</td>\n",
       "      <td>0.000</td>\n",
       "      <td>0.000</td>\n",
       "      <td>0.000</td>\n",
       "      <td>0.000</td>\n",
       "      <td>0.000</td>\n",
       "    </tr>\n",
       "    <tr>\n",
       "      <th>31132</th>\n",
       "      <td>0.000</td>\n",
       "      <td>0.000</td>\n",
       "      <td>0.000</td>\n",
       "      <td>0.000</td>\n",
       "      <td>0.000</td>\n",
       "      <td>0.000</td>\n",
       "      <td>0.000</td>\n",
       "      <td>0.000</td>\n",
       "      <td>0.000</td>\n",
       "    </tr>\n",
       "    <tr>\n",
       "      <th>31134</th>\n",
       "      <td>0.000</td>\n",
       "      <td>0.000</td>\n",
       "      <td>0.000</td>\n",
       "      <td>0.000</td>\n",
       "      <td>0.000</td>\n",
       "      <td>0.000</td>\n",
       "      <td>0.000</td>\n",
       "      <td>0.000</td>\n",
       "      <td>0.000</td>\n",
       "    </tr>\n",
       "    <tr>\n",
       "      <th>31139</th>\n",
       "      <td>0.000</td>\n",
       "      <td>0.000</td>\n",
       "      <td>0.000</td>\n",
       "      <td>0.000</td>\n",
       "      <td>3.000</td>\n",
       "      <td>1.000</td>\n",
       "      <td>0.000</td>\n",
       "      <td>0.000</td>\n",
       "      <td>0.000</td>\n",
       "    </tr>\n",
       "    <tr>\n",
       "      <th>31143</th>\n",
       "      <td>0.000</td>\n",
       "      <td>1.000</td>\n",
       "      <td>1.000</td>\n",
       "      <td>1.000</td>\n",
       "      <td>1.000</td>\n",
       "      <td>1.000</td>\n",
       "      <td>1.000</td>\n",
       "      <td>0.000</td>\n",
       "      <td>0.000</td>\n",
       "    </tr>\n",
       "  </tbody>\n",
       "</table>\n",
       "</div>"
      ],
      "text/plain": [
       "       DPQ010  DPQ020  DPQ030  DPQ040  DPQ050  DPQ060  DPQ070  DPQ080  DPQ090\n",
       "SEQN                                                                         \n",
       "31131   0.000   0.000   0.000   0.000   0.000   0.000   0.000   0.000   0.000\n",
       "31132   0.000   0.000   0.000   0.000   0.000   0.000   0.000   0.000   0.000\n",
       "31134   0.000   0.000   0.000   0.000   0.000   0.000   0.000   0.000   0.000\n",
       "31139   0.000   0.000   0.000   0.000   3.000   1.000   0.000   0.000   0.000\n",
       "31143   0.000   1.000   1.000   1.000   1.000   1.000   1.000   0.000   0.000"
      ]
     },
     "execution_count": 20,
     "metadata": {},
     "output_type": "execute_result"
    }
   ],
   "source": [
    "df_target.head()"
   ]
  },
  {
   "cell_type": "code",
   "execution_count": 21,
   "metadata": {
    "ExecuteTime": {
     "end_time": "2021-01-03T22:13:26.847728Z",
     "start_time": "2021-01-03T22:13:26.801734Z"
    }
   },
   "outputs": [
    {
     "name": "stdout",
     "output_type": "stream",
     "text": [
      "DPQ010 value counts \n",
      "\n"
     ]
    },
    {
     "data": {
      "text/plain": [
       "0.000    27333\n",
       "1.000     5946\n",
       "2.000     1716\n",
       "3.000     1385\n",
       "nan         67\n",
       "Name: DPQ010, dtype: int64"
      ]
     },
     "metadata": {},
     "output_type": "display_data"
    },
    {
     "name": "stdout",
     "output_type": "stream",
     "text": [
      "--------------------------------------\n",
      "DPQ020 value counts \n",
      "\n"
     ]
    },
    {
     "data": {
      "text/plain": [
       "0.000    27582\n",
       "1.000     6117\n",
       "2.000     1471\n",
       "3.000     1243\n",
       "nan         34\n",
       "Name: DPQ020, dtype: int64"
      ]
     },
     "metadata": {},
     "output_type": "display_data"
    },
    {
     "name": "stdout",
     "output_type": "stream",
     "text": [
      "--------------------------------------\n",
      "DPQ030 value counts \n",
      "\n"
     ]
    },
    {
     "data": {
      "text/plain": [
       "0.000    22611\n",
       "1.000     8120\n",
       "3.000     3180\n",
       "2.000     2506\n",
       "nan         30\n",
       "Name: DPQ030, dtype: int64"
      ]
     },
     "metadata": {},
     "output_type": "display_data"
    },
    {
     "name": "stdout",
     "output_type": "stream",
     "text": [
      "--------------------------------------\n",
      "DPQ040 value counts \n",
      "\n"
     ]
    },
    {
     "data": {
      "text/plain": [
       "0.000    18316\n",
       "1.000    12057\n",
       "3.000     3108\n",
       "2.000     2937\n",
       "nan         29\n",
       "Name: DPQ040, dtype: int64"
      ]
     },
     "metadata": {},
     "output_type": "display_data"
    },
    {
     "name": "stdout",
     "output_type": "stream",
     "text": [
      "--------------------------------------\n",
      "DPQ050 value counts \n",
      "\n"
     ]
    },
    {
     "data": {
      "text/plain": [
       "0.000    27482\n",
       "1.000     5614\n",
       "2.000     1696\n",
       "3.000     1628\n",
       "nan         27\n",
       "Name: DPQ050, dtype: int64"
      ]
     },
     "metadata": {},
     "output_type": "display_data"
    },
    {
     "name": "stdout",
     "output_type": "stream",
     "text": [
      "--------------------------------------\n",
      "DPQ060 value counts \n",
      "\n"
     ]
    },
    {
     "data": {
      "text/plain": [
       "0.000    30214\n",
       "1.000     4161\n",
       "2.000     1032\n",
       "3.000      989\n",
       "nan         51\n",
       "Name: DPQ060, dtype: int64"
      ]
     },
     "metadata": {},
     "output_type": "display_data"
    },
    {
     "name": "stdout",
     "output_type": "stream",
     "text": [
      "--------------------------------------\n",
      "DPQ070 value counts \n",
      "\n"
     ]
    },
    {
     "data": {
      "text/plain": [
       "0.000    30248\n",
       "1.000     3967\n",
       "3.000     1126\n",
       "2.000     1075\n",
       "nan         31\n",
       "Name: DPQ070, dtype: int64"
      ]
     },
     "metadata": {},
     "output_type": "display_data"
    },
    {
     "name": "stdout",
     "output_type": "stream",
     "text": [
      "--------------------------------------\n",
      "DPQ080 value counts \n",
      "\n"
     ]
    },
    {
     "data": {
      "text/plain": [
       "0.000    32397\n",
       "1.000     2574\n",
       "2.000      770\n",
       "3.000      661\n",
       "nan         45\n",
       "Name: DPQ080, dtype: int64"
      ]
     },
     "metadata": {},
     "output_type": "display_data"
    },
    {
     "name": "stdout",
     "output_type": "stream",
     "text": [
      "--------------------------------------\n",
      "DPQ090 value counts \n",
      "\n"
     ]
    },
    {
     "data": {
      "text/plain": [
       "0.000    35027\n",
       "1.000      950\n",
       "2.000      224\n",
       "3.000      208\n",
       "nan         38\n",
       "Name: DPQ090, dtype: int64"
      ]
     },
     "metadata": {},
     "output_type": "display_data"
    },
    {
     "name": "stdout",
     "output_type": "stream",
     "text": [
      "--------------------------------------\n"
     ]
    }
   ],
   "source": [
    "val_counts(df_target)"
   ]
  },
  {
   "cell_type": "code",
   "execution_count": 22,
   "metadata": {
    "ExecuteTime": {
     "end_time": "2021-01-03T22:13:26.861726Z",
     "start_time": "2021-01-03T22:13:26.849735Z"
    }
   },
   "outputs": [
    {
     "name": "stdout",
     "output_type": "stream",
     "text": [
      "<class 'pandas.core.frame.DataFrame'>\n",
      "Int64Index: 36447 entries, 31131 to 102956\n",
      "Data columns (total 9 columns):\n",
      " #   Column  Non-Null Count  Dtype  \n",
      "---  ------  --------------  -----  \n",
      " 0   DPQ010  36380 non-null  float64\n",
      " 1   DPQ020  36413 non-null  float64\n",
      " 2   DPQ030  36417 non-null  float64\n",
      " 3   DPQ040  36418 non-null  float64\n",
      " 4   DPQ050  36420 non-null  float64\n",
      " 5   DPQ060  36396 non-null  float64\n",
      " 6   DPQ070  36416 non-null  float64\n",
      " 7   DPQ080  36402 non-null  float64\n",
      " 8   DPQ090  36409 non-null  float64\n",
      "dtypes: float64(9)\n",
      "memory usage: 2.8 MB\n"
     ]
    }
   ],
   "source": [
    "df_target.info()"
   ]
  },
  {
   "cell_type": "code",
   "execution_count": 23,
   "metadata": {
    "ExecuteTime": {
     "end_time": "2021-01-03T22:13:26.873727Z",
     "start_time": "2021-01-03T22:13:26.866758Z"
    }
   },
   "outputs": [
    {
     "data": {
      "text/plain": [
       "DPQ010    67\n",
       "DPQ020    34\n",
       "DPQ030    30\n",
       "DPQ040    29\n",
       "DPQ050    27\n",
       "DPQ060    51\n",
       "DPQ070    31\n",
       "DPQ080    45\n",
       "DPQ090    38\n",
       "dtype: int64"
      ]
     },
     "execution_count": 23,
     "metadata": {},
     "output_type": "execute_result"
    }
   ],
   "source": [
    "df_target.isna().sum()"
   ]
  },
  {
   "cell_type": "code",
   "execution_count": 24,
   "metadata": {
    "ExecuteTime": {
     "end_time": "2021-01-03T22:13:27.207728Z",
     "start_time": "2021-01-03T22:13:26.876724Z"
    }
   },
   "outputs": [
    {
     "data": {
      "image/png": "[encoded data removed]",
      "text/plain": [
       "<Figure size 1800x720 with 2 Axes>"
      ]
     },
     "metadata": {},
     "output_type": "display_data"
    }
   ],
   "source": [
    "ms.matrix(df_target);"
   ]
  },
  {
   "cell_type": "code",
   "execution_count": 25,
   "metadata": {
    "ExecuteTime": {
     "end_time": "2021-01-03T22:13:27.216726Z",
     "start_time": "2021-01-03T22:13:27.208780Z"
    }
   },
   "outputs": [],
   "source": [
    "df_target.dropna(inplace=True)"
   ]
  },
  {
   "cell_type": "code",
   "execution_count": 26,
   "metadata": {
    "ExecuteTime": {
     "end_time": "2021-01-03T22:13:27.231731Z",
     "start_time": "2021-01-03T22:13:27.218725Z"
    }
   },
   "outputs": [
    {
     "name": "stdout",
     "output_type": "stream",
     "text": [
      "<class 'pandas.core.frame.DataFrame'>\n",
      "Int64Index: 36259 entries, 31131 to 102956\n",
      "Data columns (total 9 columns):\n",
      " #   Column  Non-Null Count  Dtype  \n",
      "---  ------  --------------  -----  \n",
      " 0   DPQ010  36259 non-null  float64\n",
      " 1   DPQ020  36259 non-null  float64\n",
      " 2   DPQ030  36259 non-null  float64\n",
      " 3   DPQ040  36259 non-null  float64\n",
      " 4   DPQ050  36259 non-null  float64\n",
      " 5   DPQ060  36259 non-null  float64\n",
      " 6   DPQ070  36259 non-null  float64\n",
      " 7   DPQ080  36259 non-null  float64\n",
      " 8   DPQ090  36259 non-null  float64\n",
      "dtypes: float64(9)\n",
      "memory usage: 2.8 MB\n"
     ]
    }
   ],
   "source": [
    "df_target.info()"
   ]
  },
  {
   "cell_type": "code",
   "execution_count": 27,
   "metadata": {
    "ExecuteTime": {
     "end_time": "2021-01-03T22:13:27.240728Z",
     "start_time": "2021-01-03T22:13:27.233724Z"
    }
   },
   "outputs": [],
   "source": [
    "df_target = df_target.astype('int64')"
   ]
  },
  {
   "cell_type": "code",
   "execution_count": 28,
   "metadata": {
    "ExecuteTime": {
     "end_time": "2021-01-03T22:13:27.257727Z",
     "start_time": "2021-01-03T22:13:27.243737Z"
    }
   },
   "outputs": [
    {
     "data": {
      "text/html": [
       "<div>\n",
       "<style scoped>\n",
       "    .dataframe tbody tr th:only-of-type {\n",
       "        vertical-align: middle;\n",
       "    }\n",
       "\n",
       "    .dataframe tbody tr th {\n",
       "        vertical-align: top;\n",
       "    }\n",
       "\n",
       "    .dataframe thead th {\n",
       "        text-align: right;\n",
       "    }\n",
       "</style>\n",
       "<table border=\"1\" class=\"dataframe\">\n",
       "  <thead>\n",
       "    <tr style=\"text-align: right;\">\n",
       "      <th></th>\n",
       "      <th>DPQ010</th>\n",
       "      <th>DPQ020</th>\n",
       "      <th>DPQ030</th>\n",
       "      <th>DPQ040</th>\n",
       "      <th>DPQ050</th>\n",
       "      <th>DPQ060</th>\n",
       "      <th>DPQ070</th>\n",
       "      <th>DPQ080</th>\n",
       "      <th>DPQ090</th>\n",
       "    </tr>\n",
       "    <tr>\n",
       "      <th>SEQN</th>\n",
       "      <th></th>\n",
       "      <th></th>\n",
       "      <th></th>\n",
       "      <th></th>\n",
       "      <th></th>\n",
       "      <th></th>\n",
       "      <th></th>\n",
       "      <th></th>\n",
       "      <th></th>\n",
       "    </tr>\n",
       "  </thead>\n",
       "  <tbody>\n",
       "    <tr>\n",
       "      <th>31131</th>\n",
       "      <td>0</td>\n",
       "      <td>0</td>\n",
       "      <td>0</td>\n",
       "      <td>0</td>\n",
       "      <td>0</td>\n",
       "      <td>0</td>\n",
       "      <td>0</td>\n",
       "      <td>0</td>\n",
       "      <td>0</td>\n",
       "    </tr>\n",
       "    <tr>\n",
       "      <th>31132</th>\n",
       "      <td>0</td>\n",
       "      <td>0</td>\n",
       "      <td>0</td>\n",
       "      <td>0</td>\n",
       "      <td>0</td>\n",
       "      <td>0</td>\n",
       "      <td>0</td>\n",
       "      <td>0</td>\n",
       "      <td>0</td>\n",
       "    </tr>\n",
       "    <tr>\n",
       "      <th>31134</th>\n",
       "      <td>0</td>\n",
       "      <td>0</td>\n",
       "      <td>0</td>\n",
       "      <td>0</td>\n",
       "      <td>0</td>\n",
       "      <td>0</td>\n",
       "      <td>0</td>\n",
       "      <td>0</td>\n",
       "      <td>0</td>\n",
       "    </tr>\n",
       "    <tr>\n",
       "      <th>31139</th>\n",
       "      <td>0</td>\n",
       "      <td>0</td>\n",
       "      <td>0</td>\n",
       "      <td>0</td>\n",
       "      <td>3</td>\n",
       "      <td>1</td>\n",
       "      <td>0</td>\n",
       "      <td>0</td>\n",
       "      <td>0</td>\n",
       "    </tr>\n",
       "    <tr>\n",
       "      <th>31143</th>\n",
       "      <td>0</td>\n",
       "      <td>1</td>\n",
       "      <td>1</td>\n",
       "      <td>1</td>\n",
       "      <td>1</td>\n",
       "      <td>1</td>\n",
       "      <td>1</td>\n",
       "      <td>0</td>\n",
       "      <td>0</td>\n",
       "    </tr>\n",
       "  </tbody>\n",
       "</table>\n",
       "</div>"
      ],
      "text/plain": [
       "       DPQ010  DPQ020  DPQ030  DPQ040  DPQ050  DPQ060  DPQ070  DPQ080  DPQ090\n",
       "SEQN                                                                         \n",
       "31131       0       0       0       0       0       0       0       0       0\n",
       "31132       0       0       0       0       0       0       0       0       0\n",
       "31134       0       0       0       0       0       0       0       0       0\n",
       "31139       0       0       0       0       3       1       0       0       0\n",
       "31143       0       1       1       1       1       1       1       0       0"
      ]
     },
     "execution_count": 28,
     "metadata": {},
     "output_type": "execute_result"
    }
   ],
   "source": [
    "df_target.head()"
   ]
  },
  {
   "cell_type": "code",
   "execution_count": 29,
   "metadata": {
    "ExecuteTime": {
     "end_time": "2021-01-03T22:13:27.265733Z",
     "start_time": "2021-01-03T22:13:27.259761Z"
    }
   },
   "outputs": [],
   "source": [
    "df_target['Total'] = df_target.sum(axis=1)"
   ]
  },
  {
   "cell_type": "code",
   "execution_count": 30,
   "metadata": {
    "ExecuteTime": {
     "end_time": "2021-01-03T22:13:27.281729Z",
     "start_time": "2021-01-03T22:13:27.268762Z"
    }
   },
   "outputs": [
    {
     "data": {
      "text/html": [
       "<div>\n",
       "<style scoped>\n",
       "    .dataframe tbody tr th:only-of-type {\n",
       "        vertical-align: middle;\n",
       "    }\n",
       "\n",
       "    .dataframe tbody tr th {\n",
       "        vertical-align: top;\n",
       "    }\n",
       "\n",
       "    .dataframe thead th {\n",
       "        text-align: right;\n",
       "    }\n",
       "</style>\n",
       "<table border=\"1\" class=\"dataframe\">\n",
       "  <thead>\n",
       "    <tr style=\"text-align: right;\">\n",
       "      <th></th>\n",
       "      <th>DPQ010</th>\n",
       "      <th>DPQ020</th>\n",
       "      <th>DPQ030</th>\n",
       "      <th>DPQ040</th>\n",
       "      <th>DPQ050</th>\n",
       "      <th>DPQ060</th>\n",
       "      <th>DPQ070</th>\n",
       "      <th>DPQ080</th>\n",
       "      <th>DPQ090</th>\n",
       "      <th>Total</th>\n",
       "    </tr>\n",
       "    <tr>\n",
       "      <th>SEQN</th>\n",
       "      <th></th>\n",
       "      <th></th>\n",
       "      <th></th>\n",
       "      <th></th>\n",
       "      <th></th>\n",
       "      <th></th>\n",
       "      <th></th>\n",
       "      <th></th>\n",
       "      <th></th>\n",
       "      <th></th>\n",
       "    </tr>\n",
       "  </thead>\n",
       "  <tbody>\n",
       "    <tr>\n",
       "      <th>31131</th>\n",
       "      <td>0</td>\n",
       "      <td>0</td>\n",
       "      <td>0</td>\n",
       "      <td>0</td>\n",
       "      <td>0</td>\n",
       "      <td>0</td>\n",
       "      <td>0</td>\n",
       "      <td>0</td>\n",
       "      <td>0</td>\n",
       "      <td>0</td>\n",
       "    </tr>\n",
       "    <tr>\n",
       "      <th>31132</th>\n",
       "      <td>0</td>\n",
       "      <td>0</td>\n",
       "      <td>0</td>\n",
       "      <td>0</td>\n",
       "      <td>0</td>\n",
       "      <td>0</td>\n",
       "      <td>0</td>\n",
       "      <td>0</td>\n",
       "      <td>0</td>\n",
       "      <td>0</td>\n",
       "    </tr>\n",
       "    <tr>\n",
       "      <th>31134</th>\n",
       "      <td>0</td>\n",
       "      <td>0</td>\n",
       "      <td>0</td>\n",
       "      <td>0</td>\n",
       "      <td>0</td>\n",
       "      <td>0</td>\n",
       "      <td>0</td>\n",
       "      <td>0</td>\n",
       "      <td>0</td>\n",
       "      <td>0</td>\n",
       "    </tr>\n",
       "    <tr>\n",
       "      <th>31139</th>\n",
       "      <td>0</td>\n",
       "      <td>0</td>\n",
       "      <td>0</td>\n",
       "      <td>0</td>\n",
       "      <td>3</td>\n",
       "      <td>1</td>\n",
       "      <td>0</td>\n",
       "      <td>0</td>\n",
       "      <td>0</td>\n",
       "      <td>4</td>\n",
       "    </tr>\n",
       "    <tr>\n",
       "      <th>31143</th>\n",
       "      <td>0</td>\n",
       "      <td>1</td>\n",
       "      <td>1</td>\n",
       "      <td>1</td>\n",
       "      <td>1</td>\n",
       "      <td>1</td>\n",
       "      <td>1</td>\n",
       "      <td>0</td>\n",
       "      <td>0</td>\n",
       "      <td>6</td>\n",
       "    </tr>\n",
       "  </tbody>\n",
       "</table>\n",
       "</div>"
      ],
      "text/plain": [
       "       DPQ010  DPQ020  DPQ030  DPQ040  DPQ050  DPQ060  DPQ070  DPQ080  DPQ090  \\\n",
       "SEQN                                                                            \n",
       "31131       0       0       0       0       0       0       0       0       0   \n",
       "31132       0       0       0       0       0       0       0       0       0   \n",
       "31134       0       0       0       0       0       0       0       0       0   \n",
       "31139       0       0       0       0       3       1       0       0       0   \n",
       "31143       0       1       1       1       1       1       1       0       0   \n",
       "\n",
       "       Total  \n",
       "SEQN          \n",
       "31131      0  \n",
       "31132      0  \n",
       "31134      0  \n",
       "31139      4  \n",
       "31143      6  "
      ]
     },
     "execution_count": 30,
     "metadata": {},
     "output_type": "execute_result"
    }
   ],
   "source": [
    "df_target.head()"
   ]
  },
  {
   "cell_type": "code",
   "execution_count": 31,
   "metadata": {
    "ExecuteTime": {
     "end_time": "2021-01-03T22:13:27.294769Z",
     "start_time": "2021-01-03T22:13:27.284729Z"
    }
   },
   "outputs": [
    {
     "data": {
      "text/plain": [
       "0    0.329\n",
       "1    0.149\n",
       "2    0.119\n",
       "3    0.091\n",
       "4    0.065\n",
       "5    0.047\n",
       "6    0.039\n",
       "7    0.030\n",
       "8    0.024\n",
       "9    0.019\n",
       "10   0.016\n",
       "11   0.012\n",
       "12   0.010\n",
       "13   0.009\n",
       "14   0.008\n",
       "15   0.006\n",
       "16   0.005\n",
       "17   0.004\n",
       "18   0.004\n",
       "19   0.003\n",
       "21   0.002\n",
       "20   0.002\n",
       "22   0.001\n",
       "24   0.001\n",
       "23   0.001\n",
       "25   0.001\n",
       "27   0.000\n",
       "26   0.000\n",
       "Name: Total, dtype: float64"
      ]
     },
     "execution_count": 31,
     "metadata": {},
     "output_type": "execute_result"
    }
   ],
   "source": [
    "df_target.Total.value_counts(1)"
   ]
  },
  {
   "cell_type": "code",
   "execution_count": 32,
   "metadata": {
    "ExecuteTime": {
     "end_time": "2021-01-03T22:13:27.306734Z",
     "start_time": "2021-01-03T22:13:27.296759Z"
    }
   },
   "outputs": [],
   "source": [
    "df_target['Category'] = df_target.Total.apply(lambda x: 'Not Depressed' if x<10 else 'Depressed')"
   ]
  },
  {
   "cell_type": "code",
   "execution_count": 33,
   "metadata": {
    "ExecuteTime": {
     "end_time": "2021-01-03T22:13:27.321732Z",
     "start_time": "2021-01-03T22:13:27.309729Z"
    }
   },
   "outputs": [
    {
     "data": {
      "text/plain": [
       "Not Depressed   0.913\n",
       "Depressed       0.087\n",
       "Name: Category, dtype: float64"
      ]
     },
     "execution_count": 33,
     "metadata": {},
     "output_type": "execute_result"
    }
   ],
   "source": [
    "df_target.Category.value_counts(1)"
   ]
  },
  {
   "cell_type": "code",
   "execution_count": 34,
   "metadata": {
    "ExecuteTime": {
     "end_time": "2021-01-03T22:13:27.335727Z",
     "start_time": "2021-01-03T22:13:27.325738Z"
    }
   },
   "outputs": [
    {
     "data": {
      "text/plain": [
       "SEQN\n",
       "31131    Not Depressed\n",
       "31132    Not Depressed\n",
       "31134    Not Depressed\n",
       "31139    Not Depressed\n",
       "31143    Not Depressed\n",
       "Name: Category, dtype: object"
      ]
     },
     "execution_count": 34,
     "metadata": {},
     "output_type": "execute_result"
    }
   ],
   "source": [
    "series_target = pd.Series(df_target['Category'])\n",
    "series_target.head()"
   ]
  },
  {
   "cell_type": "code",
   "execution_count": 35,
   "metadata": {
    "ExecuteTime": {
     "end_time": "2021-01-03T22:13:27.349723Z",
     "start_time": "2021-01-03T22:13:27.337731Z"
    }
   },
   "outputs": [
    {
     "data": {
      "text/plain": [
       "Not Depressed   0.913\n",
       "Depressed       0.087\n",
       "Name: Category, dtype: float64"
      ]
     },
     "execution_count": 35,
     "metadata": {},
     "output_type": "execute_result"
    }
   ],
   "source": [
    "series_target.value_counts(1)"
   ]
  },
  {
   "cell_type": "markdown",
   "metadata": {},
   "source": [
    "# Demographic Data"
   ]
  },
  {
   "cell_type": "code",
   "execution_count": 36,
   "metadata": {
    "ExecuteTime": {
     "end_time": "2021-01-03T22:13:27.906819Z",
     "start_time": "2021-01-03T22:13:27.351726Z"
    }
   },
   "outputs": [
    {
     "data": {
      "text/plain": [
       "['Data/Demographics\\\\DEMO_D.XPT',\n",
       " 'Data/Demographics\\\\DEMO_E.XPT',\n",
       " 'Data/Demographics\\\\DEMO_F.XPT',\n",
       " 'Data/Demographics\\\\DEMO_G.XPT',\n",
       " 'Data/Demographics\\\\DEMO_H.XPT',\n",
       " 'Data/Demographics\\\\DEMO_I.XPT',\n",
       " 'Data/Demographics\\\\DEMO_J.XPT']"
      ]
     },
     "metadata": {},
     "output_type": "display_data"
    }
   ],
   "source": [
    "path = r'Data/Demographics'\n",
    "df_demo = glob_concat(path, '*.XPT')"
   ]
  },
  {
   "cell_type": "code",
   "execution_count": 37,
   "metadata": {
    "ExecuteTime": {
     "end_time": "2021-01-03T22:13:27.931732Z",
     "start_time": "2021-01-03T22:13:27.908739Z"
    }
   },
   "outputs": [
    {
     "data": {
      "text/html": [
       "<div>\n",
       "<style scoped>\n",
       "    .dataframe tbody tr th:only-of-type {\n",
       "        vertical-align: middle;\n",
       "    }\n",
       "\n",
       "    .dataframe tbody tr th {\n",
       "        vertical-align: top;\n",
       "    }\n",
       "\n",
       "    .dataframe thead th {\n",
       "        text-align: right;\n",
       "    }\n",
       "</style>\n",
       "<table border=\"1\" class=\"dataframe\">\n",
       "  <thead>\n",
       "    <tr style=\"text-align: right;\">\n",
       "      <th></th>\n",
       "      <th>SEQN</th>\n",
       "      <th>SDDSRVYR</th>\n",
       "      <th>RIDSTATR</th>\n",
       "      <th>RIDEXMON</th>\n",
       "      <th>RIAGENDR</th>\n",
       "      <th>RIDAGEYR</th>\n",
       "      <th>RIDAGEMN</th>\n",
       "      <th>RIDAGEEX</th>\n",
       "      <th>RIDRETH1</th>\n",
       "      <th>DMQMILIT</th>\n",
       "      <th>...</th>\n",
       "      <th>DMDBORN4</th>\n",
       "      <th>AIALANGA</th>\n",
       "      <th>DMDHHSZA</th>\n",
       "      <th>DMDHHSZB</th>\n",
       "      <th>DMDHHSZE</th>\n",
       "      <th>DMDHRBR4</th>\n",
       "      <th>DMDHRAGZ</th>\n",
       "      <th>DMDHREDZ</th>\n",
       "      <th>DMDHRMAZ</th>\n",
       "      <th>DMDHSEDZ</th>\n",
       "    </tr>\n",
       "  </thead>\n",
       "  <tbody>\n",
       "    <tr>\n",
       "      <th>0</th>\n",
       "      <td>31127.000</td>\n",
       "      <td>4.000</td>\n",
       "      <td>2.000</td>\n",
       "      <td>2.000</td>\n",
       "      <td>1.000</td>\n",
       "      <td>0.000</td>\n",
       "      <td>11.000</td>\n",
       "      <td>12.000</td>\n",
       "      <td>3.000</td>\n",
       "      <td>nan</td>\n",
       "      <td>...</td>\n",
       "      <td>nan</td>\n",
       "      <td>nan</td>\n",
       "      <td>nan</td>\n",
       "      <td>nan</td>\n",
       "      <td>nan</td>\n",
       "      <td>nan</td>\n",
       "      <td>nan</td>\n",
       "      <td>nan</td>\n",
       "      <td>nan</td>\n",
       "      <td>nan</td>\n",
       "    </tr>\n",
       "    <tr>\n",
       "      <th>1</th>\n",
       "      <td>31128.000</td>\n",
       "      <td>4.000</td>\n",
       "      <td>2.000</td>\n",
       "      <td>1.000</td>\n",
       "      <td>2.000</td>\n",
       "      <td>11.000</td>\n",
       "      <td>132.000</td>\n",
       "      <td>132.000</td>\n",
       "      <td>4.000</td>\n",
       "      <td>nan</td>\n",
       "      <td>...</td>\n",
       "      <td>nan</td>\n",
       "      <td>nan</td>\n",
       "      <td>nan</td>\n",
       "      <td>nan</td>\n",
       "      <td>nan</td>\n",
       "      <td>nan</td>\n",
       "      <td>nan</td>\n",
       "      <td>nan</td>\n",
       "      <td>nan</td>\n",
       "      <td>nan</td>\n",
       "    </tr>\n",
       "    <tr>\n",
       "      <th>2</th>\n",
       "      <td>31129.000</td>\n",
       "      <td>4.000</td>\n",
       "      <td>2.000</td>\n",
       "      <td>2.000</td>\n",
       "      <td>1.000</td>\n",
       "      <td>15.000</td>\n",
       "      <td>189.000</td>\n",
       "      <td>190.000</td>\n",
       "      <td>4.000</td>\n",
       "      <td>nan</td>\n",
       "      <td>...</td>\n",
       "      <td>nan</td>\n",
       "      <td>nan</td>\n",
       "      <td>nan</td>\n",
       "      <td>nan</td>\n",
       "      <td>nan</td>\n",
       "      <td>nan</td>\n",
       "      <td>nan</td>\n",
       "      <td>nan</td>\n",
       "      <td>nan</td>\n",
       "      <td>nan</td>\n",
       "    </tr>\n",
       "    <tr>\n",
       "      <th>3</th>\n",
       "      <td>31130.000</td>\n",
       "      <td>4.000</td>\n",
       "      <td>2.000</td>\n",
       "      <td>2.000</td>\n",
       "      <td>2.000</td>\n",
       "      <td>85.000</td>\n",
       "      <td>nan</td>\n",
       "      <td>nan</td>\n",
       "      <td>3.000</td>\n",
       "      <td>2.000</td>\n",
       "      <td>...</td>\n",
       "      <td>nan</td>\n",
       "      <td>nan</td>\n",
       "      <td>nan</td>\n",
       "      <td>nan</td>\n",
       "      <td>nan</td>\n",
       "      <td>nan</td>\n",
       "      <td>nan</td>\n",
       "      <td>nan</td>\n",
       "      <td>nan</td>\n",
       "      <td>nan</td>\n",
       "    </tr>\n",
       "    <tr>\n",
       "      <th>4</th>\n",
       "      <td>31131.000</td>\n",
       "      <td>4.000</td>\n",
       "      <td>2.000</td>\n",
       "      <td>2.000</td>\n",
       "      <td>2.000</td>\n",
       "      <td>44.000</td>\n",
       "      <td>535.000</td>\n",
       "      <td>536.000</td>\n",
       "      <td>4.000</td>\n",
       "      <td>2.000</td>\n",
       "      <td>...</td>\n",
       "      <td>nan</td>\n",
       "      <td>nan</td>\n",
       "      <td>nan</td>\n",
       "      <td>nan</td>\n",
       "      <td>nan</td>\n",
       "      <td>nan</td>\n",
       "      <td>nan</td>\n",
       "      <td>nan</td>\n",
       "      <td>nan</td>\n",
       "      <td>nan</td>\n",
       "    </tr>\n",
       "  </tbody>\n",
       "</table>\n",
       "<p>5 rows × 62 columns</p>\n",
       "</div>"
      ],
      "text/plain": [
       "       SEQN  SDDSRVYR  RIDSTATR  RIDEXMON  RIAGENDR  RIDAGEYR  RIDAGEMN  \\\n",
       "0 31127.000     4.000     2.000     2.000     1.000     0.000    11.000   \n",
       "1 31128.000     4.000     2.000     1.000     2.000    11.000   132.000   \n",
       "2 31129.000     4.000     2.000     2.000     1.000    15.000   189.000   \n",
       "3 31130.000     4.000     2.000     2.000     2.000    85.000       nan   \n",
       "4 31131.000     4.000     2.000     2.000     2.000    44.000   535.000   \n",
       "\n",
       "   RIDAGEEX  RIDRETH1  DMQMILIT  ...  DMDBORN4  AIALANGA  DMDHHSZA  DMDHHSZB  \\\n",
       "0    12.000     3.000       nan  ...       nan       nan       nan       nan   \n",
       "1   132.000     4.000       nan  ...       nan       nan       nan       nan   \n",
       "2   190.000     4.000       nan  ...       nan       nan       nan       nan   \n",
       "3       nan     3.000     2.000  ...       nan       nan       nan       nan   \n",
       "4   536.000     4.000     2.000  ...       nan       nan       nan       nan   \n",
       "\n",
       "   DMDHHSZE  DMDHRBR4  DMDHRAGZ  DMDHREDZ  DMDHRMAZ  DMDHSEDZ  \n",
       "0       nan       nan       nan       nan       nan       nan  \n",
       "1       nan       nan       nan       nan       nan       nan  \n",
       "2       nan       nan       nan       nan       nan       nan  \n",
       "3       nan       nan       nan       nan       nan       nan  \n",
       "4       nan       nan       nan       nan       nan       nan  \n",
       "\n",
       "[5 rows x 62 columns]"
      ]
     },
     "execution_count": 37,
     "metadata": {},
     "output_type": "execute_result"
    }
   ],
   "source": [
    "df_demo.head()"
   ]
  },
  {
   "cell_type": "code",
   "execution_count": 38,
   "metadata": {
    "ExecuteTime": {
     "end_time": "2021-01-03T22:13:27.944824Z",
     "start_time": "2021-01-03T22:13:27.933807Z"
    }
   },
   "outputs": [],
   "source": [
    "df_demo.SEQN = df_demo.SEQN.astype('int64')\n",
    "df_demo.set_index('SEQN', verify_integrity=True, inplace=True)"
   ]
  },
  {
   "cell_type": "code",
   "execution_count": 39,
   "metadata": {
    "ExecuteTime": {
     "end_time": "2021-01-03T22:13:28.009793Z",
     "start_time": "2021-01-03T22:13:27.946728Z"
    }
   },
   "outputs": [
    {
     "name": "stdout",
     "output_type": "stream",
     "text": [
      "<class 'pandas.core.frame.DataFrame'>\n",
      "Int64Index: 70190 entries, 31127 to 102956\n",
      "Data columns (total 61 columns):\n",
      " #   Column    Non-Null Count  Dtype  \n",
      "---  ------    --------------  -----  \n",
      " 0   SDDSRVYR  70190 non-null  float64\n",
      " 1   RIDSTATR  70190 non-null  float64\n",
      " 2   RIDEXMON  67364 non-null  float64\n",
      " 3   RIAGENDR  70190 non-null  float64\n",
      " 4   RIDAGEYR  70190 non-null  float64\n",
      " 5   RIDAGEMN  32591 non-null  float64\n",
      " 6   RIDAGEEX  28999 non-null  float64\n",
      " 7   RIDRETH1  70190 non-null  float64\n",
      " 8   DMQMILIT  18934 non-null  float64\n",
      " 9   DMDBORN   10348 non-null  float64\n",
      " 10  DMDCITZN  70163 non-null  float64\n",
      " 11  DMDYRSUS  13405 non-null  float64\n",
      " 12  DMDEDUC3  18882 non-null  float64\n",
      " 13  DMDEDUC2  39749 non-null  float64\n",
      " 14  DMDSCHOL  7807 non-null   float64\n",
      " 15  DMDMARTL  41468 non-null  float64\n",
      " 16  DMDHHSIZ  70190 non-null  float64\n",
      " 17  DMDFMSIZ  70190 non-null  float64\n",
      " 18  INDHHINC  10216 non-null  float64\n",
      " 19  INDFMINC  10238 non-null  float64\n",
      " 20  INDFMPIR  63858 non-null  float64\n",
      " 21  RIDEXPRG  10901 non-null  float64\n",
      " 22  DMDHRGND  70190 non-null  float64\n",
      " 23  DMDHRAGE  60936 non-null  float64\n",
      " 24  DMDHRBRN  10025 non-null  float64\n",
      " 25  DMDHREDU  59019 non-null  float64\n",
      " 26  DMDHRMAR  59816 non-null  float64\n",
      " 27  DMDHSEDU  31881 non-null  float64\n",
      " 28  SIALANG   70187 non-null  float64\n",
      " 29  SIAPROXY  70176 non-null  float64\n",
      " 30  SIAINTRP  70187 non-null  float64\n",
      " 31  FIALANG   68852 non-null  float64\n",
      " 32  FIAPROXY  68852 non-null  float64\n",
      " 33  FIAINTRP  68852 non-null  float64\n",
      " 34  MIALANG   49326 non-null  float64\n",
      " 35  MIAPROXY  49328 non-null  float64\n",
      " 36  MIAINTRP  49328 non-null  float64\n",
      " 37  AIALANG   20547 non-null  float64\n",
      " 38  WTINT2YR  70190 non-null  float64\n",
      " 39  WTMEC2YR  70190 non-null  float64\n",
      " 40  SDMVPSU   70190 non-null  float64\n",
      " 41  SDMVSTRA  70190 non-null  float64\n",
      " 42  DMDBORN2  20686 non-null  float64\n",
      " 43  INDHHIN2  58628 non-null  float64\n",
      " 44  INDFMIN2  58699 non-null  float64\n",
      " 45  DMDHRBR2  20141 non-null  float64\n",
      " 46  RIDRETH3  39156 non-null  float64\n",
      " 47  RIDEXAGY  3418 non-null   float64\n",
      " 48  RIDEXAGM  15715 non-null  float64\n",
      " 49  DMQMILIZ  24421 non-null  float64\n",
      " 50  DMQADFC   2182 non-null   float64\n",
      " 51  DMDBORN4  39156 non-null  float64\n",
      " 52  AIALANGA  23010 non-null  float64\n",
      " 53  DMDHHSZA  39156 non-null  float64\n",
      " 54  DMDHHSZB  39156 non-null  float64\n",
      " 55  DMDHHSZE  39156 non-null  float64\n",
      " 56  DMDHRBR4  28844 non-null  float64\n",
      " 57  DMDHRAGZ  9254 non-null   float64\n",
      " 58  DMDHREDZ  8764 non-null   float64\n",
      " 59  DMDHRMAZ  9063 non-null   float64\n",
      " 60  DMDHSEDZ  4751 non-null   float64\n",
      "dtypes: float64(61)\n",
      "memory usage: 33.2 MB\n"
     ]
    }
   ],
   "source": [
    "df_demo.info()"
   ]
  },
  {
   "cell_type": "code",
   "execution_count": 40,
   "metadata": {
    "ExecuteTime": {
     "end_time": "2021-01-03T22:13:28.017730Z",
     "start_time": "2021-01-03T22:13:28.011724Z"
    }
   },
   "outputs": [
    {
     "data": {
      "text/plain": [
       "Index(['AIALANG', 'AIALANGA', 'DMDBORN', 'DMDBORN2', 'DMDBORN4', 'DMDCITZN',\n",
       "       'DMDEDUC2', 'DMDEDUC3', 'DMDFMSIZ', 'DMDHHSIZ', 'DMDHHSZA', 'DMDHHSZB',\n",
       "       'DMDHHSZE', 'DMDHRAGE', 'DMDHRAGZ', 'DMDHRBR2', 'DMDHRBR4', 'DMDHRBRN',\n",
       "       'DMDHREDU', 'DMDHREDZ', 'DMDHRGND', 'DMDHRMAR', 'DMDHRMAZ', 'DMDHSEDU',\n",
       "       'DMDHSEDZ', 'DMDMARTL', 'DMDSCHOL', 'DMDYRSUS', 'DMQADFC', 'DMQMILIT',\n",
       "       'DMQMILIZ', 'FIAINTRP', 'FIALANG', 'FIAPROXY', 'INDFMIN2', 'INDFMINC',\n",
       "       'INDFMPIR', 'INDHHIN2', 'INDHHINC', 'MIAINTRP', 'MIALANG', 'MIAPROXY',\n",
       "       'RIAGENDR', 'RIDAGEEX', 'RIDAGEMN', 'RIDAGEYR', 'RIDEXAGM', 'RIDEXAGY',\n",
       "       'RIDEXMON', 'RIDEXPRG', 'RIDRETH1', 'RIDRETH3', 'RIDSTATR', 'SDDSRVYR',\n",
       "       'SDMVPSU', 'SDMVSTRA', 'SIAINTRP', 'SIALANG', 'SIAPROXY', 'WTINT2YR',\n",
       "       'WTMEC2YR'],\n",
       "      dtype='object')"
      ]
     },
     "execution_count": 40,
     "metadata": {},
     "output_type": "execute_result"
    }
   ],
   "source": [
    "df_demo.columns.sort_values()"
   ]
  },
  {
   "cell_type": "code",
   "execution_count": 41,
   "metadata": {
    "ExecuteTime": {
     "end_time": "2021-01-03T22:13:28.024729Z",
     "start_time": "2021-01-03T22:13:28.020807Z"
    }
   },
   "outputs": [],
   "source": [
    "demo_tokeep = ['DMDBORN', 'DMDBORN2', 'DMDBORN4', 'DMDCITZN', 'DMDEDUC2', \n",
    "               'DMDHHSIZ', 'DMDMARTL', 'DMQMILIT', 'DMQMILIZ', 'INDHHIN2', \n",
    "               'INDHHINC', 'RIAGENDR', 'RIDAGEYR', 'RIDEXPRG', 'RIDRETH1', \n",
    "               'SDDSRVYR']"
   ]
  },
  {
   "cell_type": "code",
   "execution_count": 42,
   "metadata": {
    "ExecuteTime": {
     "end_time": "2021-01-03T22:13:28.033730Z",
     "start_time": "2021-01-03T22:13:28.027733Z"
    }
   },
   "outputs": [],
   "source": [
    "def cols_tokeep(df, col_list):\n",
    "    df_copy = df.copy()\n",
    "    for col in df_copy.columns:\n",
    "        if col not in col_list:\n",
    "            df_copy.drop(columns=[col], inplace=True)\n",
    "        else:\n",
    "            pass\n",
    "    return df_copy"
   ]
  },
  {
   "cell_type": "code",
   "execution_count": 43,
   "metadata": {
    "ExecuteTime": {
     "end_time": "2021-01-03T22:13:28.538833Z",
     "start_time": "2021-01-03T22:13:28.035724Z"
    }
   },
   "outputs": [],
   "source": [
    "demo_clean = cols_tokeep(df_demo, demo_tokeep)"
   ]
  },
  {
   "cell_type": "code",
   "execution_count": 44,
   "metadata": {
    "ExecuteTime": {
     "end_time": "2021-01-03T22:13:28.553732Z",
     "start_time": "2021-01-03T22:13:28.540723Z"
    }
   },
   "outputs": [
    {
     "data": {
      "text/html": [
       "<div>\n",
       "<style scoped>\n",
       "    .dataframe tbody tr th:only-of-type {\n",
       "        vertical-align: middle;\n",
       "    }\n",
       "\n",
       "    .dataframe tbody tr th {\n",
       "        vertical-align: top;\n",
       "    }\n",
       "\n",
       "    .dataframe thead th {\n",
       "        text-align: right;\n",
       "    }\n",
       "</style>\n",
       "<table border=\"1\" class=\"dataframe\">\n",
       "  <thead>\n",
       "    <tr style=\"text-align: right;\">\n",
       "      <th></th>\n",
       "      <th>SDDSRVYR</th>\n",
       "      <th>RIAGENDR</th>\n",
       "      <th>RIDAGEYR</th>\n",
       "      <th>RIDRETH1</th>\n",
       "      <th>DMQMILIT</th>\n",
       "      <th>DMDBORN</th>\n",
       "      <th>DMDCITZN</th>\n",
       "      <th>DMDEDUC2</th>\n",
       "      <th>DMDMARTL</th>\n",
       "      <th>DMDHHSIZ</th>\n",
       "      <th>INDHHINC</th>\n",
       "      <th>RIDEXPRG</th>\n",
       "      <th>DMDBORN2</th>\n",
       "      <th>INDHHIN2</th>\n",
       "      <th>DMQMILIZ</th>\n",
       "      <th>DMDBORN4</th>\n",
       "    </tr>\n",
       "    <tr>\n",
       "      <th>SEQN</th>\n",
       "      <th></th>\n",
       "      <th></th>\n",
       "      <th></th>\n",
       "      <th></th>\n",
       "      <th></th>\n",
       "      <th></th>\n",
       "      <th></th>\n",
       "      <th></th>\n",
       "      <th></th>\n",
       "      <th></th>\n",
       "      <th></th>\n",
       "      <th></th>\n",
       "      <th></th>\n",
       "      <th></th>\n",
       "      <th></th>\n",
       "      <th></th>\n",
       "    </tr>\n",
       "  </thead>\n",
       "  <tbody>\n",
       "    <tr>\n",
       "      <th>31127</th>\n",
       "      <td>4.000</td>\n",
       "      <td>1.000</td>\n",
       "      <td>0.000</td>\n",
       "      <td>3.000</td>\n",
       "      <td>nan</td>\n",
       "      <td>1.000</td>\n",
       "      <td>1.000</td>\n",
       "      <td>nan</td>\n",
       "      <td>nan</td>\n",
       "      <td>4.000</td>\n",
       "      <td>4.000</td>\n",
       "      <td>nan</td>\n",
       "      <td>nan</td>\n",
       "      <td>nan</td>\n",
       "      <td>nan</td>\n",
       "      <td>nan</td>\n",
       "    </tr>\n",
       "    <tr>\n",
       "      <th>31128</th>\n",
       "      <td>4.000</td>\n",
       "      <td>2.000</td>\n",
       "      <td>11.000</td>\n",
       "      <td>4.000</td>\n",
       "      <td>nan</td>\n",
       "      <td>1.000</td>\n",
       "      <td>1.000</td>\n",
       "      <td>nan</td>\n",
       "      <td>nan</td>\n",
       "      <td>7.000</td>\n",
       "      <td>8.000</td>\n",
       "      <td>2.000</td>\n",
       "      <td>nan</td>\n",
       "      <td>nan</td>\n",
       "      <td>nan</td>\n",
       "      <td>nan</td>\n",
       "    </tr>\n",
       "    <tr>\n",
       "      <th>31129</th>\n",
       "      <td>4.000</td>\n",
       "      <td>1.000</td>\n",
       "      <td>15.000</td>\n",
       "      <td>4.000</td>\n",
       "      <td>nan</td>\n",
       "      <td>1.000</td>\n",
       "      <td>1.000</td>\n",
       "      <td>nan</td>\n",
       "      <td>5.000</td>\n",
       "      <td>6.000</td>\n",
       "      <td>10.000</td>\n",
       "      <td>nan</td>\n",
       "      <td>nan</td>\n",
       "      <td>nan</td>\n",
       "      <td>nan</td>\n",
       "      <td>nan</td>\n",
       "    </tr>\n",
       "    <tr>\n",
       "      <th>31130</th>\n",
       "      <td>4.000</td>\n",
       "      <td>2.000</td>\n",
       "      <td>85.000</td>\n",
       "      <td>3.000</td>\n",
       "      <td>2.000</td>\n",
       "      <td>1.000</td>\n",
       "      <td>1.000</td>\n",
       "      <td>4.000</td>\n",
       "      <td>2.000</td>\n",
       "      <td>1.000</td>\n",
       "      <td>4.000</td>\n",
       "      <td>nan</td>\n",
       "      <td>nan</td>\n",
       "      <td>nan</td>\n",
       "      <td>nan</td>\n",
       "      <td>nan</td>\n",
       "    </tr>\n",
       "    <tr>\n",
       "      <th>31131</th>\n",
       "      <td>4.000</td>\n",
       "      <td>2.000</td>\n",
       "      <td>44.000</td>\n",
       "      <td>4.000</td>\n",
       "      <td>2.000</td>\n",
       "      <td>1.000</td>\n",
       "      <td>1.000</td>\n",
       "      <td>4.000</td>\n",
       "      <td>1.000</td>\n",
       "      <td>4.000</td>\n",
       "      <td>11.000</td>\n",
       "      <td>2.000</td>\n",
       "      <td>nan</td>\n",
       "      <td>nan</td>\n",
       "      <td>nan</td>\n",
       "      <td>nan</td>\n",
       "    </tr>\n",
       "  </tbody>\n",
       "</table>\n",
       "</div>"
      ],
      "text/plain": [
       "       SDDSRVYR  RIAGENDR  RIDAGEYR  RIDRETH1  DMQMILIT  DMDBORN  DMDCITZN  \\\n",
       "SEQN                                                                         \n",
       "31127     4.000     1.000     0.000     3.000       nan    1.000     1.000   \n",
       "31128     4.000     2.000    11.000     4.000       nan    1.000     1.000   \n",
       "31129     4.000     1.000    15.000     4.000       nan    1.000     1.000   \n",
       "31130     4.000     2.000    85.000     3.000     2.000    1.000     1.000   \n",
       "31131     4.000     2.000    44.000     4.000     2.000    1.000     1.000   \n",
       "\n",
       "       DMDEDUC2  DMDMARTL  DMDHHSIZ  INDHHINC  RIDEXPRG  DMDBORN2  INDHHIN2  \\\n",
       "SEQN                                                                          \n",
       "31127       nan       nan     4.000     4.000       nan       nan       nan   \n",
       "31128       nan       nan     7.000     8.000     2.000       nan       nan   \n",
       "31129       nan     5.000     6.000    10.000       nan       nan       nan   \n",
       "31130     4.000     2.000     1.000     4.000       nan       nan       nan   \n",
       "31131     4.000     1.000     4.000    11.000     2.000       nan       nan   \n",
       "\n",
       "       DMQMILIZ  DMDBORN4  \n",
       "SEQN                       \n",
       "31127       nan       nan  \n",
       "31128       nan       nan  \n",
       "31129       nan       nan  \n",
       "31130       nan       nan  \n",
       "31131       nan       nan  "
      ]
     },
     "execution_count": 44,
     "metadata": {},
     "output_type": "execute_result"
    }
   ],
   "source": [
    "demo_clean.head()"
   ]
  },
  {
   "cell_type": "code",
   "execution_count": 45,
   "metadata": {
    "ExecuteTime": {
     "end_time": "2021-01-03T22:13:28.571729Z",
     "start_time": "2021-01-03T22:13:28.556809Z"
    }
   },
   "outputs": [
    {
     "name": "stdout",
     "output_type": "stream",
     "text": [
      "<class 'pandas.core.frame.DataFrame'>\n",
      "Int64Index: 70190 entries, 31127 to 102956\n",
      "Data columns (total 16 columns):\n",
      " #   Column    Non-Null Count  Dtype  \n",
      "---  ------    --------------  -----  \n",
      " 0   SDDSRVYR  70190 non-null  float64\n",
      " 1   RIAGENDR  70190 non-null  float64\n",
      " 2   RIDAGEYR  70190 non-null  float64\n",
      " 3   RIDRETH1  70190 non-null  float64\n",
      " 4   DMQMILIT  18934 non-null  float64\n",
      " 5   DMDBORN   10348 non-null  float64\n",
      " 6   DMDCITZN  70163 non-null  float64\n",
      " 7   DMDEDUC2  39749 non-null  float64\n",
      " 8   DMDMARTL  41468 non-null  float64\n",
      " 9   DMDHHSIZ  70190 non-null  float64\n",
      " 10  INDHHINC  10216 non-null  float64\n",
      " 11  RIDEXPRG  10901 non-null  float64\n",
      " 12  DMDBORN2  20686 non-null  float64\n",
      " 13  INDHHIN2  58628 non-null  float64\n",
      " 14  DMQMILIZ  24421 non-null  float64\n",
      " 15  DMDBORN4  39156 non-null  float64\n",
      "dtypes: float64(16)\n",
      "memory usage: 9.1 MB\n"
     ]
    }
   ],
   "source": [
    "demo_clean.info()"
   ]
  },
  {
   "cell_type": "code",
   "execution_count": 46,
   "metadata": {
    "ExecuteTime": {
     "end_time": "2021-01-03T22:13:28.578731Z",
     "start_time": "2021-01-03T22:13:28.573733Z"
    }
   },
   "outputs": [
    {
     "data": {
      "text/plain": [
       "Index(['DMDBORN', 'DMDBORN2', 'DMDBORN4', 'DMDCITZN', 'DMDEDUC2', 'DMDHHSIZ',\n",
       "       'DMDMARTL', 'DMQMILIT', 'DMQMILIZ', 'INDHHIN2', 'INDHHINC', 'RIAGENDR',\n",
       "       'RIDAGEYR', 'RIDEXPRG', 'RIDRETH1', 'SDDSRVYR'],\n",
       "      dtype='object')"
      ]
     },
     "execution_count": 46,
     "metadata": {},
     "output_type": "execute_result"
    }
   ],
   "source": [
    "demo_clean.columns.sort_values()"
   ]
  },
  {
   "cell_type": "markdown",
   "metadata": {},
   "source": [
    "## Birth Place"
   ]
  },
  {
   "cell_type": "code",
   "execution_count": 47,
   "metadata": {
    "ExecuteTime": {
     "end_time": "2021-01-03T22:13:28.590726Z",
     "start_time": "2021-01-03T22:13:28.580730Z"
    }
   },
   "outputs": [
    {
     "data": {
      "text/plain": [
       "nan      59842\n",
       "1.000     8794\n",
       "2.000      961\n",
       "3.000      588\n",
       "7.000        5\n",
       "Name: DMDBORN, dtype: int64"
      ]
     },
     "execution_count": 47,
     "metadata": {},
     "output_type": "execute_result"
    }
   ],
   "source": [
    "demo_clean.DMDBORN.value_counts(dropna=False)"
   ]
  },
  {
   "cell_type": "code",
   "execution_count": 48,
   "metadata": {
    "ExecuteTime": {
     "end_time": "2021-01-03T22:13:28.605806Z",
     "start_time": "2021-01-03T22:13:28.592730Z"
    }
   },
   "outputs": [
    {
     "data": {
      "text/plain": [
       "nan      49504\n",
       "1.000    16938\n",
       "2.000     1550\n",
       "4.000     1120\n",
       "5.000     1065\n",
       "7.000       11\n",
       "9.000        2\n",
       "Name: DMDBORN2, dtype: int64"
      ]
     },
     "execution_count": 48,
     "metadata": {},
     "output_type": "execute_result"
    }
   ],
   "source": [
    "demo_clean.DMDBORN2.value_counts(dropna=False)"
   ]
  },
  {
   "cell_type": "code",
   "execution_count": 49,
   "metadata": {
    "ExecuteTime": {
     "end_time": "2021-01-03T22:13:28.620840Z",
     "start_time": "2021-01-03T22:13:28.608727Z"
    }
   },
   "outputs": [
    {
     "data": {
      "text/plain": [
       "nan       31034\n",
       "1.000     30966\n",
       "2.000      8175\n",
       "77.000        8\n",
       "99.000        7\n",
       "Name: DMDBORN4, dtype: int64"
      ]
     },
     "execution_count": 49,
     "metadata": {},
     "output_type": "execute_result"
    }
   ],
   "source": [
    "demo_clean.DMDBORN4.value_counts(dropna=False)"
   ]
  },
  {
   "cell_type": "code",
   "execution_count": 50,
   "metadata": {
    "ExecuteTime": {
     "end_time": "2021-01-03T22:13:28.629728Z",
     "start_time": "2021-01-03T22:13:28.622724Z"
    }
   },
   "outputs": [],
   "source": [
    "demo_clean.DMDBORN.fillna(0, inplace=True)\n",
    "demo_clean.DMDBORN2.fillna(0, inplace=True)\n",
    "demo_clean.DMDBORN4.fillna(0, inplace=True)"
   ]
  },
  {
   "cell_type": "code",
   "execution_count": 51,
   "metadata": {
    "ExecuteTime": {
     "end_time": "2021-01-03T22:13:28.639732Z",
     "start_time": "2021-01-03T22:13:28.632724Z"
    }
   },
   "outputs": [],
   "source": [
    "demo_clean['birth_place'] = demo_clean['DMDBORN'] + demo_clean['DMDBORN2'] + demo_clean['DMDBORN4']"
   ]
  },
  {
   "cell_type": "code",
   "execution_count": 52,
   "metadata": {
    "ExecuteTime": {
     "end_time": "2021-01-03T22:13:28.659807Z",
     "start_time": "2021-01-03T22:13:28.641725Z"
    }
   },
   "outputs": [
    {
     "data": {
      "text/html": [
       "<div>\n",
       "<style scoped>\n",
       "    .dataframe tbody tr th:only-of-type {\n",
       "        vertical-align: middle;\n",
       "    }\n",
       "\n",
       "    .dataframe tbody tr th {\n",
       "        vertical-align: top;\n",
       "    }\n",
       "\n",
       "    .dataframe thead th {\n",
       "        text-align: right;\n",
       "    }\n",
       "</style>\n",
       "<table border=\"1\" class=\"dataframe\">\n",
       "  <thead>\n",
       "    <tr style=\"text-align: right;\">\n",
       "      <th></th>\n",
       "      <th>SDDSRVYR</th>\n",
       "      <th>RIAGENDR</th>\n",
       "      <th>RIDAGEYR</th>\n",
       "      <th>RIDRETH1</th>\n",
       "      <th>DMQMILIT</th>\n",
       "      <th>DMDBORN</th>\n",
       "      <th>DMDCITZN</th>\n",
       "      <th>DMDEDUC2</th>\n",
       "      <th>DMDMARTL</th>\n",
       "      <th>DMDHHSIZ</th>\n",
       "      <th>INDHHINC</th>\n",
       "      <th>RIDEXPRG</th>\n",
       "      <th>DMDBORN2</th>\n",
       "      <th>INDHHIN2</th>\n",
       "      <th>DMQMILIZ</th>\n",
       "      <th>DMDBORN4</th>\n",
       "      <th>birth_place</th>\n",
       "    </tr>\n",
       "    <tr>\n",
       "      <th>SEQN</th>\n",
       "      <th></th>\n",
       "      <th></th>\n",
       "      <th></th>\n",
       "      <th></th>\n",
       "      <th></th>\n",
       "      <th></th>\n",
       "      <th></th>\n",
       "      <th></th>\n",
       "      <th></th>\n",
       "      <th></th>\n",
       "      <th></th>\n",
       "      <th></th>\n",
       "      <th></th>\n",
       "      <th></th>\n",
       "      <th></th>\n",
       "      <th></th>\n",
       "      <th></th>\n",
       "    </tr>\n",
       "  </thead>\n",
       "  <tbody>\n",
       "    <tr>\n",
       "      <th>31127</th>\n",
       "      <td>4.000</td>\n",
       "      <td>1.000</td>\n",
       "      <td>0.000</td>\n",
       "      <td>3.000</td>\n",
       "      <td>nan</td>\n",
       "      <td>1.000</td>\n",
       "      <td>1.000</td>\n",
       "      <td>nan</td>\n",
       "      <td>nan</td>\n",
       "      <td>4.000</td>\n",
       "      <td>4.000</td>\n",
       "      <td>nan</td>\n",
       "      <td>0.000</td>\n",
       "      <td>nan</td>\n",
       "      <td>nan</td>\n",
       "      <td>0.000</td>\n",
       "      <td>1.000</td>\n",
       "    </tr>\n",
       "    <tr>\n",
       "      <th>31128</th>\n",
       "      <td>4.000</td>\n",
       "      <td>2.000</td>\n",
       "      <td>11.000</td>\n",
       "      <td>4.000</td>\n",
       "      <td>nan</td>\n",
       "      <td>1.000</td>\n",
       "      <td>1.000</td>\n",
       "      <td>nan</td>\n",
       "      <td>nan</td>\n",
       "      <td>7.000</td>\n",
       "      <td>8.000</td>\n",
       "      <td>2.000</td>\n",
       "      <td>0.000</td>\n",
       "      <td>nan</td>\n",
       "      <td>nan</td>\n",
       "      <td>0.000</td>\n",
       "      <td>1.000</td>\n",
       "    </tr>\n",
       "    <tr>\n",
       "      <th>31129</th>\n",
       "      <td>4.000</td>\n",
       "      <td>1.000</td>\n",
       "      <td>15.000</td>\n",
       "      <td>4.000</td>\n",
       "      <td>nan</td>\n",
       "      <td>1.000</td>\n",
       "      <td>1.000</td>\n",
       "      <td>nan</td>\n",
       "      <td>5.000</td>\n",
       "      <td>6.000</td>\n",
       "      <td>10.000</td>\n",
       "      <td>nan</td>\n",
       "      <td>0.000</td>\n",
       "      <td>nan</td>\n",
       "      <td>nan</td>\n",
       "      <td>0.000</td>\n",
       "      <td>1.000</td>\n",
       "    </tr>\n",
       "    <tr>\n",
       "      <th>31130</th>\n",
       "      <td>4.000</td>\n",
       "      <td>2.000</td>\n",
       "      <td>85.000</td>\n",
       "      <td>3.000</td>\n",
       "      <td>2.000</td>\n",
       "      <td>1.000</td>\n",
       "      <td>1.000</td>\n",
       "      <td>4.000</td>\n",
       "      <td>2.000</td>\n",
       "      <td>1.000</td>\n",
       "      <td>4.000</td>\n",
       "      <td>nan</td>\n",
       "      <td>0.000</td>\n",
       "      <td>nan</td>\n",
       "      <td>nan</td>\n",
       "      <td>0.000</td>\n",
       "      <td>1.000</td>\n",
       "    </tr>\n",
       "    <tr>\n",
       "      <th>31131</th>\n",
       "      <td>4.000</td>\n",
       "      <td>2.000</td>\n",
       "      <td>44.000</td>\n",
       "      <td>4.000</td>\n",
       "      <td>2.000</td>\n",
       "      <td>1.000</td>\n",
       "      <td>1.000</td>\n",
       "      <td>4.000</td>\n",
       "      <td>1.000</td>\n",
       "      <td>4.000</td>\n",
       "      <td>11.000</td>\n",
       "      <td>2.000</td>\n",
       "      <td>0.000</td>\n",
       "      <td>nan</td>\n",
       "      <td>nan</td>\n",
       "      <td>0.000</td>\n",
       "      <td>1.000</td>\n",
       "    </tr>\n",
       "  </tbody>\n",
       "</table>\n",
       "</div>"
      ],
      "text/plain": [
       "       SDDSRVYR  RIAGENDR  RIDAGEYR  RIDRETH1  DMQMILIT  DMDBORN  DMDCITZN  \\\n",
       "SEQN                                                                         \n",
       "31127     4.000     1.000     0.000     3.000       nan    1.000     1.000   \n",
       "31128     4.000     2.000    11.000     4.000       nan    1.000     1.000   \n",
       "31129     4.000     1.000    15.000     4.000       nan    1.000     1.000   \n",
       "31130     4.000     2.000    85.000     3.000     2.000    1.000     1.000   \n",
       "31131     4.000     2.000    44.000     4.000     2.000    1.000     1.000   \n",
       "\n",
       "       DMDEDUC2  DMDMARTL  DMDHHSIZ  INDHHINC  RIDEXPRG  DMDBORN2  INDHHIN2  \\\n",
       "SEQN                                                                          \n",
       "31127       nan       nan     4.000     4.000       nan     0.000       nan   \n",
       "31128       nan       nan     7.000     8.000     2.000     0.000       nan   \n",
       "31129       nan     5.000     6.000    10.000       nan     0.000       nan   \n",
       "31130     4.000     2.000     1.000     4.000       nan     0.000       nan   \n",
       "31131     4.000     1.000     4.000    11.000     2.000     0.000       nan   \n",
       "\n",
       "       DMQMILIZ  DMDBORN4  birth_place  \n",
       "SEQN                                    \n",
       "31127       nan     0.000        1.000  \n",
       "31128       nan     0.000        1.000  \n",
       "31129       nan     0.000        1.000  \n",
       "31130       nan     0.000        1.000  \n",
       "31131       nan     0.000        1.000  "
      ]
     },
     "execution_count": 52,
     "metadata": {},
     "output_type": "execute_result"
    }
   ],
   "source": [
    "demo_clean.head()"
   ]
  },
  {
   "cell_type": "code",
   "execution_count": 53,
   "metadata": {
    "ExecuteTime": {
     "end_time": "2021-01-03T22:13:28.674726Z",
     "start_time": "2021-01-03T22:13:28.660744Z"
    }
   },
   "outputs": [
    {
     "data": {
      "text/plain": [
       "1.000     56698\n",
       "2.000     10686\n",
       "4.000      1120\n",
       "5.000      1065\n",
       "3.000       588\n",
       "7.000        16\n",
       "77.000        8\n",
       "99.000        7\n",
       "9.000         2\n",
       "Name: birth_place, dtype: int64"
      ]
     },
     "execution_count": 53,
     "metadata": {},
     "output_type": "execute_result"
    }
   ],
   "source": [
    "demo_clean.birth_place.value_counts(dropna=False)"
   ]
  },
  {
   "cell_type": "code",
   "execution_count": 54,
   "metadata": {
    "ExecuteTime": {
     "end_time": "2021-01-03T22:13:28.695729Z",
     "start_time": "2021-01-03T22:13:28.676724Z"
    }
   },
   "outputs": [],
   "source": [
    "demo_clean.drop(columns=['DMDBORN', 'DMDBORN2', 'DMDBORN4'], inplace=True)"
   ]
  },
  {
   "cell_type": "code",
   "execution_count": 55,
   "metadata": {
    "ExecuteTime": {
     "end_time": "2021-01-03T22:13:28.712725Z",
     "start_time": "2021-01-03T22:13:28.698806Z"
    }
   },
   "outputs": [
    {
     "name": "stdout",
     "output_type": "stream",
     "text": [
      "<class 'pandas.core.frame.DataFrame'>\n",
      "Int64Index: 70190 entries, 31127 to 102956\n",
      "Data columns (total 14 columns):\n",
      " #   Column       Non-Null Count  Dtype  \n",
      "---  ------       --------------  -----  \n",
      " 0   SDDSRVYR     70190 non-null  float64\n",
      " 1   RIAGENDR     70190 non-null  float64\n",
      " 2   RIDAGEYR     70190 non-null  float64\n",
      " 3   RIDRETH1     70190 non-null  float64\n",
      " 4   DMQMILIT     18934 non-null  float64\n",
      " 5   DMDCITZN     70163 non-null  float64\n",
      " 6   DMDEDUC2     39749 non-null  float64\n",
      " 7   DMDMARTL     41468 non-null  float64\n",
      " 8   DMDHHSIZ     70190 non-null  float64\n",
      " 9   INDHHINC     10216 non-null  float64\n",
      " 10  RIDEXPRG     10901 non-null  float64\n",
      " 11  INDHHIN2     58628 non-null  float64\n",
      " 12  DMQMILIZ     24421 non-null  float64\n",
      " 13  birth_place  70190 non-null  float64\n",
      "dtypes: float64(14)\n",
      "memory usage: 8.0 MB\n"
     ]
    }
   ],
   "source": [
    "demo_clean.info()"
   ]
  },
  {
   "cell_type": "markdown",
   "metadata": {},
   "source": [
    "## Veteran"
   ]
  },
  {
   "cell_type": "code",
   "execution_count": 56,
   "metadata": {
    "ExecuteTime": {
     "end_time": "2021-01-03T22:13:28.723730Z",
     "start_time": "2021-01-03T22:13:28.714725Z"
    }
   },
   "outputs": [
    {
     "data": {
      "text/plain": [
       "nan      51256\n",
       "2.000    16685\n",
       "1.000     2242\n",
       "7.000        6\n",
       "9.000        1\n",
       "Name: DMQMILIT, dtype: int64"
      ]
     },
     "execution_count": 56,
     "metadata": {},
     "output_type": "execute_result"
    }
   ],
   "source": [
    "demo_clean.DMQMILIT.value_counts(dropna=False)"
   ]
  },
  {
   "cell_type": "code",
   "execution_count": 57,
   "metadata": {
    "ExecuteTime": {
     "end_time": "2021-01-03T22:13:28.733727Z",
     "start_time": "2021-01-03T22:13:28.724724Z"
    }
   },
   "outputs": [
    {
     "data": {
      "text/plain": [
       "nan      45769\n",
       "2.000    22235\n",
       "1.000     2182\n",
       "7.000        3\n",
       "9.000        1\n",
       "Name: DMQMILIZ, dtype: int64"
      ]
     },
     "execution_count": 57,
     "metadata": {},
     "output_type": "execute_result"
    }
   ],
   "source": [
    "demo_clean.DMQMILIZ.value_counts(dropna=False)"
   ]
  },
  {
   "cell_type": "code",
   "execution_count": 58,
   "metadata": {
    "ExecuteTime": {
     "end_time": "2021-01-03T22:13:28.741811Z",
     "start_time": "2021-01-03T22:13:28.735724Z"
    }
   },
   "outputs": [],
   "source": [
    "demo_clean.DMQMILIT.fillna(0, inplace=True)\n",
    "demo_clean.DMQMILIZ.fillna(0, inplace=True)"
   ]
  },
  {
   "cell_type": "code",
   "execution_count": 59,
   "metadata": {
    "ExecuteTime": {
     "end_time": "2021-01-03T22:13:28.749727Z",
     "start_time": "2021-01-03T22:13:28.743725Z"
    }
   },
   "outputs": [],
   "source": [
    "demo_clean['veteran'] = demo_clean['DMQMILIT'] + demo_clean['DMQMILIZ']"
   ]
  },
  {
   "cell_type": "code",
   "execution_count": 60,
   "metadata": {
    "ExecuteTime": {
     "end_time": "2021-01-03T22:13:28.761732Z",
     "start_time": "2021-01-03T22:13:28.752729Z"
    }
   },
   "outputs": [
    {
     "data": {
      "text/plain": [
       "2.000    38920\n",
       "0.000    26835\n",
       "1.000     4424\n",
       "7.000        9\n",
       "9.000        2\n",
       "Name: veteran, dtype: int64"
      ]
     },
     "execution_count": 60,
     "metadata": {},
     "output_type": "execute_result"
    }
   ],
   "source": [
    "demo_clean.veteran.value_counts(dropna=False)"
   ]
  },
  {
   "cell_type": "code",
   "execution_count": 61,
   "metadata": {
    "ExecuteTime": {
     "end_time": "2021-01-03T22:13:28.788742Z",
     "start_time": "2021-01-03T22:13:28.764727Z"
    }
   },
   "outputs": [],
   "source": [
    "demo_clean.drop(columns=['DMQMILIT', 'DMQMILIZ'], inplace=True)"
   ]
  },
  {
   "cell_type": "code",
   "execution_count": 62,
   "metadata": {
    "ExecuteTime": {
     "end_time": "2021-01-03T22:13:28.802723Z",
     "start_time": "2021-01-03T22:13:28.789723Z"
    }
   },
   "outputs": [
    {
     "name": "stdout",
     "output_type": "stream",
     "text": [
      "<class 'pandas.core.frame.DataFrame'>\n",
      "Int64Index: 70190 entries, 31127 to 102956\n",
      "Data columns (total 13 columns):\n",
      " #   Column       Non-Null Count  Dtype  \n",
      "---  ------       --------------  -----  \n",
      " 0   SDDSRVYR     70190 non-null  float64\n",
      " 1   RIAGENDR     70190 non-null  float64\n",
      " 2   RIDAGEYR     70190 non-null  float64\n",
      " 3   RIDRETH1     70190 non-null  float64\n",
      " 4   DMDCITZN     70163 non-null  float64\n",
      " 5   DMDEDUC2     39749 non-null  float64\n",
      " 6   DMDMARTL     41468 non-null  float64\n",
      " 7   DMDHHSIZ     70190 non-null  float64\n",
      " 8   INDHHINC     10216 non-null  float64\n",
      " 9   RIDEXPRG     10901 non-null  float64\n",
      " 10  INDHHIN2     58628 non-null  float64\n",
      " 11  birth_place  70190 non-null  float64\n",
      " 12  veteran      70190 non-null  float64\n",
      "dtypes: float64(13)\n",
      "memory usage: 7.5 MB\n"
     ]
    }
   ],
   "source": [
    "demo_clean.info()"
   ]
  },
  {
   "cell_type": "markdown",
   "metadata": {},
   "source": [
    "## Household Income"
   ]
  },
  {
   "cell_type": "code",
   "execution_count": 63,
   "metadata": {
    "ExecuteTime": {
     "end_time": "2021-01-03T22:13:28.811739Z",
     "start_time": "2021-01-03T22:13:28.803724Z"
    }
   },
   "outputs": [
    {
     "data": {
      "text/plain": [
       "nan       59974\n",
       "11.000     2195\n",
       "6.000      1331\n",
       "7.000       995\n",
       "8.000       922\n",
       "5.000       818\n",
       "3.000       803\n",
       "4.000       801\n",
       "9.000       619\n",
       "10.000      557\n",
       "2.000       428\n",
       "1.000       255\n",
       "12.000      186\n",
       "99.000      161\n",
       "13.000       74\n",
       "77.000       71\n",
       "Name: INDHHINC, dtype: int64"
      ]
     },
     "execution_count": 63,
     "metadata": {},
     "output_type": "execute_result"
    }
   ],
   "source": [
    "demo_clean.INDHHINC.value_counts(dropna=False)"
   ]
  },
  {
   "cell_type": "code",
   "execution_count": 64,
   "metadata": {
    "ExecuteTime": {
     "end_time": "2021-01-03T22:13:28.821725Z",
     "start_time": "2021-01-03T22:13:28.813746Z"
    }
   },
   "outputs": [
    {
     "data": {
      "text/plain": [
       "nan       11562\n",
       "15.000     9126\n",
       "6.000      6919\n",
       "7.000      5498\n",
       "14.000     5171\n",
       "5.000      4596\n",
       "8.000      4310\n",
       "4.000      4056\n",
       "3.000      3857\n",
       "9.000      3337\n",
       "10.000     2683\n",
       "2.000      2430\n",
       "12.000     2094\n",
       "1.000      1563\n",
       "77.000     1244\n",
       "99.000      987\n",
       "13.000      757\n",
       "Name: INDHHIN2, dtype: int64"
      ]
     },
     "execution_count": 64,
     "metadata": {},
     "output_type": "execute_result"
    }
   ],
   "source": [
    "demo_clean.INDHHIN2.value_counts(dropna=False)"
   ]
  },
  {
   "cell_type": "code",
   "execution_count": 65,
   "metadata": {
    "ExecuteTime": {
     "end_time": "2021-01-03T22:13:28.827732Z",
     "start_time": "2021-01-03T22:13:28.822724Z"
    }
   },
   "outputs": [],
   "source": [
    "demo_clean.INDHHINC.fillna(0, inplace=True)\n",
    "demo_clean.INDHHIN2.fillna(0, inplace=True)"
   ]
  },
  {
   "cell_type": "code",
   "execution_count": 66,
   "metadata": {
    "ExecuteTime": {
     "end_time": "2021-01-03T22:13:28.835726Z",
     "start_time": "2021-01-03T22:13:28.829725Z"
    }
   },
   "outputs": [],
   "source": [
    "demo_clean['household_income'] = demo_clean['INDHHINC'] + demo_clean['INDHHIN2']"
   ]
  },
  {
   "cell_type": "code",
   "execution_count": 67,
   "metadata": {
    "ExecuteTime": {
     "end_time": "2021-01-03T22:13:28.845748Z",
     "start_time": "2021-01-03T22:13:28.837744Z"
    }
   },
   "outputs": [
    {
     "data": {
      "text/plain": [
       "15.000    9126\n",
       "6.000     8250\n",
       "7.000     6493\n",
       "5.000     5414\n",
       "8.000     5232\n",
       "14.000    5171\n",
       "4.000     4857\n",
       "3.000     4660\n",
       "9.000     3956\n",
       "10.000    3240\n",
       "2.000     2858\n",
       "12.000    2280\n",
       "11.000    2195\n",
       "1.000     1818\n",
       "0.000     1346\n",
       "77.000    1315\n",
       "99.000    1148\n",
       "13.000     831\n",
       "Name: household_income, dtype: int64"
      ]
     },
     "execution_count": 67,
     "metadata": {},
     "output_type": "execute_result"
    }
   ],
   "source": [
    "demo_clean.household_income.value_counts(dropna=False)"
   ]
  },
  {
   "cell_type": "code",
   "execution_count": 68,
   "metadata": {
    "ExecuteTime": {
     "end_time": "2021-01-03T22:13:28.872726Z",
     "start_time": "2021-01-03T22:13:28.852728Z"
    }
   },
   "outputs": [],
   "source": [
    "demo_clean.drop(columns=['INDHHINC', 'INDHHIN2'], inplace=True)"
   ]
  },
  {
   "cell_type": "code",
   "execution_count": 69,
   "metadata": {
    "ExecuteTime": {
     "end_time": "2021-01-03T22:13:28.897729Z",
     "start_time": "2021-01-03T22:13:28.874724Z"
    }
   },
   "outputs": [
    {
     "name": "stdout",
     "output_type": "stream",
     "text": [
      "<class 'pandas.core.frame.DataFrame'>\n",
      "Int64Index: 70190 entries, 31127 to 102956\n",
      "Data columns (total 12 columns):\n",
      " #   Column            Non-Null Count  Dtype  \n",
      "---  ------            --------------  -----  \n",
      " 0   SDDSRVYR          70190 non-null  float64\n",
      " 1   RIAGENDR          70190 non-null  float64\n",
      " 2   RIDAGEYR          70190 non-null  float64\n",
      " 3   RIDRETH1          70190 non-null  float64\n",
      " 4   DMDCITZN          70163 non-null  float64\n",
      " 5   DMDEDUC2          39749 non-null  float64\n",
      " 6   DMDMARTL          41468 non-null  float64\n",
      " 7   DMDHHSIZ          70190 non-null  float64\n",
      " 8   RIDEXPRG          10901 non-null  float64\n",
      " 9   birth_place       70190 non-null  float64\n",
      " 10  veteran           70190 non-null  float64\n",
      " 11  household_income  70190 non-null  float64\n",
      "dtypes: float64(12)\n",
      "memory usage: 7.0 MB\n"
     ]
    }
   ],
   "source": [
    "demo_clean.info()"
   ]
  },
  {
   "cell_type": "markdown",
   "metadata": {},
   "source": [
    "## Renaming Columns"
   ]
  },
  {
   "cell_type": "code",
   "execution_count": 70,
   "metadata": {
    "ExecuteTime": {
     "end_time": "2021-01-03T22:13:28.912726Z",
     "start_time": "2021-01-03T22:13:28.904729Z"
    }
   },
   "outputs": [],
   "source": [
    "demo_clean.rename(columns={'DMDCITZN': 'citizenship', \n",
    "                           'DMDEDUC2': 'education_level', \n",
    "                           'DMDHHSIZ': 'household_size', \n",
    "                           'DMDMARTL': 'marital_status', \n",
    "                           'RIAGENDR': 'gender', \n",
    "                           'RIDAGEYR': 'age', \n",
    "                           'RIDEXPRG': 'pregnant',\n",
    "                           'RIDRETH1': 'race',\n",
    "                           'SDDSRVYR': 'year'}, inplace=True)"
   ]
  },
  {
   "cell_type": "code",
   "execution_count": 71,
   "metadata": {
    "ExecuteTime": {
     "end_time": "2021-01-03T22:13:28.929726Z",
     "start_time": "2021-01-03T22:13:28.915727Z"
    }
   },
   "outputs": [
    {
     "name": "stdout",
     "output_type": "stream",
     "text": [
      "<class 'pandas.core.frame.DataFrame'>\n",
      "Int64Index: 70190 entries, 31127 to 102956\n",
      "Data columns (total 12 columns):\n",
      " #   Column            Non-Null Count  Dtype  \n",
      "---  ------            --------------  -----  \n",
      " 0   year              70190 non-null  float64\n",
      " 1   gender            70190 non-null  float64\n",
      " 2   age               70190 non-null  float64\n",
      " 3   race              70190 non-null  float64\n",
      " 4   citizenship       70163 non-null  float64\n",
      " 5   education_level   39749 non-null  float64\n",
      " 6   marital_status    41468 non-null  float64\n",
      " 7   household_size    70190 non-null  float64\n",
      " 8   pregnant          10901 non-null  float64\n",
      " 9   birth_place       70190 non-null  float64\n",
      " 10  veteran           70190 non-null  float64\n",
      " 11  household_income  70190 non-null  float64\n",
      "dtypes: float64(12)\n",
      "memory usage: 7.0 MB\n"
     ]
    }
   ],
   "source": [
    "demo_clean.info()"
   ]
  },
  {
   "cell_type": "markdown",
   "metadata": {},
   "source": [
    "# Medical Conditions"
   ]
  },
  {
   "cell_type": "code",
   "execution_count": null,
   "metadata": {},
   "outputs": [],
   "source": []
  },
  {
   "cell_type": "code",
   "execution_count": null,
   "metadata": {},
   "outputs": [],
   "source": []
  },
  {
   "cell_type": "code",
   "execution_count": null,
   "metadata": {},
   "outputs": [],
   "source": []
  },
  {
   "cell_type": "code",
   "execution_count": null,
   "metadata": {},
   "outputs": [],
   "source": []
  },
  {
   "cell_type": "code",
   "execution_count": null,
   "metadata": {},
   "outputs": [],
   "source": []
  },
  {
   "cell_type": "code",
   "execution_count": null,
   "metadata": {},
   "outputs": [],
   "source": []
  },
  {
   "cell_type": "code",
   "execution_count": null,
   "metadata": {},
   "outputs": [],
   "source": []
  },
  {
   "cell_type": "code",
   "execution_count": null,
   "metadata": {},
   "outputs": [],
   "source": []
  }
 ],
 "metadata": {
  "kernelspec": {
   "display_name": "learn-env",
   "language": "python",
   "name": "learn-env"
  },
  "language_info": {
   "codemirror_mode": {
    "name": "ipython",
    "version": 3
   },
   "file_extension": ".py",
   "mimetype": "text/x-python",
   "name": "python",
   "nbconvert_exporter": "python",
   "pygments_lexer": "ipython3",
   "version": "3.6.11"
  },
  "toc": {
   "base_numbering": 1,
   "nav_menu": {},
   "number_sections": true,
   "sideBar": true,
   "skip_h1_title": false,
   "title_cell": "Table of Contents",
   "title_sidebar": "Contents",
   "toc_cell": false,
   "toc_position": {},
   "toc_section_display": true,
   "toc_window_display": true
  }
 },
 "nbformat": 4,
 "nbformat_minor": 4
}
